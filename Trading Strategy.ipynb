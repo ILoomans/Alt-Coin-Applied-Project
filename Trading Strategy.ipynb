{
 "cells": [
  {
   "cell_type": "code",
   "execution_count": 97,
   "metadata": {},
   "outputs": [],
   "source": [
    "import matplotlib.pyplot as plt\n",
    "import pandas as pd\n",
    "import numpy as np\n",
    "import glob\n",
    "from tqdm import tqdm\n",
    "from sklearn.naive_bayes import MultinomialNB\n",
    "import pandas as pd\n",
    "from nltk.corpus import stopwords\n",
    "from nltk.tokenize import sent_tokenize, word_tokenize \n",
    "from nltk.stem import PorterStemmer\n",
    "from nltk.stem import LancasterStemmer\n",
    "import re\n",
    "from sklearn.feature_extraction.text import CountVectorizer\n",
    "from sklearn.model_selection import train_test_split\n",
    "from sklearn.metrics import accuracy_score, precision_score, recall_score\n",
    "from sklearn.linear_model import LogisticRegressionCV\n",
    "from sklearn.feature_extraction.text import TfidfVectorizer\n",
    "from sklearn.preprocessing import StandardScaler\n",
    "import numpy as np\n",
    "from sklearn.model_selection import cross_val_score\n",
    "from sklearn.metrics import roc_curve\n",
    "from sklearn.metrics import roc_auc_score\n",
    "import nltk\n",
    "from datetime import datetime\n",
    "import matplotlib.pyplot as plt\n"
   ]
  },
  {
   "cell_type": "markdown",
   "metadata": {},
   "source": [
    "# Importing News Sources"
   ]
  },
  {
   "cell_type": "code",
   "execution_count": 2,
   "metadata": {},
   "outputs": [
    {
     "name": "stdout",
     "output_type": "stream",
     "text": [
      "      Unnamed: 0       Source  \\\n",
      "13            13   Bitcoinist   \n",
      "14            14   Bitcoinist   \n",
      "16            16   Bitcoinist   \n",
      "17            17   Bitcoinist   \n",
      "18            18   Bitcoinist   \n",
      "...          ...          ...   \n",
      "9752        9752  CoinSpeaker   \n",
      "9772        9772  CoinSpeaker   \n",
      "9791        9791  CoinSpeaker   \n",
      "9899        9899  CoinSpeaker   \n",
      "9918        9918  CoinSpeaker   \n",
      "\n",
      "                                                  Title  \\\n",
      "13      Ripple’s XRP Scores New Crypto Exchange Listing   \n",
      "14    Bitcoin.com Fires 50% of Staff Ahead of BCH Ha...   \n",
      "16    Ripple Launches X-Border App With Thai Commerc...   \n",
      "17    Hijacked YouTube Accounts Promote Crypto Scam ...   \n",
      "18    Telegram Project in Trouble as Investors Said ...   \n",
      "...                                                 ...   \n",
      "9752  Winklevoss Twins Switch To BATS Global Markets...   \n",
      "9772  Lisk CEO Max Kordek Talks About Perspectives O...   \n",
      "9791  Slock.it to Let Clients Anonymously Rent Any O...   \n",
      "9899  Bank of England Develops Bitcoin Alternative R...   \n",
      "9918  Philips’ Healthcare Division Launches Blockcha...   \n",
      "\n",
      "                     Author     TimeStamp  \\\n",
      "13     \\nChristina Comben\\n  1.586243e+09   \n",
      "14     \\nChristina Comben\\n  1.585922e+09   \n",
      "16     \\nChristina Comben\\n  1.585645e+09   \n",
      "17    \\nAnatol Antonovici\\n  1.585629e+09   \n",
      "18     \\nChristina Comben\\n  1.585220e+09   \n",
      "...                     ...           ...   \n",
      "9752   Tatsiana Yablonskaya  1.467260e+09   \n",
      "9772   Tatsiana Yablonskaya  1.465969e+09   \n",
      "9791        Polina Chernykh  1.464327e+09   \n",
      "9899   Tatsiana Yablonskaya  1.457950e+09   \n",
      "9918   Tatsiana Yablonskaya  1.457065e+09   \n",
      "\n",
      "                                                   Text  \n",
      "13    \\n\\nAltcoin NewsRipple’s XRP Scores New Crypto...  \n",
      "14    \\n\\nAltcoin NewsBitcoin.com Fires 50% of Staff...  \n",
      "16    \\n\\nAltcoin NewsRipple Launches X-Border App W...  \n",
      "17    \\n\\nNewsHijacked YouTube Accounts Promote Cryp...  \n",
      "18    \\n\\nAltcoin NewsTelegram Project in Trouble as...  \n",
      "...                                                 ...  \n",
      "9752  Although the Winklevoss Bitcoin Trust was init...  \n",
      "9772  Lisk’s founders Max Kordek and Oliver Beddows ...  \n",
      "9791  The Germany-based startup, focused on the Ethe...  \n",
      "9899  RSCoin, developed in cooperation with two rese...  \n",
      "9918  The Blockchain Research Lab will deal with res...  \n",
      "\n",
      "[14227 rows x 6 columns]\n"
     ]
    }
   ],
   "source": [
    "\n",
    "df = pd.read_csv('/home/block/Documents/AppliedProject/Scrape/Assets/Bitcoinist.csv')\n",
    "df1 = pd.read_csv('/home/block/Documents/AppliedProject/Scrape/Assets/Blockonomi.csv')\n",
    "df2 = pd.read_csv('/home/block/Documents/AppliedProject/Scrape/Assets/CoinDesk.csv')\n",
    "df3 = pd.read_csv('/home/block/Documents/AppliedProject/Scrape/Assets/CryptoSlate.csv')\n",
    "df4 = pd.read_csv('/home/block/Documents/AppliedProject/Scrape/Assets/NullTx.csv')\n",
    "df5 = pd.read_csv('/home/block/Documents/AppliedProject/Scrape/Assets/CoinSpeaker.csv')\n",
    "frames = [df,df1, df2, df3, df4,df5]\n",
    "df = pd.concat(frames)\n",
    "df = df.dropna()\n",
    "print(df)"
   ]
  },
  {
   "cell_type": "markdown",
   "metadata": {},
   "source": [
    "Get relevant altcoins"
   ]
  },
  {
   "cell_type": "code",
   "execution_count": 3,
   "metadata": {},
   "outputs": [],
   "source": [
    "coins = pd.read_csv('/home/block/Documents/AppliedProject/Assets/AltCoins.csv')"
   ]
  },
  {
   "cell_type": "markdown",
   "metadata": {},
   "source": [
    "Function to get relevant articles"
   ]
  },
  {
   "cell_type": "code",
   "execution_count": 4,
   "metadata": {},
   "outputs": [],
   "source": [
    "def getArticles(x):\n",
    "    name = x[1][1]\n",
    "    sym = x[1][2]\n",
    "    arts = df[(df.Title.str.contains(name))|(df.Title.str.contains(sym))]\n",
    "    return [name, sym,len(arts)]"
   ]
  },
  {
   "cell_type": "markdown",
   "metadata": {},
   "source": [
    "Coins we will make trades on and the amount of articles we have fetched for each"
   ]
  },
  {
   "cell_type": "code",
   "execution_count": 5,
   "metadata": {},
   "outputs": [],
   "source": [
    "data=[getArticles(x) for x in coins.iterrows()]\n",
    "df_art = pd.DataFrame(data,columns=['Coin','Symbol','Amount'])\n",
    "df_art = df_art.sort_values(by=['Amount'],ascending=False)\n",
    "df_art = df_art[df_art.Amount > 10]\n",
    "df_art\n",
    "df_art.to_csv('/home/block/Documents/AppliedProject/Assets/UsableAltcoins.csv')"
   ]
  },
  {
   "cell_type": "markdown",
   "metadata": {},
   "source": [
    "Time Range Of Articles"
   ]
  },
  {
   "cell_type": "code",
   "execution_count": 6,
   "metadata": {},
   "outputs": [
    {
     "data": {
      "text/plain": [
       "1396857600.0"
      ]
     },
     "execution_count": 6,
     "metadata": {},
     "output_type": "execute_result"
    }
   ],
   "source": [
    "df.TimeStamp.min()"
   ]
  },
  {
   "cell_type": "code",
   "execution_count": 7,
   "metadata": {},
   "outputs": [
    {
     "data": {
      "text/plain": [
       "4413"
      ]
     },
     "execution_count": 7,
     "metadata": {},
     "output_type": "execute_result"
    }
   ],
   "source": [
    "df_art.Amount.sum()"
   ]
  },
  {
   "cell_type": "markdown",
   "metadata": {},
   "source": [
    "The amount of times each currency appears in the title of an article"
   ]
  },
  {
   "cell_type": "code",
   "execution_count": 8,
   "metadata": {
    "scrolled": true
   },
   "outputs": [
    {
     "data": {
      "text/html": [
       "<div>\n",
       "<style scoped>\n",
       "    .dataframe tbody tr th:only-of-type {\n",
       "        vertical-align: middle;\n",
       "    }\n",
       "\n",
       "    .dataframe tbody tr th {\n",
       "        vertical-align: top;\n",
       "    }\n",
       "\n",
       "    .dataframe thead th {\n",
       "        text-align: right;\n",
       "    }\n",
       "</style>\n",
       "<table border=\"1\" class=\"dataframe\">\n",
       "  <thead>\n",
       "    <tr style=\"text-align: right;\">\n",
       "      <th></th>\n",
       "      <th>Coin</th>\n",
       "      <th>Symbol</th>\n",
       "      <th>Amount</th>\n",
       "    </tr>\n",
       "  </thead>\n",
       "  <tbody>\n",
       "    <tr>\n",
       "      <th>0</th>\n",
       "      <td>Ripple</td>\n",
       "      <td>XRP</td>\n",
       "      <td>829</td>\n",
       "    </tr>\n",
       "    <tr>\n",
       "      <th>8</th>\n",
       "      <td>EOS</td>\n",
       "      <td>EOS</td>\n",
       "      <td>292</td>\n",
       "    </tr>\n",
       "    <tr>\n",
       "      <th>1</th>\n",
       "      <td>Bitcoin Cash</td>\n",
       "      <td>BCH</td>\n",
       "      <td>256</td>\n",
       "    </tr>\n",
       "    <tr>\n",
       "      <th>4</th>\n",
       "      <td>Litecoin</td>\n",
       "      <td>LTC</td>\n",
       "      <td>234</td>\n",
       "    </tr>\n",
       "    <tr>\n",
       "      <th>10</th>\n",
       "      <td>Stellar</td>\n",
       "      <td>XLM</td>\n",
       "      <td>199</td>\n",
       "    </tr>\n",
       "    <tr>\n",
       "      <th>3</th>\n",
       "      <td>Cardano</td>\n",
       "      <td>ADA</td>\n",
       "      <td>197</td>\n",
       "    </tr>\n",
       "    <tr>\n",
       "      <th>27</th>\n",
       "      <td>Dogecoin</td>\n",
       "      <td>DOGE</td>\n",
       "      <td>155</td>\n",
       "    </tr>\n",
       "    <tr>\n",
       "      <th>11</th>\n",
       "      <td>TRON</td>\n",
       "      <td>TRX</td>\n",
       "      <td>145</td>\n",
       "    </tr>\n",
       "    <tr>\n",
       "      <th>12</th>\n",
       "      <td>Monero</td>\n",
       "      <td>XMR</td>\n",
       "      <td>119</td>\n",
       "    </tr>\n",
       "    <tr>\n",
       "      <th>7</th>\n",
       "      <td>Binance Coin</td>\n",
       "      <td>BNB</td>\n",
       "      <td>113</td>\n",
       "    </tr>\n",
       "    <tr>\n",
       "      <th>23</th>\n",
       "      <td>Maker</td>\n",
       "      <td>MKR</td>\n",
       "      <td>112</td>\n",
       "    </tr>\n",
       "    <tr>\n",
       "      <th>21</th>\n",
       "      <td>Dash</td>\n",
       "      <td>DASH</td>\n",
       "      <td>107</td>\n",
       "    </tr>\n",
       "    <tr>\n",
       "      <th>41</th>\n",
       "      <td>Dai</td>\n",
       "      <td>DAI</td>\n",
       "      <td>97</td>\n",
       "    </tr>\n",
       "    <tr>\n",
       "      <th>5</th>\n",
       "      <td>Chainlink</td>\n",
       "      <td>LINK</td>\n",
       "      <td>90</td>\n",
       "    </tr>\n",
       "    <tr>\n",
       "      <th>18</th>\n",
       "      <td>IOTA</td>\n",
       "      <td>MIOTA</td>\n",
       "      <td>87</td>\n",
       "    </tr>\n",
       "    <tr>\n",
       "      <th>2</th>\n",
       "      <td>Bitcoin SV</td>\n",
       "      <td>BSV</td>\n",
       "      <td>86</td>\n",
       "    </tr>\n",
       "    <tr>\n",
       "      <th>9</th>\n",
       "      <td>Tezos</td>\n",
       "      <td>XTZ</td>\n",
       "      <td>81</td>\n",
       "    </tr>\n",
       "    <tr>\n",
       "      <th>62</th>\n",
       "      <td>Ren</td>\n",
       "      <td>REN</td>\n",
       "      <td>70</td>\n",
       "    </tr>\n",
       "    <tr>\n",
       "      <th>17</th>\n",
       "      <td>Neo</td>\n",
       "      <td>NEO</td>\n",
       "      <td>66</td>\n",
       "    </tr>\n",
       "    <tr>\n",
       "      <th>20</th>\n",
       "      <td>Ethereum Classic</td>\n",
       "      <td>ETC</td>\n",
       "      <td>66</td>\n",
       "    </tr>\n",
       "    <tr>\n",
       "      <th>22</th>\n",
       "      <td>Zcash</td>\n",
       "      <td>ZEC</td>\n",
       "      <td>63</td>\n",
       "    </tr>\n",
       "    <tr>\n",
       "      <th>37</th>\n",
       "      <td>0x</td>\n",
       "      <td>ZRX</td>\n",
       "      <td>53</td>\n",
       "    </tr>\n",
       "    <tr>\n",
       "      <th>15</th>\n",
       "      <td>VeChain</td>\n",
       "      <td>VET</td>\n",
       "      <td>50</td>\n",
       "    </tr>\n",
       "    <tr>\n",
       "      <th>28</th>\n",
       "      <td>Basic Attention Token</td>\n",
       "      <td>BAT</td>\n",
       "      <td>48</td>\n",
       "    </tr>\n",
       "    <tr>\n",
       "      <th>71</th>\n",
       "      <td>Divi</td>\n",
       "      <td>DIVI</td>\n",
       "      <td>46</td>\n",
       "    </tr>\n",
       "    <tr>\n",
       "      <th>38</th>\n",
       "      <td>BitTorrent</td>\n",
       "      <td>BTT</td>\n",
       "      <td>45</td>\n",
       "    </tr>\n",
       "    <tr>\n",
       "      <th>26</th>\n",
       "      <td>Compound</td>\n",
       "      <td>COMP</td>\n",
       "      <td>39</td>\n",
       "    </tr>\n",
       "    <tr>\n",
       "      <th>77</th>\n",
       "      <td>Verge</td>\n",
       "      <td>XVG</td>\n",
       "      <td>35</td>\n",
       "    </tr>\n",
       "    <tr>\n",
       "      <th>56</th>\n",
       "      <td>Bitcoin Gold</td>\n",
       "      <td>BTG</td>\n",
       "      <td>33</td>\n",
       "    </tr>\n",
       "    <tr>\n",
       "      <th>14</th>\n",
       "      <td>USD Coin</td>\n",
       "      <td>USDC</td>\n",
       "      <td>32</td>\n",
       "    </tr>\n",
       "    <tr>\n",
       "      <th>39</th>\n",
       "      <td>Augur</td>\n",
       "      <td>REP</td>\n",
       "      <td>31</td>\n",
       "    </tr>\n",
       "    <tr>\n",
       "      <th>88</th>\n",
       "      <td>Status</td>\n",
       "      <td>SNT</td>\n",
       "      <td>29</td>\n",
       "    </tr>\n",
       "    <tr>\n",
       "      <th>40</th>\n",
       "      <td>Algorand</td>\n",
       "      <td>ALGO</td>\n",
       "      <td>29</td>\n",
       "    </tr>\n",
       "    <tr>\n",
       "      <th>47</th>\n",
       "      <td>Qtum</td>\n",
       "      <td>QTUM</td>\n",
       "      <td>28</td>\n",
       "    </tr>\n",
       "    <tr>\n",
       "      <th>57</th>\n",
       "      <td>Waves</td>\n",
       "      <td>WAVES</td>\n",
       "      <td>28</td>\n",
       "    </tr>\n",
       "    <tr>\n",
       "      <th>16</th>\n",
       "      <td>Huobi Token</td>\n",
       "      <td>HT</td>\n",
       "      <td>28</td>\n",
       "    </tr>\n",
       "    <tr>\n",
       "      <th>25</th>\n",
       "      <td>NEM</td>\n",
       "      <td>XEM</td>\n",
       "      <td>27</td>\n",
       "    </tr>\n",
       "    <tr>\n",
       "      <th>67</th>\n",
       "      <td>Holo</td>\n",
       "      <td>HOT</td>\n",
       "      <td>26</td>\n",
       "    </tr>\n",
       "    <tr>\n",
       "      <th>64</th>\n",
       "      <td>Nano</td>\n",
       "      <td>NANO</td>\n",
       "      <td>25</td>\n",
       "    </tr>\n",
       "    <tr>\n",
       "      <th>58</th>\n",
       "      <td>Lisk</td>\n",
       "      <td>LSK</td>\n",
       "      <td>24</td>\n",
       "    </tr>\n",
       "    <tr>\n",
       "      <th>94</th>\n",
       "      <td>Steem</td>\n",
       "      <td>STEEM</td>\n",
       "      <td>23</td>\n",
       "    </tr>\n",
       "    <tr>\n",
       "      <th>66</th>\n",
       "      <td>Siacoin</td>\n",
       "      <td>SC</td>\n",
       "      <td>22</td>\n",
       "    </tr>\n",
       "    <tr>\n",
       "      <th>80</th>\n",
       "      <td>Quant</td>\n",
       "      <td>QNT</td>\n",
       "      <td>22</td>\n",
       "    </tr>\n",
       "    <tr>\n",
       "      <th>83</th>\n",
       "      <td>Bancor</td>\n",
       "      <td>BNT</td>\n",
       "      <td>21</td>\n",
       "    </tr>\n",
       "    <tr>\n",
       "      <th>24</th>\n",
       "      <td>Ontology</td>\n",
       "      <td>ONT</td>\n",
       "      <td>20</td>\n",
       "    </tr>\n",
       "    <tr>\n",
       "      <th>19</th>\n",
       "      <td>Cosmos</td>\n",
       "      <td>ATOM</td>\n",
       "      <td>19</td>\n",
       "    </tr>\n",
       "    <tr>\n",
       "      <th>89</th>\n",
       "      <td>Blockstack</td>\n",
       "      <td>STX</td>\n",
       "      <td>18</td>\n",
       "    </tr>\n",
       "    <tr>\n",
       "      <th>46</th>\n",
       "      <td>ICON</td>\n",
       "      <td>ICX</td>\n",
       "      <td>18</td>\n",
       "    </tr>\n",
       "    <tr>\n",
       "      <th>65</th>\n",
       "      <td>Ravencoin</td>\n",
       "      <td>RVN</td>\n",
       "      <td>15</td>\n",
       "    </tr>\n",
       "    <tr>\n",
       "      <th>68</th>\n",
       "      <td>DxChain Token</td>\n",
       "      <td>DX</td>\n",
       "      <td>14</td>\n",
       "    </tr>\n",
       "    <tr>\n",
       "      <th>50</th>\n",
       "      <td>Hedera Hashgraph</td>\n",
       "      <td>HBAR</td>\n",
       "      <td>14</td>\n",
       "    </tr>\n",
       "    <tr>\n",
       "      <th>34</th>\n",
       "      <td>Kyber Network</td>\n",
       "      <td>KNC</td>\n",
       "      <td>14</td>\n",
       "    </tr>\n",
       "    <tr>\n",
       "      <th>74</th>\n",
       "      <td>Nexo</td>\n",
       "      <td>NEXO</td>\n",
       "      <td>13</td>\n",
       "    </tr>\n",
       "    <tr>\n",
       "      <th>51</th>\n",
       "      <td>Zilliqa</td>\n",
       "      <td>ZIL</td>\n",
       "      <td>13</td>\n",
       "    </tr>\n",
       "    <tr>\n",
       "      <th>91</th>\n",
       "      <td>Komodo</td>\n",
       "      <td>KMD</td>\n",
       "      <td>12</td>\n",
       "    </tr>\n",
       "    <tr>\n",
       "      <th>93</th>\n",
       "      <td>Matic Network</td>\n",
       "      <td>MATIC</td>\n",
       "      <td>12</td>\n",
       "    </tr>\n",
       "    <tr>\n",
       "      <th>59</th>\n",
       "      <td>Enjin Coin</td>\n",
       "      <td>ENJ</td>\n",
       "      <td>12</td>\n",
       "    </tr>\n",
       "    <tr>\n",
       "      <th>54</th>\n",
       "      <td>Decred</td>\n",
       "      <td>DCR</td>\n",
       "      <td>11</td>\n",
       "    </tr>\n",
       "  </tbody>\n",
       "</table>\n",
       "</div>"
      ],
      "text/plain": [
       "                     Coin Symbol  Amount\n",
       "0                  Ripple    XRP     829\n",
       "8                     EOS    EOS     292\n",
       "1            Bitcoin Cash    BCH     256\n",
       "4                Litecoin    LTC     234\n",
       "10                Stellar    XLM     199\n",
       "3                 Cardano    ADA     197\n",
       "27               Dogecoin   DOGE     155\n",
       "11                   TRON    TRX     145\n",
       "12                 Monero    XMR     119\n",
       "7            Binance Coin    BNB     113\n",
       "23                  Maker    MKR     112\n",
       "21                   Dash   DASH     107\n",
       "41                    Dai    DAI      97\n",
       "5               Chainlink   LINK      90\n",
       "18                   IOTA  MIOTA      87\n",
       "2              Bitcoin SV    BSV      86\n",
       "9                   Tezos    XTZ      81\n",
       "62                    Ren    REN      70\n",
       "17                    Neo    NEO      66\n",
       "20       Ethereum Classic    ETC      66\n",
       "22                  Zcash    ZEC      63\n",
       "37                     0x    ZRX      53\n",
       "15                VeChain    VET      50\n",
       "28  Basic Attention Token    BAT      48\n",
       "71                   Divi   DIVI      46\n",
       "38             BitTorrent    BTT      45\n",
       "26               Compound   COMP      39\n",
       "77                  Verge    XVG      35\n",
       "56           Bitcoin Gold    BTG      33\n",
       "14               USD Coin   USDC      32\n",
       "39                  Augur    REP      31\n",
       "88                 Status    SNT      29\n",
       "40               Algorand   ALGO      29\n",
       "47                   Qtum   QTUM      28\n",
       "57                  Waves  WAVES      28\n",
       "16            Huobi Token     HT      28\n",
       "25                    NEM    XEM      27\n",
       "67                   Holo    HOT      26\n",
       "64                   Nano   NANO      25\n",
       "58                   Lisk    LSK      24\n",
       "94                  Steem  STEEM      23\n",
       "66                Siacoin     SC      22\n",
       "80                  Quant    QNT      22\n",
       "83                 Bancor    BNT      21\n",
       "24               Ontology    ONT      20\n",
       "19                 Cosmos   ATOM      19\n",
       "89             Blockstack    STX      18\n",
       "46                   ICON    ICX      18\n",
       "65              Ravencoin    RVN      15\n",
       "68          DxChain Token     DX      14\n",
       "50       Hedera Hashgraph   HBAR      14\n",
       "34          Kyber Network    KNC      14\n",
       "74                   Nexo   NEXO      13\n",
       "51                Zilliqa    ZIL      13\n",
       "91                 Komodo    KMD      12\n",
       "93          Matic Network  MATIC      12\n",
       "59             Enjin Coin    ENJ      12\n",
       "54                 Decred    DCR      11"
      ]
     },
     "execution_count": 8,
     "metadata": {},
     "output_type": "execute_result"
    }
   ],
   "source": [
    "df_art"
   ]
  },
  {
   "cell_type": "markdown",
   "metadata": {},
   "source": [
    "# Collection of all price data"
   ]
  },
  {
   "cell_type": "markdown",
   "metadata": {},
   "source": [
    "Collected Hourly Price Data for these cryptocurrencies using a dictionary method for easy access"
   ]
  },
  {
   "cell_type": "code",
   "execution_count": 9,
   "metadata": {},
   "outputs": [
    {
     "name": "stdout",
     "output_type": "stream",
     "text": [
      "{'DX':         Unnamed: 0        time     price\n",
      "491799      492435  1559898000  0.000247\n",
      "539980      581947  1559901600  0.000251\n",
      "509896      514815  1559905200  0.000239\n",
      "541887      600258  1559908800  0.000236\n",
      "495393      496508  1559912400  0.000237\n",
      "...            ...         ...       ...\n",
      "3997          3997  1595793600  0.002175\n",
      "1997          1997  1595797200  0.002187\n",
      "1998          1998  1595800800  0.002187\n",
      "1999          1999  1595804400  0.002191\n",
      "2000          2000  1595808000  0.002200\n",
      "\n",
      "[9976 rows x 3 columns], 'XVG':          Unnamed: 0        time     price\n",
      "1492626     1492746  1499216400  0.002589\n",
      "1492627     1492747  1499220000  0.002638\n",
      "1492628     1492748  1499223600  0.002595\n",
      "1492629     1492749  1499227200  0.002645\n",
      "1492630     1492750  1499230800  0.002671\n",
      "...             ...         ...       ...\n",
      "3997           3997  1595782800  0.004905\n",
      "3998           3998  1595786400  0.005074\n",
      "3999           3999  1595790000  0.005052\n",
      "1999           1999  1595793600  0.005035\n",
      "4001           4001  1595797200  0.004966\n",
      "\n",
      "[26827 rows x 3 columns], 'ZIL':          Unnamed: 0        time    price\n",
      "1248186     1284172  1517328000  0.05396\n",
      "1251387     1304516  1517331600  0.05612\n",
      "1228178     1237384  1517335200  0.05342\n",
      "1205629     1206870  1517338800  0.05185\n",
      "1251527     1306554  1517342400  0.05055\n",
      "...             ...         ...      ...\n",
      "1996           1996  1595797200  0.01402\n",
      "1997           1997  1595800800  0.01408\n",
      "3999           3999  1595804400  0.01406\n",
      "1999           1999  1595808000  0.01410\n",
      "2000           2000  1595811600  0.01407\n",
      "\n",
      "[21801 rows x 3 columns], 'SNT':          Unnamed: 0        time    price\n",
      "1244382     1244622  1499216400  0.04266\n",
      "1244383     1244623  1499220000  0.04269\n",
      "1244384     1244624  1499223600  0.04305\n",
      "1244385     1244625  1499227200  0.04406\n",
      "1244386     1244626  1499230800  0.04312\n",
      "...             ...         ...      ...\n",
      "1996           1996  1581040800  0.01194\n",
      "1997           1997  1581044400  0.01202\n",
      "1998           1998  1581048000  0.01192\n",
      "1999           1999  1581051600  0.01193\n",
      "2000           2000  1581055200  0.01175\n",
      "\n",
      "[22730 rows x 3 columns], 'NANO':          Unnamed: 0        time    price\n",
      "1252983     1257127  1515171600  23.0600\n",
      "1287005     1340535  1515175200  22.2100\n",
      "1285523     1328330  1515178800  24.3600\n",
      "1234326     1234752  1515182400  23.7100\n",
      "1260135     1267302  1515186000  23.8600\n",
      "...             ...         ...      ...\n",
      "1996           1996  1595790000   0.7577\n",
      "3998           3998  1595793600   0.7574\n",
      "3999           3999  1595797200   0.7561\n",
      "4000           4000  1595800800   0.7482\n",
      "4001           4001  1595804400   0.7515\n",
      "\n",
      "[22392 rows x 3 columns], 'DOGE':          Unnamed: 0        time     price\n",
      "1492746     1492746  1499216400  0.001892\n",
      "1492747     1492747  1499220000  0.001878\n",
      "1492748     1492748  1499223600  0.001896\n",
      "1492749     1492749  1499227200  0.001924\n",
      "1492750     1492750  1499230800  0.001917\n",
      "...             ...         ...       ...\n",
      "3997           3997  1595761200  0.002521\n",
      "3998           3998  1595764800  0.002514\n",
      "1998           1998  1595768400  0.002494\n",
      "1999           1999  1595772000  0.002500\n",
      "2000           2000  1595775600  0.002494\n",
      "\n",
      "[26823 rows x 3 columns], 'DAI':          Unnamed: 0        time   price\n",
      "1087673     1328653  1516341600  0.9533\n",
      "1087582     1278079  1517364000  0.8790\n",
      "1087479     1245662  1517839200  0.6551\n",
      "1087445     1235491  1517842800  0.6244\n",
      "1087342     1204977  1517846400  0.6254\n",
      "...             ...         ...     ...\n",
      "3997           3997  1595764800  0.7855\n",
      "3998           3998  1595768400  0.7894\n",
      "1998           1998  1595772000  0.7905\n",
      "1999           1999  1595775600  0.7902\n",
      "4001           4001  1595779200  0.7911\n",
      "\n",
      "[19059 rows x 3 columns], 'HT':          Unnamed: 0        time  price\n",
      "1160580     1160580  1519135200  1.801\n",
      "1160581     1160581  1519138800  1.798\n",
      "1218950     1258230  1519142400  1.879\n",
      "1217553     1252128  1519146000  1.860\n",
      "1212359     1235854  1519149600  1.807\n",
      "...             ...         ...    ...\n",
      "1996           1996  1595786400  3.406\n",
      "1997           1997  1595790000  3.371\n",
      "1998           1998  1595793600  3.375\n",
      "1999           1999  1595797200  3.368\n",
      "4001           4001  1595800800  3.366\n",
      "\n",
      "[21297 rows x 3 columns], 'MIOTA':          Unnamed: 0        time   price\n",
      "1492566     1492746  1499216400  0.3085\n",
      "1492567     1492747  1499220000  0.3092\n",
      "1492568     1492748  1499223600  0.3070\n",
      "1492569     1492749  1499227200  0.3194\n",
      "1492570     1492750  1499230800  0.3164\n",
      "...             ...         ...     ...\n",
      "3997           3997  1595768400  0.2120\n",
      "3998           3998  1595772000  0.2125\n",
      "3999           3999  1595775600  0.2151\n",
      "1999           1999  1595779200  0.2119\n",
      "2000           2000  1595782800  0.2127\n",
      "\n",
      "[26822 rows x 3 columns], 'VET':          Unnamed: 0        time     price\n",
      "1395769     1398835  1505347200  0.000682\n",
      "1401102     1404939  1505350800  0.000689\n",
      "1439971     1472077  1505368800  0.000675\n",
      "1444604     1492422  1505372400  0.000526\n",
      "1441708     1478182  1505376000  0.000684\n",
      "...             ...         ...       ...\n",
      "3997           3997  1595772000  0.013900\n",
      "3998           3998  1595775600  0.013860\n",
      "1998           1998  1595779200  0.013540\n",
      "1999           1999  1595782800  0.013710\n",
      "4001           4001  1595786400  0.013890\n",
      "\n",
      "[25031 rows x 3 columns], 'QNT':         Unnamed: 0        time  price\n",
      "547786      699037  1549332000  1.674\n",
      "556029      719386  1549353600  1.679\n",
      "561089      735662  1549357200  1.811\n",
      "554553      715322  1549371600  1.817\n",
      "566429      764151  1549389600  1.653\n",
      "...            ...         ...    ...\n",
      "3983          3997  1595790000  5.657\n",
      "1990          1997  1595793600  5.579\n",
      "3985          3999  1595797200  5.654\n",
      "3986          4000  1595800800  5.655\n",
      "3987          4001  1595804400  5.750\n",
      "\n",
      "[10392 rows x 3 columns], 'ZRX':          Unnamed: 0        time    price\n",
      "1467997     1473282  1502380800  0.00240\n",
      "1449987     1450907  1502391600  0.04499\n",
      "1476123     1485492  1502395200  0.04185\n",
      "1469437     1475323  1502406000  0.04266\n",
      "1480874     1493633  1502409600  0.05712\n",
      "...             ...         ...      ...\n",
      "3997           3997  1595772000  0.30170\n",
      "3998           3998  1595775600  0.30240\n",
      "3999           3999  1595779200  0.29920\n",
      "4000           4000  1595782800  0.30160\n",
      "2000           2000  1595786400  0.30070\n",
      "\n",
      "[25925 rows x 3 columns], 'ADA':          Unnamed: 0        time    price\n",
      "1392439     1397229  1506888000  0.02977\n",
      "1425474     1482672  1506891600  0.02294\n",
      "1416305     1439952  1506895200  0.01700\n",
      "1424053     1468434  1506898800  0.01394\n",
      "1407877     1421645  1506902400  0.01923\n",
      "...             ...         ...      ...\n",
      "1996           1996  1595761200  0.11320\n",
      "1997           1997  1595764800  0.11440\n",
      "1998           1998  1595768400  0.11230\n",
      "1999           1999  1595772000  0.11480\n",
      "4001           4001  1595775600  0.11810\n",
      "\n",
      "[24687 rows x 3 columns], 'XLM':          Unnamed: 0        time    price\n",
      "1492566     1492746  1499216400  0.01966\n",
      "1492567     1492747  1499220000  0.01978\n",
      "1492568     1492748  1499223600  0.01978\n",
      "1492569     1492749  1499227200  0.02048\n",
      "1492570     1492750  1499230800  0.02037\n",
      "...             ...         ...      ...\n",
      "1996           1996  1595761200  0.07950\n",
      "3998           3998  1595764800  0.07966\n",
      "3999           3999  1595768400  0.07887\n",
      "1999           1999  1595772000  0.07960\n",
      "2000           2000  1595775600  0.08030\n",
      "\n",
      "[26820 rows x 3 columns], 'BSV':         Unnamed: 0        time   price\n",
      "825207      857886  1542625200   53.98\n",
      "791842      794823  1542628800   53.63\n",
      "808559      819236  1542632400   54.82\n",
      "786915      788722  1542636000   57.17\n",
      "818824      839581  1542639600   54.63\n",
      "...            ...         ...     ...\n",
      "3997          3997  1595768400  146.06\n",
      "3998          3998  1595772000  147.16\n",
      "1998          1998  1595775600  149.11\n",
      "1999          1999  1595779200  148.75\n",
      "4001          4001  1595782800  146.81\n",
      "\n",
      "[14766 rows x 3 columns], 'BTG':          Unnamed: 0        time   price\n",
      "1389214     1422173  1508803200  18.390\n",
      "1377154     1391659  1508806800  15.690\n",
      "1387402     1416072  1508810400  18.620\n",
      "1387403     1416073  1508814000  34.060\n",
      "1388042     1418108  1508817600  88.020\n",
      "...             ...         ...     ...\n",
      "1996           1996  1595782800   7.342\n",
      "3998           3998  1595786400   7.344\n",
      "1998           1998  1595790000   7.342\n",
      "1999           1999  1595793600   7.289\n",
      "4001           4001  1595797200   7.370\n",
      "\n",
      "[24164 rows x 3 columns], 'ONT':          Unnamed: 0        time   price\n",
      "1158670     1165223  1521205200  1.3590\n",
      "1184568     1224220  1521208800  1.3130\n",
      "1160032     1167260  1521212400  1.2270\n",
      "1176428     1197776  1521216000  1.2030\n",
      "1165139     1175399  1521219600  1.2180\n",
      "...             ...         ...     ...\n",
      "1996           1996  1595793600  0.5543\n",
      "3998           3998  1595797200  0.5518\n",
      "1998           1998  1595800800  0.5531\n",
      "4000           4000  1595804400  0.5562\n",
      "4001           4001  1595808000  0.5549\n",
      "\n",
      "[20723 rows x 3 columns], 'SC':          Unnamed: 0        time     price\n",
      "1492506     1492746  1499216400  0.010060\n",
      "1492507     1492747  1499220000  0.010110\n",
      "1492508     1492748  1499223600  0.010140\n",
      "1492509     1492749  1499227200  0.010440\n",
      "1492510     1492750  1499230800  0.010320\n",
      "...             ...         ...       ...\n",
      "1996           1996  1595790000  0.002450\n",
      "1997           1997  1595793600  0.002438\n",
      "1998           1998  1595797200  0.002454\n",
      "1999           1999  1595800800  0.002443\n",
      "2000           2000  1595804400  0.002494\n",
      "\n",
      "[26827 rows x 3 columns], 'RVN':          Unnamed: 0        time    price\n",
      "1016873     1100885  1523941200  0.02470\n",
      "1040450     1178194  1523959200  0.02519\n",
      "1035849     1153784  1523966400  0.02224\n",
      "1018698     1104962  1523973600  0.02244\n",
      "1041236     1186338  1523980800  0.02269\n",
      "...             ...         ...      ...\n",
      "1996           1996  1595793600  0.01596\n",
      "3998           3998  1595797200  0.01598\n",
      "3999           3999  1595800800  0.01599\n",
      "1999           1999  1595804400  0.01604\n",
      "4001           4001  1595808000  0.01606\n",
      "\n",
      "[18305 rows x 3 columns], 'BCH':          Unnamed: 0        time   price\n",
      "1086483     1088931  1501570800  384.16\n",
      "1076102     1076726  1501574400  372.18\n",
      "1092740     1097071  1501578000  344.61\n",
      "1092741     1097072  1501581600  357.93\n",
      "1072378     1072661  1501585200  353.13\n",
      "...             ...         ...     ...\n",
      "1996           1996  1572642000  213.23\n",
      "1997           1997  1572645600  215.40\n",
      "1998           1998  1572649200  214.32\n",
      "1999           1999  1572652800  216.10\n",
      "2000           2000  1572656400  216.60\n",
      "\n",
      "[19747 rows x 3 columns], 'ATOM':         Unnamed: 0        time     price\n",
      "605875      658179  1556038800  0.000907\n",
      "550208      550360  1556042400  3.584000\n",
      "593219      611391  1556046000  3.622000\n",
      "606229      664285  1556049600  3.417000\n",
      "583468      593084  1556053200  3.307000\n",
      "...            ...         ...       ...\n",
      "1996          1996  1595793600  3.009000\n",
      "3998          3998  1595797200  3.015000\n",
      "1998          1998  1595800800  3.013000\n",
      "4000          4000  1595804400  3.005000\n",
      "2000          2000  1595808000  2.993000\n",
      "\n",
      "[11048 rows x 3 columns], 'LTC':          Unnamed: 0        time  price\n",
      "1492746     1492746  1499216400  42.38\n",
      "1492747     1492747  1499220000  42.33\n",
      "1492748     1492748  1499223600  41.61\n",
      "1492749     1492749  1499227200  43.28\n",
      "1492750     1492750  1499230800  42.19\n",
      "...             ...         ...    ...\n",
      "3997           3997  1595761200  38.07\n",
      "3998           3998  1595764800  42.56\n",
      "1998           1998  1595768400  41.93\n",
      "1999           1999  1595772000  37.74\n",
      "2000           2000  1595775600  42.52\n",
      "\n",
      "[26823 rows x 3 columns], 'DIVI':         Unnamed: 0        time     price\n",
      "865310      881461  1539612000  0.007698\n",
      "845098      848913  1539615600  0.007578\n",
      "848092      852982  1539619200  0.007823\n",
      "858733      869258  1539622800  0.007269\n",
      "876001      909946  1539626400  0.007023\n",
      "...            ...         ...       ...\n",
      "3997          3997  1595779200  0.046440\n",
      "1997          1997  1595782800  0.042800\n",
      "1998          1998  1595786400  0.042930\n",
      "4000          4000  1595790000  0.048150\n",
      "4001          4001  1595793600  0.047950\n",
      "\n",
      "[15607 rows x 3 columns], 'USDC':         Unnamed: 0        time     price\n",
      "878487      903723  1539194400  0.000548\n",
      "867220      879314  1539205200  0.765900\n",
      "876122      897624  1539208800  0.740100\n",
      "884213      924072  1539216000  0.732500\n",
      "885828      934245  1539219600  0.746400\n",
      "...            ...         ...       ...\n",
      "3997          3997  1595782800  0.783900\n",
      "1997          1997  1595786400  0.784600\n",
      "3999          3999  1595790000  0.783500\n",
      "4000          4000  1595793600  0.784700\n",
      "2000          2000  1595797200  0.789200\n",
      "\n",
      "[15716 rows x 3 columns], 'HBAR':         Unnamed: 0        time    price\n",
      "386189      419684  1568966400  0.03984\n",
      "390580      450200  1568970000  0.04042\n",
      "330091      330175  1568973600  0.03463\n",
      "390430      446133  1568977200  0.04196\n",
      "368673      379001  1568980800  0.04090\n",
      "...            ...         ...      ...\n",
      "3997          3997  1595797200  0.03278\n",
      "1997          1997  1595800800  0.03259\n",
      "3999          3999  1595804400  0.03240\n",
      "4000          4000  1595808000  0.03236\n",
      "4001          4001  1595811600  0.03268\n",
      "\n",
      "[7456 rows x 3 columns], 'DASH':          Unnamed: 0        time   price\n",
      "1492746     1492746  1499216400  141.37\n",
      "1492747     1492747  1499220000  142.05\n",
      "1492748     1492748  1499223600  142.26\n",
      "1492749     1492749  1499227200  145.94\n",
      "1492750     1492750  1499230800  146.40\n",
      "...             ...         ...     ...\n",
      "3997           3997  1595764800   58.83\n",
      "3998           3998  1595768400   58.21\n",
      "3999           3999  1595772000   58.59\n",
      "4000           4000  1595775600   58.84\n",
      "4001           4001  1595779200   58.71\n",
      "\n",
      "[26824 rows x 3 columns], 'REP':          Unnamed: 0        time  price\n",
      "1492506     1492746  1499216400  21.07\n",
      "1492507     1492747  1499220000  21.14\n",
      "1492508     1492748  1499223600  21.00\n",
      "1492509     1492749  1499227200  21.61\n",
      "1492510     1492750  1499230800  21.51\n",
      "...             ...         ...    ...\n",
      "1996           1996  1595782800  17.30\n",
      "1997           1997  1595786400  17.62\n",
      "3999           3999  1595790000  17.51\n",
      "4000           4000  1595793600  17.57\n",
      "4001           4001  1595797200  17.73\n",
      "\n",
      "[26825 rows x 3 columns], 'ZEC':       Unnamed: 0        time   price\n",
      "2001        2001  1499216400  214.87\n",
      "2002        2002  1499220000  217.23\n",
      "2003        2003  1499223600  216.55\n",
      "2004        2004  1499227200  222.66\n",
      "2005        2005  1499230800  222.04\n",
      "...          ...         ...     ...\n",
      "1996        1996  1506520800  211.19\n",
      "1997        1997  1506524400  223.08\n",
      "1998        1998  1506528000  217.26\n",
      "1999        1999  1506531600  217.87\n",
      "2000        2000  1506535200  217.27\n",
      "\n",
      "[2034 rows x 3 columns], 'BNT':          Unnamed: 0        time  price\n",
      "1492506     1492746  1499216400  2.125\n",
      "1492507     1492747  1499220000  2.180\n",
      "1492508     1492748  1499223600  2.193\n",
      "1492509     1492749  1499227200  2.223\n",
      "1492510     1492750  1499230800  2.249\n",
      "...             ...         ...    ...\n",
      "1996           1996  1595790000  1.095\n",
      "1997           1997  1595793600  1.084\n",
      "1998           1998  1595797200  1.094\n",
      "1999           1999  1595800800  1.087\n",
      "2000           2000  1595804400  1.148\n",
      "\n",
      "[26827 rows x 3 columns], 'MATIC':         Unnamed: 0        time     price\n",
      "578280      591207  1556618400  0.002790\n",
      "586062      607482  1556622000  0.002887\n",
      "540215      540350  1556625600  0.002940\n",
      "564100      568832  1556629200  0.003578\n",
      "581452      597314  1556632800  0.003637\n",
      "...            ...         ...       ...\n",
      "3997          3997  1595797200  0.016290\n",
      "3998          3998  1595800800  0.016300\n",
      "1998          1998  1595804400  0.016270\n",
      "1999          1999  1595808000  0.016290\n",
      "4001          4001  1595811600  0.015970\n",
      "\n",
      "[10888 rows x 3 columns], 'BTT':         Unnamed: 0        time     price\n",
      "685627      688782  1549033200  0.025960\n",
      "713936      737607  1549036800  0.000368\n",
      "706633      721333  1549040400  0.000368\n",
      "684035      686751  1549044000  0.000342\n",
      "722573      774228  1549047600  0.000343\n",
      "...            ...         ...       ...\n",
      "1996          1996  1595782800  0.000309\n",
      "1997          1997  1595786400  0.000306\n",
      "3999          3999  1595790000  0.000305\n",
      "1999          1999  1595793600  0.000306\n",
      "4001          4001  1595797200  0.000310\n",
      "\n",
      "[12990 rows x 3 columns], 'ETC':          Unnamed: 0        time   price\n",
      "1492626     1492746  1499216400  13.430\n",
      "1492627     1492747  1499220000  13.540\n",
      "1492628     1492748  1499223600  13.570\n",
      "1492629     1492749  1499227200  13.910\n",
      "1492630     1492750  1499230800  13.860\n",
      "...             ...         ...     ...\n",
      "1996           1996  1595768400   5.106\n",
      "3998           3998  1595772000   5.151\n",
      "3999           3999  1595775600   5.187\n",
      "1999           1999  1595779200   5.197\n",
      "2000           2000  1595782800   5.283\n",
      "\n",
      "[26823 rows x 3 columns], 'XTZ':          Unnamed: 0        time   price\n",
      "1486865     1492746  1499216400  0.6054\n",
      "1486866     1492747  1499220000  0.5855\n",
      "1486867     1492748  1499223600  0.6686\n",
      "1486868     1492749  1499227200  0.6602\n",
      "1486869     1492750  1499230800  0.7075\n",
      "...             ...         ...     ...\n",
      "1996           1996  1595768400  2.3450\n",
      "1997           1997  1595772000  2.3730\n",
      "1998           1998  1595775600  2.3710\n",
      "1999           1999  1595779200  2.3340\n",
      "2000           2000  1595782800  2.3570\n",
      "\n",
      "[26645 rows x 3 columns], 'ICX':          Unnamed: 0        time    price\n",
      "1360755     1378701  1506099600  0.09870\n",
      "1395602     1478385  1506106800  0.09822\n",
      "1383868     1423459  1506110400  0.09654\n",
      "1393308     1460078  1506114000  0.09724\n",
      "1396166     1486529  1506128400  0.10040\n",
      "...             ...         ...      ...\n",
      "1996           1996  1595793600  0.30280\n",
      "1997           1997  1595797200  0.30510\n",
      "1998           1998  1595800800  0.30250\n",
      "1999           1999  1595804400  0.30350\n",
      "4001           4001  1595808000  0.30480\n",
      "\n",
      "[24212 rows x 3 columns], 'WAVES':          Unnamed: 0        time  price\n",
      "1492506     1492746  1499216400  3.387\n",
      "1492507     1492747  1499220000  3.425\n",
      "1492508     1492748  1499223600  3.461\n",
      "1492509     1492749  1499227200  3.547\n",
      "1492510     1492750  1499230800  3.662\n",
      "...             ...         ...    ...\n",
      "3997           3997  1595786400  1.191\n",
      "3998           3998  1595790000  1.193\n",
      "1998           1998  1595793600  1.195\n",
      "4000           4000  1595797200  1.196\n",
      "4001           4001  1595800800  1.202\n",
      "\n",
      "[26826 rows x 3 columns], 'XMR':         Unnamed: 0        time  price\n",
      "374187      374187  1499216400  35.03\n",
      "374188      374188  1499220000  35.31\n",
      "374189      374189  1499223600  35.23\n",
      "374190      374190  1499227200  35.90\n",
      "374191      374191  1499230800  35.91\n",
      "...            ...         ...    ...\n",
      "1996          1996  1528840800  93.22\n",
      "1997          1997  1528844400  94.56\n",
      "1998          1998  1528848000  93.01\n",
      "1999          1999  1528851600  92.64\n",
      "2000          2000  1528855200  94.03\n",
      "\n",
      "[8234 rows x 3 columns], 'LINK':          Unnamed: 0        time   price\n",
      "1383738     1384772  1505984400  0.1371\n",
      "1422742     1443769  1505988000  0.1417\n",
      "1407408     1415289  1505991600  0.1541\n",
      "1421865     1441739  1506006000  0.1430\n",
      "1403274     1409192  1506013200  0.1220\n",
      "...             ...         ...     ...\n",
      "3997           3997  1595764800  5.7990\n",
      "3998           3998  1595768400  5.8630\n",
      "1998           1998  1595772000  5.8480\n",
      "1999           1999  1595775600  5.8260\n",
      "4001           4001  1595779200  5.7940\n",
      "\n",
      "[24828 rows x 3 columns], 'STX':          Unnamed: 0        time     price\n",
      "1492746     1492746  1499216400  0.001434\n",
      "1492747     1492747  1499220000  0.001439\n",
      "1492748     1492748  1499223600  0.001437\n",
      "1492749     1492749  1499227200  0.001476\n",
      "1492750     1492750  1499230800  0.001468\n",
      "...             ...         ...       ...\n",
      "1996           1996  1595793600  0.008241\n",
      "1997           1997  1595797200  0.008454\n",
      "3999           3999  1595800800  0.008461\n",
      "1999           1999  1595804400  0.008329\n",
      "2000           2000  1595808000  0.013390\n",
      "\n",
      "[26832 rows x 3 columns], 'STEEM':          Unnamed: 0        time   price\n",
      "1492506     1492746  1499216400  1.4360\n",
      "1492507     1492747  1499220000  1.4490\n",
      "1492508     1492748  1499223600  1.4540\n",
      "1492509     1492749  1499227200  1.5130\n",
      "1492510     1492750  1499230800  1.4910\n",
      "...             ...         ...     ...\n",
      "1996           1996  1595790000  0.1625\n",
      "1997           1997  1595793600  0.1613\n",
      "1998           1998  1595797200  0.1621\n",
      "1999           1999  1595800800  0.1621\n",
      "2000           2000  1595804400  0.1625\n",
      "\n",
      "[26827 rows x 3 columns], 'KMD':          Unnamed: 0        time   price\n",
      "1492566     1492746  1499216400  1.3740\n",
      "1492567     1492747  1499220000  1.3950\n",
      "1492568     1492748  1499223600  1.3770\n",
      "1492569     1492749  1499227200  1.4150\n",
      "1492570     1492750  1499230800  1.4150\n",
      "...             ...         ...     ...\n",
      "3997           3997  1595797200  0.5191\n",
      "3998           3998  1595800800  0.5175\n",
      "3999           3999  1595804400  0.5142\n",
      "4000           4000  1595808000  0.5123\n",
      "2000           2000  1595811600  0.5119\n",
      "\n",
      "[26830 rows x 3 columns], 'KNC':          Unnamed: 0        time   price\n",
      "1492746     1492746  1499216400  30.390\n",
      "1492747     1492747  1499220000  30.500\n",
      "1492748     1492748  1499223600  30.460\n",
      "1492749     1492749  1499227200  30.750\n",
      "1492750     1492750  1499230800  30.580\n",
      "...             ...         ...     ...\n",
      "3997           3997  1595797200   1.177\n",
      "3998           3998  1595800800   1.174\n",
      "1998           1998  1595804400   1.179\n",
      "1999           1999  1595808000   1.185\n",
      "4001           4001  1595811600   1.177\n",
      "\n",
      "[26833 rows x 3 columns], 'XEM':          Unnamed: 0        time    price\n",
      "1492566     1492746  1499216400  0.14370\n",
      "1492567     1492747  1499220000  0.14040\n",
      "1492568     1492748  1499223600  0.14000\n",
      "1492569     1492749  1499227200  0.14400\n",
      "1492570     1492750  1499230800  0.14260\n",
      "...             ...         ...      ...\n",
      "3997           3997  1595786400  0.03898\n",
      "3998           3998  1595790000  0.03862\n",
      "3999           3999  1595793600  0.03869\n",
      "4000           4000  1595797200  0.03857\n",
      "2000           2000  1595800800  0.03902\n",
      "\n",
      "[26827 rows x 3 columns], 'ENJ':          Unnamed: 0        time    price\n",
      "1353189     1359301  1509494400  0.02676\n",
      "1379211     1416263  1509498000  0.02572\n",
      "1381388     1428470  1509501600  0.02070\n",
      "1365485     1379647  1509505200  0.02009\n",
      "1372108     1393888  1509508800  0.01899\n",
      "...             ...         ...      ...\n",
      "3997           3997  1595800800  0.14100\n",
      "1997           1997  1595804400  0.14100\n",
      "3999           3999  1595808000  0.14030\n",
      "1999           1999  1595811600  0.13720\n",
      "2000           2000  1595815200  0.13820\n",
      "\n",
      "[23979 rows x 3 columns], 'QTUM':          Unnamed: 0        time  price\n",
      "1492746     1492746  1499216400  6.928\n",
      "1492747     1492747  1499220000  6.914\n",
      "1492748     1492748  1499223600  6.927\n",
      "1492749     1492749  1499227200  7.094\n",
      "1492750     1492750  1499230800  7.034\n",
      "...             ...         ...    ...\n",
      "3997           3997  1595786400  1.840\n",
      "3998           3998  1595790000  1.834\n",
      "1998           1998  1595793600  1.854\n",
      "4000           4000  1595797200  1.845\n",
      "4001           4001  1595800800  1.860\n",
      "\n",
      "[26830 rows x 3 columns], 'DCR':          Unnamed: 0        time  price\n",
      "1492566     1492746  1499216400  28.06\n",
      "1492567     1492747  1499220000  28.64\n",
      "1492568     1492748  1499223600  28.44\n",
      "1492569     1492749  1499227200  30.75\n",
      "1492570     1492750  1499230800  30.87\n",
      "...             ...         ...    ...\n",
      "1996           1996  1595800800  11.69\n",
      "1997           1997  1595804400  11.75\n",
      "1998           1998  1595808000  11.83\n",
      "1999           1999  1595811600  11.81\n",
      "2000           2000  1595815200  11.98\n",
      "\n",
      "[26831 rows x 3 columns], 'ALGO':         Unnamed: 0        time   price\n",
      "500126      511089  1561140000  2.4140\n",
      "503515      517193  1561143600  2.4370\n",
      "493815      500920  1561147200  2.4620\n",
      "468013      468371  1561150800  2.4340\n",
      "518009      555849  1561154400  2.4080\n",
      "...            ...         ...     ...\n",
      "3997          3997  1595786400  0.2526\n",
      "1997          1997  1595790000  0.2526\n",
      "1998          1998  1595793600  0.2494\n",
      "4000          4000  1595797200  0.2494\n",
      "2000          2000  1595800800  0.2463\n",
      "\n",
      "[9625 rows x 3 columns], 'NEO':          Unnamed: 0        time  price\n",
      "1492439     1492746  1499216400  5.895\n",
      "1492440     1492747  1499220000  5.935\n",
      "1492441     1492748  1499223600  5.985\n",
      "1492442     1492749  1499227200  5.997\n",
      "1492443     1492750  1499230800  5.974\n",
      "...             ...         ...    ...\n",
      "1996           1996  1595768400  9.039\n",
      "1997           1997  1595772000  9.107\n",
      "1998           1998  1595775600  9.165\n",
      "1999           1999  1595779200  9.058\n",
      "2000           2000  1595782800  9.083\n",
      "\n",
      "[26815 rows x 3 columns], 'XRP':          Unnamed: 0        time   price\n",
      "1492566     1492746  1499216400  0.1927\n",
      "1492567     1492747  1499220000  0.1930\n",
      "1492568     1492748  1499223600  0.1934\n",
      "1492569     1492749  1499227200  0.2010\n",
      "1492570     1492750  1499230800  0.2045\n",
      "...             ...         ...     ...\n",
      "3997           3997  1595757600  0.1752\n",
      "3998           3998  1595761200  0.1719\n",
      "1998           1998  1595764800  0.1702\n",
      "4000           4000  1595768400  0.1699\n",
      "2000           2000  1595772000  0.1711\n",
      "\n",
      "[26819 rows x 3 columns], 'BAT':          Unnamed: 0        time   price\n",
      "1492446     1492746  1499216400  0.1007\n",
      "1492447     1492747  1499220000  0.1019\n",
      "1492448     1492748  1499223600  0.1018\n",
      "1492449     1492749  1499227200  0.1044\n",
      "1492450     1492750  1499230800  0.1030\n",
      "...             ...         ...     ...\n",
      "3997           3997  1595772000  0.2016\n",
      "3998           3998  1595775600  0.2017\n",
      "1998           1998  1595779200  0.1989\n",
      "1999           1999  1595782800  0.1995\n",
      "4001           4001  1595786400  0.1993\n",
      "\n",
      "[26821 rows x 3 columns], 'HOT':          Unnamed: 0        time     price\n",
      "1135093     1168049  1524052800  0.021570\n",
      "1139149     1190427  1524056400  0.022700\n",
      "1118590     1129398  1524060000  0.020790\n",
      "1127909     1147708  1524063600  0.021540\n",
      "1084448     1084645  1524067200  0.021520\n",
      "...             ...         ...       ...\n",
      "3997           3997  1595786400  0.001556\n",
      "1997           1997  1595790000  0.001556\n",
      "1998           1998  1595793600  0.001549\n",
      "4000           4000  1595797200  0.001551\n",
      "4001           4001  1595800800  0.001964\n",
      "\n",
      "[19931 rows x 3 columns], 'LSK':          Unnamed: 0        time   price\n",
      "1492566     1492746  1499216400  1.9200\n",
      "1492567     1492747  1499220000  1.9290\n",
      "1492568     1492748  1499223600  1.9350\n",
      "1492569     1492749  1499227200  2.0010\n",
      "1492570     1492750  1499230800  1.9770\n",
      "...             ...         ...     ...\n",
      "1996           1996  1595790000  0.9859\n",
      "3998           3998  1595793600  0.9862\n",
      "3999           3999  1595797200  0.9891\n",
      "4000           4000  1595800800  0.9912\n",
      "4001           4001  1595804400  0.9908\n",
      "\n",
      "[26828 rows x 3 columns], 'TRX':          Unnamed: 0        time     price\n",
      "1401532     1406931  1505196000  0.002127\n",
      "1424705     1447618  1505199600  0.001985\n",
      "1418112     1433379  1505203200  0.001985\n",
      "1404451     1411002  1505206800  0.002296\n",
      "1425517     1449656  1505210400  0.002293\n",
      "...             ...         ...       ...\n",
      "1996           1996  1595761200  0.014720\n",
      "3998           3998  1595764800  0.014680\n",
      "3999           3999  1595768400  0.014430\n",
      "1999           1999  1595772000  0.014580\n",
      "2000           2000  1595775600  0.014550\n",
      "\n",
      "[24861 rows x 3 columns], 'EOS':          Unnamed: 0        time  price\n",
      "1492566     1492746  1499216400  2.515\n",
      "1492567     1492747  1499220000  2.500\n",
      "1492568     1492748  1499223600  2.501\n",
      "1492569     1492749  1499227200  2.567\n",
      "1492570     1492750  1499230800  2.426\n",
      "...             ...         ...    ...\n",
      "3997           3997  1595757600  2.178\n",
      "3998           3998  1595761200  2.136\n",
      "1998           1998  1595764800  2.129\n",
      "4000           4000  1595768400  2.112\n",
      "2000           2000  1595772000  2.123\n",
      "\n",
      "[26819 rows x 3 columns], 'NEXO':          Unnamed: 0        time   price\n",
      "1045494     1046802  1526979600  0.1538\n",
      "1043739     1044768  1526983200  0.1538\n",
      "1050563     1052907  1526986800  0.1564\n",
      "1059798     1065114  1526990400  0.1546\n",
      "1087969     1126145  1526994000  0.1368\n",
      "...             ...         ...     ...\n",
      "1996           1996  1595797200  0.1787\n",
      "3998           3998  1595800800  0.1778\n",
      "3999           3999  1595804400  0.1776\n",
      "4000           4000  1595808000  0.1770\n",
      "2000           2000  1595811600  0.1764\n",
      "\n",
      "[19121 rows x 3 columns], 'REN':          Unnamed: 0        time    price\n",
      "1222473     1258154  1518868800  0.05242\n",
      "1191205     1195090  1518872400  0.05549\n",
      "1198416     1205263  1518876000  0.05610\n",
      "1203585     1213401  1518879600  0.05902\n",
      "1223394     1262226  1518883200  0.05637\n",
      "...             ...         ...      ...\n",
      "1996           1996  1595768400  0.11780\n",
      "1997           1997  1595772000  0.11800\n",
      "1998           1998  1595775600  0.11820\n",
      "1999           1999  1595779200  0.11730\n",
      "2000           2000  1595782800  0.11700\n",
      "\n",
      "[21366 rows x 3 columns], 'BNB':          Unnamed: 0        time     price\n",
      "1476410     1480761  1500012000   0.08765\n",
      "1484007     1488899  1500015600   0.08829\n",
      "1484008     1488900  1500019200   0.08794\n",
      "1478362     1482798  1500022800   0.08097\n",
      "1476414     1480765  1500026400   0.07846\n",
      "...             ...         ...       ...\n",
      "3997           3997  1595764800  15.45000\n",
      "3998           3998  1595768400  15.38000\n",
      "1998           1998  1595772000  15.26000\n",
      "1999           1999  1595775600  15.41000\n",
      "4001           4001  1595779200  15.34000\n",
      "\n",
      "[26510 rows x 3 columns], 'COMP':        Unnamed: 0        time       price\n",
      "0            1082  1592492400    0.000002\n",
      "13018       45800  1592496000  101.650000\n",
      "12498       41732  1592499600  101.780000\n",
      "5865        15287  1592503200  113.720000\n",
      "3535         9186  1592510400  122.670000\n",
      "...           ...         ...         ...\n",
      "1805         3997  1595782800  122.030000\n",
      "1806         3998  1595786400  122.110000\n",
      "902          1998  1595790000  121.650000\n",
      "1808         4000  1595793600  122.390000\n",
      "904          2000  1595797200  121.840000\n",
      "\n",
      "[905 rows x 3 columns], 'MKR':          Unnamed: 0        time     price\n",
      "1206813     1492921  1499846400    203.82\n",
      "1206740     1466766  1500894000   1073.86\n",
      "1206809     1491233  1501092000   9679.45\n",
      "1206742     1467143  1502251200  13091.30\n",
      "1206317     1419152  1505250000   2550.60\n",
      "...             ...         ...       ...\n",
      "3997           3997  1595764800    413.36\n",
      "1997           1997  1595768400    407.17\n",
      "3999           3999  1595772000    406.37\n",
      "1999           1999  1595775600    410.90\n",
      "2000           2000  1595779200    413.63\n",
      "\n",
      "[21047 rows x 3 columns]}\n"
     ]
    }
   ],
   "source": [
    "crypto_prices = {}\n",
    "path = \"/home/block/Documents/AppliedProject/Assets/Prices/*.csv\"\n",
    "for fname in glob.glob(path):\n",
    "    name = fname[51:-4]\n",
    "    df_temp = pd.read_csv(fname)\n",
    "    df_temp = df_temp.sort_values('time')\n",
    "    df_temp = df_temp.drop_duplicates(subset='time', keep='first')\n",
    "    \n",
    "    crypto_prices[name] = df_temp\n",
    "\n",
    "print(crypto_prices)\n",
    "    "
   ]
  },
  {
   "cell_type": "code",
   "execution_count": 196,
   "metadata": {},
   "outputs": [
    {
     "data": {
      "image/png": "[encoded data removed]",
      "text/plain": [
       "<Figure size 432x288 with 1 Axes>"
      ]
     },
     "metadata": {
      "needs_background": "light"
     },
     "output_type": "display_data"
    }
   ],
   "source": [
    "i =0\n",
    "for cryp in crypto_prices:\n",
    "    x = crypto_prices[cryp]['time'].values\n",
    "    y = crypto_prices[cryp]['price'].values\n",
    "    x = x[0::240]\n",
    "    y = y[0::240]\n",
    "    plt.plot(x,y,label=cryp)\n",
    "    plt.title('Price Data')\n",
    "    i+=1\n",
    "plt.show()\n"
   ]
  },
  {
   "cell_type": "code",
   "execution_count": 11,
   "metadata": {},
   "outputs": [
    {
     "name": "stdout",
     "output_type": "stream",
     "text": [
      "      Unnamed: 0       Source  \\\n",
      "13            13   Bitcoinist   \n",
      "14            14   Bitcoinist   \n",
      "16            16   Bitcoinist   \n",
      "17            17   Bitcoinist   \n",
      "18            18   Bitcoinist   \n",
      "...          ...          ...   \n",
      "9752        9752  CoinSpeaker   \n",
      "9772        9772  CoinSpeaker   \n",
      "9791        9791  CoinSpeaker   \n",
      "9899        9899  CoinSpeaker   \n",
      "9918        9918  CoinSpeaker   \n",
      "\n",
      "                                                  Title  \\\n",
      "13      Ripple’s XRP Scores New Crypto Exchange Listing   \n",
      "14    Bitcoin.com Fires 50% of Staff Ahead of BCH Ha...   \n",
      "16    Ripple Launches X-Border App With Thai Commerc...   \n",
      "17    Hijacked YouTube Accounts Promote Crypto Scam ...   \n",
      "18    Telegram Project in Trouble as Investors Said ...   \n",
      "...                                                 ...   \n",
      "9752  Winklevoss Twins Switch To BATS Global Markets...   \n",
      "9772  Lisk CEO Max Kordek Talks About Perspectives O...   \n",
      "9791  Slock.it to Let Clients Anonymously Rent Any O...   \n",
      "9899  Bank of England Develops Bitcoin Alternative R...   \n",
      "9918  Philips’ Healthcare Division Launches Blockcha...   \n",
      "\n",
      "                     Author     TimeStamp  \\\n",
      "13     \\nChristina Comben\\n  1.586243e+09   \n",
      "14     \\nChristina Comben\\n  1.585922e+09   \n",
      "16     \\nChristina Comben\\n  1.585645e+09   \n",
      "17    \\nAnatol Antonovici\\n  1.585629e+09   \n",
      "18     \\nChristina Comben\\n  1.585220e+09   \n",
      "...                     ...           ...   \n",
      "9752   Tatsiana Yablonskaya  1.467260e+09   \n",
      "9772   Tatsiana Yablonskaya  1.465969e+09   \n",
      "9791        Polina Chernykh  1.464327e+09   \n",
      "9899   Tatsiana Yablonskaya  1.457950e+09   \n",
      "9918   Tatsiana Yablonskaya  1.457065e+09   \n",
      "\n",
      "                                                   Text  \n",
      "13    \\n\\nAltcoin NewsRipple’s XRP Scores New Crypto...  \n",
      "14    \\n\\nAltcoin NewsBitcoin.com Fires 50% of Staff...  \n",
      "16    \\n\\nAltcoin NewsRipple Launches X-Border App W...  \n",
      "17    \\n\\nNewsHijacked YouTube Accounts Promote Cryp...  \n",
      "18    \\n\\nAltcoin NewsTelegram Project in Trouble as...  \n",
      "...                                                 ...  \n",
      "9752  Although the Winklevoss Bitcoin Trust was init...  \n",
      "9772  Lisk’s founders Max Kordek and Oliver Beddows ...  \n",
      "9791  The Germany-based startup, focused on the Ethe...  \n",
      "9899  RSCoin, developed in cooperation with two rese...  \n",
      "9918  The Blockchain Research Lab will deal with res...  \n",
      "\n",
      "[14227 rows x 6 columns]\n"
     ]
    }
   ],
   "source": [
    "print(df)"
   ]
  },
  {
   "cell_type": "code",
   "execution_count": 12,
   "metadata": {},
   "outputs": [],
   "source": [
    "\n",
    "df['TimeStamp']=  df['TimeStamp'] -3600"
   ]
  },
  {
   "cell_type": "markdown",
   "metadata": {},
   "source": [
    "Now we have the UTC adjusted Time for Articles and Price Data"
   ]
  },
  {
   "cell_type": "markdown",
   "metadata": {},
   "source": [
    "# The Total Amount of Articles Collected Per Altcoin"
   ]
  },
  {
   "cell_type": "code",
   "execution_count": 13,
   "metadata": {},
   "outputs": [
    {
     "data": {
      "text/html": [
       "<div>\n",
       "<style scoped>\n",
       "    .dataframe tbody tr th:only-of-type {\n",
       "        vertical-align: middle;\n",
       "    }\n",
       "\n",
       "    .dataframe tbody tr th {\n",
       "        vertical-align: top;\n",
       "    }\n",
       "\n",
       "    .dataframe thead th {\n",
       "        text-align: right;\n",
       "    }\n",
       "</style>\n",
       "<table border=\"1\" class=\"dataframe\">\n",
       "  <thead>\n",
       "    <tr style=\"text-align: right;\">\n",
       "      <th></th>\n",
       "      <th>Coin</th>\n",
       "      <th>Symbol</th>\n",
       "      <th>Amount</th>\n",
       "    </tr>\n",
       "  </thead>\n",
       "  <tbody>\n",
       "    <tr>\n",
       "      <th>0</th>\n",
       "      <td>Ripple</td>\n",
       "      <td>XRP</td>\n",
       "      <td>829</td>\n",
       "    </tr>\n",
       "    <tr>\n",
       "      <th>8</th>\n",
       "      <td>EOS</td>\n",
       "      <td>EOS</td>\n",
       "      <td>292</td>\n",
       "    </tr>\n",
       "    <tr>\n",
       "      <th>1</th>\n",
       "      <td>Bitcoin Cash</td>\n",
       "      <td>BCH</td>\n",
       "      <td>256</td>\n",
       "    </tr>\n",
       "    <tr>\n",
       "      <th>4</th>\n",
       "      <td>Litecoin</td>\n",
       "      <td>LTC</td>\n",
       "      <td>234</td>\n",
       "    </tr>\n",
       "    <tr>\n",
       "      <th>10</th>\n",
       "      <td>Stellar</td>\n",
       "      <td>XLM</td>\n",
       "      <td>199</td>\n",
       "    </tr>\n",
       "    <tr>\n",
       "      <th>3</th>\n",
       "      <td>Cardano</td>\n",
       "      <td>ADA</td>\n",
       "      <td>197</td>\n",
       "    </tr>\n",
       "    <tr>\n",
       "      <th>27</th>\n",
       "      <td>Dogecoin</td>\n",
       "      <td>DOGE</td>\n",
       "      <td>155</td>\n",
       "    </tr>\n",
       "    <tr>\n",
       "      <th>11</th>\n",
       "      <td>TRON</td>\n",
       "      <td>TRX</td>\n",
       "      <td>145</td>\n",
       "    </tr>\n",
       "    <tr>\n",
       "      <th>12</th>\n",
       "      <td>Monero</td>\n",
       "      <td>XMR</td>\n",
       "      <td>119</td>\n",
       "    </tr>\n",
       "    <tr>\n",
       "      <th>7</th>\n",
       "      <td>Binance Coin</td>\n",
       "      <td>BNB</td>\n",
       "      <td>113</td>\n",
       "    </tr>\n",
       "    <tr>\n",
       "      <th>23</th>\n",
       "      <td>Maker</td>\n",
       "      <td>MKR</td>\n",
       "      <td>112</td>\n",
       "    </tr>\n",
       "    <tr>\n",
       "      <th>21</th>\n",
       "      <td>Dash</td>\n",
       "      <td>DASH</td>\n",
       "      <td>107</td>\n",
       "    </tr>\n",
       "    <tr>\n",
       "      <th>41</th>\n",
       "      <td>Dai</td>\n",
       "      <td>DAI</td>\n",
       "      <td>97</td>\n",
       "    </tr>\n",
       "    <tr>\n",
       "      <th>5</th>\n",
       "      <td>Chainlink</td>\n",
       "      <td>LINK</td>\n",
       "      <td>90</td>\n",
       "    </tr>\n",
       "    <tr>\n",
       "      <th>18</th>\n",
       "      <td>IOTA</td>\n",
       "      <td>MIOTA</td>\n",
       "      <td>87</td>\n",
       "    </tr>\n",
       "    <tr>\n",
       "      <th>2</th>\n",
       "      <td>Bitcoin SV</td>\n",
       "      <td>BSV</td>\n",
       "      <td>86</td>\n",
       "    </tr>\n",
       "    <tr>\n",
       "      <th>9</th>\n",
       "      <td>Tezos</td>\n",
       "      <td>XTZ</td>\n",
       "      <td>81</td>\n",
       "    </tr>\n",
       "    <tr>\n",
       "      <th>62</th>\n",
       "      <td>Ren</td>\n",
       "      <td>REN</td>\n",
       "      <td>70</td>\n",
       "    </tr>\n",
       "    <tr>\n",
       "      <th>17</th>\n",
       "      <td>Neo</td>\n",
       "      <td>NEO</td>\n",
       "      <td>66</td>\n",
       "    </tr>\n",
       "    <tr>\n",
       "      <th>20</th>\n",
       "      <td>Ethereum Classic</td>\n",
       "      <td>ETC</td>\n",
       "      <td>66</td>\n",
       "    </tr>\n",
       "    <tr>\n",
       "      <th>22</th>\n",
       "      <td>Zcash</td>\n",
       "      <td>ZEC</td>\n",
       "      <td>63</td>\n",
       "    </tr>\n",
       "    <tr>\n",
       "      <th>37</th>\n",
       "      <td>0x</td>\n",
       "      <td>ZRX</td>\n",
       "      <td>53</td>\n",
       "    </tr>\n",
       "    <tr>\n",
       "      <th>15</th>\n",
       "      <td>VeChain</td>\n",
       "      <td>VET</td>\n",
       "      <td>50</td>\n",
       "    </tr>\n",
       "    <tr>\n",
       "      <th>28</th>\n",
       "      <td>Basic Attention Token</td>\n",
       "      <td>BAT</td>\n",
       "      <td>48</td>\n",
       "    </tr>\n",
       "    <tr>\n",
       "      <th>71</th>\n",
       "      <td>Divi</td>\n",
       "      <td>DIVI</td>\n",
       "      <td>46</td>\n",
       "    </tr>\n",
       "    <tr>\n",
       "      <th>38</th>\n",
       "      <td>BitTorrent</td>\n",
       "      <td>BTT</td>\n",
       "      <td>45</td>\n",
       "    </tr>\n",
       "    <tr>\n",
       "      <th>26</th>\n",
       "      <td>Compound</td>\n",
       "      <td>COMP</td>\n",
       "      <td>39</td>\n",
       "    </tr>\n",
       "    <tr>\n",
       "      <th>77</th>\n",
       "      <td>Verge</td>\n",
       "      <td>XVG</td>\n",
       "      <td>35</td>\n",
       "    </tr>\n",
       "    <tr>\n",
       "      <th>56</th>\n",
       "      <td>Bitcoin Gold</td>\n",
       "      <td>BTG</td>\n",
       "      <td>33</td>\n",
       "    </tr>\n",
       "    <tr>\n",
       "      <th>14</th>\n",
       "      <td>USD Coin</td>\n",
       "      <td>USDC</td>\n",
       "      <td>32</td>\n",
       "    </tr>\n",
       "    <tr>\n",
       "      <th>39</th>\n",
       "      <td>Augur</td>\n",
       "      <td>REP</td>\n",
       "      <td>31</td>\n",
       "    </tr>\n",
       "    <tr>\n",
       "      <th>88</th>\n",
       "      <td>Status</td>\n",
       "      <td>SNT</td>\n",
       "      <td>29</td>\n",
       "    </tr>\n",
       "    <tr>\n",
       "      <th>40</th>\n",
       "      <td>Algorand</td>\n",
       "      <td>ALGO</td>\n",
       "      <td>29</td>\n",
       "    </tr>\n",
       "    <tr>\n",
       "      <th>47</th>\n",
       "      <td>Qtum</td>\n",
       "      <td>QTUM</td>\n",
       "      <td>28</td>\n",
       "    </tr>\n",
       "    <tr>\n",
       "      <th>57</th>\n",
       "      <td>Waves</td>\n",
       "      <td>WAVES</td>\n",
       "      <td>28</td>\n",
       "    </tr>\n",
       "    <tr>\n",
       "      <th>16</th>\n",
       "      <td>Huobi Token</td>\n",
       "      <td>HT</td>\n",
       "      <td>28</td>\n",
       "    </tr>\n",
       "    <tr>\n",
       "      <th>25</th>\n",
       "      <td>NEM</td>\n",
       "      <td>XEM</td>\n",
       "      <td>27</td>\n",
       "    </tr>\n",
       "    <tr>\n",
       "      <th>67</th>\n",
       "      <td>Holo</td>\n",
       "      <td>HOT</td>\n",
       "      <td>26</td>\n",
       "    </tr>\n",
       "    <tr>\n",
       "      <th>64</th>\n",
       "      <td>Nano</td>\n",
       "      <td>NANO</td>\n",
       "      <td>25</td>\n",
       "    </tr>\n",
       "    <tr>\n",
       "      <th>58</th>\n",
       "      <td>Lisk</td>\n",
       "      <td>LSK</td>\n",
       "      <td>24</td>\n",
       "    </tr>\n",
       "    <tr>\n",
       "      <th>94</th>\n",
       "      <td>Steem</td>\n",
       "      <td>STEEM</td>\n",
       "      <td>23</td>\n",
       "    </tr>\n",
       "    <tr>\n",
       "      <th>66</th>\n",
       "      <td>Siacoin</td>\n",
       "      <td>SC</td>\n",
       "      <td>22</td>\n",
       "    </tr>\n",
       "    <tr>\n",
       "      <th>80</th>\n",
       "      <td>Quant</td>\n",
       "      <td>QNT</td>\n",
       "      <td>22</td>\n",
       "    </tr>\n",
       "    <tr>\n",
       "      <th>83</th>\n",
       "      <td>Bancor</td>\n",
       "      <td>BNT</td>\n",
       "      <td>21</td>\n",
       "    </tr>\n",
       "    <tr>\n",
       "      <th>24</th>\n",
       "      <td>Ontology</td>\n",
       "      <td>ONT</td>\n",
       "      <td>20</td>\n",
       "    </tr>\n",
       "    <tr>\n",
       "      <th>19</th>\n",
       "      <td>Cosmos</td>\n",
       "      <td>ATOM</td>\n",
       "      <td>19</td>\n",
       "    </tr>\n",
       "    <tr>\n",
       "      <th>89</th>\n",
       "      <td>Blockstack</td>\n",
       "      <td>STX</td>\n",
       "      <td>18</td>\n",
       "    </tr>\n",
       "    <tr>\n",
       "      <th>46</th>\n",
       "      <td>ICON</td>\n",
       "      <td>ICX</td>\n",
       "      <td>18</td>\n",
       "    </tr>\n",
       "    <tr>\n",
       "      <th>65</th>\n",
       "      <td>Ravencoin</td>\n",
       "      <td>RVN</td>\n",
       "      <td>15</td>\n",
       "    </tr>\n",
       "    <tr>\n",
       "      <th>68</th>\n",
       "      <td>DxChain Token</td>\n",
       "      <td>DX</td>\n",
       "      <td>14</td>\n",
       "    </tr>\n",
       "    <tr>\n",
       "      <th>50</th>\n",
       "      <td>Hedera Hashgraph</td>\n",
       "      <td>HBAR</td>\n",
       "      <td>14</td>\n",
       "    </tr>\n",
       "    <tr>\n",
       "      <th>34</th>\n",
       "      <td>Kyber Network</td>\n",
       "      <td>KNC</td>\n",
       "      <td>14</td>\n",
       "    </tr>\n",
       "    <tr>\n",
       "      <th>74</th>\n",
       "      <td>Nexo</td>\n",
       "      <td>NEXO</td>\n",
       "      <td>13</td>\n",
       "    </tr>\n",
       "    <tr>\n",
       "      <th>51</th>\n",
       "      <td>Zilliqa</td>\n",
       "      <td>ZIL</td>\n",
       "      <td>13</td>\n",
       "    </tr>\n",
       "    <tr>\n",
       "      <th>91</th>\n",
       "      <td>Komodo</td>\n",
       "      <td>KMD</td>\n",
       "      <td>12</td>\n",
       "    </tr>\n",
       "    <tr>\n",
       "      <th>93</th>\n",
       "      <td>Matic Network</td>\n",
       "      <td>MATIC</td>\n",
       "      <td>12</td>\n",
       "    </tr>\n",
       "    <tr>\n",
       "      <th>59</th>\n",
       "      <td>Enjin Coin</td>\n",
       "      <td>ENJ</td>\n",
       "      <td>12</td>\n",
       "    </tr>\n",
       "    <tr>\n",
       "      <th>54</th>\n",
       "      <td>Decred</td>\n",
       "      <td>DCR</td>\n",
       "      <td>11</td>\n",
       "    </tr>\n",
       "  </tbody>\n",
       "</table>\n",
       "</div>"
      ],
      "text/plain": [
       "                     Coin Symbol  Amount\n",
       "0                  Ripple    XRP     829\n",
       "8                     EOS    EOS     292\n",
       "1            Bitcoin Cash    BCH     256\n",
       "4                Litecoin    LTC     234\n",
       "10                Stellar    XLM     199\n",
       "3                 Cardano    ADA     197\n",
       "27               Dogecoin   DOGE     155\n",
       "11                   TRON    TRX     145\n",
       "12                 Monero    XMR     119\n",
       "7            Binance Coin    BNB     113\n",
       "23                  Maker    MKR     112\n",
       "21                   Dash   DASH     107\n",
       "41                    Dai    DAI      97\n",
       "5               Chainlink   LINK      90\n",
       "18                   IOTA  MIOTA      87\n",
       "2              Bitcoin SV    BSV      86\n",
       "9                   Tezos    XTZ      81\n",
       "62                    Ren    REN      70\n",
       "17                    Neo    NEO      66\n",
       "20       Ethereum Classic    ETC      66\n",
       "22                  Zcash    ZEC      63\n",
       "37                     0x    ZRX      53\n",
       "15                VeChain    VET      50\n",
       "28  Basic Attention Token    BAT      48\n",
       "71                   Divi   DIVI      46\n",
       "38             BitTorrent    BTT      45\n",
       "26               Compound   COMP      39\n",
       "77                  Verge    XVG      35\n",
       "56           Bitcoin Gold    BTG      33\n",
       "14               USD Coin   USDC      32\n",
       "39                  Augur    REP      31\n",
       "88                 Status    SNT      29\n",
       "40               Algorand   ALGO      29\n",
       "47                   Qtum   QTUM      28\n",
       "57                  Waves  WAVES      28\n",
       "16            Huobi Token     HT      28\n",
       "25                    NEM    XEM      27\n",
       "67                   Holo    HOT      26\n",
       "64                   Nano   NANO      25\n",
       "58                   Lisk    LSK      24\n",
       "94                  Steem  STEEM      23\n",
       "66                Siacoin     SC      22\n",
       "80                  Quant    QNT      22\n",
       "83                 Bancor    BNT      21\n",
       "24               Ontology    ONT      20\n",
       "19                 Cosmos   ATOM      19\n",
       "89             Blockstack    STX      18\n",
       "46                   ICON    ICX      18\n",
       "65              Ravencoin    RVN      15\n",
       "68          DxChain Token     DX      14\n",
       "50       Hedera Hashgraph   HBAR      14\n",
       "34          Kyber Network    KNC      14\n",
       "74                   Nexo   NEXO      13\n",
       "51                Zilliqa    ZIL      13\n",
       "91                 Komodo    KMD      12\n",
       "93          Matic Network  MATIC      12\n",
       "59             Enjin Coin    ENJ      12\n",
       "54                 Decred    DCR      11"
      ]
     },
     "execution_count": 13,
     "metadata": {},
     "output_type": "execute_result"
    }
   ],
   "source": [
    "df_art"
   ]
  },
  {
   "cell_type": "markdown",
   "metadata": {},
   "source": [
    "# PreProcessing"
   ]
  },
  {
   "cell_type": "code",
   "execution_count": 14,
   "metadata": {},
   "outputs": [],
   "source": [
    "porter = PorterStemmer()\n",
    "lancaster=LancasterStemmer()\n",
    "stop=list(set(stopwords.words('english')))\n",
    "token_new=[]\n",
    "texts_new=[]\n",
    "\n",
    "#preprocess the texts of the data within CountVectorize\n",
    "def mypreprocess(text):\n",
    "    #text is a document of a corpus\n",
    "    #lowercase of text\n",
    "    text=text.lower()\n",
    "    #remove all the irrelevant numbers and punctuation\n",
    "    text=re.sub(r'[^a-z]+',' ',text)\n",
    "    #tokenize the words\n",
    "    token1=word_tokenize(text)\n",
    "    #remove the meaningless stopping words\n",
    "    token2=[t for t in token1 if t not in stopwords.words('english')]\n",
    "    #stemming transformation\n",
    "    Porter=1\n",
    "    if Porter==1:\n",
    "        token3=[porter.stem(t) for t in token2]\n",
    "    else:\n",
    "        token3=[lancaster.stem(t) for t in token2]\n",
    "    return token3\n",
    "\n",
    "\n",
    "def isUsable(x):\n",
    "    res = [ele for ele in df_art['Symbol'].values if(ele in x)] \n",
    "    if len(res) == 1:\n",
    "        return res\n",
    "    elif len(res) > 1:\n",
    "        return False\n",
    "    else:\n",
    "        res = [ele for ele in df_art['Coin'].values if(ele in x)]\n",
    "        if len(res)==1:\n",
    "            res = df_art['Symbol'].loc[df_art['Coin'] == res[0]].values\n",
    "            return res\n",
    "        else:\n",
    "            return False \n",
    "\n",
    "# From StackOverFlow\n",
    "def find_nearest(array, value):\n",
    "    array = np.asarray(array)\n",
    "    idx = (np.abs(array - value)).argmin()\n",
    "    return array[idx]\n",
    "        \n",
    "    #val = [isIncluded(t) for t in x]\n",
    "    #print(val)"
   ]
  },
  {
   "cell_type": "code",
   "execution_count": 15,
   "metadata": {},
   "outputs": [
    {
     "name": "stderr",
     "output_type": "stream",
     "text": [
      "\r",
      "0it [00:00, ?it/s]"
     ]
    },
    {
     "name": "stdout",
     "output_type": "stream",
     "text": [
      "-0.018270401948842885\n"
     ]
    },
    {
     "name": "stderr",
     "output_type": "stream",
     "text": [
      "\r",
      "1it [00:00,  6.93it/s]"
     ]
    },
    {
     "name": "stdout",
     "output_type": "stream",
     "text": [
      "0.005007153075822668\n"
     ]
    },
    {
     "name": "stderr",
     "output_type": "stream",
     "text": [
      "\r",
      "3it [00:00,  7.77it/s]"
     ]
    },
    {
     "name": "stdout",
     "output_type": "stream",
     "text": [
      "-0.005420054200541813\n"
     ]
    },
    {
     "name": "stderr",
     "output_type": "stream",
     "text": [
      "\r",
      "7it [00:00, 10.04it/s]"
     ]
    },
    {
     "name": "stdout",
     "output_type": "stream",
     "text": [
      "-0.07009995366386446\n"
     ]
    },
    {
     "name": "stderr",
     "output_type": "stream",
     "text": [
      "\r",
      "9it [00:00, 10.95it/s]"
     ]
    },
    {
     "name": "stdout",
     "output_type": "stream",
     "text": [
      "-0.07845934379457908\n"
     ]
    },
    {
     "name": "stderr",
     "output_type": "stream",
     "text": [
      "\r",
      "11it [00:00, 11.73it/s]"
     ]
    },
    {
     "name": "stdout",
     "output_type": "stream",
     "text": [
      "-0.1455550437586366\n"
     ]
    },
    {
     "name": "stderr",
     "output_type": "stream",
     "text": [
      "\r",
      "15it [00:00, 13.34it/s]"
     ]
    },
    {
     "name": "stdout",
     "output_type": "stream",
     "text": [
      "-0.13118617439120184\n",
      "0.12824675324675328\n"
     ]
    },
    {
     "name": "stderr",
     "output_type": "stream",
     "text": [
      "19it [00:01, 14.24it/s]"
     ]
    },
    {
     "name": "stdout",
     "output_type": "stream",
     "text": [
      "0.017448856799037404\n",
      "0.10867237687366171\n"
     ]
    },
    {
     "name": "stderr",
     "output_type": "stream",
     "text": [
      "23it [00:01, 14.69it/s]"
     ]
    },
    {
     "name": "stdout",
     "output_type": "stream",
     "text": [
      "0.02061219451987162\n",
      "-0.016730401529636674\n"
     ]
    },
    {
     "name": "stderr",
     "output_type": "stream",
     "text": [
      "27it [00:01, 14.60it/s]"
     ]
    },
    {
     "name": "stdout",
     "output_type": "stream",
     "text": [
      "-0.0836052202283849\n",
      "0.014604810996563522\n"
     ]
    },
    {
     "name": "stderr",
     "output_type": "stream",
     "text": [
      "31it [00:02, 14.27it/s]"
     ]
    },
    {
     "name": "stdout",
     "output_type": "stream",
     "text": [
      "-0.07040913415794481\n",
      "0.01887979861548139\n"
     ]
    },
    {
     "name": "stderr",
     "output_type": "stream",
     "text": [
      "\r",
      "33it [00:02, 11.11it/s]"
     ]
    },
    {
     "name": "stdout",
     "output_type": "stream",
     "text": [
      "-0.03178276269185354\n",
      "0.014794267221451607\n"
     ]
    },
    {
     "name": "stderr",
     "output_type": "stream",
     "text": [
      "38it [00:02, 11.48it/s]"
     ]
    },
    {
     "name": "stdout",
     "output_type": "stream",
     "text": [
      "0.020716685330347095\n"
     ]
    },
    {
     "name": "stderr",
     "output_type": "stream",
     "text": [
      "\r",
      "40it [00:02, 11.72it/s]"
     ]
    },
    {
     "name": "stdout",
     "output_type": "stream",
     "text": [
      "-0.0005571030640667551\n",
      "0.005211047420531578\n"
     ]
    },
    {
     "name": "stderr",
     "output_type": "stream",
     "text": [
      "50it [00:03, 17.09it/s]"
     ]
    },
    {
     "name": "stdout",
     "output_type": "stream",
     "text": [
      "0.02331674089599156\n",
      "0.02136752136752129\n"
     ]
    },
    {
     "name": "stderr",
     "output_type": "stream",
     "text": [
      "58it [00:03, 21.86it/s]"
     ]
    },
    {
     "name": "stdout",
     "output_type": "stream",
     "text": [
      "0.01635991820040905\n",
      "-0.0490921318090114\n"
     ]
    },
    {
     "name": "stderr",
     "output_type": "stream",
     "text": [
      "\r",
      "61it [00:03, 16.77it/s]"
     ]
    },
    {
     "name": "stdout",
     "output_type": "stream",
     "text": [
      "-0.0217696629213483\n",
      "0.007373271889400845\n"
     ]
    },
    {
     "name": "stderr",
     "output_type": "stream",
     "text": [
      "\r",
      "64it [00:03, 15.51it/s]"
     ]
    },
    {
     "name": "stdout",
     "output_type": "stream",
     "text": [
      "-0.009926189870196\n",
      "0.012558869701726927\n"
     ]
    },
    {
     "name": "stderr",
     "output_type": "stream",
     "text": [
      "68it [00:04, 12.47it/s]"
     ]
    },
    {
     "name": "stdout",
     "output_type": "stream",
     "text": [
      "0.004514672686230181\n",
      "-0.017311021350259637\n"
     ]
    },
    {
     "name": "stderr",
     "output_type": "stream",
     "text": [
      "\r",
      "70it [00:04, 13.04it/s]"
     ]
    },
    {
     "name": "stdout",
     "output_type": "stream",
     "text": [
      "-0.04868316041500398\n",
      "0.017376194613379692\n"
     ]
    },
    {
     "name": "stderr",
     "output_type": "stream",
     "text": [
      "74it [00:04, 11.69it/s]"
     ]
    },
    {
     "name": "stdout",
     "output_type": "stream",
     "text": [
      "0.0076832151300236795\n",
      "-0.04635761589403964\n"
     ]
    },
    {
     "name": "stderr",
     "output_type": "stream",
     "text": [
      "78it [00:05, 13.14it/s]"
     ]
    },
    {
     "name": "stdout",
     "output_type": "stream",
     "text": [
      "0.029739776951672736\n",
      "0.027535037098103787\n"
     ]
    },
    {
     "name": "stderr",
     "output_type": "stream",
     "text": [
      "82it [00:05, 12.11it/s]"
     ]
    },
    {
     "name": "stdout",
     "output_type": "stream",
     "text": [
      "0.002423654871546388\n",
      "0.029126213592232997\n"
     ]
    },
    {
     "name": "stderr",
     "output_type": "stream",
     "text": [
      "87it [00:05, 13.65it/s]"
     ]
    },
    {
     "name": "stdout",
     "output_type": "stream",
     "text": [
      "-0.027405991077119163\n",
      "-0.11962338949454909\n"
     ]
    },
    {
     "name": "stderr",
     "output_type": "stream",
     "text": [
      "91it [00:06, 13.38it/s]"
     ]
    },
    {
     "name": "stdout",
     "output_type": "stream",
     "text": [
      "-0.034372785258681815\n",
      "0.040459770114942506\n"
     ]
    },
    {
     "name": "stderr",
     "output_type": "stream",
     "text": [
      "\r",
      "93it [00:06, 10.51it/s]"
     ]
    },
    {
     "name": "stdout",
     "output_type": "stream",
     "text": [
      "-0.1464747294315435\n",
      "0.053216838760921314\n"
     ]
    },
    {
     "name": "stderr",
     "output_type": "stream",
     "text": [
      "\r",
      "95it [00:06, 11.50it/s]"
     ]
    },
    {
     "name": "stdout",
     "output_type": "stream",
     "text": [
      "-0.04264392324093813\n",
      "-0.0020374143359881414\n"
     ]
    },
    {
     "name": "stderr",
     "output_type": "stream",
     "text": [
      "100it [00:06, 12.73it/s]"
     ]
    },
    {
     "name": "stdout",
     "output_type": "stream",
     "text": [
      "0.10587475790832812\n",
      "-0.0016843225034351983\n"
     ]
    },
    {
     "name": "stderr",
     "output_type": "stream",
     "text": [
      "\r",
      "102it [00:07, 10.59it/s]"
     ]
    },
    {
     "name": "stdout",
     "output_type": "stream",
     "text": [
      "-0.012789281364190108\n",
      "-0.04843820733363524\n"
     ]
    },
    {
     "name": "stderr",
     "output_type": "stream",
     "text": [
      "106it [00:07, 11.95it/s]"
     ]
    },
    {
     "name": "stdout",
     "output_type": "stream",
     "text": [
      "-0.142135642135642\n",
      "-0.014873140857392775\n"
     ]
    },
    {
     "name": "stderr",
     "output_type": "stream",
     "text": [
      "121it [00:07, 20.45it/s]"
     ]
    },
    {
     "name": "stdout",
     "output_type": "stream",
     "text": [
      "0.018646408839779083\n",
      "0.012573964497041512\n"
     ]
    },
    {
     "name": "stderr",
     "output_type": "stream",
     "text": [
      "\r",
      "132it [00:07, 26.72it/s]"
     ]
    },
    {
     "name": "stdout",
     "output_type": "stream",
     "text": [
      "-0.05163466528282312\n",
      "0.014253897550111416\n"
     ]
    },
    {
     "name": "stderr",
     "output_type": "stream",
     "text": [
      "143it [00:08, 29.78it/s]"
     ]
    },
    {
     "name": "stdout",
     "output_type": "stream",
     "text": [
      "-0.030492231740961384\n",
      "0.001103617412630209\n"
     ]
    },
    {
     "name": "stderr",
     "output_type": "stream",
     "text": [
      "\r",
      "149it [00:08, 34.17it/s]"
     ]
    },
    {
     "name": "stdout",
     "output_type": "stream",
     "text": [
      "0.04647676161919034\n",
      "-0.07373370378285948\n"
     ]
    },
    {
     "name": "stderr",
     "output_type": "stream",
     "text": [
      "\r",
      "154it [00:08, 29.55it/s]"
     ]
    },
    {
     "name": "stdout",
     "output_type": "stream",
     "text": [
      "-0.06313645621181263\n",
      "-0.004287114159725713\n"
     ]
    },
    {
     "name": "stderr",
     "output_type": "stream",
     "text": [
      "\r",
      "159it [00:08, 22.83it/s]"
     ]
    },
    {
     "name": "stdout",
     "output_type": "stream",
     "text": [
      "-0.030540720961281576\n",
      "-0.02618328298086614\n"
     ]
    },
    {
     "name": "stderr",
     "output_type": "stream",
     "text": [
      "167it [00:09, 27.48it/s]"
     ]
    },
    {
     "name": "stdout",
     "output_type": "stream",
     "text": [
      "-0.03758099352051825\n",
      "0.24421388667198718\n"
     ]
    },
    {
     "name": "stderr",
     "output_type": "stream",
     "text": [
      "\r",
      "171it [00:09, 28.70it/s]"
     ]
    },
    {
     "name": "stdout",
     "output_type": "stream",
     "text": [
      "0.020497311827956777\n",
      "0.024780252859723184\n"
     ]
    },
    {
     "name": "stderr",
     "output_type": "stream",
     "text": [
      "\r",
      "175it [00:09, 20.69it/s]"
     ]
    },
    {
     "name": "stdout",
     "output_type": "stream",
     "text": [
      "0.001704303365999138\n",
      "0.04093919325707396\n"
     ]
    },
    {
     "name": "stderr",
     "output_type": "stream",
     "text": [
      "181it [00:09, 23.13it/s]"
     ]
    },
    {
     "name": "stdout",
     "output_type": "stream",
     "text": [
      "-0.0078125\n",
      "-0.05043526323062053\n"
     ]
    },
    {
     "name": "stderr",
     "output_type": "stream",
     "text": [
      "\r",
      "191it [00:09, 29.54it/s]"
     ]
    },
    {
     "name": "stdout",
     "output_type": "stream",
     "text": [
      "0.023426642842962142\n",
      "-0.005847953216374324\n"
     ]
    },
    {
     "name": "stderr",
     "output_type": "stream",
     "text": [
      "\r",
      "196it [00:10, 27.16it/s]"
     ]
    },
    {
     "name": "stdout",
     "output_type": "stream",
     "text": [
      "0.035116153430577945\n",
      "0.03375188347564029\n"
     ]
    },
    {
     "name": "stderr",
     "output_type": "stream",
     "text": [
      "204it [00:10, 22.71it/s]"
     ]
    },
    {
     "name": "stdout",
     "output_type": "stream",
     "text": [
      "-0.00615238996687173\n",
      "0.004381161007666945\n",
      "0.02324478178368139\n"
     ]
    },
    {
     "name": "stderr",
     "output_type": "stream",
     "text": [
      "215it [00:10, 28.89it/s]"
     ]
    },
    {
     "name": "stdout",
     "output_type": "stream",
     "text": [
      "0.0\n",
      "0.16563728242560383\n"
     ]
    },
    {
     "name": "stderr",
     "output_type": "stream",
     "text": [
      "\r",
      "219it [00:10, 24.63it/s]"
     ]
    },
    {
     "name": "stdout",
     "output_type": "stream",
     "text": [
      "0.007104194857916024\n",
      "0.030968293441093975\n"
     ]
    },
    {
     "name": "stderr",
     "output_type": "stream",
     "text": [
      "232it [00:11, 33.08it/s]"
     ]
    },
    {
     "name": "stdout",
     "output_type": "stream",
     "text": [
      "0.005300353356890497\n",
      "0.06637453280061845\n"
     ]
    },
    {
     "name": "stderr",
     "output_type": "stream",
     "text": [
      "\r",
      "237it [00:11, 27.83it/s]"
     ]
    },
    {
     "name": "stdout",
     "output_type": "stream",
     "text": [
      "-0.006528526823729841\n",
      "-0.010216110019646285\n",
      "0.02752704214845214\n"
     ]
    },
    {
     "name": "stderr",
     "output_type": "stream",
     "text": [
      "\r",
      "246it [00:11, 33.19it/s]"
     ]
    },
    {
     "name": "stdout",
     "output_type": "stream",
     "text": [
      "0.07669491525423733\n",
      "-0.05189038315148431\n"
     ]
    },
    {
     "name": "stderr",
     "output_type": "stream",
     "text": [
      "\r",
      "251it [00:11, 22.64it/s]"
     ]
    },
    {
     "name": "stdout",
     "output_type": "stream",
     "text": [
      "-0.0007867820613689513\n",
      "0.004482477587611999\n"
     ]
    },
    {
     "name": "stderr",
     "output_type": "stream",
     "text": [
      "269it [00:12, 30.95it/s]"
     ]
    },
    {
     "name": "stdout",
     "output_type": "stream",
     "text": [
      "0.0077776361086319135\n",
      "0.06588669950738923\n"
     ]
    },
    {
     "name": "stderr",
     "output_type": "stream",
     "text": [
      "\r",
      "275it [00:12, 25.53it/s]"
     ]
    },
    {
     "name": "stdout",
     "output_type": "stream",
     "text": [
      "0.015522771007055791\n",
      "0.020584602717167666\n",
      "0.06699586280528491\n"
     ]
    },
    {
     "name": "stderr",
     "output_type": "stream",
     "text": [
      "\r",
      "280it [00:12, 24.80it/s]"
     ]
    },
    {
     "name": "stdout",
     "output_type": "stream",
     "text": [
      "-0.078125\n",
      "-0.08494558645707362\n"
     ]
    },
    {
     "name": "stderr",
     "output_type": "stream",
     "text": [
      "\r",
      "284it [00:13, 21.83it/s]"
     ]
    },
    {
     "name": "stdout",
     "output_type": "stream",
     "text": [
      "-0.06170483460559806\n",
      "0.013343217197924417\n"
     ]
    },
    {
     "name": "stderr",
     "output_type": "stream",
     "text": [
      "295it [00:13, 27.90it/s]"
     ]
    },
    {
     "name": "stdout",
     "output_type": "stream",
     "text": [
      "0.1516743269862113\n",
      "0.06258036862408911\n"
     ]
    },
    {
     "name": "stderr",
     "output_type": "stream",
     "text": [
      "\r",
      "301it [00:13, 31.42it/s]"
     ]
    },
    {
     "name": "stdout",
     "output_type": "stream",
     "text": [
      "0.06353749284487686\n",
      "0.27095877721167216\n"
     ]
    },
    {
     "name": "stderr",
     "output_type": "stream",
     "text": [
      "\r",
      "305it [00:13, 21.52it/s]"
     ]
    },
    {
     "name": "stdout",
     "output_type": "stream",
     "text": [
      "0.02682926829268295\n",
      "-0.00877032706011327\n"
     ]
    },
    {
     "name": "stderr",
     "output_type": "stream",
     "text": [
      "314it [00:14, 21.67it/s]"
     ]
    },
    {
     "name": "stdout",
     "output_type": "stream",
     "text": [
      "-0.01349948078920038\n",
      "-0.17118307997356252\n"
     ]
    },
    {
     "name": "stderr",
     "output_type": "stream",
     "text": [
      "\r",
      "317it [00:14, 17.37it/s]"
     ]
    },
    {
     "name": "stdout",
     "output_type": "stream",
     "text": [
      "-0.17892768079800492\n",
      "-0.013305110371938378\n"
     ]
    },
    {
     "name": "stderr",
     "output_type": "stream",
     "text": [
      "324it [00:14, 21.39it/s]"
     ]
    },
    {
     "name": "stdout",
     "output_type": "stream",
     "text": [
      "-0.11199364575059567\n",
      "0.003552397868561208\n"
     ]
    },
    {
     "name": "stderr",
     "output_type": "stream",
     "text": [
      "337it [00:15, 27.04it/s]"
     ]
    },
    {
     "name": "stdout",
     "output_type": "stream",
     "text": [
      "-0.006497486821135268\n",
      "-0.012645914396887115\n",
      "-0.052602436323366475\n"
     ]
    },
    {
     "name": "stderr",
     "output_type": "stream",
     "text": [
      "\r",
      "341it [00:15, 24.81it/s]"
     ]
    },
    {
     "name": "stdout",
     "output_type": "stream",
     "text": [
      "0.014388489208633004\n",
      "-0.028843203436636933\n"
     ]
    },
    {
     "name": "stderr",
     "output_type": "stream",
     "text": [
      "348it [00:15, 20.54it/s]"
     ]
    },
    {
     "name": "stdout",
     "output_type": "stream",
     "text": [
      "0.0059752454118651155\n",
      "0.008525149190110826\n",
      "-0.05620805369127513\n"
     ]
    },
    {
     "name": "stderr",
     "output_type": "stream",
     "text": [
      "359it [00:15, 25.17it/s]"
     ]
    },
    {
     "name": "stdout",
     "output_type": "stream",
     "text": [
      "-0.24424778761061938\n",
      "0.04724061810154523\n",
      "0.016999575010624657\n"
     ]
    },
    {
     "name": "stderr",
     "output_type": "stream",
     "text": [
      "\r",
      "363it [00:16, 23.00it/s]"
     ]
    },
    {
     "name": "stdout",
     "output_type": "stream",
     "text": [
      "0.008319467554076532\n",
      "-0.14756517461878993\n"
     ]
    },
    {
     "name": "stderr",
     "output_type": "stream",
     "text": [
      "369it [00:16, 25.06it/s]"
     ]
    },
    {
     "name": "stdout",
     "output_type": "stream",
     "text": [
      "0.015396458814472602\n",
      "0.050233225690706984\n",
      "-0.022227772227772058\n"
     ]
    },
    {
     "name": "stderr",
     "output_type": "stream",
     "text": [
      "375it [00:16, 21.28it/s]"
     ]
    },
    {
     "name": "stdout",
     "output_type": "stream",
     "text": [
      "0.031146891909726637\n",
      "0.03268892794376099\n"
     ]
    },
    {
     "name": "stderr",
     "output_type": "stream",
     "text": [
      "381it [00:16, 23.34it/s]"
     ]
    },
    {
     "name": "stdout",
     "output_type": "stream",
     "text": [
      "0.032937365010799136\n",
      "-0.08837209302325577\n"
     ]
    },
    {
     "name": "stderr",
     "output_type": "stream",
     "text": [
      "394it [00:17, 30.78it/s]"
     ]
    },
    {
     "name": "stdout",
     "output_type": "stream",
     "text": [
      "-0.038456120580363296\n",
      "-0.23282571912013528\n"
     ]
    },
    {
     "name": "stderr",
     "output_type": "stream",
     "text": [
      "407it [00:17, 38.50it/s]"
     ]
    },
    {
     "name": "stdout",
     "output_type": "stream",
     "text": [
      "0.41392203659506754\n",
      "0.4167330677290837\n"
     ]
    },
    {
     "name": "stderr",
     "output_type": "stream",
     "text": [
      "\r",
      "412it [00:17, 27.37it/s]"
     ]
    },
    {
     "name": "stdout",
     "output_type": "stream",
     "text": [
      "0.13531775824758197\n",
      "0.01582969432314396\n"
     ]
    },
    {
     "name": "stderr",
     "output_type": "stream",
     "text": [
      "\r",
      "416it [00:17, 24.25it/s]"
     ]
    },
    {
     "name": "stdout",
     "output_type": "stream",
     "text": [
      "0.0016375545851530227\n",
      "0.052053354688555764\n"
     ]
    },
    {
     "name": "stderr",
     "output_type": "stream",
     "text": [
      "436it [00:18, 31.82it/s]"
     ]
    },
    {
     "name": "stdout",
     "output_type": "stream",
     "text": [
      "-0.03994044536509578\n",
      "-0.0062028047464941505\n",
      "0.0027677830058123742\n"
     ]
    },
    {
     "name": "stderr",
     "output_type": "stream",
     "text": [
      "449it [00:18, 42.02it/s]"
     ]
    },
    {
     "name": "stdout",
     "output_type": "stream",
     "text": [
      "0.006979194100605879\n",
      "0.06973249173429519\n"
     ]
    },
    {
     "name": "stderr",
     "output_type": "stream",
     "text": [
      "\r",
      "455it [00:18, 36.13it/s]"
     ]
    },
    {
     "name": "stdout",
     "output_type": "stream",
     "text": [
      "-0.14841108857336038\n",
      "-0.01623635879691243\n"
     ]
    },
    {
     "name": "stderr",
     "output_type": "stream",
     "text": [
      "\r",
      "464it [00:18, 42.69it/s]"
     ]
    },
    {
     "name": "stdout",
     "output_type": "stream",
     "text": [
      "-0.01292059219380881\n",
      "-0.007938841517200701\n",
      "-0.04060547813551185\n"
     ]
    },
    {
     "name": "stderr",
     "output_type": "stream",
     "text": [
      "\r",
      "470it [00:19, 28.10it/s]"
     ]
    },
    {
     "name": "stdout",
     "output_type": "stream",
     "text": [
      "-0.03228021978021978\n",
      "-0.0037647058823528923\n"
     ]
    },
    {
     "name": "stderr",
     "output_type": "stream",
     "text": [
      "480it [00:19, 31.77it/s]"
     ]
    },
    {
     "name": "stdout",
     "output_type": "stream",
     "text": [
      "0.015858423350953776\n",
      "-0.04327485380116969\n"
     ]
    },
    {
     "name": "stderr",
     "output_type": "stream",
     "text": [
      "\r",
      "484it [00:19, 23.73it/s]"
     ]
    },
    {
     "name": "stdout",
     "output_type": "stream",
     "text": [
      "-0.11656910155255795\n",
      "0.08181370133070476\n",
      "-0.005851901868107134\n"
     ]
    },
    {
     "name": "stderr",
     "output_type": "stream",
     "text": [
      "\r",
      "488it [00:20, 13.75it/s]"
     ]
    },
    {
     "name": "stdout",
     "output_type": "stream",
     "text": [
      "-0.1865519583427665\n",
      "0.00865051903114189\n"
     ]
    },
    {
     "name": "stderr",
     "output_type": "stream",
     "text": [
      "\r",
      "491it [00:20, 15.86it/s]"
     ]
    },
    {
     "name": "stdout",
     "output_type": "stream",
     "text": [
      "-0.04363001745200701\n",
      "-0.17711726384364823\n",
      "0.03940779446984566\n"
     ]
    },
    {
     "name": "stderr",
     "output_type": "stream",
     "text": [
      "\r",
      "494it [00:20, 14.09it/s]"
     ]
    },
    {
     "name": "stdout",
     "output_type": "stream",
     "text": [
      "0.04029008863819494\n",
      "-0.0691024622716443\n"
     ]
    },
    {
     "name": "stderr",
     "output_type": "stream",
     "text": [
      "502it [00:21, 13.40it/s]"
     ]
    },
    {
     "name": "stdout",
     "output_type": "stream",
     "text": [
      "-0.1328296368510845\n",
      "0.0008401596303297953\n",
      "-0.006948677313178164\n"
     ]
    },
    {
     "name": "stderr",
     "output_type": "stream",
     "text": [
      "516it [00:21, 17.98it/s]"
     ]
    },
    {
     "name": "stdout",
     "output_type": "stream",
     "text": [
      "-0.026606053355664572\n",
      "-0.042051282051281946\n",
      "0.00957374059721916\n"
     ]
    },
    {
     "name": "stderr",
     "output_type": "stream",
     "text": [
      "\r",
      "519it [00:21, 19.36it/s]"
     ]
    },
    {
     "name": "stdout",
     "output_type": "stream",
     "text": [
      "-0.005953095369547912\n",
      "-0.0042918454935622075\n",
      "0.02309554851927742\n"
     ]
    },
    {
     "name": "stderr",
     "output_type": "stream",
     "text": [
      "534it [00:22, 20.06it/s]"
     ]
    },
    {
     "name": "stdout",
     "output_type": "stream",
     "text": [
      "0.22821100917431192\n",
      "0.1476664116296862\n"
     ]
    },
    {
     "name": "stderr",
     "output_type": "stream",
     "text": [
      "551it [00:22, 27.85it/s]"
     ]
    },
    {
     "name": "stdout",
     "output_type": "stream",
     "text": [
      "-0.023485289833964473\n",
      "-0.01718671783747705\n",
      "-0.0008833922261485272\n"
     ]
    },
    {
     "name": "stderr",
     "output_type": "stream",
     "text": [
      "\r",
      "557it [00:22, 24.74it/s]"
     ]
    },
    {
     "name": "stdout",
     "output_type": "stream",
     "text": [
      "-0.026907155529272586\n",
      "-0.0429271103428408\n",
      "0.057819905213270184\n"
     ]
    },
    {
     "name": "stderr",
     "output_type": "stream",
     "text": [
      "579it [00:23, 37.82it/s]"
     ]
    },
    {
     "name": "stdout",
     "output_type": "stream",
     "text": [
      "-0.013882018303240207\n",
      "0.049165539016689186\n"
     ]
    },
    {
     "name": "stderr",
     "output_type": "stream",
     "text": [
      "604it [00:23, 55.38it/s]"
     ]
    },
    {
     "name": "stdout",
     "output_type": "stream",
     "text": [
      "0.036059806508355274\n",
      "-0.08079526226734346\n"
     ]
    },
    {
     "name": "stderr",
     "output_type": "stream",
     "text": [
      "\r",
      "614it [00:23, 50.94it/s]"
     ]
    },
    {
     "name": "stdout",
     "output_type": "stream",
     "text": [
      "-0.10964912280701755\n",
      "-0.11109526525955515\n",
      "-0.09252217997465151\n"
     ]
    },
    {
     "name": "stderr",
     "output_type": "stream",
     "text": [
      "629it [00:23, 53.01it/s]"
     ]
    },
    {
     "name": "stdout",
     "output_type": "stream",
     "text": [
      "-0.006635361371988502\n",
      "-0.0012970168612190802\n"
     ]
    },
    {
     "name": "stderr",
     "output_type": "stream",
     "text": [
      "\r",
      "638it [00:23, 57.27it/s]"
     ]
    },
    {
     "name": "stdout",
     "output_type": "stream",
     "text": [
      "-0.013686402856292745\n",
      "0.0013705670721262386\n"
     ]
    },
    {
     "name": "stderr",
     "output_type": "stream",
     "text": [
      "657it [00:24, 53.27it/s]"
     ]
    },
    {
     "name": "stdout",
     "output_type": "stream",
     "text": [
      "0.024354061070589683\n",
      "0.05428134556574915\n"
     ]
    },
    {
     "name": "stderr",
     "output_type": "stream",
     "text": [
      "689it [00:24, 51.01it/s]"
     ]
    },
    {
     "name": "stdout",
     "output_type": "stream",
     "text": [
      "0.07061847875396965\n",
      "0.019461934745277798\n"
     ]
    },
    {
     "name": "stderr",
     "output_type": "stream",
     "text": [
      "722it [00:25, 67.73it/s]"
     ]
    },
    {
     "name": "stdout",
     "output_type": "stream",
     "text": [
      "-0.04671163575042159\n",
      "0.023801428085685084\n",
      "0.43446153846153845\n",
      "0.04304296853192402\n"
     ]
    },
    {
     "name": "stderr",
     "output_type": "stream",
     "text": [
      "745it [00:25, 54.46it/s]"
     ]
    },
    {
     "name": "stdout",
     "output_type": "stream",
     "text": [
      "0.08702531645569622\n",
      "0.05851791085589264\n",
      "0.21273291925465831\n"
     ]
    },
    {
     "name": "stderr",
     "output_type": "stream",
     "text": [
      "\r",
      "754it [00:26, 23.59it/s]"
     ]
    },
    {
     "name": "stdout",
     "output_type": "stream",
     "text": [
      "0.08883405305367065\n",
      "0.014528955954322909\n"
     ]
    },
    {
     "name": "stderr",
     "output_type": "stream",
     "text": [
      "\r",
      "761it [00:27, 15.12it/s]"
     ]
    },
    {
     "name": "stdout",
     "output_type": "stream",
     "text": [
      "0.015270935960591148\n",
      "0.0421994884910486\n"
     ]
    },
    {
     "name": "stderr",
     "output_type": "stream",
     "text": [
      "771it [00:27, 22.92it/s]"
     ]
    },
    {
     "name": "stdout",
     "output_type": "stream",
     "text": [
      "0.025827280064568248\n",
      "-0.049079754601227044\n",
      "-0.06812339331619544\n",
      "-0.03347280334728031\n"
     ]
    },
    {
     "name": "stderr",
     "output_type": "stream",
     "text": [
      "\r",
      "776it [00:27, 17.64it/s]"
     ]
    },
    {
     "name": "stdout",
     "output_type": "stream",
     "text": [
      "-0.03567035670356711\n"
     ]
    },
    {
     "name": "stderr",
     "output_type": "stream",
     "text": [
      "785it [00:28, 21.34it/s]"
     ]
    },
    {
     "name": "stdout",
     "output_type": "stream",
     "text": [
      "-0.04743339831059146\n",
      "0.03457008990755983\n"
     ]
    },
    {
     "name": "stderr",
     "output_type": "stream",
     "text": [
      "796it [00:28, 29.08it/s]"
     ]
    },
    {
     "name": "stdout",
     "output_type": "stream",
     "text": [
      "-0.01768219832735951\n",
      "0.04301075268817223\n"
     ]
    },
    {
     "name": "stderr",
     "output_type": "stream",
     "text": [
      "\r",
      "801it [00:28, 27.19it/s]"
     ]
    },
    {
     "name": "stdout",
     "output_type": "stream",
     "text": [
      "-0.07293035479632048\n",
      "-0.12124542124542126\n"
     ]
    },
    {
     "name": "stderr",
     "output_type": "stream",
     "text": [
      "830it [00:29, 38.85it/s]"
     ]
    },
    {
     "name": "stdout",
     "output_type": "stream",
     "text": [
      "-0.04748858447488569\n",
      "0.03515944399018811\n",
      "0.07940127922826878\n",
      "0.12359550561797761\n",
      "0.014376620315814215\n"
     ]
    },
    {
     "name": "stderr",
     "output_type": "stream",
     "text": [
      "\r",
      "836it [00:29, 23.21it/s]"
     ]
    },
    {
     "name": "stdout",
     "output_type": "stream",
     "text": [
      "-0.055404178019981765\n",
      "0.018902071184395686\n"
     ]
    },
    {
     "name": "stderr",
     "output_type": "stream",
     "text": [
      "848it [00:29, 27.73it/s]"
     ]
    },
    {
     "name": "stdout",
     "output_type": "stream",
     "text": [
      "-0.055243445692883864\n",
      "-0.008799374266718729\n"
     ]
    },
    {
     "name": "stderr",
     "output_type": "stream",
     "text": [
      "\r",
      "853it [00:30, 30.44it/s]"
     ]
    },
    {
     "name": "stdout",
     "output_type": "stream",
     "text": [
      "0.005297233666862855\n",
      "0.034782608695652195\n"
     ]
    },
    {
     "name": "stderr",
     "output_type": "stream",
     "text": [
      "867it [00:30, 31.12it/s]"
     ]
    },
    {
     "name": "stdout",
     "output_type": "stream",
     "text": [
      "0.0004469273743017421\n",
      "0.008040739748056858\n"
     ]
    },
    {
     "name": "stderr",
     "output_type": "stream",
     "text": [
      "\r",
      "872it [00:30, 28.10it/s]"
     ]
    },
    {
     "name": "stdout",
     "output_type": "stream",
     "text": [
      "-0.0188904354742494\n",
      "-0.016822051074179223\n"
     ]
    },
    {
     "name": "stderr",
     "output_type": "stream",
     "text": [
      "\r",
      "876it [00:30, 23.88it/s]"
     ]
    },
    {
     "name": "stdout",
     "output_type": "stream",
     "text": [
      "-0.03203342618384397\n",
      "-0.136067101584343\n"
     ]
    },
    {
     "name": "stderr",
     "output_type": "stream",
     "text": [
      "\r",
      "880it [00:31, 21.42it/s]"
     ]
    },
    {
     "name": "stdout",
     "output_type": "stream",
     "text": [
      "0.007042253521126751\n",
      "-0.0787637088733798\n"
     ]
    },
    {
     "name": "stderr",
     "output_type": "stream",
     "text": [
      "889it [00:31, 24.89it/s]"
     ]
    },
    {
     "name": "stdout",
     "output_type": "stream",
     "text": [
      "-0.038058584562753905\n",
      "0.03733333333333322\n"
     ]
    },
    {
     "name": "stderr",
     "output_type": "stream",
     "text": [
      "902it [00:31, 34.31it/s]"
     ]
    },
    {
     "name": "stdout",
     "output_type": "stream",
     "text": [
      "-0.057249322493224786\n",
      "-0.07036247334754797\n"
     ]
    },
    {
     "name": "stderr",
     "output_type": "stream",
     "text": [
      "\r",
      "907it [00:31, 35.41it/s]"
     ]
    },
    {
     "name": "stdout",
     "output_type": "stream",
     "text": [
      "0.08710138029509751\n",
      "0.00547045951859948\n"
     ]
    },
    {
     "name": "stderr",
     "output_type": "stream",
     "text": [
      "923it [00:32, 30.01it/s]"
     ]
    },
    {
     "name": "stdout",
     "output_type": "stream",
     "text": [
      "0.007198560287942302\n",
      "0.07226264596304355\n"
     ]
    },
    {
     "name": "stderr",
     "output_type": "stream",
     "text": [
      "\r",
      "949it [00:32, 40.56it/s]"
     ]
    },
    {
     "name": "stdout",
     "output_type": "stream",
     "text": [
      "0.055782898987723595\n",
      "0.18203957382039593\n"
     ]
    },
    {
     "name": "stderr",
     "output_type": "stream",
     "text": [
      "974it [00:32, 46.90it/s]"
     ]
    },
    {
     "name": "stdout",
     "output_type": "stream",
     "text": [
      "0.08315166614761749\n",
      "-0.07698590974065767\n"
     ]
    },
    {
     "name": "stderr",
     "output_type": "stream",
     "text": [
      "1008it [00:33, 69.27it/s]"
     ]
    },
    {
     "name": "stdout",
     "output_type": "stream",
     "text": [
      "-0.09116192830655123\n",
      "0.09462824617573795\n"
     ]
    },
    {
     "name": "stderr",
     "output_type": "stream",
     "text": [
      "\r",
      "1020it [00:33, 74.59it/s]"
     ]
    },
    {
     "name": "stdout",
     "output_type": "stream",
     "text": [
      "-0.02905027932960902\n",
      "-0.040603248259860836\n"
     ]
    },
    {
     "name": "stderr",
     "output_type": "stream",
     "text": [
      "1051it [00:33, 71.34it/s]"
     ]
    },
    {
     "name": "stdout",
     "output_type": "stream",
     "text": [
      "0.10068119891008176\n",
      "-0.013966956225515248\n"
     ]
    },
    {
     "name": "stderr",
     "output_type": "stream",
     "text": [
      "1073it [00:33, 76.28it/s]"
     ]
    },
    {
     "name": "stdout",
     "output_type": "stream",
     "text": [
      "0.0006624710168932069\n",
      "-0.001077005923532548\n"
     ]
    },
    {
     "name": "stderr",
     "output_type": "stream",
     "text": [
      "\r",
      "1083it [00:34, 55.15it/s]"
     ]
    },
    {
     "name": "stdout",
     "output_type": "stream",
     "text": [
      "-0.061486864169927435\n",
      "0.001640958319658603\n",
      "0.00014797277300981904\n",
      "-0.014113420579933256\n"
     ]
    },
    {
     "name": "stderr",
     "output_type": "stream",
     "text": [
      "\r",
      "1091it [00:35, 21.52it/s]"
     ]
    },
    {
     "name": "stdout",
     "output_type": "stream",
     "text": [
      "-0.07149091486154091\n",
      "-0.01770164168451105\n"
     ]
    },
    {
     "name": "stderr",
     "output_type": "stream",
     "text": [
      "1108it [00:35, 27.67it/s]"
     ]
    },
    {
     "name": "stdout",
     "output_type": "stream",
     "text": [
      "0.040271877655055244\n",
      "0.06784729959537916\n"
     ]
    },
    {
     "name": "stderr",
     "output_type": "stream",
     "text": [
      "1120it [00:35, 29.57it/s]"
     ]
    },
    {
     "name": "stdout",
     "output_type": "stream",
     "text": [
      "0.01680825797022023\n",
      "0.005391275935304529\n"
     ]
    },
    {
     "name": "stderr",
     "output_type": "stream",
     "text": [
      "\r",
      "1127it [00:36, 35.38it/s]"
     ]
    },
    {
     "name": "stdout",
     "output_type": "stream",
     "text": [
      "-0.004693261816962835\n",
      "0.019705277587388492\n"
     ]
    },
    {
     "name": "stderr",
     "output_type": "stream",
     "text": [
      "1144it [00:36, 38.00it/s]"
     ]
    },
    {
     "name": "stdout",
     "output_type": "stream",
     "text": [
      "-0.07288801571709247\n",
      "-0.03133732534930145\n",
      "0.08473666954785242\n"
     ]
    },
    {
     "name": "stderr",
     "output_type": "stream",
     "text": [
      "1190it [00:36, 58.45it/s]"
     ]
    },
    {
     "name": "stdout",
     "output_type": "stream",
     "text": [
      "-0.15299837925445714\n",
      "-0.07305034550839096\n"
     ]
    },
    {
     "name": "stderr",
     "output_type": "stream",
     "text": [
      "\r",
      "1202it [00:37, 56.06it/s]"
     ]
    },
    {
     "name": "stdout",
     "output_type": "stream",
     "text": [
      "-0.0712203248646397\n",
      "-0.01821903787103374\n"
     ]
    },
    {
     "name": "stderr",
     "output_type": "stream",
     "text": [
      "\r",
      "1212it [00:37, 51.35it/s]"
     ]
    },
    {
     "name": "stdout",
     "output_type": "stream",
     "text": [
      "0.35843793584379346\n",
      "0.0047784535186794486\n"
     ]
    },
    {
     "name": "stderr",
     "output_type": "stream",
     "text": [
      "\r",
      "1220it [00:37, 45.60it/s]"
     ]
    },
    {
     "name": "stdout",
     "output_type": "stream",
     "text": [
      "-0.11955922865013768\n",
      "0.04681100058513765\n",
      "-0.0020384078961485086\n"
     ]
    },
    {
     "name": "stderr",
     "output_type": "stream",
     "text": [
      "1233it [00:37, 43.78it/s]"
     ]
    },
    {
     "name": "stdout",
     "output_type": "stream",
     "text": [
      "0.028133577310155644\n",
      "-0.14522913438122642\n",
      "-0.040780704538241896\n"
     ]
    },
    {
     "name": "stderr",
     "output_type": "stream",
     "text": [
      "1252it [00:38, 50.42it/s]"
     ]
    },
    {
     "name": "stdout",
     "output_type": "stream",
     "text": [
      "-0.08997066174073665\n",
      "-0.0762913907284768\n"
     ]
    },
    {
     "name": "stderr",
     "output_type": "stream",
     "text": [
      "\r",
      "1258it [00:38, 31.27it/s]"
     ]
    },
    {
     "name": "stdout",
     "output_type": "stream",
     "text": [
      "-0.0375798264286884\n",
      "-0.02896904288554414\n",
      "-0.023407729994556314\n"
     ]
    },
    {
     "name": "stderr",
     "output_type": "stream",
     "text": [
      "1283it [00:38, 38.54it/s]"
     ]
    },
    {
     "name": "stdout",
     "output_type": "stream",
     "text": [
      "0.04175695949324876\n",
      "0.01900374316153175\n"
     ]
    },
    {
     "name": "stderr",
     "output_type": "stream",
     "text": [
      "1307it [00:39, 54.53it/s]"
     ]
    },
    {
     "name": "stdout",
     "output_type": "stream",
     "text": [
      "-0.02821224352505891\n",
      "-0.005979705242812328\n"
     ]
    },
    {
     "name": "stderr",
     "output_type": "stream",
     "text": [
      "\r",
      "1334it [00:39, 70.16it/s]"
     ]
    },
    {
     "name": "stdout",
     "output_type": "stream",
     "text": [
      "-0.04025191675794093\n",
      "0.09731729513710285\n"
     ]
    },
    {
     "name": "stderr",
     "output_type": "stream",
     "text": [
      "\r",
      "1346it [00:39, 48.20it/s]"
     ]
    },
    {
     "name": "stdout",
     "output_type": "stream",
     "text": [
      "0.1924135056273446\n",
      "0.09506205439662008\n",
      "0.006673021925643674\n",
      "-0.00928414365990704\n"
     ]
    },
    {
     "name": "stderr",
     "output_type": "stream",
     "text": [
      "1364it [00:40, 44.73it/s]"
     ]
    },
    {
     "name": "stdout",
     "output_type": "stream",
     "text": [
      "-0.008157715839564816\n",
      "0.020273972602739887\n"
     ]
    },
    {
     "name": "stderr",
     "output_type": "stream",
     "text": [
      "\r",
      "1372it [00:40, 48.91it/s]"
     ]
    },
    {
     "name": "stdout",
     "output_type": "stream",
     "text": [
      "0.006040992448759441\n",
      "0.0\n"
     ]
    },
    {
     "name": "stderr",
     "output_type": "stream",
     "text": [
      "1388it [00:40, 47.31it/s]"
     ]
    },
    {
     "name": "stdout",
     "output_type": "stream",
     "text": [
      "-0.07918717088246596\n",
      "-0.12443158329888393\n",
      "-0.12052890320393295\n"
     ]
    },
    {
     "name": "stderr",
     "output_type": "stream",
     "text": [
      "1434it [00:41, 60.51it/s]"
     ]
    },
    {
     "name": "stdout",
     "output_type": "stream",
     "text": [
      "0.2463550600343054\n",
      "0.07034696554191\n",
      "0.03465691396725856\n",
      "-0.06648451730418947\n"
     ]
    },
    {
     "name": "stderr",
     "output_type": "stream",
     "text": [
      "1457it [00:41, 52.35it/s]"
     ]
    },
    {
     "name": "stdout",
     "output_type": "stream",
     "text": [
      "0.11442705812765497\n",
      "-0.07419035029742227\n"
     ]
    },
    {
     "name": "stderr",
     "output_type": "stream",
     "text": [
      "1477it [00:41, 63.41it/s]"
     ]
    },
    {
     "name": "stdout",
     "output_type": "stream",
     "text": [
      "0.06907671418873051\n",
      "0.059822150363783244\n",
      "0.032671629445823136\n",
      "0.0902917966599377\n"
     ]
    },
    {
     "name": "stderr",
     "output_type": "stream",
     "text": [
      "\r",
      "1486it [00:42, 39.08it/s]"
     ]
    },
    {
     "name": "stdout",
     "output_type": "stream",
     "text": [
      "0.01198083067092659\n",
      "0.030131004366812153\n",
      "-0.0488375547797667\n"
     ]
    },
    {
     "name": "stderr",
     "output_type": "stream",
     "text": [
      "\r",
      "1493it [00:42, 27.94it/s]"
     ]
    },
    {
     "name": "stdout",
     "output_type": "stream",
     "text": [
      "-0.02299459459459452\n",
      "0.00905373831775691\n"
     ]
    },
    {
     "name": "stderr",
     "output_type": "stream",
     "text": [
      "\r",
      "1499it [00:43, 29.01it/s]"
     ]
    },
    {
     "name": "stdout",
     "output_type": "stream",
     "text": [
      "-0.09081606548989518\n",
      "0.012542929670001701\n"
     ]
    },
    {
     "name": "stderr",
     "output_type": "stream",
     "text": [
      "1508it [00:43, 27.19it/s]"
     ]
    },
    {
     "name": "stdout",
     "output_type": "stream",
     "text": [
      "-0.062259207890275836\n",
      "0.019162526614620257\n"
     ]
    },
    {
     "name": "stderr",
     "output_type": "stream",
     "text": [
      "1518it [00:43, 31.56it/s]"
     ]
    },
    {
     "name": "stdout",
     "output_type": "stream",
     "text": [
      "0.0022203895197614454\n",
      "0.0735383678440924\n"
     ]
    },
    {
     "name": "stderr",
     "output_type": "stream",
     "text": [
      "1545it [00:43, 48.11it/s]"
     ]
    },
    {
     "name": "stdout",
     "output_type": "stream",
     "text": [
      "-0.02676594888307493\n",
      "-0.061384941034169804\n"
     ]
    },
    {
     "name": "stderr",
     "output_type": "stream",
     "text": [
      "\r",
      "1553it [00:44, 42.34it/s]"
     ]
    },
    {
     "name": "stdout",
     "output_type": "stream",
     "text": [
      "0.02674871279668478\n",
      "-0.006126914660831484\n"
     ]
    },
    {
     "name": "stderr",
     "output_type": "stream",
     "text": [
      "\r",
      "1560it [00:44, 41.08it/s]"
     ]
    },
    {
     "name": "stdout",
     "output_type": "stream",
     "text": [
      "0.0199151997944238\n",
      "0.06335694327116781\n"
     ]
    },
    {
     "name": "stderr",
     "output_type": "stream",
     "text": [
      "\r",
      "1566it [00:44, 28.90it/s]"
     ]
    },
    {
     "name": "stdout",
     "output_type": "stream",
     "text": [
      "0.03217358772914336\n",
      "-0.2627233438689286\n"
     ]
    },
    {
     "name": "stderr",
     "output_type": "stream",
     "text": [
      "1575it [00:44, 30.17it/s]"
     ]
    },
    {
     "name": "stdout",
     "output_type": "stream",
     "text": [
      "-0.22115449685321786\n",
      "-0.0057848655409631355\n"
     ]
    },
    {
     "name": "stderr",
     "output_type": "stream",
     "text": [
      "1583it [00:45, 29.35it/s]"
     ]
    },
    {
     "name": "stdout",
     "output_type": "stream",
     "text": [
      "-0.004901960784313597\n",
      "-0.03228732087792496\n"
     ]
    },
    {
     "name": "stderr",
     "output_type": "stream",
     "text": [
      "1614it [00:45, 46.20it/s]"
     ]
    },
    {
     "name": "stdout",
     "output_type": "stream",
     "text": [
      "-0.06449771689497719\n",
      "-0.21501272264631044\n"
     ]
    },
    {
     "name": "stderr",
     "output_type": "stream",
     "text": [
      "\r",
      "1622it [00:45, 39.71it/s]"
     ]
    },
    {
     "name": "stdout",
     "output_type": "stream",
     "text": [
      "0.062047346232839695\n",
      "0.22956841138659323\n",
      "0.21545514079895223\n",
      "0.07644855695087038\n"
     ]
    },
    {
     "name": "stderr",
     "output_type": "stream",
     "text": [
      "\r",
      "1629it [00:46, 17.54it/s]"
     ]
    },
    {
     "name": "stdout",
     "output_type": "stream",
     "text": [
      "0.1692978499473763\n",
      "0.17317824833482454\n"
     ]
    },
    {
     "name": "stderr",
     "output_type": "stream",
     "text": [
      "1648it [00:46, 27.26it/s]"
     ]
    },
    {
     "name": "stdout",
     "output_type": "stream",
     "text": [
      "0.04251445705718582\n",
      "0.06958704083960732\n"
     ]
    },
    {
     "name": "stderr",
     "output_type": "stream",
     "text": [
      "1672it [00:47, 39.55it/s]"
     ]
    },
    {
     "name": "stdout",
     "output_type": "stream",
     "text": [
      "0.3107922776664205\n",
      "0.2919823232323231\n"
     ]
    },
    {
     "name": "stderr",
     "output_type": "stream",
     "text": [
      "\r",
      "1682it [00:47, 47.02it/s]"
     ]
    },
    {
     "name": "stdout",
     "output_type": "stream",
     "text": [
      "0.01976823449216103\n",
      "-0.14973262032085555\n"
     ]
    },
    {
     "name": "stderr",
     "output_type": "stream",
     "text": [
      "1697it [00:47, 54.59it/s]"
     ]
    },
    {
     "name": "stdout",
     "output_type": "stream",
     "text": [
      "0.12363387978142071\n",
      "0.16591639871382657\n"
     ]
    },
    {
     "name": "stderr",
     "output_type": "stream",
     "text": [
      "1711it [00:47, 53.03it/s]"
     ]
    },
    {
     "name": "stdout",
     "output_type": "stream",
     "text": [
      "-0.09472606246799797\n",
      "0.18789653489507097\n"
     ]
    },
    {
     "name": "stderr",
     "output_type": "stream",
     "text": [
      "\r",
      "1717it [00:48, 53.11it/s]"
     ]
    },
    {
     "name": "stdout",
     "output_type": "stream",
     "text": [
      "0.20769094453304993\n",
      "-0.0016920473773265332\n"
     ]
    },
    {
     "name": "stderr",
     "output_type": "stream",
     "text": [
      "\r",
      "1723it [00:48, 32.96it/s]"
     ]
    },
    {
     "name": "stdout",
     "output_type": "stream",
     "text": [
      "-0.06334563345633437\n",
      "-0.027792529651265552\n"
     ]
    },
    {
     "name": "stderr",
     "output_type": "stream",
     "text": [
      "\r",
      "1728it [00:48, 23.82it/s]"
     ]
    },
    {
     "name": "stdout",
     "output_type": "stream",
     "text": [
      "-0.1986928104575164\n",
      "-0.13578336020847093\n"
     ]
    },
    {
     "name": "stderr",
     "output_type": "stream",
     "text": [
      "1737it [00:49, 26.26it/s]"
     ]
    },
    {
     "name": "stdout",
     "output_type": "stream",
     "text": [
      "-0.018492876562348992\n",
      "-0.11134127395132054\n"
     ]
    },
    {
     "name": "stderr",
     "output_type": "stream",
     "text": [
      "1748it [00:49, 33.36it/s]"
     ]
    },
    {
     "name": "stdout",
     "output_type": "stream",
     "text": [
      "0.07130477841049765\n",
      "0.17672818267125434\n"
     ]
    },
    {
     "name": "stderr",
     "output_type": "stream",
     "text": [
      "1758it [00:49, 36.26it/s]"
     ]
    },
    {
     "name": "stdout",
     "output_type": "stream",
     "text": [
      "-0.2834409080792344\n",
      "-0.04585987261146496\n"
     ]
    },
    {
     "name": "stderr",
     "output_type": "stream",
     "text": [
      "\r",
      "1762it [00:49, 34.62it/s]"
     ]
    },
    {
     "name": "stdout",
     "output_type": "stream",
     "text": [
      "0.03915662650602414\n",
      "-0.032695593009754664\n"
     ]
    },
    {
     "name": "stderr",
     "output_type": "stream",
     "text": [
      "1770it [00:50, 26.85it/s]"
     ]
    },
    {
     "name": "stdout",
     "output_type": "stream",
     "text": [
      "-0.12665337186113712\n",
      "0.024970963995354145\n"
     ]
    },
    {
     "name": "stderr",
     "output_type": "stream",
     "text": [
      "1784it [00:50, 37.02it/s]"
     ]
    },
    {
     "name": "stdout",
     "output_type": "stream",
     "text": [
      "-0.07890966707464009\n",
      "0.08894379246448403\n"
     ]
    },
    {
     "name": "stderr",
     "output_type": "stream",
     "text": [
      "1796it [00:50, 38.05it/s]"
     ]
    },
    {
     "name": "stdout",
     "output_type": "stream",
     "text": [
      "-0.012144129731301967\n",
      "-0.2435344018617921\n"
     ]
    },
    {
     "name": "stderr",
     "output_type": "stream",
     "text": [
      "1806it [00:50, 32.09it/s]"
     ]
    },
    {
     "name": "stdout",
     "output_type": "stream",
     "text": [
      "0.006315278115132328\n",
      "0.00038617493724668606\n"
     ]
    },
    {
     "name": "stderr",
     "output_type": "stream",
     "text": [
      "\r",
      "1810it [00:51, 30.72it/s]"
     ]
    },
    {
     "name": "stdout",
     "output_type": "stream",
     "text": [
      "-0.06442080378250592\n",
      "0.21216633643870675\n",
      "0.4513439635535308\n"
     ]
    },
    {
     "name": "stderr",
     "output_type": "stream",
     "text": [
      "1821it [00:51, 25.74it/s]"
     ]
    },
    {
     "name": "stdout",
     "output_type": "stream",
     "text": [
      "0.163108242303873\n",
      "-0.042966450853443305\n"
     ]
    },
    {
     "name": "stderr",
     "output_type": "stream",
     "text": [
      "\r",
      "1843it [00:51, 35.02it/s]"
     ]
    },
    {
     "name": "stdout",
     "output_type": "stream",
     "text": [
      "-0.03593642017968224\n",
      "0.05020445252158123\n"
     ]
    },
    {
     "name": "stderr",
     "output_type": "stream",
     "text": [
      "\r",
      "1852it [00:51, 32.49it/s]"
     ]
    },
    {
     "name": "stdout",
     "output_type": "stream",
     "text": [
      "-0.01729106628242072\n",
      "1.0474723428091304\n"
     ]
    },
    {
     "name": "stderr",
     "output_type": "stream",
     "text": [
      "\r",
      "1860it [00:52, 35.06it/s]"
     ]
    },
    {
     "name": "stdout",
     "output_type": "stream",
     "text": [
      "0.028762541806020003\n",
      "-0.04504730280057656\n"
     ]
    },
    {
     "name": "stderr",
     "output_type": "stream",
     "text": [
      "2373it [00:52, 56.40it/s]"
     ]
    },
    {
     "name": "stdout",
     "output_type": "stream",
     "text": [
      "0.07221880762138921\n",
      "-0.02708803611738142\n",
      "0.01399271612037567\n",
      "-0.0003636363636364548\n",
      "-0.020527859237536528\n",
      "-0.015721504772599593\n"
     ]
    },
    {
     "name": "stderr",
     "output_type": "stream",
     "text": [
      "\r",
      "2480it [00:53, 63.72it/s]"
     ]
    },
    {
     "name": "stdout",
     "output_type": "stream",
     "text": [
      "0.03885972047622577\n",
      "0.005696279238880164\n",
      "-0.043170320404721796\n",
      "-0.0013470487386725294\n",
      "0.0013151239251392166\n"
     ]
    },
    {
     "name": "stderr",
     "output_type": "stream",
     "text": [
      "\r",
      "2558it [00:54, 72.03it/s]"
     ]
    },
    {
     "name": "stdout",
     "output_type": "stream",
     "text": [
      "0.020007987220447276\n",
      "0.025602409638554313\n",
      "-0.012156188605108031\n",
      "-0.08073522568636582\n",
      "0.05229978018331871\n",
      "-0.07988121193895181\n"
     ]
    },
    {
     "name": "stderr",
     "output_type": "stream",
     "text": [
      "\r",
      "2616it [00:55, 61.19it/s]"
     ]
    },
    {
     "name": "stdout",
     "output_type": "stream",
     "text": [
      "-0.00217548948513413\n",
      "-0.009345794392523255\n",
      "0.0729709605361133\n",
      "-0.013727810650887462\n"
     ]
    },
    {
     "name": "stderr",
     "output_type": "stream",
     "text": [
      "2689it [00:56, 79.32it/s]"
     ]
    },
    {
     "name": "stdout",
     "output_type": "stream",
     "text": [
      "0.034024896265560045\n",
      "-0.0193133047210301\n"
     ]
    },
    {
     "name": "stderr",
     "output_type": "stream",
     "text": [
      "\r",
      "2717it [00:56, 95.09it/s]"
     ]
    },
    {
     "name": "stdout",
     "output_type": "stream",
     "text": [
      "-0.001804821451592109\n",
      "0.11490250696378834\n"
     ]
    },
    {
     "name": "stderr",
     "output_type": "stream",
     "text": [
      "\r",
      "2742it [00:57, 88.95it/s]"
     ]
    },
    {
     "name": "stdout",
     "output_type": "stream",
     "text": [
      "-0.06440976038689827\n",
      "0.010294177483012534\n"
     ]
    },
    {
     "name": "stderr",
     "output_type": "stream",
     "text": [
      "\r",
      "2762it [00:57, 81.10it/s]"
     ]
    },
    {
     "name": "stdout",
     "output_type": "stream",
     "text": [
      "-0.03551074090311268\n",
      "-0.0401920682909479\n",
      "-0.028125000000000067\n",
      "-0.023353876094712955\n"
     ]
    },
    {
     "name": "stderr",
     "output_type": "stream",
     "text": [
      "2790it [00:58, 53.49it/s]"
     ]
    },
    {
     "name": "stdout",
     "output_type": "stream",
     "text": [
      "-0.03725961538461531\n",
      "0.02198852772466542\n"
     ]
    },
    {
     "name": "stderr",
     "output_type": "stream",
     "text": [
      "2809it [00:59, 38.23it/s]"
     ]
    },
    {
     "name": "stdout",
     "output_type": "stream",
     "text": [
      "0.020493712156497423\n",
      "-0.12543825477210735\n"
     ]
    },
    {
     "name": "stderr",
     "output_type": "stream",
     "text": [
      "2824it [00:59, 41.52it/s]"
     ]
    },
    {
     "name": "stdout",
     "output_type": "stream",
     "text": [
      "-0.04908779804893215\n",
      "0.040441176470588314\n"
     ]
    },
    {
     "name": "stderr",
     "output_type": "stream",
     "text": [
      "\r",
      "2832it [00:59, 43.11it/s]"
     ]
    },
    {
     "name": "stdout",
     "output_type": "stream",
     "text": [
      "0.010126582278481067\n"
     ]
    },
    {
     "name": "stderr",
     "output_type": "stream",
     "text": [
      "\r",
      "2838it [01:00, 16.00it/s]"
     ]
    },
    {
     "name": "stdout",
     "output_type": "stream",
     "text": [
      "0.031761308950914335\n",
      "-0.04335919671382915\n"
     ]
    },
    {
     "name": "stderr",
     "output_type": "stream",
     "text": [
      "2854it [01:00, 22.63it/s]"
     ]
    },
    {
     "name": "stdout",
     "output_type": "stream",
     "text": [
      "-0.002991675338189448\n",
      "-0.010607762386122599\n"
     ]
    },
    {
     "name": "stderr",
     "output_type": "stream",
     "text": [
      "2904it [01:01, 39.35it/s]"
     ]
    },
    {
     "name": "stdout",
     "output_type": "stream",
     "text": [
      "-0.10699999999999998\n",
      "0.054587688734030415\n",
      "0.12442999683958633\n",
      "-0.06923770861524581\n",
      "0.054587688734030415\n"
     ]
    },
    {
     "name": "stderr",
     "output_type": "stream",
     "text": [
      "\r",
      "2914it [01:01, 29.45it/s]"
     ]
    },
    {
     "name": "stdout",
     "output_type": "stream",
     "text": [
      "0.12442999683958633\n",
      "-0.06923770861524581\n"
     ]
    },
    {
     "name": "stderr",
     "output_type": "stream",
     "text": [
      "2928it [01:02, 37.08it/s]"
     ]
    },
    {
     "name": "stdout",
     "output_type": "stream",
     "text": [
      "0.013692643845593544\n",
      "0.01962110960757779\n"
     ]
    },
    {
     "name": "stderr",
     "output_type": "stream",
     "text": [
      "\r",
      "2972it [01:02, 50.11it/s]"
     ]
    },
    {
     "name": "stdout",
     "output_type": "stream",
     "text": [
      "-0.02542113323124051\n"
     ]
    },
    {
     "name": "stderr",
     "output_type": "stream",
     "text": [
      "\r",
      "2985it [01:02, 41.58it/s]"
     ]
    },
    {
     "name": "stdout",
     "output_type": "stream",
     "text": [
      "-0.07199724006156782\n",
      "0.010810659029006242\n"
     ]
    },
    {
     "name": "stderr",
     "output_type": "stream",
     "text": [
      "\r",
      "2995it [01:02, 38.67it/s]"
     ]
    },
    {
     "name": "stdout",
     "output_type": "stream",
     "text": [
      "0.20881971465629068\n",
      "-0.0005250721974272565\n"
     ]
    },
    {
     "name": "stderr",
     "output_type": "stream",
     "text": [
      "3024it [01:03, 50.66it/s]"
     ]
    },
    {
     "name": "stdout",
     "output_type": "stream",
     "text": [
      "-0.0013118194936376781\n",
      "0.006952965235173858\n"
     ]
    },
    {
     "name": "stderr",
     "output_type": "stream",
     "text": [
      "3057it [01:03, 64.16it/s]"
     ]
    },
    {
     "name": "stdout",
     "output_type": "stream",
     "text": [
      "0.06042741341193825\n",
      "-0.047156726768377344\n"
     ]
    },
    {
     "name": "stderr",
     "output_type": "stream",
     "text": [
      "3074it [01:03, 58.20it/s]"
     ]
    },
    {
     "name": "stdout",
     "output_type": "stream",
     "text": [
      "-0.03424657534246578\n",
      "0.04106226288774817\n"
     ]
    },
    {
     "name": "stderr",
     "output_type": "stream",
     "text": [
      "3138it [01:04, 90.16it/s]"
     ]
    },
    {
     "name": "stdout",
     "output_type": "stream",
     "text": [
      "0.011481918660800616\n",
      "-0.0006362132586843483\n"
     ]
    },
    {
     "name": "stderr",
     "output_type": "stream",
     "text": [
      "3175it [01:04, 99.32it/s]"
     ]
    },
    {
     "name": "stdout",
     "output_type": "stream",
     "text": [
      "0.05481481481481487\n",
      "-0.03150468312857302\n",
      "-0.0016843225034351983\n",
      "-0.05016893621378116\n"
     ]
    },
    {
     "name": "stderr",
     "output_type": "stream",
     "text": [
      "3198it [01:05, 56.68it/s]"
     ]
    },
    {
     "name": "stdout",
     "output_type": "stream",
     "text": [
      "0.0009447331128955572\n",
      "0.08669001751313488\n"
     ]
    },
    {
     "name": "stderr",
     "output_type": "stream",
     "text": [
      "3214it [01:05, 43.15it/s]"
     ]
    },
    {
     "name": "stdout",
     "output_type": "stream",
     "text": [
      "0.01262502049516323\n",
      "0.024496461622210086\n"
     ]
    },
    {
     "name": "stderr",
     "output_type": "stream",
     "text": [
      "3227it [01:06, 41.06it/s]"
     ]
    },
    {
     "name": "stdout",
     "output_type": "stream",
     "text": [
      "0.010593220338983134\n",
      "0.014912280701754321\n"
     ]
    },
    {
     "name": "stderr",
     "output_type": "stream",
     "text": [
      "\r",
      "3233it [01:06, 38.81it/s]"
     ]
    },
    {
     "name": "stdout",
     "output_type": "stream",
     "text": [
      "0.026371703537057867\n"
     ]
    },
    {
     "name": "stderr",
     "output_type": "stream",
     "text": [
      "3253it [01:06, 45.83it/s]"
     ]
    },
    {
     "name": "stdout",
     "output_type": "stream",
     "text": [
      "0.04263038548752829\n",
      "-0.1476909007773204\n"
     ]
    },
    {
     "name": "stderr",
     "output_type": "stream",
     "text": [
      "3271it [01:07, 27.17it/s]"
     ]
    },
    {
     "name": "stdout",
     "output_type": "stream",
     "text": [
      "-0.007719642200710752\n",
      "0.01291128696376509\n"
     ]
    },
    {
     "name": "stderr",
     "output_type": "stream",
     "text": [
      "3282it [01:07, 28.63it/s]"
     ]
    },
    {
     "name": "stdout",
     "output_type": "stream",
     "text": [
      "0.020970394736842257\n",
      "-0.039782016348773985\n"
     ]
    },
    {
     "name": "stderr",
     "output_type": "stream",
     "text": [
      "\r",
      "3293it [01:08, 29.97it/s]"
     ]
    },
    {
     "name": "stdout",
     "output_type": "stream",
     "text": [
      "-0.002331002331002363\n"
     ]
    },
    {
     "name": "stderr",
     "output_type": "stream",
     "text": [
      "3330it [01:08, 38.60it/s]"
     ]
    },
    {
     "name": "stdout",
     "output_type": "stream",
     "text": [
      "0.0006195019204557894\n",
      "-0.06019656019656017\n"
     ]
    },
    {
     "name": "stderr",
     "output_type": "stream",
     "text": [
      "3366it [01:08, 57.85it/s]"
     ]
    },
    {
     "name": "stdout",
     "output_type": "stream",
     "text": [
      "0.020178905762429755\n",
      "0.021632937892533066\n"
     ]
    },
    {
     "name": "stderr",
     "output_type": "stream",
     "text": [
      "\r",
      "3382it [01:08, 65.62it/s]"
     ]
    },
    {
     "name": "stdout",
     "output_type": "stream",
     "text": [
      "-0.0060831746212229865\n",
      "-0.15056022408963587\n"
     ]
    },
    {
     "name": "stderr",
     "output_type": "stream",
     "text": [
      "3407it [01:09, 57.95it/s]"
     ]
    },
    {
     "name": "stdout",
     "output_type": "stream",
     "text": [
      "-0.01765267175572527\n",
      "-0.023820430600091536\n"
     ]
    },
    {
     "name": "stderr",
     "output_type": "stream",
     "text": [
      "\r",
      "3456it [01:09, 76.45it/s]"
     ]
    },
    {
     "name": "stdout",
     "output_type": "stream",
     "text": [
      "0.0034990347490346796\n"
     ]
    },
    {
     "name": "stderr",
     "output_type": "stream",
     "text": [
      "\r",
      "3471it [01:09, 60.57it/s]"
     ]
    },
    {
     "name": "stdout",
     "output_type": "stream",
     "text": [
      "0.07685664939550962\n",
      "0.017097640243040946\n"
     ]
    },
    {
     "name": "stderr",
     "output_type": "stream",
     "text": [
      "\r",
      "3483it [01:10, 52.23it/s]"
     ]
    },
    {
     "name": "stdout",
     "output_type": "stream",
     "text": [
      "0.010509296685529579\n",
      "0.05121591746499643\n"
     ]
    },
    {
     "name": "stderr",
     "output_type": "stream",
     "text": [
      "\r",
      "3493it [01:10, 46.04it/s]"
     ]
    },
    {
     "name": "stdout",
     "output_type": "stream",
     "text": [
      "0.018737820416729223\n"
     ]
    },
    {
     "name": "stderr",
     "output_type": "stream",
     "text": [
      "3517it [01:11, 45.94it/s]"
     ]
    },
    {
     "name": "stdout",
     "output_type": "stream",
     "text": [
      "0.012135355892648692\n",
      "-0.01847023831381034\n"
     ]
    },
    {
     "name": "stderr",
     "output_type": "stream",
     "text": [
      "\r",
      "3524it [01:11, 44.67it/s]"
     ]
    },
    {
     "name": "stdout",
     "output_type": "stream",
     "text": [
      "0.0056381957773512514\n"
     ]
    },
    {
     "name": "stderr",
     "output_type": "stream",
     "text": [
      "3536it [01:11, 36.11it/s]"
     ]
    },
    {
     "name": "stdout",
     "output_type": "stream",
     "text": [
      "-0.020928462709284612\n",
      "0.06343792633015011\n"
     ]
    },
    {
     "name": "stderr",
     "output_type": "stream",
     "text": [
      "\r",
      "3551it [01:11, 44.32it/s]"
     ]
    },
    {
     "name": "stdout",
     "output_type": "stream",
     "text": [
      "0.02206177296430023\n"
     ]
    },
    {
     "name": "stderr",
     "output_type": "stream",
     "text": [
      "3587it [01:12, 50.03it/s]"
     ]
    },
    {
     "name": "stdout",
     "output_type": "stream",
     "text": [
      "0.07960860111137968\n",
      "-0.040551500405514807\n"
     ]
    },
    {
     "name": "stderr",
     "output_type": "stream",
     "text": [
      "\r",
      "3596it [01:12, 52.21it/s]"
     ]
    },
    {
     "name": "stdout",
     "output_type": "stream",
     "text": [
      "-0.03867859600825874\n",
      "-0.01941747572815522\n"
     ]
    },
    {
     "name": "stderr",
     "output_type": "stream",
     "text": [
      "3615it [01:12, 44.88it/s]"
     ]
    },
    {
     "name": "stdout",
     "output_type": "stream",
     "text": [
      "0.06273126236984772\n",
      "0.015378389316066388\n"
     ]
    },
    {
     "name": "stderr",
     "output_type": "stream",
     "text": [
      "3629it [01:13, 43.26it/s]"
     ]
    },
    {
     "name": "stdout",
     "output_type": "stream",
     "text": [
      "0.035815734222551576\n",
      "-0.1621472053126729\n"
     ]
    },
    {
     "name": "stderr",
     "output_type": "stream",
     "text": [
      "3665it [01:13, 56.64it/s]"
     ]
    },
    {
     "name": "stdout",
     "output_type": "stream",
     "text": [
      "0.012971946846656923\n",
      "-0.01244239631336408\n"
     ]
    },
    {
     "name": "stderr",
     "output_type": "stream",
     "text": [
      "3689it [01:13, 62.40it/s]"
     ]
    },
    {
     "name": "stdout",
     "output_type": "stream",
     "text": [
      "-0.02688455455983141\n",
      "0.018277571251549052\n"
     ]
    },
    {
     "name": "stderr",
     "output_type": "stream",
     "text": [
      "\r",
      "3709it [01:14, 73.66it/s]"
     ]
    },
    {
     "name": "stdout",
     "output_type": "stream",
     "text": [
      "0.010340865568747581\n",
      "-0.06635622817229325\n"
     ]
    },
    {
     "name": "stderr",
     "output_type": "stream",
     "text": [
      "\r",
      "3719it [01:14, 42.53it/s]"
     ]
    },
    {
     "name": "stdout",
     "output_type": "stream",
     "text": [
      "-0.07080673244341273\n",
      "-0.1473467284904687\n"
     ]
    },
    {
     "name": "stderr",
     "output_type": "stream",
     "text": [
      "\r",
      "3727it [01:14, 34.47it/s]"
     ]
    },
    {
     "name": "stdout",
     "output_type": "stream",
     "text": [
      "0.15564738292011016\n",
      "0.03198716739007357\n"
     ]
    },
    {
     "name": "stderr",
     "output_type": "stream",
     "text": [
      "\r",
      "3757it [01:15, 45.54it/s]"
     ]
    },
    {
     "name": "stdout",
     "output_type": "stream",
     "text": [
      "0.04357999415033653\n",
      "0.03503733486502014\n"
     ]
    },
    {
     "name": "stderr",
     "output_type": "stream",
     "text": [
      "\r",
      "3767it [01:15, 39.99it/s]"
     ]
    },
    {
     "name": "stdout",
     "output_type": "stream",
     "text": [
      "0.019860973187686204\n",
      "0.05772624149231187\n"
     ]
    },
    {
     "name": "stderr",
     "output_type": "stream",
     "text": [
      "\r",
      "3775it [01:15, 32.66it/s]"
     ]
    },
    {
     "name": "stdout",
     "output_type": "stream",
     "text": [
      "-0.22277597807126837\n",
      "-0.0030314513073133043\n"
     ]
    },
    {
     "name": "stderr",
     "output_type": "stream",
     "text": [
      "\r",
      "3782it [01:16, 23.38it/s]"
     ]
    },
    {
     "name": "stdout",
     "output_type": "stream",
     "text": [
      "-0.05813953488372081\n",
      "-0.08519692168401993\n"
     ]
    },
    {
     "name": "stderr",
     "output_type": "stream",
     "text": [
      "3802it [01:16, 32.67it/s]"
     ]
    },
    {
     "name": "stdout",
     "output_type": "stream",
     "text": [
      "0.001214697843911372\n",
      "0.10252944583896517\n"
     ]
    },
    {
     "name": "stderr",
     "output_type": "stream",
     "text": [
      "3850it [01:16, 53.23it/s]"
     ]
    },
    {
     "name": "stdout",
     "output_type": "stream",
     "text": [
      "-0.09226190476190466\n",
      "0.34793554884189315\n"
     ]
    },
    {
     "name": "stderr",
     "output_type": "stream",
     "text": [
      "\r",
      "3872it [01:17, 55.82it/s]"
     ]
    },
    {
     "name": "stdout",
     "output_type": "stream",
     "text": [
      "0.10566356720202874\n"
     ]
    },
    {
     "name": "stderr",
     "output_type": "stream",
     "text": [
      "3900it [01:18, 28.71it/s]"
     ]
    },
    {
     "name": "stdout",
     "output_type": "stream",
     "text": [
      "-0.05470263824713084\n",
      "-0.11041292639138245\n"
     ]
    },
    {
     "name": "stderr",
     "output_type": "stream",
     "text": [
      "3916it [01:18, 36.77it/s]"
     ]
    },
    {
     "name": "stdout",
     "output_type": "stream",
     "text": [
      "-0.10234374999999996\n",
      "-0.02299065420560742\n"
     ]
    },
    {
     "name": "stderr",
     "output_type": "stream",
     "text": [
      "3963it [01:19, 51.31it/s]"
     ]
    },
    {
     "name": "stdout",
     "output_type": "stream",
     "text": [
      "0.013415315818893214\n",
      "0.03971593897948433\n"
     ]
    },
    {
     "name": "stderr",
     "output_type": "stream",
     "text": [
      "\r",
      "3989it [01:19, 64.40it/s]"
     ]
    },
    {
     "name": "stdout",
     "output_type": "stream",
     "text": [
      "0.11219879518072284\n",
      "-0.04490690032858713\n"
     ]
    },
    {
     "name": "stderr",
     "output_type": "stream",
     "text": [
      "\r",
      "4003it [01:19, 47.89it/s]"
     ]
    },
    {
     "name": "stdout",
     "output_type": "stream",
     "text": [
      "0.14482378854625555\n",
      "-0.020731163620151594\n"
     ]
    },
    {
     "name": "stderr",
     "output_type": "stream",
     "text": [
      "\r",
      "4014it [01:19, 50.60it/s]"
     ]
    },
    {
     "name": "stdout",
     "output_type": "stream",
     "text": [
      "0.051520794537554426\n",
      "-0.058496441281138845\n"
     ]
    },
    {
     "name": "stderr",
     "output_type": "stream",
     "text": [
      "\r",
      "4023it [01:20, 39.91it/s]"
     ]
    },
    {
     "name": "stdout",
     "output_type": "stream",
     "text": [
      "0.01249705258193834\n",
      "-0.009449028480170374\n"
     ]
    },
    {
     "name": "stderr",
     "output_type": "stream",
     "text": [
      "\r",
      "4030it [01:20, 30.84it/s]"
     ]
    },
    {
     "name": "stdout",
     "output_type": "stream",
     "text": [
      "0.013740102468560833\n",
      "0.024788732394366297\n"
     ]
    },
    {
     "name": "stderr",
     "output_type": "stream",
     "text": [
      "4043it [01:21, 28.28it/s]"
     ]
    },
    {
     "name": "stdout",
     "output_type": "stream",
     "text": [
      "-0.06683937823834207\n",
      "-0.008143322475570036\n"
     ]
    },
    {
     "name": "stderr",
     "output_type": "stream",
     "text": [
      "4065it [01:21, 39.07it/s]"
     ]
    },
    {
     "name": "stdout",
     "output_type": "stream",
     "text": [
      "0.010526315789473717\n",
      "-0.1282051282051282\n"
     ]
    },
    {
     "name": "stderr",
     "output_type": "stream",
     "text": [
      "4090it [01:21, 47.14it/s]"
     ]
    },
    {
     "name": "stdout",
     "output_type": "stream",
     "text": [
      "-0.22530120481927718\n",
      "0.0041024190125902305\n"
     ]
    },
    {
     "name": "stderr",
     "output_type": "stream",
     "text": [
      "\r",
      "4097it [01:22, 34.17it/s]"
     ]
    },
    {
     "name": "stdout",
     "output_type": "stream",
     "text": [
      "0.009061378013335508\n",
      "-0.016361416361416303\n"
     ]
    },
    {
     "name": "stderr",
     "output_type": "stream",
     "text": [
      "\r",
      "4103it [01:22, 34.53it/s]"
     ]
    },
    {
     "name": "stdout",
     "output_type": "stream",
     "text": [
      "-0.06597549481621123\n"
     ]
    },
    {
     "name": "stderr",
     "output_type": "stream",
     "text": [
      "\r",
      "4108it [01:22, 30.11it/s]"
     ]
    },
    {
     "name": "stdout",
     "output_type": "stream",
     "text": [
      "-0.008608971454463155\n"
     ]
    },
    {
     "name": "stderr",
     "output_type": "stream",
     "text": [
      "4134it [01:23, 33.81it/s]"
     ]
    },
    {
     "name": "stdout",
     "output_type": "stream",
     "text": [
      "-0.09493670886075944\n",
      "0.01334127456819556\n"
     ]
    },
    {
     "name": "stderr",
     "output_type": "stream",
     "text": [
      "4150it [01:23, 39.68it/s]"
     ]
    },
    {
     "name": "stdout",
     "output_type": "stream",
     "text": [
      "0.0\n",
      "-0.00874565712231945\n"
     ]
    },
    {
     "name": "stderr",
     "output_type": "stream",
     "text": [
      "4161it [01:23, 37.28it/s]"
     ]
    },
    {
     "name": "stdout",
     "output_type": "stream",
     "text": [
      "-0.005080440304826461\n",
      "-0.08567774936061379\n"
     ]
    },
    {
     "name": "stderr",
     "output_type": "stream",
     "text": [
      "4188it [01:24, 50.34it/s]"
     ]
    },
    {
     "name": "stdout",
     "output_type": "stream",
     "text": [
      "0.007891414141413922\n",
      "-0.09337646990449266\n"
     ]
    },
    {
     "name": "stderr",
     "output_type": "stream",
     "text": [
      "4201it [01:24, 44.45it/s]"
     ]
    },
    {
     "name": "stdout",
     "output_type": "stream",
     "text": [
      "0.023333333333333428\n",
      "0.025423728813559254\n"
     ]
    },
    {
     "name": "stderr",
     "output_type": "stream",
     "text": [
      "4264it [01:24, 68.86it/s]"
     ]
    },
    {
     "name": "stdout",
     "output_type": "stream",
     "text": [
      "-0.03301295445048069\n",
      "-0.16086956521739137\n"
     ]
    },
    {
     "name": "stderr",
     "output_type": "stream",
     "text": [
      "4302it [01:25, 84.68it/s]"
     ]
    },
    {
     "name": "stdout",
     "output_type": "stream",
     "text": [
      "-0.027554048325561742\n",
      "0.022336769759450315\n"
     ]
    },
    {
     "name": "stderr",
     "output_type": "stream",
     "text": [
      "\r",
      "4315it [01:25, 60.54it/s]"
     ]
    },
    {
     "name": "stdout",
     "output_type": "stream",
     "text": [
      "0.022336769759450315\n",
      "0.0018394429115753397\n"
     ]
    },
    {
     "name": "stderr",
     "output_type": "stream",
     "text": [
      "4348it [01:25, 72.71it/s]"
     ]
    },
    {
     "name": "stdout",
     "output_type": "stream",
     "text": [
      "0.005275974025974017\n",
      "-0.019299591002045036\n"
     ]
    },
    {
     "name": "stderr",
     "output_type": "stream",
     "text": [
      "\r",
      "4358it [01:26, 53.12it/s]"
     ]
    },
    {
     "name": "stdout",
     "output_type": "stream",
     "text": [
      "-0.020584292257848302\n",
      "0.02667066227150139\n"
     ]
    },
    {
     "name": "stderr",
     "output_type": "stream",
     "text": [
      "4379it [01:26, 58.43it/s]"
     ]
    },
    {
     "name": "stdout",
     "output_type": "stream",
     "text": [
      "0.00201918223119657\n",
      "0.11309523809523836\n"
     ]
    },
    {
     "name": "stderr",
     "output_type": "stream",
     "text": [
      "4419it [01:26, 79.24it/s]"
     ]
    },
    {
     "name": "stdout",
     "output_type": "stream",
     "text": [
      "-0.11985018726591767\n",
      "0.036340852130325674\n"
     ]
    },
    {
     "name": "stderr",
     "output_type": "stream",
     "text": [
      "\r",
      "4429it [01:26, 68.38it/s]"
     ]
    },
    {
     "name": "stdout",
     "output_type": "stream",
     "text": [
      "-0.01432078559738137\n",
      "0.015631601182932053\n"
     ]
    },
    {
     "name": "stderr",
     "output_type": "stream",
     "text": [
      "4445it [01:27, 49.55it/s]"
     ]
    },
    {
     "name": "stdout",
     "output_type": "stream",
     "text": [
      "0.018135807676086024\n",
      "0.13208762886597936\n"
     ]
    },
    {
     "name": "stderr",
     "output_type": "stream",
     "text": [
      "4498it [01:27, 64.48it/s]"
     ]
    },
    {
     "name": "stdout",
     "output_type": "stream",
     "text": [
      "-0.035683202785030566\n",
      "-0.016949152542372947\n"
     ]
    },
    {
     "name": "stderr",
     "output_type": "stream",
     "text": [
      "4519it [01:28, 65.49it/s]"
     ]
    },
    {
     "name": "stdout",
     "output_type": "stream",
     "text": [
      "-0.004903809883063048\n",
      "0.03586103847590594\n"
     ]
    },
    {
     "name": "stderr",
     "output_type": "stream",
     "text": [
      "\r",
      "4531it [01:28, 58.56it/s]"
     ]
    },
    {
     "name": "stdout",
     "output_type": "stream",
     "text": [
      "-0.003125814014066197\n"
     ]
    },
    {
     "name": "stderr",
     "output_type": "stream",
     "text": [
      "\r",
      "4546it [01:28, 47.82it/s]"
     ]
    },
    {
     "name": "stdout",
     "output_type": "stream",
     "text": [
      "0.05810301507537674\n"
     ]
    },
    {
     "name": "stderr",
     "output_type": "stream",
     "text": [
      "\r",
      "4553it [01:29, 40.77it/s]"
     ]
    },
    {
     "name": "stdout",
     "output_type": "stream",
     "text": [
      "-0.05124056094929885\n"
     ]
    },
    {
     "name": "stderr",
     "output_type": "stream",
     "text": [
      "\r",
      "4563it [01:29, 34.18it/s]"
     ]
    },
    {
     "name": "stdout",
     "output_type": "stream",
     "text": [
      "-0.012027060886995677\n"
     ]
    },
    {
     "name": "stderr",
     "output_type": "stream",
     "text": [
      "4584it [01:29, 38.61it/s]"
     ]
    },
    {
     "name": "stdout",
     "output_type": "stream",
     "text": [
      "0.00028901734104036514\n",
      "0.043511305339160256\n"
     ]
    },
    {
     "name": "stderr",
     "output_type": "stream",
     "text": [
      "4597it [01:30, 41.19it/s]"
     ]
    },
    {
     "name": "stdout",
     "output_type": "stream",
     "text": [
      "0.0\n",
      "0.03490358799121318\n"
     ]
    },
    {
     "name": "stderr",
     "output_type": "stream",
     "text": [
      "\r",
      "4621it [01:30, 52.59it/s]"
     ]
    },
    {
     "name": "stdout",
     "output_type": "stream",
     "text": [
      "0.07296137339055786\n"
     ]
    },
    {
     "name": "stderr",
     "output_type": "stream",
     "text": [
      "\r",
      "4629it [01:30, 34.21it/s]"
     ]
    },
    {
     "name": "stdout",
     "output_type": "stream",
     "text": [
      "0.0170815031722793\n",
      "0.020822752666328048\n"
     ]
    },
    {
     "name": "stderr",
     "output_type": "stream",
     "text": [
      "4666it [01:31, 52.63it/s]"
     ]
    },
    {
     "name": "stdout",
     "output_type": "stream",
     "text": [
      "0.03444263439609019\n",
      "-0.07658157602663707\n"
     ]
    },
    {
     "name": "stderr",
     "output_type": "stream",
     "text": [
      "4690it [01:31, 63.05it/s]"
     ]
    },
    {
     "name": "stdout",
     "output_type": "stream",
     "text": [
      "0.27073459715639814\n",
      "-0.08304630692690385\n"
     ]
    },
    {
     "name": "stderr",
     "output_type": "stream",
     "text": [
      "4708it [01:32, 46.09it/s]"
     ]
    },
    {
     "name": "stdout",
     "output_type": "stream",
     "text": [
      "-0.021442986881937576\n",
      "0.06382454411039928\n"
     ]
    },
    {
     "name": "stderr",
     "output_type": "stream",
     "text": [
      "\r",
      "4715it [01:32, 31.71it/s]"
     ]
    },
    {
     "name": "stdout",
     "output_type": "stream",
     "text": [
      "0.04838148277062282\n"
     ]
    },
    {
     "name": "stderr",
     "output_type": "stream",
     "text": [
      "4741it [01:32, 41.14it/s]"
     ]
    },
    {
     "name": "stdout",
     "output_type": "stream",
     "text": [
      "0.14856131712571163\n",
      "0.2467347423414865\n"
     ]
    },
    {
     "name": "stderr",
     "output_type": "stream",
     "text": [
      "4822it [01:33, 63.24it/s]"
     ]
    },
    {
     "name": "stdout",
     "output_type": "stream",
     "text": [
      "0.10290371879775861\n",
      "-0.017848264037719663\n"
     ]
    },
    {
     "name": "stderr",
     "output_type": "stream",
     "text": [
      "4848it [01:33, 69.65it/s]"
     ]
    },
    {
     "name": "stdout",
     "output_type": "stream",
     "text": [
      "-0.0285369072033832\n",
      "-0.004958456177968307\n"
     ]
    },
    {
     "name": "stderr",
     "output_type": "stream",
     "text": [
      "4875it [01:34, 55.03it/s]"
     ]
    },
    {
     "name": "stdout",
     "output_type": "stream",
     "text": [
      "-0.04652233993551358\n",
      "-0.04523682810005325\n",
      "-0.055112400290065255\n"
     ]
    },
    {
     "name": "stderr",
     "output_type": "stream",
     "text": [
      "4893it [01:34, 32.24it/s]"
     ]
    },
    {
     "name": "stdout",
     "output_type": "stream",
     "text": [
      "-0.0346308724832215\n",
      "0.007132915796798978\n"
     ]
    },
    {
     "name": "stderr",
     "output_type": "stream",
     "text": [
      "4908it [01:35, 39.07it/s]"
     ]
    },
    {
     "name": "stdout",
     "output_type": "stream",
     "text": [
      "0.027228432215534504\n",
      "-0.14617618586640846\n"
     ]
    },
    {
     "name": "stderr",
     "output_type": "stream",
     "text": [
      "\r",
      "4924it [01:35, 39.74it/s]"
     ]
    },
    {
     "name": "stdout",
     "output_type": "stream",
     "text": [
      "0.0031028628300451278\n"
     ]
    },
    {
     "name": "stderr",
     "output_type": "stream",
     "text": [
      "4945it [01:36, 42.74it/s]"
     ]
    },
    {
     "name": "stdout",
     "output_type": "stream",
     "text": [
      "0.05399497212810167\n",
      "-0.05745341614906829\n"
     ]
    },
    {
     "name": "stderr",
     "output_type": "stream",
     "text": [
      "\r",
      "4958it [01:36, 46.96it/s]"
     ]
    },
    {
     "name": "stdout",
     "output_type": "stream",
     "text": [
      "-0.030845771144278777\n"
     ]
    },
    {
     "name": "stderr",
     "output_type": "stream",
     "text": [
      "4970it [01:36, 35.21it/s]"
     ]
    },
    {
     "name": "stdout",
     "output_type": "stream",
     "text": [
      "0.02628434886499398\n",
      "0.07424315233061018\n"
     ]
    },
    {
     "name": "stderr",
     "output_type": "stream",
     "text": [
      "\r",
      "4975it [01:37, 29.55it/s]"
     ]
    },
    {
     "name": "stdout",
     "output_type": "stream",
     "text": [
      "0.07424315233061018\n"
     ]
    },
    {
     "name": "stderr",
     "output_type": "stream",
     "text": [
      "\r",
      "4982it [01:37, 30.24it/s]"
     ]
    },
    {
     "name": "stdout",
     "output_type": "stream",
     "text": [
      "-0.01788617886178867\n",
      "-0.01788617886178867\n"
     ]
    },
    {
     "name": "stderr",
     "output_type": "stream",
     "text": [
      "4994it [01:38, 15.61it/s]"
     ]
    },
    {
     "name": "stdout",
     "output_type": "stream",
     "text": [
      "0.01605136436597121\n",
      "0.09695130761450654\n"
     ]
    },
    {
     "name": "stderr",
     "output_type": "stream",
     "text": [
      "\r",
      "5012it [01:38, 20.11it/s]"
     ]
    },
    {
     "name": "stdout",
     "output_type": "stream",
     "text": [
      "-0.011831819142193112\n"
     ]
    },
    {
     "name": "stderr",
     "output_type": "stream",
     "text": [
      "5027it [01:38, 23.86it/s]"
     ]
    },
    {
     "name": "stdout",
     "output_type": "stream",
     "text": [
      "-0.008635578583765069\n",
      "0.10129460056836126\n"
     ]
    },
    {
     "name": "stderr",
     "output_type": "stream",
     "text": [
      "\r",
      "5073it [01:39, 30.45it/s]"
     ]
    },
    {
     "name": "stdout",
     "output_type": "stream",
     "text": [
      "-0.12185534591194969\n"
     ]
    },
    {
     "name": "stderr",
     "output_type": "stream",
     "text": [
      "\r",
      "5087it [01:39, 35.23it/s]"
     ]
    },
    {
     "name": "stdout",
     "output_type": "stream",
     "text": [
      "-0.2810214741729542\n"
     ]
    },
    {
     "name": "stderr",
     "output_type": "stream",
     "text": [
      "\r",
      "5093it [01:40, 27.98it/s]"
     ]
    },
    {
     "name": "stdout",
     "output_type": "stream",
     "text": [
      "-0.007655502392344471\n"
     ]
    },
    {
     "name": "stderr",
     "output_type": "stream",
     "text": [
      "\r",
      "5098it [01:40, 24.45it/s]"
     ]
    },
    {
     "name": "stdout",
     "output_type": "stream",
     "text": [
      "-0.0970404984423675\n"
     ]
    },
    {
     "name": "stderr",
     "output_type": "stream",
     "text": [
      "\r",
      "5102it [01:40, 17.49it/s]"
     ]
    },
    {
     "name": "stdout",
     "output_type": "stream",
     "text": [
      "0.034754377561339034\n"
     ]
    },
    {
     "name": "stderr",
     "output_type": "stream",
     "text": [
      "\r",
      "5107it [01:41, 17.30it/s]"
     ]
    },
    {
     "name": "stdout",
     "output_type": "stream",
     "text": [
      "0.05835500650195069\n"
     ]
    },
    {
     "name": "stderr",
     "output_type": "stream",
     "text": [
      "\r",
      "5113it [01:41, 17.47it/s]"
     ]
    },
    {
     "name": "stdout",
     "output_type": "stream",
     "text": [
      "-0.034987794955248286\n"
     ]
    },
    {
     "name": "stderr",
     "output_type": "stream",
     "text": [
      "5147it [01:42, 24.58it/s]"
     ]
    },
    {
     "name": "stdout",
     "output_type": "stream",
     "text": [
      "0.0001605136436597654\n",
      "-0.09403254972875219\n"
     ]
    },
    {
     "name": "stderr",
     "output_type": "stream",
     "text": [
      "\r",
      "5177it [01:42, 31.40it/s]"
     ]
    },
    {
     "name": "stdout",
     "output_type": "stream",
     "text": [
      "0.18845618915159923\n"
     ]
    },
    {
     "name": "stderr",
     "output_type": "stream",
     "text": [
      "\r",
      "5189it [01:42, 34.30it/s]"
     ]
    },
    {
     "name": "stdout",
     "output_type": "stream",
     "text": [
      "0.020899053627760233\n"
     ]
    },
    {
     "name": "stderr",
     "output_type": "stream",
     "text": [
      "\r",
      "5203it [01:43, 34.63it/s]"
     ]
    },
    {
     "name": "stdout",
     "output_type": "stream",
     "text": [
      "0.07278875244705474\n"
     ]
    },
    {
     "name": "stderr",
     "output_type": "stream",
     "text": [
      "\r",
      "5209it [01:43, 31.07it/s]"
     ]
    },
    {
     "name": "stdout",
     "output_type": "stream",
     "text": [
      "0.024286183130948436\n"
     ]
    },
    {
     "name": "stderr",
     "output_type": "stream",
     "text": [
      "\r",
      "5242it [01:43, 38.83it/s]"
     ]
    },
    {
     "name": "stdout",
     "output_type": "stream",
     "text": [
      "-0.05894681687188874\n"
     ]
    },
    {
     "name": "stderr",
     "output_type": "stream",
     "text": [
      "\r",
      "5251it [01:43, 37.57it/s]"
     ]
    },
    {
     "name": "stdout",
     "output_type": "stream",
     "text": [
      "0.42427049559981467\n"
     ]
    },
    {
     "name": "stderr",
     "output_type": "stream",
     "text": [
      "\r",
      "5264it [01:44, 40.49it/s]"
     ]
    },
    {
     "name": "stdout",
     "output_type": "stream",
     "text": [
      "0.18732525629077346\n"
     ]
    },
    {
     "name": "stderr",
     "output_type": "stream",
     "text": [
      "\r",
      "5270it [01:44, 27.47it/s]"
     ]
    },
    {
     "name": "stdout",
     "output_type": "stream",
     "text": [
      "0.03272418189545245\n"
     ]
    },
    {
     "name": "stderr",
     "output_type": "stream",
     "text": [
      "\r",
      "5275it [01:44, 23.87it/s]"
     ]
    },
    {
     "name": "stdout",
     "output_type": "stream",
     "text": [
      "0.20461853259280915\n"
     ]
    },
    {
     "name": "stderr",
     "output_type": "stream",
     "text": [
      "\r",
      "5284it [01:45, 24.29it/s]"
     ]
    },
    {
     "name": "stdout",
     "output_type": "stream",
     "text": [
      "0.1172559685705652\n"
     ]
    },
    {
     "name": "stderr",
     "output_type": "stream",
     "text": [
      "\r",
      "5288it [01:45, 18.01it/s]"
     ]
    },
    {
     "name": "stdout",
     "output_type": "stream",
     "text": [
      "0.09749739311783112\n"
     ]
    },
    {
     "name": "stderr",
     "output_type": "stream",
     "text": [
      "\r",
      "5293it [01:45, 16.57it/s]"
     ]
    },
    {
     "name": "stdout",
     "output_type": "stream",
     "text": [
      "0.09119373776908013\n"
     ]
    },
    {
     "name": "stderr",
     "output_type": "stream",
     "text": [
      "\r",
      "5297it [01:46, 14.37it/s]"
     ]
    },
    {
     "name": "stdout",
     "output_type": "stream",
     "text": [
      "-0.09053651266766016\n"
     ]
    },
    {
     "name": "stderr",
     "output_type": "stream",
     "text": [
      "\r",
      "5300it [01:46, 12.10it/s]"
     ]
    },
    {
     "name": "stdout",
     "output_type": "stream",
     "text": [
      "-0.2757352941176471\n"
     ]
    },
    {
     "name": "stderr",
     "output_type": "stream",
     "text": [
      "\r",
      "5302it [01:47,  9.01it/s]"
     ]
    },
    {
     "name": "stdout",
     "output_type": "stream",
     "text": [
      "-0.33812434474709707\n"
     ]
    },
    {
     "name": "stderr",
     "output_type": "stream",
     "text": [
      "\r",
      "5309it [01:47, 10.91it/s]"
     ]
    },
    {
     "name": "stdout",
     "output_type": "stream",
     "text": [
      "-0.04236111111111118\n"
     ]
    },
    {
     "name": "stderr",
     "output_type": "stream",
     "text": [
      "\r",
      "5314it [01:47, 11.71it/s]"
     ]
    },
    {
     "name": "stdout",
     "output_type": "stream",
     "text": [
      "-0.1433121019108281\n"
     ]
    },
    {
     "name": "stderr",
     "output_type": "stream",
     "text": [
      "\r",
      "5319it [01:47, 12.86it/s]"
     ]
    },
    {
     "name": "stdout",
     "output_type": "stream",
     "text": [
      "-0.14236589985472858\n"
     ]
    },
    {
     "name": "stderr",
     "output_type": "stream",
     "text": [
      "\r",
      "5330it [01:48, 15.16it/s]"
     ]
    },
    {
     "name": "stdout",
     "output_type": "stream",
     "text": [
      "-0.13220147142048666\n"
     ]
    },
    {
     "name": "stderr",
     "output_type": "stream",
     "text": [
      "\r",
      "5343it [01:48, 16.86it/s]"
     ]
    },
    {
     "name": "stdout",
     "output_type": "stream",
     "text": [
      "0.028533510285335018\n"
     ]
    },
    {
     "name": "stderr",
     "output_type": "stream",
     "text": [
      "\r",
      "5352it [01:49, 17.22it/s]"
     ]
    },
    {
     "name": "stdout",
     "output_type": "stream",
     "text": [
      "-0.10378877321026081\n"
     ]
    },
    {
     "name": "stderr",
     "output_type": "stream",
     "text": [
      "\r",
      "5355it [01:49, 11.50it/s]"
     ]
    },
    {
     "name": "stdout",
     "output_type": "stream",
     "text": [
      "0.0146520146520146\n",
      "0.04484088717454204\n"
     ]
    },
    {
     "name": "stderr",
     "output_type": "stream",
     "text": [
      "\r",
      "5362it [01:50, 11.95it/s]"
     ]
    },
    {
     "name": "stdout",
     "output_type": "stream",
     "text": [
      "-0.014257939079714954\n"
     ]
    },
    {
     "name": "stderr",
     "output_type": "stream",
     "text": [
      "\r",
      "5370it [01:50, 12.99it/s]"
     ]
    },
    {
     "name": "stdout",
     "output_type": "stream",
     "text": [
      "-0.2104404567699838\n"
     ]
    },
    {
     "name": "stderr",
     "output_type": "stream",
     "text": [
      "\r",
      "5372it [01:51,  7.79it/s]"
     ]
    },
    {
     "name": "stdout",
     "output_type": "stream",
     "text": [
      "0.1520088192062714\n"
     ]
    },
    {
     "name": "stderr",
     "output_type": "stream",
     "text": [
      "\r",
      "5374it [01:51,  7.22it/s]"
     ]
    },
    {
     "name": "stdout",
     "output_type": "stream",
     "text": [
      "0.005674378000873004\n"
     ]
    },
    {
     "name": "stderr",
     "output_type": "stream",
     "text": [
      "\r",
      "5376it [01:52,  6.53it/s]"
     ]
    },
    {
     "name": "stdout",
     "output_type": "stream",
     "text": [
      "-0.4486527228189183\n"
     ]
    },
    {
     "name": "stderr",
     "output_type": "stream",
     "text": [
      "\r",
      "5377it [01:52,  4.36it/s]"
     ]
    },
    {
     "name": "stdout",
     "output_type": "stream",
     "text": [
      "-0.02126099706744855\n"
     ]
    },
    {
     "name": "stderr",
     "output_type": "stream",
     "text": [
      "\r",
      "5378it [01:52,  4.11it/s]"
     ]
    },
    {
     "name": "stdout",
     "output_type": "stream",
     "text": [
      "-0.14444444444444438\n"
     ]
    },
    {
     "name": "stderr",
     "output_type": "stream",
     "text": [
      "5386it [01:53,  6.65it/s]"
     ]
    },
    {
     "name": "stdout",
     "output_type": "stream",
     "text": [
      "0.02767682415431927\n"
     ]
    },
    {
     "name": "stderr",
     "output_type": "stream",
     "text": [
      "\r",
      "5597it [01:53,  9.48it/s]"
     ]
    },
    {
     "name": "stdout",
     "output_type": "stream",
     "text": [
      "-0.004320691310609859\n",
      "-0.05308525176074841\n",
      "-0.004314477468839839\n",
      "-0.024853801169590573\n",
      "0.017788824038649453\n",
      "-0.0007533902561527306\n"
     ]
    },
    {
     "name": "stderr",
     "output_type": "stream",
     "text": [
      "\r",
      "5628it [01:54, 12.20it/s]"
     ]
    },
    {
     "name": "stdout",
     "output_type": "stream",
     "text": [
      "0.0078064012490242085\n",
      "0.020752003287445975\n",
      "-0.37769978401727855\n",
      "-0.06964573268921093\n",
      "0.056599890230515815\n",
      "0.01291283161884138\n"
     ]
    },
    {
     "name": "stderr",
     "output_type": "stream",
     "text": [
      "5671it [01:55, 20.32it/s]"
     ]
    },
    {
     "name": "stdout",
     "output_type": "stream",
     "text": [
      "-0.14100750734414103\n",
      "-0.014002897151134786\n"
     ]
    },
    {
     "name": "stderr",
     "output_type": "stream",
     "text": [
      "\r",
      "5687it [01:55, 26.31it/s]"
     ]
    },
    {
     "name": "stdout",
     "output_type": "stream",
     "text": [
      "-0.03293807641633728\n",
      "-0.047863034241439784\n",
      "-0.056011949215832635\n",
      "-0.0076045627376425395\n"
     ]
    },
    {
     "name": "stderr",
     "output_type": "stream",
     "text": [
      "5721it [01:55, 41.39it/s]"
     ]
    },
    {
     "name": "stdout",
     "output_type": "stream",
     "text": [
      "0.02148760330578514\n",
      "0.17861720067453613\n",
      "0.007845188284518745\n"
     ]
    },
    {
     "name": "stderr",
     "output_type": "stream",
     "text": [
      "\r",
      "5734it [01:55, 49.36it/s]"
     ]
    },
    {
     "name": "stdout",
     "output_type": "stream",
     "text": [
      "0.0262570488721805\n"
     ]
    },
    {
     "name": "stderr",
     "output_type": "stream",
     "text": [
      "5762it [01:56, 63.08it/s]"
     ]
    },
    {
     "name": "stdout",
     "output_type": "stream",
     "text": [
      "0.003665689149560114\n",
      "-0.0034196384953590897\n"
     ]
    },
    {
     "name": "stderr",
     "output_type": "stream",
     "text": [
      "\r",
      "5774it [01:56, 70.96it/s]"
     ]
    },
    {
     "name": "stdout",
     "output_type": "stream",
     "text": [
      "0.04361770365618978\n",
      "0.07341507957213667\n"
     ]
    },
    {
     "name": "stderr",
     "output_type": "stream",
     "text": [
      "\r",
      "5786it [01:56, 53.10it/s]"
     ]
    },
    {
     "name": "stdout",
     "output_type": "stream",
     "text": [
      "0.028491030601477396\n",
      "-0.09582659016232653\n"
     ]
    },
    {
     "name": "stderr",
     "output_type": "stream",
     "text": [
      "5813it [01:57, 55.89it/s]"
     ]
    },
    {
     "name": "stdout",
     "output_type": "stream",
     "text": [
      "0.015617128463476071\n",
      "-0.0004957858205254517\n",
      "-0.0581191753741882\n"
     ]
    },
    {
     "name": "stderr",
     "output_type": "stream",
     "text": [
      "\r",
      "5825it [01:57, 64.37it/s]"
     ]
    },
    {
     "name": "stdout",
     "output_type": "stream",
     "text": [
      "0.4988606380426961\n"
     ]
    },
    {
     "name": "stderr",
     "output_type": "stream",
     "text": [
      "\r",
      "5844it [01:57, 63.08it/s]"
     ]
    },
    {
     "name": "stdout",
     "output_type": "stream",
     "text": [
      "0.012951601908657295\n",
      "-0.008086253369272267\n"
     ]
    },
    {
     "name": "stderr",
     "output_type": "stream",
     "text": [
      "\r",
      "5864it [01:58, 59.94it/s]"
     ]
    },
    {
     "name": "stdout",
     "output_type": "stream",
     "text": [
      "-0.07935630149864525\n"
     ]
    },
    {
     "name": "stderr",
     "output_type": "stream",
     "text": [
      "\r",
      "5879it [01:58, 56.47it/s]"
     ]
    },
    {
     "name": "stdout",
     "output_type": "stream",
     "text": [
      "-0.07935630149864525\n",
      "0.028937577511368273\n",
      "0.3728357510528777\n",
      "0.0278597785977861\n",
      "0.5434085510688837\n"
     ]
    },
    {
     "name": "stderr",
     "output_type": "stream",
     "text": [
      "\r",
      "5886it [01:59, 16.83it/s]"
     ]
    },
    {
     "name": "stdout",
     "output_type": "stream",
     "text": [
      "-0.02885437446565986\n",
      "-0.11295238095238103\n"
     ]
    },
    {
     "name": "stderr",
     "output_type": "stream",
     "text": [
      "5895it [01:59, 19.92it/s]"
     ]
    },
    {
     "name": "stdout",
     "output_type": "stream",
     "text": [
      "-0.42805411658200476\n",
      "-0.9999999911788292\n"
     ]
    },
    {
     "name": "stderr",
     "output_type": "stream",
     "text": [
      "\r",
      "5899it [01:59, 21.66it/s]"
     ]
    },
    {
     "name": "stdout",
     "output_type": "stream",
     "text": [
      "0.023498694516971286\n",
      "0.02692640276710212\n"
     ]
    },
    {
     "name": "stderr",
     "output_type": "stream",
     "text": [
      "\r",
      "5908it [02:00, 24.63it/s]"
     ]
    },
    {
     "name": "stdout",
     "output_type": "stream",
     "text": [
      "0.0067069081153587895\n"
     ]
    },
    {
     "name": "stderr",
     "output_type": "stream",
     "text": [
      "5930it [02:00, 32.64it/s]"
     ]
    },
    {
     "name": "stdout",
     "output_type": "stream",
     "text": [
      "-0.003558718861210064\n",
      "-0.05112637801565745\n"
     ]
    },
    {
     "name": "stderr",
     "output_type": "stream",
     "text": [
      "\r",
      "5952it [02:00, 43.03it/s]"
     ]
    },
    {
     "name": "stdout",
     "output_type": "stream",
     "text": [
      "0.016574585635359185\n",
      "-0.07949253251967248\n"
     ]
    },
    {
     "name": "stderr",
     "output_type": "stream",
     "text": [
      "\r",
      "5963it [02:01, 35.70it/s]"
     ]
    },
    {
     "name": "stdout",
     "output_type": "stream",
     "text": [
      "-0.1267919719655941\n"
     ]
    },
    {
     "name": "stderr",
     "output_type": "stream",
     "text": [
      "6019it [02:01, 58.03it/s]"
     ]
    },
    {
     "name": "stdout",
     "output_type": "stream",
     "text": [
      "-0.006067610517191624\n",
      "0.0025316455696202667\n"
     ]
    },
    {
     "name": "stderr",
     "output_type": "stream",
     "text": [
      "6043it [02:01, 74.02it/s]"
     ]
    },
    {
     "name": "stdout",
     "output_type": "stream",
     "text": [
      "0.0063131313131310485\n",
      "-0.05750542299349237\n"
     ]
    },
    {
     "name": "stderr",
     "output_type": "stream",
     "text": [
      "\r",
      "6055it [02:01, 79.89it/s]"
     ]
    },
    {
     "name": "stdout",
     "output_type": "stream",
     "text": [
      "0.012584138132865075\n"
     ]
    },
    {
     "name": "stderr",
     "output_type": "stream",
     "text": [
      "6109it [02:02, 101.02it/s]"
     ]
    },
    {
     "name": "stdout",
     "output_type": "stream",
     "text": [
      "-0.01112906120983681\n",
      "-0.025633762923098824\n"
     ]
    },
    {
     "name": "stderr",
     "output_type": "stream",
     "text": [
      "\r",
      "6122it [02:02, 91.37it/s] "
     ]
    },
    {
     "name": "stdout",
     "output_type": "stream",
     "text": [
      "-0.034540859309182825\n",
      "0.06339743589743585\n"
     ]
    },
    {
     "name": "stderr",
     "output_type": "stream",
     "text": [
      "\r",
      "6134it [02:02, 59.19it/s]"
     ]
    },
    {
     "name": "stdout",
     "output_type": "stream",
     "text": [
      "0.030807025470153127\n",
      "-0.04364569961489084\n",
      "0.0264402227134104\n",
      "-0.01663585951940849\n"
     ]
    },
    {
     "name": "stderr",
     "output_type": "stream",
     "text": [
      "6164it [02:03, 49.90it/s]"
     ]
    },
    {
     "name": "stdout",
     "output_type": "stream",
     "text": [
      "-0.0036496350364962904\n",
      "-0.009099181073703333\n"
     ]
    },
    {
     "name": "stderr",
     "output_type": "stream",
     "text": [
      "\r",
      "6173it [02:03, 50.79it/s]"
     ]
    },
    {
     "name": "stdout",
     "output_type": "stream",
     "text": [
      "-0.028693118134947238\n",
      "-0.042922374429223864\n"
     ]
    },
    {
     "name": "stderr",
     "output_type": "stream",
     "text": [
      "\r",
      "6181it [02:03, 38.71it/s]"
     ]
    },
    {
     "name": "stdout",
     "output_type": "stream",
     "text": [
      "-0.1257978723404256\n",
      "-0.012530120481927809\n"
     ]
    },
    {
     "name": "stderr",
     "output_type": "stream",
     "text": [
      "6207it [02:04, 49.59it/s]"
     ]
    },
    {
     "name": "stdout",
     "output_type": "stream",
     "text": [
      "-0.09060975609756072\n",
      "-0.02322946175637386\n",
      "-0.009004739336492928\n",
      "0.0053859964093356805\n"
     ]
    },
    {
     "name": "stderr",
     "output_type": "stream",
     "text": [
      "6225it [02:04, 42.10it/s]"
     ]
    },
    {
     "name": "stdout",
     "output_type": "stream",
     "text": [
      "-0.09291763839450118\n",
      "0.09150684931506836\n",
      "-0.014481850667669605\n"
     ]
    },
    {
     "name": "stderr",
     "output_type": "stream",
     "text": [
      "\r",
      "6232it [02:05, 30.05it/s]"
     ]
    },
    {
     "name": "stdout",
     "output_type": "stream",
     "text": [
      "0.03508771929824572\n"
     ]
    },
    {
     "name": "stderr",
     "output_type": "stream",
     "text": [
      "\r",
      "6238it [02:05, 25.72it/s]"
     ]
    },
    {
     "name": "stdout",
     "output_type": "stream",
     "text": [
      "0.09242298084929224\n",
      "0.004370523248755642\n"
     ]
    },
    {
     "name": "stderr",
     "output_type": "stream",
     "text": [
      "6248it [02:05, 27.30it/s]"
     ]
    },
    {
     "name": "stdout",
     "output_type": "stream",
     "text": [
      "0.1955278211128444\n"
     ]
    },
    {
     "name": "stderr",
     "output_type": "stream",
     "text": [
      "\r",
      "6270it [02:06, 35.63it/s]"
     ]
    },
    {
     "name": "stdout",
     "output_type": "stream",
     "text": [
      "0.0009259259259257746\n",
      "0.0047990401919617565\n"
     ]
    },
    {
     "name": "stderr",
     "output_type": "stream",
     "text": [
      "6297it [02:06, 51.69it/s]"
     ]
    },
    {
     "name": "stdout",
     "output_type": "stream",
     "text": [
      "-0.01285102332222754\n",
      "-0.0008527226215129247\n"
     ]
    },
    {
     "name": "stderr",
     "output_type": "stream",
     "text": [
      "\r",
      "6324it [02:06, 64.04it/s]"
     ]
    },
    {
     "name": "stdout",
     "output_type": "stream",
     "text": [
      "-0.13844870725604685\n",
      "-0.013051584835301333\n",
      "-0.04988437396762446\n"
     ]
    },
    {
     "name": "stderr",
     "output_type": "stream",
     "text": [
      "\r",
      "6362it [02:06, 80.72it/s]"
     ]
    },
    {
     "name": "stdout",
     "output_type": "stream",
     "text": [
      "-0.018649398704902898\n"
     ]
    },
    {
     "name": "stderr",
     "output_type": "stream",
     "text": [
      "6411it [02:07, 96.40it/s]"
     ]
    },
    {
     "name": "stdout",
     "output_type": "stream",
     "text": [
      "-0.1671159029649596\n",
      "0.013751087902523995\n"
     ]
    },
    {
     "name": "stderr",
     "output_type": "stream",
     "text": [
      "\r",
      "6436it [02:07, 115.35it/s]"
     ]
    },
    {
     "name": "stdout",
     "output_type": "stream",
     "text": [
      "0.003147623544224043\n",
      "-0.15010141987829606\n"
     ]
    },
    {
     "name": "stderr",
     "output_type": "stream",
     "text": [
      "6491it [02:07, 115.05it/s]"
     ]
    },
    {
     "name": "stdout",
     "output_type": "stream",
     "text": [
      "-0.03196859226023552\n",
      "0.037217545414266695\n"
     ]
    },
    {
     "name": "stderr",
     "output_type": "stream",
     "text": [
      "\r",
      "6511it [02:07, 118.27it/s]"
     ]
    },
    {
     "name": "stdout",
     "output_type": "stream",
     "text": [
      "-0.027011494252873414\n",
      "0.0743584941000186\n"
     ]
    },
    {
     "name": "stderr",
     "output_type": "stream",
     "text": [
      "6544it [02:08, 102.02it/s]"
     ]
    },
    {
     "name": "stdout",
     "output_type": "stream",
     "text": [
      "0.014844804318488336\n",
      "-0.023728813559321882\n",
      "-0.012756516916250682\n"
     ]
    },
    {
     "name": "stderr",
     "output_type": "stream",
     "text": [
      "\r",
      "6558it [02:08, 71.04it/s] "
     ]
    },
    {
     "name": "stdout",
     "output_type": "stream",
     "text": [
      "-0.09271013656472415\n",
      "-0.015885022692889605\n"
     ]
    },
    {
     "name": "stderr",
     "output_type": "stream",
     "text": [
      "6590it [02:08, 83.27it/s]"
     ]
    },
    {
     "name": "stdout",
     "output_type": "stream",
     "text": [
      "-0.12707306140744046\n",
      "0.021369863013698698\n"
     ]
    },
    {
     "name": "stderr",
     "output_type": "stream",
     "text": [
      "6613it [02:09, 71.95it/s]"
     ]
    },
    {
     "name": "stdout",
     "output_type": "stream",
     "text": [
      "-0.02632753235162888\n",
      "-0.014416775884665833\n"
     ]
    },
    {
     "name": "stderr",
     "output_type": "stream",
     "text": [
      "\r",
      "6631it [02:09, 83.53it/s]"
     ]
    },
    {
     "name": "stdout",
     "output_type": "stream",
     "text": [
      "-0.055118110236220486\n"
     ]
    },
    {
     "name": "stderr",
     "output_type": "stream",
     "text": [
      "6668it [02:09, 84.21it/s]"
     ]
    },
    {
     "name": "stdout",
     "output_type": "stream",
     "text": [
      "0.02085940759282434\n",
      "-0.06820682068206829\n"
     ]
    },
    {
     "name": "stderr",
     "output_type": "stream",
     "text": [
      "6708it [02:09, 90.89it/s]"
     ]
    },
    {
     "name": "stdout",
     "output_type": "stream",
     "text": [
      "-0.07650073206442154\n",
      "0.04716981132075482\n"
     ]
    },
    {
     "name": "stderr",
     "output_type": "stream",
     "text": [
      "6739it [02:10, 93.21it/s] "
     ]
    },
    {
     "name": "stdout",
     "output_type": "stream",
     "text": [
      "0.0157945397269863\n",
      "-0.013455657492354889\n",
      "-0.015094843708255312\n"
     ]
    },
    {
     "name": "stderr",
     "output_type": "stream",
     "text": [
      "6761it [02:10, 57.90it/s]"
     ]
    },
    {
     "name": "stdout",
     "output_type": "stream",
     "text": [
      "-0.017543859649122973\n",
      "0.16320117670655887\n",
      "0.09538152610441775\n"
     ]
    },
    {
     "name": "stderr",
     "output_type": "stream",
     "text": [
      "6778it [02:11, 60.20it/s]"
     ]
    },
    {
     "name": "stdout",
     "output_type": "stream",
     "text": [
      "0.10825911611493866\n",
      "-0.0420560747663552\n"
     ]
    },
    {
     "name": "stderr",
     "output_type": "stream",
     "text": [
      "\r",
      "6792it [02:11, 69.68it/s]"
     ]
    },
    {
     "name": "stdout",
     "output_type": "stream",
     "text": [
      "0.04148576941630466\n",
      "0.004901960784313486\n"
     ]
    },
    {
     "name": "stderr",
     "output_type": "stream",
     "text": [
      "\r",
      "6818it [02:11, 71.99it/s]"
     ]
    },
    {
     "name": "stdout",
     "output_type": "stream",
     "text": [
      "0.01748251748251728\n"
     ]
    },
    {
     "name": "stderr",
     "output_type": "stream",
     "text": [
      "\r",
      "6832it [02:11, 67.43it/s]"
     ]
    },
    {
     "name": "stdout",
     "output_type": "stream",
     "text": [
      "-0.0020431055203909976\n"
     ]
    },
    {
     "name": "stderr",
     "output_type": "stream",
     "text": [
      "6852it [02:12, 47.77it/s]"
     ]
    },
    {
     "name": "stdout",
     "output_type": "stream",
     "text": [
      "-0.019089873005535662\n",
      "-0.034599728629579385\n"
     ]
    },
    {
     "name": "stderr",
     "output_type": "stream",
     "text": [
      "\r",
      "6859it [02:12, 45.80it/s]"
     ]
    },
    {
     "name": "stdout",
     "output_type": "stream",
     "text": [
      "-0.043741588156123834\n",
      "-0.2313341493268054\n"
     ]
    },
    {
     "name": "stderr",
     "output_type": "stream",
     "text": [
      "6871it [02:12, 41.76it/s]"
     ]
    },
    {
     "name": "stdout",
     "output_type": "stream",
     "text": [
      "-0.0027173913043477826\n",
      "-0.02032235459004894\n"
     ]
    },
    {
     "name": "stderr",
     "output_type": "stream",
     "text": [
      "6902it [02:13, 53.02it/s]"
     ]
    },
    {
     "name": "stdout",
     "output_type": "stream",
     "text": [
      "0.010839269123567474\n",
      "-0.021714285714285686\n",
      "0.05157593123209181\n"
     ]
    },
    {
     "name": "stderr",
     "output_type": "stream",
     "text": [
      "6917it [02:13, 51.83it/s]"
     ]
    },
    {
     "name": "stdout",
     "output_type": "stream",
     "text": [
      "0.06216377764494885\n",
      "0.08507042253521124\n"
     ]
    },
    {
     "name": "stderr",
     "output_type": "stream",
     "text": [
      "6987it [02:13, 97.92it/s]"
     ]
    },
    {
     "name": "stdout",
     "output_type": "stream",
     "text": [
      "0.008364312267657992\n",
      "0.08941027266962598\n",
      "-0.15219212510471936\n",
      "-0.16285516285516288\n",
      "0.6100917431192658\n"
     ]
    },
    {
     "name": "stderr",
     "output_type": "stream",
     "text": [
      "7021it [02:14, 82.74it/s]"
     ]
    },
    {
     "name": "stdout",
     "output_type": "stream",
     "text": [
      "-0.10801630434782605\n",
      "-0.054782608695652324\n",
      "-0.13654458598726127\n",
      "-0.13692307692307681\n"
     ]
    },
    {
     "name": "stderr",
     "output_type": "stream",
     "text": [
      "\r",
      "7034it [02:14, 53.70it/s]"
     ]
    },
    {
     "name": "stdout",
     "output_type": "stream",
     "text": [
      "-0.30783817951959547\n"
     ]
    },
    {
     "name": "stderr",
     "output_type": "stream",
     "text": [
      "\r",
      "7044it [02:14, 47.26it/s]"
     ]
    },
    {
     "name": "stdout",
     "output_type": "stream",
     "text": [
      "-0.01803182086034172\n"
     ]
    },
    {
     "name": "stderr",
     "output_type": "stream",
     "text": [
      "\r",
      "7052it [02:15, 29.82it/s]"
     ]
    },
    {
     "name": "stdout",
     "output_type": "stream",
     "text": [
      "0.0066037735849058254\n",
      "-0.08514335360556025\n"
     ]
    },
    {
     "name": "stderr",
     "output_type": "stream",
     "text": [
      "\r",
      "7059it [02:17, 10.64it/s]"
     ]
    },
    {
     "name": "stdout",
     "output_type": "stream",
     "text": [
      "-0.1594827586206896\n",
      "-0.12647861692447682\n"
     ]
    },
    {
     "name": "stderr",
     "output_type": "stream",
     "text": [
      "\r",
      "7077it [02:17, 14.32it/s]"
     ]
    },
    {
     "name": "stdout",
     "output_type": "stream",
     "text": [
      "0.16860116069641795\n"
     ]
    },
    {
     "name": "stderr",
     "output_type": "stream",
     "text": [
      "7099it [02:17, 23.55it/s]"
     ]
    },
    {
     "name": "stdout",
     "output_type": "stream",
     "text": [
      "0.051130776794493515\n",
      "-0.008107531470023632\n",
      "0.02364574376612194\n"
     ]
    },
    {
     "name": "stderr",
     "output_type": "stream",
     "text": [
      "\r",
      "7175it [02:17, 32.97it/s]"
     ]
    },
    {
     "name": "stdout",
     "output_type": "stream",
     "text": [
      "-0.028833198598760656\n",
      "-0.014432989690721598\n"
     ]
    },
    {
     "name": "stderr",
     "output_type": "stream",
     "text": [
      "\r",
      "7200it [02:18, 39.49it/s]"
     ]
    },
    {
     "name": "stdout",
     "output_type": "stream",
     "text": [
      "0.0243741765480896\n",
      "0.0060975609756095395\n",
      "-0.05327868852459017\n"
     ]
    },
    {
     "name": "stderr",
     "output_type": "stream",
     "text": [
      "7249it [02:18, 47.47it/s]"
     ]
    },
    {
     "name": "stdout",
     "output_type": "stream",
     "text": [
      "-0.02219815917704382\n",
      "0.030982201713908974\n",
      "-0.026400862068965414\n"
     ]
    },
    {
     "name": "stderr",
     "output_type": "stream",
     "text": [
      "\r",
      "7264it [02:18, 56.56it/s]"
     ]
    },
    {
     "name": "stdout",
     "output_type": "stream",
     "text": [
      "-0.037135278514588865\n",
      "0.08596783139212438\n",
      "0.10109763142692074\n"
     ]
    },
    {
     "name": "stderr",
     "output_type": "stream",
     "text": [
      "\r",
      "7277it [02:19, 51.53it/s]"
     ]
    },
    {
     "name": "stdout",
     "output_type": "stream",
     "text": [
      "0.09439638962015806\n",
      "0.09896193771626294\n"
     ]
    },
    {
     "name": "stderr",
     "output_type": "stream",
     "text": [
      "\r",
      "7288it [02:19, 46.50it/s]"
     ]
    },
    {
     "name": "stdout",
     "output_type": "stream",
     "text": [
      "0.004416731618602121\n",
      "0.03515996198923044\n"
     ]
    },
    {
     "name": "stderr",
     "output_type": "stream",
     "text": [
      "7329it [02:20, 54.73it/s]"
     ]
    },
    {
     "name": "stdout",
     "output_type": "stream",
     "text": [
      "-0.00025726781579626934\n",
      "0.0\n"
     ]
    },
    {
     "name": "stderr",
     "output_type": "stream",
     "text": [
      "7378it [02:20, 78.44it/s]"
     ]
    },
    {
     "name": "stdout",
     "output_type": "stream",
     "text": [
      "0.034576534576534756\n",
      "-0.0218678815489749\n",
      "0.004832810867293702\n"
     ]
    },
    {
     "name": "stderr",
     "output_type": "stream",
     "text": [
      "\r",
      "7393it [02:20, 72.09it/s]"
     ]
    },
    {
     "name": "stdout",
     "output_type": "stream",
     "text": [
      "-0.0009124087591241281\n",
      "-0.005684125050750999\n",
      "-0.020150138285262686\n"
     ]
    },
    {
     "name": "stderr",
     "output_type": "stream",
     "text": [
      "\r",
      "7406it [02:20, 72.42it/s]"
     ]
    },
    {
     "name": "stdout",
     "output_type": "stream",
     "text": [
      "-0.018065034122842105\n",
      "-0.06787833827893164\n",
      "-0.09609708101016712\n"
     ]
    },
    {
     "name": "stderr",
     "output_type": "stream",
     "text": [
      "7449it [02:21, 82.20it/s]"
     ]
    },
    {
     "name": "stdout",
     "output_type": "stream",
     "text": [
      "-0.07819804504887373\n",
      "0.0023169005019949562\n"
     ]
    },
    {
     "name": "stderr",
     "output_type": "stream",
     "text": [
      "\r",
      "7460it [02:21, 85.38it/s]"
     ]
    },
    {
     "name": "stdout",
     "output_type": "stream",
     "text": [
      "-0.006171953495048177\n"
     ]
    },
    {
     "name": "stderr",
     "output_type": "stream",
     "text": [
      "7507it [02:21, 109.23it/s]"
     ]
    },
    {
     "name": "stdout",
     "output_type": "stream",
     "text": [
      "-0.006425555351569745\n",
      "-0.013370216689718828\n",
      "-0.04507211538461553\n",
      "-0.024677509814918674\n",
      "-0.060500911962275916\n"
     ]
    },
    {
     "name": "stderr",
     "output_type": "stream",
     "text": [
      "\r",
      "7521it [02:22, 60.35it/s] "
     ]
    },
    {
     "name": "stdout",
     "output_type": "stream",
     "text": [
      "0.0072342793544797335\n",
      "0.004892885480031861\n"
     ]
    },
    {
     "name": "stderr",
     "output_type": "stream",
     "text": [
      "7577it [02:22, 86.95it/s]"
     ]
    },
    {
     "name": "stdout",
     "output_type": "stream",
     "text": [
      "0.014769261788945665\n",
      "-0.0450928381962864\n"
     ]
    },
    {
     "name": "stderr",
     "output_type": "stream",
     "text": [
      "7641it [02:22, 119.64it/s]"
     ]
    },
    {
     "name": "stdout",
     "output_type": "stream",
     "text": [
      "-0.0011918951132300348\n",
      "0.006582884500299091\n",
      "-0.005226480836236891\n",
      "0.04202311271199166\n"
     ]
    },
    {
     "name": "stderr",
     "output_type": "stream",
     "text": [
      "\r",
      "7660it [02:22, 124.26it/s]"
     ]
    },
    {
     "name": "stdout",
     "output_type": "stream",
     "text": [
      "0.000556792873051215\n",
      "-0.04751958224543085\n",
      "-0.022003284072249496\n"
     ]
    },
    {
     "name": "stderr",
     "output_type": "stream",
     "text": [
      "7699it [02:23, 104.15it/s]"
     ]
    },
    {
     "name": "stdout",
     "output_type": "stream",
     "text": [
      "-0.022331154684095966\n",
      "0.07790549169859506\n",
      "-0.004180274330502942\n",
      "0.08524590163934431\n"
     ]
    },
    {
     "name": "stderr",
     "output_type": "stream",
     "text": [
      "7756it [02:23, 128.97it/s]"
     ]
    },
    {
     "name": "stdout",
     "output_type": "stream",
     "text": [
      "0.03212658834811788\n",
      "-0.025163963667297895\n"
     ]
    },
    {
     "name": "stderr",
     "output_type": "stream",
     "text": [
      "\r",
      "7775it [02:23, 121.07it/s]"
     ]
    },
    {
     "name": "stdout",
     "output_type": "stream",
     "text": [
      "-0.003132341425215346\n",
      "-0.008592631167816722\n"
     ]
    },
    {
     "name": "stderr",
     "output_type": "stream",
     "text": [
      "\r",
      "7791it [02:24, 63.78it/s] "
     ]
    },
    {
     "name": "stdout",
     "output_type": "stream",
     "text": [
      "-0.0036477331943719493\n",
      "0.006684491978609541\n"
     ]
    },
    {
     "name": "stderr",
     "output_type": "stream",
     "text": [
      "7831it [02:24, 67.36it/s]"
     ]
    },
    {
     "name": "stdout",
     "output_type": "stream",
     "text": [
      "0.03842298696959556\n",
      "0.003273322422258529\n",
      "0.019624573378839605\n"
     ]
    },
    {
     "name": "stderr",
     "output_type": "stream",
     "text": [
      "7875it [02:25, 93.79it/s]"
     ]
    },
    {
     "name": "stdout",
     "output_type": "stream",
     "text": [
      "-0.032498307379823954\n",
      "0.0343219021232084\n",
      "-0.20040383644623927\n",
      "-0.004550773631517457\n"
     ]
    },
    {
     "name": "stderr",
     "output_type": "stream",
     "text": [
      "\r",
      "7889it [02:25, 58.52it/s]"
     ]
    },
    {
     "name": "stdout",
     "output_type": "stream",
     "text": [
      "0.10430686406460277\n",
      "-0.06194251734390499\n",
      "-0.030919703423252787\n"
     ]
    },
    {
     "name": "stderr",
     "output_type": "stream",
     "text": [
      "\r",
      "7900it [02:25, 51.64it/s]"
     ]
    },
    {
     "name": "stdout",
     "output_type": "stream",
     "text": [
      "-0.015151515151515138\n",
      "-0.016365540717465432\n"
     ]
    },
    {
     "name": "stderr",
     "output_type": "stream",
     "text": [
      "\r",
      "7914it [02:26, 39.05it/s]"
     ]
    },
    {
     "name": "stdout",
     "output_type": "stream",
     "text": [
      "0.03441084462982258\n"
     ]
    },
    {
     "name": "stderr",
     "output_type": "stream",
     "text": [
      "\r",
      "7922it [02:26, 36.48it/s]"
     ]
    },
    {
     "name": "stdout",
     "output_type": "stream",
     "text": [
      "0.11987457790641565\n",
      "0.004123546782303311\n"
     ]
    },
    {
     "name": "stderr",
     "output_type": "stream",
     "text": [
      "7953it [02:27, 49.40it/s]"
     ]
    },
    {
     "name": "stdout",
     "output_type": "stream",
     "text": [
      "-0.023679417122040025\n",
      "0.06792452830188678\n",
      "-0.002393776181927043\n"
     ]
    },
    {
     "name": "stderr",
     "output_type": "stream",
     "text": [
      "7968it [02:27, 57.97it/s]"
     ]
    },
    {
     "name": "stdout",
     "output_type": "stream",
     "text": [
      "-0.007320644216691097\n",
      "-0.016855371689123433\n"
     ]
    },
    {
     "name": "stderr",
     "output_type": "stream",
     "text": [
      "7991it [02:27, 45.96it/s]"
     ]
    },
    {
     "name": "stdout",
     "output_type": "stream",
     "text": [
      "0.03691029088242481\n"
     ]
    },
    {
     "name": "stderr",
     "output_type": "stream",
     "text": [
      "\r",
      "8005it [02:28, 54.45it/s]"
     ]
    },
    {
     "name": "stdout",
     "output_type": "stream",
     "text": [
      "-0.017554125219426564\n",
      "-0.01817569841804123\n"
     ]
    },
    {
     "name": "stderr",
     "output_type": "stream",
     "text": [
      "8058it [02:28, 78.43it/s]"
     ]
    },
    {
     "name": "stdout",
     "output_type": "stream",
     "text": [
      "-0.006286080821039097\n",
      "-0.012048192771084376\n"
     ]
    },
    {
     "name": "stderr",
     "output_type": "stream",
     "text": [
      "8099it [02:28, 102.26it/s]"
     ]
    },
    {
     "name": "stdout",
     "output_type": "stream",
     "text": [
      "0.022168963451168366\n",
      "0.13892215568862287\n",
      "0.18453769519993424\n",
      "-0.09242860305512512\n"
     ]
    },
    {
     "name": "stderr",
     "output_type": "stream",
     "text": [
      "\r",
      "8112it [02:29, 53.65it/s] "
     ]
    },
    {
     "name": "stdout",
     "output_type": "stream",
     "text": [
      "0.014945289564985531\n",
      "0.024960169941582677\n"
     ]
    },
    {
     "name": "stderr",
     "output_type": "stream",
     "text": [
      "8131it [02:29, 61.75it/s]"
     ]
    },
    {
     "name": "stdout",
     "output_type": "stream",
     "text": [
      "-0.017021732148592372\n",
      "-0.0009380863039398779\n"
     ]
    },
    {
     "name": "stderr",
     "output_type": "stream",
     "text": [
      "8169it [02:29, 70.91it/s]"
     ]
    },
    {
     "name": "stdout",
     "output_type": "stream",
     "text": [
      "-0.08321775312066582\n",
      "0.013688803873513011\n"
     ]
    },
    {
     "name": "stderr",
     "output_type": "stream",
     "text": [
      "\r",
      "8187it [02:30, 76.95it/s]"
     ]
    },
    {
     "name": "stdout",
     "output_type": "stream",
     "text": [
      "0.012352941176470456\n",
      "0.005737428282146517\n",
      "-0.0036900369003689537\n"
     ]
    },
    {
     "name": "stderr",
     "output_type": "stream",
     "text": [
      "\r",
      "8197it [02:30, 43.17it/s]"
     ]
    },
    {
     "name": "stdout",
     "output_type": "stream",
     "text": [
      "0.0571273122959739\n"
     ]
    },
    {
     "name": "stderr",
     "output_type": "stream",
     "text": [
      "8257it [02:31, 61.56it/s]"
     ]
    },
    {
     "name": "stdout",
     "output_type": "stream",
     "text": [
      "-0.1339634817598604\n",
      "-0.005565068493150638\n",
      "-0.15072958708475637\n"
     ]
    },
    {
     "name": "stderr",
     "output_type": "stream",
     "text": [
      "8292it [02:31, 72.59it/s]"
     ]
    },
    {
     "name": "stdout",
     "output_type": "stream",
     "text": [
      "-0.043486041517537544\n",
      "-0.003972194637537396\n",
      "-0.00351339481774271\n"
     ]
    },
    {
     "name": "stderr",
     "output_type": "stream",
     "text": [
      "8317it [02:31, 84.77it/s]"
     ]
    },
    {
     "name": "stdout",
     "output_type": "stream",
     "text": [
      "-0.05359722623519214\n",
      "-0.014635463988409536\n"
     ]
    },
    {
     "name": "stderr",
     "output_type": "stream",
     "text": [
      "8370it [02:31, 104.61it/s]"
     ]
    },
    {
     "name": "stdout",
     "output_type": "stream",
     "text": [
      "-0.022912423625254585\n",
      "-0.044520547945205435\n",
      "0.11373801916932913\n",
      "0.014519056261342866\n"
     ]
    },
    {
     "name": "stderr",
     "output_type": "stream",
     "text": [
      "8406it [02:32, 111.40it/s]"
     ]
    },
    {
     "name": "stdout",
     "output_type": "stream",
     "text": [
      "0.014228546020453647\n",
      "0.019999999999999796\n"
     ]
    },
    {
     "name": "stderr",
     "output_type": "stream",
     "text": [
      "8441it [02:32, 122.92it/s]"
     ]
    },
    {
     "name": "stdout",
     "output_type": "stream",
     "text": [
      "0.014191717197781006\n",
      "0.5821406347230866\n"
     ]
    },
    {
     "name": "stderr",
     "output_type": "stream",
     "text": [
      "\r",
      "8456it [02:32, 81.50it/s] "
     ]
    },
    {
     "name": "stdout",
     "output_type": "stream",
     "text": [
      "0.01324965132496514\n",
      "0.010415094339622621\n",
      "-0.004121393780442073\n"
     ]
    },
    {
     "name": "stderr",
     "output_type": "stream",
     "text": [
      "8482it [02:33, 77.60it/s]"
     ]
    },
    {
     "name": "stdout",
     "output_type": "stream",
     "text": [
      "0.040856890459363804\n",
      "-0.009208103130755041\n"
     ]
    },
    {
     "name": "stderr",
     "output_type": "stream",
     "text": [
      "\r",
      "8492it [02:33, 74.45it/s]"
     ]
    },
    {
     "name": "stdout",
     "output_type": "stream",
     "text": [
      "0.016744186046511622\n",
      "0.024765478424014997\n",
      "0.05656848994857411\n"
     ]
    },
    {
     "name": "stderr",
     "output_type": "stream",
     "text": [
      "8510it [02:33, 54.91it/s]"
     ]
    },
    {
     "name": "stdout",
     "output_type": "stream",
     "text": [
      "0.047641073080481044\n",
      "0.009556481254594518\n",
      "-0.09036301906502997\n",
      "-0.06335514574657941\n"
     ]
    },
    {
     "name": "stderr",
     "output_type": "stream",
     "text": [
      "8566it [02:34, 71.95it/s]"
     ]
    },
    {
     "name": "stdout",
     "output_type": "stream",
     "text": [
      "-0.0019482819695358922\n",
      "-0.02820569047749577\n",
      "-0.004784688995215225\n"
     ]
    },
    {
     "name": "stderr",
     "output_type": "stream",
     "text": [
      "\r",
      "8575it [02:34, 75.43it/s]"
     ]
    },
    {
     "name": "stdout",
     "output_type": "stream",
     "text": [
      "0.035536411360882925\n",
      "0.007788354555569477\n"
     ]
    },
    {
     "name": "stderr",
     "output_type": "stream",
     "text": [
      "\r",
      "8584it [02:34, 49.13it/s]"
     ]
    },
    {
     "name": "stdout",
     "output_type": "stream",
     "text": [
      "-0.001491795126802531\n",
      "0.08241940844134277\n"
     ]
    },
    {
     "name": "stderr",
     "output_type": "stream",
     "text": [
      "8611it [02:35, 59.04it/s]"
     ]
    },
    {
     "name": "stdout",
     "output_type": "stream",
     "text": [
      "-0.009970918155380204\n",
      "-0.006562500000000027\n",
      "-0.1132075471698113\n"
     ]
    },
    {
     "name": "stderr",
     "output_type": "stream",
     "text": [
      "8627it [02:35, 41.33it/s]"
     ]
    },
    {
     "name": "stdout",
     "output_type": "stream",
     "text": [
      "-0.14532019704433485\n",
      "-0.07163323782234965\n",
      "-0.014788373278939226\n"
     ]
    },
    {
     "name": "stderr",
     "output_type": "stream",
     "text": [
      "\r",
      "8646it [02:35, 47.23it/s]"
     ]
    },
    {
     "name": "stdout",
     "output_type": "stream",
     "text": [
      "0.001221299462628167\n",
      "0.09273570324574965\n"
     ]
    },
    {
     "name": "stderr",
     "output_type": "stream",
     "text": [
      "8665it [02:36, 54.79it/s]"
     ]
    },
    {
     "name": "stdout",
     "output_type": "stream",
     "text": [
      "0.07926267281105992\n",
      "0.002827984753473567\n",
      "-0.008819538670285065\n",
      "0.0021394950791613354\n"
     ]
    },
    {
     "name": "stderr",
     "output_type": "stream",
     "text": [
      "8725it [02:36, 72.06it/s]"
     ]
    },
    {
     "name": "stdout",
     "output_type": "stream",
     "text": [
      "0.00773349196906592\n",
      "-0.01363698349924991\n",
      "0.0\n"
     ]
    },
    {
     "name": "stderr",
     "output_type": "stream",
     "text": [
      "8741it [02:37, 28.88it/s]"
     ]
    },
    {
     "name": "stdout",
     "output_type": "stream",
     "text": [
      "0.04191114836546528\n",
      "0.00886699507389177\n",
      "-0.08917197452229286\n"
     ]
    },
    {
     "name": "stderr",
     "output_type": "stream",
     "text": [
      "\r",
      "8750it [02:37, 34.10it/s]"
     ]
    },
    {
     "name": "stdout",
     "output_type": "stream",
     "text": [
      "-0.03825831702544025\n",
      "-0.03688212927756651\n",
      "-0.007589556769884598\n"
     ]
    },
    {
     "name": "stderr",
     "output_type": "stream",
     "text": [
      "8764it [02:38, 31.09it/s]"
     ]
    },
    {
     "name": "stdout",
     "output_type": "stream",
     "text": [
      "-0.041554599246906965\n",
      "0.00030515715593537607\n",
      "-0.03784295175023655\n"
     ]
    },
    {
     "name": "stderr",
     "output_type": "stream",
     "text": [
      "\r",
      "8782it [02:38, 41.35it/s]"
     ]
    },
    {
     "name": "stdout",
     "output_type": "stream",
     "text": [
      "0.01695057129703259\n",
      "0.005109644453906936\n",
      "0.010969285999202327\n"
     ]
    },
    {
     "name": "stderr",
     "output_type": "stream",
     "text": [
      "\r",
      "8791it [02:38, 37.66it/s]"
     ]
    },
    {
     "name": "stdout",
     "output_type": "stream",
     "text": [
      "-0.11468288444830566\n",
      "-0.002339325289337668\n"
     ]
    },
    {
     "name": "stderr",
     "output_type": "stream",
     "text": [
      "8832it [02:39, 52.99it/s]"
     ]
    },
    {
     "name": "stdout",
     "output_type": "stream",
     "text": [
      "0.021844660194174637\n",
      "0.005102040816326481\n",
      "0.037061331584125945\n"
     ]
    },
    {
     "name": "stderr",
     "output_type": "stream",
     "text": [
      "8857it [02:39, 71.46it/s]"
     ]
    },
    {
     "name": "stdout",
     "output_type": "stream",
     "text": [
      "0.011260236578708005\n",
      "0.16905989919118514\n",
      "0.019645424053665428\n"
     ]
    },
    {
     "name": "stderr",
     "output_type": "stream",
     "text": [
      "8909it [02:39, 102.54it/s]"
     ]
    },
    {
     "name": "stdout",
     "output_type": "stream",
     "text": [
      "0.027569909413154736\n",
      "0.008370702541106168\n",
      "-0.02145922746781115\n",
      "0.0023536635284486795\n"
     ]
    },
    {
     "name": "stderr",
     "output_type": "stream",
     "text": [
      "\r",
      "8925it [02:39, 98.19it/s] "
     ]
    },
    {
     "name": "stdout",
     "output_type": "stream",
     "text": [
      "0.07792925571112752\n",
      "0.00366300366300365\n",
      "0.010202580075538314\n"
     ]
    },
    {
     "name": "stderr",
     "output_type": "stream",
     "text": [
      "8969it [02:40, 113.34it/s]"
     ]
    },
    {
     "name": "stdout",
     "output_type": "stream",
     "text": [
      "0.024920020205421833\n",
      "-0.019512195121951237\n",
      "-0.026193633952254602\n"
     ]
    },
    {
     "name": "stderr",
     "output_type": "stream",
     "text": [
      "9052it [02:40, 140.56it/s]"
     ]
    },
    {
     "name": "stdout",
     "output_type": "stream",
     "text": [
      "0.01785714285714257\n",
      "-0.0019175455417066445\n",
      "0.025453143077516227\n",
      "0.0035058027079302168\n",
      "0.014020618556701114\n"
     ]
    },
    {
     "name": "stderr",
     "output_type": "stream",
     "text": [
      "9131it [02:41, 86.79it/s] "
     ]
    },
    {
     "name": "stdout",
     "output_type": "stream",
     "text": [
      "0.008603031544448969\n",
      "0.021547900650502605\n",
      "0.013749999999999929\n"
     ]
    },
    {
     "name": "stderr",
     "output_type": "stream",
     "text": [
      "\r",
      "9153it [02:41, 84.92it/s]"
     ]
    },
    {
     "name": "stdout",
     "output_type": "stream",
     "text": [
      "-0.0023809523809522615\n",
      "-0.023539668700958916\n"
     ]
    },
    {
     "name": "stderr",
     "output_type": "stream",
     "text": [
      "\r",
      "9171it [02:42, 55.39it/s]"
     ]
    },
    {
     "name": "stdout",
     "output_type": "stream",
     "text": [
      "-0.023485321673953674\n",
      "0.00840426678159667\n"
     ]
    },
    {
     "name": "stderr",
     "output_type": "stream",
     "text": [
      "9198it [02:42, 76.82it/s]"
     ]
    },
    {
     "name": "stdout",
     "output_type": "stream",
     "text": [
      "0.00976361767728684\n",
      "0.0139211136890951\n",
      "-0.01442337710991326\n"
     ]
    },
    {
     "name": "stderr",
     "output_type": "stream",
     "text": [
      "\r",
      "9216it [02:42, 81.42it/s]"
     ]
    },
    {
     "name": "stdout",
     "output_type": "stream",
     "text": [
      "-0.04344660194174765\n",
      "-0.050000000000000044\n"
     ]
    },
    {
     "name": "stderr",
     "output_type": "stream",
     "text": [
      "\r",
      "9228it [02:43, 57.18it/s]"
     ]
    },
    {
     "name": "stdout",
     "output_type": "stream",
     "text": [
      "-0.04062038404726742\n",
      "-0.005930318754633124\n",
      "-0.005537974683544333\n"
     ]
    },
    {
     "name": "stderr",
     "output_type": "stream",
     "text": [
      "9291it [02:43, 74.22it/s]"
     ]
    },
    {
     "name": "stdout",
     "output_type": "stream",
     "text": [
      "0.022977022977022976\n",
      "0.048099301784328974\n",
      "-0.003362809814422607\n"
     ]
    },
    {
     "name": "stderr",
     "output_type": "stream",
     "text": [
      "\r",
      "9358it [02:43, 101.22it/s]"
     ]
    },
    {
     "name": "stdout",
     "output_type": "stream",
     "text": [
      "-0.04973869165615419\n",
      "0.006244424620874156\n",
      "-0.08142903121982625\n",
      "0.01669302407309803\n",
      "0.0004771751232701682\n",
      "0.0011124845488257318\n",
      "0.03226454920092481\n",
      "0.008917197452229297\n",
      "-0.08911982364981885\n",
      "-0.05367016205910369\n",
      "-0.10665646518745231\n",
      "0.01795803066989521\n",
      "-0.2196090894644842\n",
      "0.030470914127423976\n",
      "0.107727570399476\n",
      "0.04529914529914514\n",
      "0.0013393777045125344\n",
      "0.07726672758655706\n",
      "-0.20372786579683133\n"
     ]
    },
    {
     "name": "stderr",
     "output_type": "stream",
     "text": [
      "\r",
      "9387it [02:46, 27.18it/s] "
     ]
    },
    {
     "name": "stdout",
     "output_type": "stream",
     "text": [
      "-0.34200413833875254\n",
      "-0.1814742967992241\n",
      "-0.13008493518104614\n",
      "-0.10498297740637574\n",
      "0.1078431372549018\n",
      "-0.04080335579000893\n",
      "0.14582749929991579\n",
      "0.04531625300240183\n",
      "-0.01461187214611881\n",
      "0.025641025641025772\n",
      "-0.038532110091743066\n",
      "-0.014258131590672796\n",
      "-0.0579634464751958\n",
      "-0.004711962304301598\n",
      "-0.004652605459056991\n",
      "0.009724965810666841\n",
      "-0.07331519129182018\n"
     ]
    },
    {
     "name": "stderr",
     "output_type": "stream",
     "text": [
      "\r",
      "9408it [02:49, 15.60it/s]"
     ]
    },
    {
     "name": "stdout",
     "output_type": "stream",
     "text": [
      "0.08082997832146188\n",
      "-0.01932218984818279\n",
      "0.009567265234029954\n",
      "0.017142033995966477\n",
      "0.03471196454948311\n",
      "-0.019625892922895627\n",
      "0.09075907590759069\n",
      "-0.00021834061135372895\n"
     ]
    },
    {
     "name": "stderr",
     "output_type": "stream",
     "text": [
      "\r",
      "9423it [02:50, 13.96it/s]"
     ]
    },
    {
     "name": "stdout",
     "output_type": "stream",
     "text": [
      "-0.017764092846991986\n",
      "0.004578313253011945\n",
      "-0.04319371727748689\n",
      "-0.002001334222815232\n",
      "-0.08075893943079548\n",
      "-0.01213130352045666\n",
      "-0.006257110352673623\n",
      "0.008022922636103269\n",
      "0.019866415482103106\n",
      "-0.05999008428358943\n"
     ]
    },
    {
     "name": "stderr",
     "output_type": "stream",
     "text": [
      "\r",
      "9434it [02:52, 10.64it/s]"
     ]
    },
    {
     "name": "stdout",
     "output_type": "stream",
     "text": [
      "0.059929494712103404\n",
      "0.04133658943355778\n",
      "-0.11564310544611822\n",
      "-0.05848513902205155\n",
      "-0.07020364415862812\n",
      "-0.0387314790746035\n"
     ]
    },
    {
     "name": "stderr",
     "output_type": "stream",
     "text": [
      "\r",
      "9442it [02:53,  8.47it/s]"
     ]
    },
    {
     "name": "stdout",
     "output_type": "stream",
     "text": [
      "0.0032778924365668427\n",
      "-0.023117338003502685\n",
      "-0.00750670241286866\n",
      "-0.02663024923181956\n"
     ]
    },
    {
     "name": "stderr",
     "output_type": "stream",
     "text": [
      "\r",
      "9448it [02:54,  8.93it/s]"
     ]
    },
    {
     "name": "stdout",
     "output_type": "stream",
     "text": [
      "-0.014145141451414545\n",
      "-0.0325112107623321\n",
      "-0.012141280353200834\n",
      "0.001350894967916183\n"
     ]
    },
    {
     "name": "stderr",
     "output_type": "stream",
     "text": [
      "9457it [02:54, 10.56it/s]"
     ]
    },
    {
     "name": "stdout",
     "output_type": "stream",
     "text": [
      "-0.0984615384615386\n",
      "0.01645979492714522\n"
     ]
    },
    {
     "name": "stderr",
     "output_type": "stream",
     "text": [
      "\r",
      "9460it [02:55, 10.64it/s]"
     ]
    },
    {
     "name": "stdout",
     "output_type": "stream",
     "text": [
      "-0.016480595427963762\n",
      "0.012087912087912045\n"
     ]
    },
    {
     "name": "stderr",
     "output_type": "stream",
     "text": [
      "9466it [02:55, 14.13it/s]"
     ]
    },
    {
     "name": "stdout",
     "output_type": "stream",
     "text": [
      "-0.02049716528565204\n",
      "0.01407549584133072\n"
     ]
    },
    {
     "name": "stderr",
     "output_type": "stream",
     "text": [
      "\r",
      "9469it [02:55, 16.15it/s]"
     ]
    },
    {
     "name": "stdout",
     "output_type": "stream",
     "text": [
      "0.031419939577039147\n",
      "0.03739855231410383\n"
     ]
    },
    {
     "name": "stderr",
     "output_type": "stream",
     "text": [
      "\r",
      "9472it [02:56, 11.99it/s]"
     ]
    },
    {
     "name": "stdout",
     "output_type": "stream",
     "text": [
      "0.009108159392789306\n",
      "-0.08245358572988704\n"
     ]
    },
    {
     "name": "stderr",
     "output_type": "stream",
     "text": [
      "9476it [02:56, 13.02it/s]"
     ]
    },
    {
     "name": "stdout",
     "output_type": "stream",
     "text": [
      "-0.03001876172607887\n",
      "-0.07748600947051221\n"
     ]
    },
    {
     "name": "stderr",
     "output_type": "stream",
     "text": [
      "\r",
      "9478it [02:56,  9.65it/s]"
     ]
    },
    {
     "name": "stdout",
     "output_type": "stream",
     "text": [
      "-0.013990825688073416\n",
      "-0.036435253569670034\n"
     ]
    },
    {
     "name": "stderr",
     "output_type": "stream",
     "text": [
      "\r",
      "9480it [02:56,  8.92it/s]"
     ]
    },
    {
     "name": "stdout",
     "output_type": "stream",
     "text": [
      "0.025286259541984712\n",
      "-0.055584415584415625\n"
     ]
    },
    {
     "name": "stderr",
     "output_type": "stream",
     "text": [
      "9485it [02:57, 10.60it/s]"
     ]
    },
    {
     "name": "stdout",
     "output_type": "stream",
     "text": [
      "-0.07285078472710227\n",
      "-0.1392117230924711\n"
     ]
    },
    {
     "name": "stderr",
     "output_type": "stream",
     "text": [
      "\r",
      "9487it [02:57,  7.79it/s]"
     ]
    },
    {
     "name": "stdout",
     "output_type": "stream",
     "text": [
      "0.017225747960109006\n",
      "-0.058364634498699774\n"
     ]
    },
    {
     "name": "stderr",
     "output_type": "stream",
     "text": [
      "9493it [02:58,  9.68it/s]"
     ]
    },
    {
     "name": "stdout",
     "output_type": "stream",
     "text": [
      "-0.03615702479338845\n",
      "-0.5920102385958498\n"
     ]
    },
    {
     "name": "stderr",
     "output_type": "stream",
     "text": [
      "9499it [02:58, 12.08it/s]"
     ]
    },
    {
     "name": "stdout",
     "output_type": "stream",
     "text": [
      "-0.3690825135514957\n",
      "-0.07952548330404197\n"
     ]
    },
    {
     "name": "stderr",
     "output_type": "stream",
     "text": [
      "\r",
      "9501it [02:58, 10.23it/s]"
     ]
    },
    {
     "name": "stdout",
     "output_type": "stream",
     "text": [
      "0.004204204204204087\n",
      "0.028021978021977922\n"
     ]
    },
    {
     "name": "stderr",
     "output_type": "stream",
     "text": [
      "\r",
      "9503it [02:59, 10.70it/s]"
     ]
    },
    {
     "name": "stdout",
     "output_type": "stream",
     "text": [
      "0.0\n"
     ]
    },
    {
     "name": "stderr",
     "output_type": "stream",
     "text": [
      "9507it [02:59, 10.26it/s]"
     ]
    },
    {
     "name": "stdout",
     "output_type": "stream",
     "text": [
      "0.027093596059113212\n",
      "-0.09641873278236912\n"
     ]
    },
    {
     "name": "stderr",
     "output_type": "stream",
     "text": [
      "9511it [02:59, 11.27it/s]"
     ]
    },
    {
     "name": "stdout",
     "output_type": "stream",
     "text": [
      "0.0759280089988752\n",
      "-0.02605281941470383\n"
     ]
    },
    {
     "name": "stderr",
     "output_type": "stream",
     "text": [
      "\r",
      "9513it [03:00,  9.53it/s]"
     ]
    },
    {
     "name": "stdout",
     "output_type": "stream",
     "text": [
      "0.020000000000000018\n",
      "0.004217926186291798\n"
     ]
    },
    {
     "name": "stderr",
     "output_type": "stream",
     "text": [
      "\r",
      "9517it [03:00, 11.77it/s]"
     ]
    },
    {
     "name": "stdout",
     "output_type": "stream",
     "text": [
      "-0.012479201331114798\n"
     ]
    },
    {
     "name": "stderr",
     "output_type": "stream",
     "text": [
      "\r",
      "9519it [03:00,  8.51it/s]"
     ]
    },
    {
     "name": "stdout",
     "output_type": "stream",
     "text": [
      "0.015173410404624388\n",
      "-0.07047387606318345\n"
     ]
    },
    {
     "name": "stderr",
     "output_type": "stream",
     "text": [
      "\r",
      "9521it [03:00,  9.37it/s]"
     ]
    },
    {
     "name": "stdout",
     "output_type": "stream",
     "text": [
      "0.015840220385674897\n"
     ]
    },
    {
     "name": "stderr",
     "output_type": "stream",
     "text": [
      "\r",
      "9523it [03:01,  7.97it/s]"
     ]
    },
    {
     "name": "stdout",
     "output_type": "stream",
     "text": [
      "0.004673363823370913\n"
     ]
    },
    {
     "name": "stderr",
     "output_type": "stream",
     "text": [
      "9527it [03:01,  9.35it/s]"
     ]
    },
    {
     "name": "stdout",
     "output_type": "stream",
     "text": [
      "0.03983445421624432\n",
      "-0.01633865577422966\n"
     ]
    },
    {
     "name": "stderr",
     "output_type": "stream",
     "text": [
      "9531it [03:01, 10.09it/s]"
     ]
    },
    {
     "name": "stdout",
     "output_type": "stream",
     "text": [
      "0.028467908902691352\n",
      "0.11154887958630866\n"
     ]
    },
    {
     "name": "stderr",
     "output_type": "stream",
     "text": [
      "9536it [03:02, 12.68it/s]"
     ]
    },
    {
     "name": "stdout",
     "output_type": "stream",
     "text": [
      "-0.027892089620484617\n",
      "0.010629745422063408\n"
     ]
    },
    {
     "name": "stderr",
     "output_type": "stream",
     "text": [
      "\r",
      "9538it [03:02,  9.54it/s]"
     ]
    },
    {
     "name": "stdout",
     "output_type": "stream",
     "text": [
      "0.046511627906976605\n",
      "0.0393013100436681\n"
     ]
    },
    {
     "name": "stderr",
     "output_type": "stream",
     "text": [
      "\r",
      "9540it [03:02,  9.05it/s]"
     ]
    },
    {
     "name": "stdout",
     "output_type": "stream",
     "text": [
      "0.16745967273993267\n",
      "0.04331210191082824\n"
     ]
    },
    {
     "name": "stderr",
     "output_type": "stream",
     "text": [
      "\r",
      "9542it [03:03,  7.49it/s]"
     ]
    },
    {
     "name": "stdout",
     "output_type": "stream",
     "text": [
      "-0.11034761519805991\n",
      "0.03581267217630835\n"
     ]
    },
    {
     "name": "stderr",
     "output_type": "stream",
     "text": [
      "\r",
      "9544it [03:03,  8.60it/s]"
     ]
    },
    {
     "name": "stdout",
     "output_type": "stream",
     "text": [
      "0.04651162790697683\n",
      "-0.002680965147452974\n"
     ]
    },
    {
     "name": "stderr",
     "output_type": "stream",
     "text": [
      "9550it [03:03, 10.02it/s]"
     ]
    },
    {
     "name": "stdout",
     "output_type": "stream",
     "text": [
      "-0.02916073968705546\n",
      "0.0034438226431339203\n"
     ]
    },
    {
     "name": "stderr",
     "output_type": "stream",
     "text": [
      "\r",
      "9554it [03:03, 11.16it/s]"
     ]
    },
    {
     "name": "stdout",
     "output_type": "stream",
     "text": [
      "0.005099675475197074\n"
     ]
    },
    {
     "name": "stderr",
     "output_type": "stream",
     "text": [
      "9561it [03:04, 12.65it/s]"
     ]
    },
    {
     "name": "stdout",
     "output_type": "stream",
     "text": [
      "0.1321260898725689\n",
      "0.048828125\n"
     ]
    },
    {
     "name": "stderr",
     "output_type": "stream",
     "text": [
      "9567it [03:04, 15.25it/s]"
     ]
    },
    {
     "name": "stdout",
     "output_type": "stream",
     "text": [
      "-0.005610522639972082\n",
      "-0.02527573529411753\n"
     ]
    },
    {
     "name": "stderr",
     "output_type": "stream",
     "text": [
      "9572it [03:05, 13.35it/s]"
     ]
    },
    {
     "name": "stdout",
     "output_type": "stream",
     "text": [
      "0.00426338228327805\n",
      "-0.02174458476206398\n"
     ]
    },
    {
     "name": "stderr",
     "output_type": "stream",
     "text": [
      "\r",
      "9575it [03:05, 13.92it/s]"
     ]
    },
    {
     "name": "stdout",
     "output_type": "stream",
     "text": [
      "0.050130548302872\n",
      "0.035728006146753755\n"
     ]
    },
    {
     "name": "stderr",
     "output_type": "stream",
     "text": [
      "\r",
      "9577it [03:05, 10.29it/s]"
     ]
    },
    {
     "name": "stdout",
     "output_type": "stream",
     "text": [
      "-0.04278874925194498\n"
     ]
    },
    {
     "name": "stderr",
     "output_type": "stream",
     "text": [
      "\r",
      "9579it [03:05,  9.05it/s]"
     ]
    },
    {
     "name": "stdout",
     "output_type": "stream",
     "text": [
      "0.04201982473782495\n"
     ]
    },
    {
     "name": "stderr",
     "output_type": "stream",
     "text": [
      "9587it [03:06,  9.76it/s]"
     ]
    },
    {
     "name": "stdout",
     "output_type": "stream",
     "text": [
      "-0.02523390983838958\n",
      "0.10038022813688197\n"
     ]
    },
    {
     "name": "stderr",
     "output_type": "stream",
     "text": [
      "\r",
      "9589it [03:06,  8.84it/s]"
     ]
    },
    {
     "name": "stdout",
     "output_type": "stream",
     "text": [
      "0.014155052264808399\n",
      "-0.0176711896497318\n"
     ]
    },
    {
     "name": "stderr",
     "output_type": "stream",
     "text": [
      "\r",
      "9591it [03:07,  6.02it/s]"
     ]
    },
    {
     "name": "stdout",
     "output_type": "stream",
     "text": [
      "-0.1557169930511687\n",
      "-0.11671715259371451\n"
     ]
    },
    {
     "name": "stderr",
     "output_type": "stream",
     "text": [
      "\r",
      "9593it [03:07,  6.18it/s]"
     ]
    },
    {
     "name": "stdout",
     "output_type": "stream",
     "text": [
      "-0.02107558139534882\n"
     ]
    },
    {
     "name": "stderr",
     "output_type": "stream",
     "text": [
      "9595it [03:08,  5.52it/s]"
     ]
    },
    {
     "name": "stdout",
     "output_type": "stream",
     "text": [
      "-0.01448886503890523\n",
      "-0.0427826086956522\n"
     ]
    },
    {
     "name": "stderr",
     "output_type": "stream",
     "text": [
      "9601it [03:08,  7.02it/s]"
     ]
    },
    {
     "name": "stdout",
     "output_type": "stream",
     "text": [
      "-0.13626834381551367\n",
      "0.0037208366854384334\n"
     ]
    },
    {
     "name": "stderr",
     "output_type": "stream",
     "text": [
      "9605it [03:08,  9.45it/s]"
     ]
    },
    {
     "name": "stdout",
     "output_type": "stream",
     "text": [
      "0.021045836023240838\n",
      "-0.028298279158699757\n"
     ]
    },
    {
     "name": "stderr",
     "output_type": "stream",
     "text": [
      "9615it [03:09, 13.78it/s]"
     ]
    },
    {
     "name": "stdout",
     "output_type": "stream",
     "text": [
      "-0.08781694495980219\n",
      "0.007625649913344912\n"
     ]
    },
    {
     "name": "stderr",
     "output_type": "stream",
     "text": [
      "\r",
      "9619it [03:09, 16.29it/s]"
     ]
    },
    {
     "name": "stdout",
     "output_type": "stream",
     "text": [
      "-0.11943506294135708\n"
     ]
    },
    {
     "name": "stderr",
     "output_type": "stream",
     "text": [
      "\r",
      "9622it [03:09, 14.05it/s]"
     ]
    },
    {
     "name": "stdout",
     "output_type": "stream",
     "text": [
      "-0.08929149142672277\n",
      "-0.0637037037037037\n"
     ]
    },
    {
     "name": "stderr",
     "output_type": "stream",
     "text": [
      "9635it [03:10, 17.42it/s]"
     ]
    },
    {
     "name": "stdout",
     "output_type": "stream",
     "text": [
      "-0.11695278969957079\n",
      "-0.08603311735061192\n"
     ]
    },
    {
     "name": "stderr",
     "output_type": "stream",
     "text": [
      "\r",
      "9638it [03:10, 16.02it/s]"
     ]
    },
    {
     "name": "stdout",
     "output_type": "stream",
     "text": [
      "0.3252520403264523\n"
     ]
    },
    {
     "name": "stderr",
     "output_type": "stream",
     "text": [
      "\r",
      "9641it [03:10, 12.33it/s]"
     ]
    },
    {
     "name": "stdout",
     "output_type": "stream",
     "text": [
      "-0.019206145966709443\n",
      "0.027158774373259087\n"
     ]
    },
    {
     "name": "stderr",
     "output_type": "stream",
     "text": [
      "\r",
      "9643it [03:11,  9.45it/s]"
     ]
    },
    {
     "name": "stdout",
     "output_type": "stream",
     "text": [
      "0.12272036474164127\n",
      "-0.03811841038118413\n"
     ]
    },
    {
     "name": "stderr",
     "output_type": "stream",
     "text": [
      "\r",
      "9645it [03:11,  7.30it/s]"
     ]
    },
    {
     "name": "stdout",
     "output_type": "stream",
     "text": [
      "0.014760147601476037\n",
      "-0.07880220646178104\n"
     ]
    },
    {
     "name": "stderr",
     "output_type": "stream",
     "text": [
      "\r",
      "9647it [03:11,  7.10it/s]"
     ]
    },
    {
     "name": "stdout",
     "output_type": "stream",
     "text": [
      "0.012998575498575526\n"
     ]
    },
    {
     "name": "stderr",
     "output_type": "stream",
     "text": [
      "\r",
      "9652it [03:12,  8.74it/s]"
     ]
    },
    {
     "name": "stdout",
     "output_type": "stream",
     "text": [
      "-0.01235677375870603\n"
     ]
    },
    {
     "name": "stderr",
     "output_type": "stream",
     "text": [
      "\r",
      "9654it [03:13,  4.24it/s]"
     ]
    },
    {
     "name": "stdout",
     "output_type": "stream",
     "text": [
      "0.014144545630691896\n"
     ]
    },
    {
     "name": "stderr",
     "output_type": "stream",
     "text": [
      "9661it [03:13,  6.40it/s]"
     ]
    },
    {
     "name": "stdout",
     "output_type": "stream",
     "text": [
      "-0.025289778714436273\n",
      "-0.0077674768228515045\n"
     ]
    },
    {
     "name": "stderr",
     "output_type": "stream",
     "text": [
      "\r",
      "9663it [03:13,  7.56it/s]"
     ]
    },
    {
     "name": "stdout",
     "output_type": "stream",
     "text": [
      "-0.02607709750566889\n",
      "-0.08481868469575915\n"
     ]
    },
    {
     "name": "stderr",
     "output_type": "stream",
     "text": [
      "\r",
      "9665it [03:13,  7.48it/s]"
     ]
    },
    {
     "name": "stdout",
     "output_type": "stream",
     "text": [
      "0.004430660168365019\n"
     ]
    },
    {
     "name": "stderr",
     "output_type": "stream",
     "text": [
      "\r",
      "9669it [03:14,  8.35it/s]"
     ]
    },
    {
     "name": "stdout",
     "output_type": "stream",
     "text": [
      "-0.026305139619587137\n"
     ]
    },
    {
     "name": "stderr",
     "output_type": "stream",
     "text": [
      "\r",
      "9671it [03:14,  8.06it/s]"
     ]
    },
    {
     "name": "stdout",
     "output_type": "stream",
     "text": [
      "-0.06579954093343543\n"
     ]
    },
    {
     "name": "stderr",
     "output_type": "stream",
     "text": [
      "\r",
      "9673it [03:14,  8.40it/s]"
     ]
    },
    {
     "name": "stdout",
     "output_type": "stream",
     "text": [
      "-0.002636203866432263\n"
     ]
    },
    {
     "name": "stderr",
     "output_type": "stream",
     "text": [
      "\r",
      "9675it [03:15,  8.66it/s]"
     ]
    },
    {
     "name": "stdout",
     "output_type": "stream",
     "text": [
      "-0.093993993993994\n"
     ]
    },
    {
     "name": "stderr",
     "output_type": "stream",
     "text": [
      "9678it [03:15,  7.83it/s]"
     ]
    },
    {
     "name": "stdout",
     "output_type": "stream",
     "text": [
      "0.06634721710283831\n",
      "0.08267370272647323\n"
     ]
    },
    {
     "name": "stderr",
     "output_type": "stream",
     "text": [
      "9681it [03:15,  8.55it/s]"
     ]
    },
    {
     "name": "stdout",
     "output_type": "stream",
     "text": [
      "-0.06933115823817293\n",
      "0.0010035122930256435\n"
     ]
    },
    {
     "name": "stderr",
     "output_type": "stream",
     "text": [
      "9688it [03:15, 11.92it/s]"
     ]
    },
    {
     "name": "stdout",
     "output_type": "stream",
     "text": [
      "-0.02862024775736871\n",
      "-0.00804721030042932\n"
     ]
    },
    {
     "name": "stderr",
     "output_type": "stream",
     "text": [
      "9692it [03:16, 12.75it/s]"
     ]
    },
    {
     "name": "stdout",
     "output_type": "stream",
     "text": [
      "0.07037861915367483\n",
      "0.03322304935208176\n"
     ]
    },
    {
     "name": "stderr",
     "output_type": "stream",
     "text": [
      "9696it [03:16, 13.78it/s]"
     ]
    },
    {
     "name": "stdout",
     "output_type": "stream",
     "text": [
      "0.015742522301906536\n",
      "-0.01073558648111339\n"
     ]
    },
    {
     "name": "stderr",
     "output_type": "stream",
     "text": [
      "\r",
      "9710it [03:16, 18.37it/s]"
     ]
    },
    {
     "name": "stdout",
     "output_type": "stream",
     "text": [
      "0.06151035322777121\n",
      "-0.02180579216354328\n",
      "0.04088913282107565\n"
     ]
    },
    {
     "name": "stderr",
     "output_type": "stream",
     "text": [
      "\r",
      "9714it [03:17, 16.91it/s]"
     ]
    },
    {
     "name": "stdout",
     "output_type": "stream",
     "text": [
      "0.01650485436893212\n"
     ]
    },
    {
     "name": "stderr",
     "output_type": "stream",
     "text": [
      "\r",
      "9717it [03:17, 13.13it/s]"
     ]
    },
    {
     "name": "stdout",
     "output_type": "stream",
     "text": [
      "0.075744680851064\n",
      "0.08372827804107419\n"
     ]
    },
    {
     "name": "stderr",
     "output_type": "stream",
     "text": [
      "9726it [03:17, 17.51it/s]"
     ]
    },
    {
     "name": "stdout",
     "output_type": "stream",
     "text": [
      "-0.0965834428383705\n",
      "-0.0480732544830218\n",
      "0.024851190476190332\n",
      "-0.0051605504587156625\n"
     ]
    },
    {
     "name": "stderr",
     "output_type": "stream",
     "text": [
      "9733it [03:18, 15.36it/s]"
     ]
    },
    {
     "name": "stdout",
     "output_type": "stream",
     "text": [
      "-0.01369988966531821\n",
      "0.02286482851378624\n"
     ]
    },
    {
     "name": "stderr",
     "output_type": "stream",
     "text": [
      "\r",
      "9736it [03:18, 14.21it/s]"
     ]
    },
    {
     "name": "stdout",
     "output_type": "stream",
     "text": [
      "0.051267916207276665\n",
      "0.02968510554154924\n",
      "-0.047131147540983576\n"
     ]
    },
    {
     "name": "stderr",
     "output_type": "stream",
     "text": [
      "9749it [03:18, 20.68it/s]"
     ]
    },
    {
     "name": "stdout",
     "output_type": "stream",
     "text": [
      "-0.06006006006006015\n",
      "-0.0679665738161559\n",
      "-0.018233705123736454\n",
      "-0.13769192669638441\n",
      "-0.07783182765809593\n"
     ]
    },
    {
     "name": "stderr",
     "output_type": "stream",
     "text": [
      "\r",
      "9753it [03:19, 16.52it/s]"
     ]
    },
    {
     "name": "stdout",
     "output_type": "stream",
     "text": [
      "0.007575757575757569\n",
      "0.08142116950407119\n"
     ]
    },
    {
     "name": "stderr",
     "output_type": "stream",
     "text": [
      "9761it [03:19, 17.02it/s]"
     ]
    },
    {
     "name": "stdout",
     "output_type": "stream",
     "text": [
      "-0.008177386381506446\n",
      "0.008875739644970349\n",
      "0.05795262267343482\n",
      "0.0337425315877109\n",
      "-0.015086206896551602\n"
     ]
    },
    {
     "name": "stderr",
     "output_type": "stream",
     "text": [
      "\r",
      "9764it [03:19, 13.35it/s]"
     ]
    },
    {
     "name": "stdout",
     "output_type": "stream",
     "text": [
      "0.01521672302490007\n",
      "-0.0007347538574576928\n"
     ]
    },
    {
     "name": "stderr",
     "output_type": "stream",
     "text": [
      "9769it [03:20, 14.09it/s]"
     ]
    },
    {
     "name": "stdout",
     "output_type": "stream",
     "text": [
      "0.06660666066606669\n",
      "-0.13260869565217392\n"
     ]
    },
    {
     "name": "stderr",
     "output_type": "stream",
     "text": [
      "9773it [03:20, 15.25it/s]"
     ]
    },
    {
     "name": "stdout",
     "output_type": "stream",
     "text": [
      "-0.03234265734265729\n",
      "-0.05684099660994635\n"
     ]
    },
    {
     "name": "stderr",
     "output_type": "stream",
     "text": [
      "9777it [03:20, 14.04it/s]"
     ]
    },
    {
     "name": "stdout",
     "output_type": "stream",
     "text": [
      "0.08431410380088766\n",
      "0.04381654381654365\n"
     ]
    },
    {
     "name": "stderr",
     "output_type": "stream",
     "text": [
      "9781it [03:21, 15.99it/s]"
     ]
    },
    {
     "name": "stdout",
     "output_type": "stream",
     "text": [
      "-0.02120822622107965\n",
      "-0.006528189910979143\n"
     ]
    },
    {
     "name": "stderr",
     "output_type": "stream",
     "text": [
      "9785it [03:21, 14.92it/s]"
     ]
    },
    {
     "name": "stdout",
     "output_type": "stream",
     "text": [
      "0.06731620903454383\n",
      "-0.08417618270799354\n",
      "0.016447368421052655\n"
     ]
    },
    {
     "name": "stderr",
     "output_type": "stream",
     "text": [
      "\r",
      "9790it [03:21, 16.66it/s]"
     ]
    },
    {
     "name": "stdout",
     "output_type": "stream",
     "text": [
      "0.0297283444387495\n",
      "-0.009351927809680083\n"
     ]
    },
    {
     "name": "stderr",
     "output_type": "stream",
     "text": [
      "9794it [03:21, 13.25it/s]"
     ]
    },
    {
     "name": "stdout",
     "output_type": "stream",
     "text": [
      "0.06571428571428584\n",
      "0.0641247833622185\n"
     ]
    },
    {
     "name": "stderr",
     "output_type": "stream",
     "text": [
      "9798it [03:22, 11.88it/s]"
     ]
    },
    {
     "name": "stdout",
     "output_type": "stream",
     "text": [
      "0.005510534846029147\n",
      "-0.0629709364908505\n"
     ]
    },
    {
     "name": "stderr",
     "output_type": "stream",
     "text": [
      "\r",
      "9803it [03:22, 15.19it/s]"
     ]
    },
    {
     "name": "stdout",
     "output_type": "stream",
     "text": [
      "0.007599746675110763\n",
      "0.002525252525252597\n"
     ]
    },
    {
     "name": "stderr",
     "output_type": "stream",
     "text": [
      "9810it [03:22, 18.74it/s]"
     ]
    },
    {
     "name": "stdout",
     "output_type": "stream",
     "text": [
      "-0.040857142857143036\n",
      "-0.04409963250306248\n",
      "0.06351942713168013\n",
      "0.024272930648769453\n"
     ]
    },
    {
     "name": "stderr",
     "output_type": "stream",
     "text": [
      "9815it [03:23, 12.70it/s]"
     ]
    },
    {
     "name": "stdout",
     "output_type": "stream",
     "text": [
      "0.06976744186046502\n",
      "-0.06916299559471362\n",
      "0.02168021680216814\n",
      "0.04596100278551529\n"
     ]
    },
    {
     "name": "stderr",
     "output_type": "stream",
     "text": [
      "9821it [03:23, 13.94it/s]"
     ]
    },
    {
     "name": "stdout",
     "output_type": "stream",
     "text": [
      "-0.1665247018739353\n",
      "0.1265486725663718\n"
     ]
    },
    {
     "name": "stderr",
     "output_type": "stream",
     "text": [
      "\r",
      "9823it [03:23, 14.07it/s]"
     ]
    },
    {
     "name": "stdout",
     "output_type": "stream",
     "text": [
      "0.06154910096818811\n",
      "-0.055404178019981765\n"
     ]
    },
    {
     "name": "stderr",
     "output_type": "stream",
     "text": [
      "9827it [03:24, 12.29it/s]"
     ]
    },
    {
     "name": "stdout",
     "output_type": "stream",
     "text": [
      "-0.013550135501355087\n",
      "0.03846153846153855\n"
     ]
    },
    {
     "name": "stderr",
     "output_type": "stream",
     "text": [
      "\r",
      "9829it [03:24, 10.95it/s]"
     ]
    },
    {
     "name": "stdout",
     "output_type": "stream",
     "text": [
      "-0.15625\n",
      "-0.04861111111111105\n",
      "0.03268845897264838\n"
     ]
    },
    {
     "name": "stderr",
     "output_type": "stream",
     "text": [
      "9834it [03:24, 11.50it/s]"
     ]
    },
    {
     "name": "stdout",
     "output_type": "stream",
     "text": [
      "-0.11764705882352933\n",
      "-0.06652360515021472\n",
      "-0.11206896551724133\n"
     ]
    },
    {
     "name": "stderr",
     "output_type": "stream",
     "text": [
      "\r",
      "9836it [03:25,  9.06it/s]"
     ]
    },
    {
     "name": "stdout",
     "output_type": "stream",
     "text": [
      "-0.06903991370010776\n",
      "0.06750000000000012\n"
     ]
    },
    {
     "name": "stderr",
     "output_type": "stream",
     "text": [
      "\r",
      "9838it [03:25,  9.08it/s]"
     ]
    },
    {
     "name": "stdout",
     "output_type": "stream",
     "text": [
      "0.1679946879150067\n",
      "-0.013574660633484115\n"
     ]
    },
    {
     "name": "stderr",
     "output_type": "stream",
     "text": [
      "\r",
      "9840it [03:25,  7.76it/s]"
     ]
    },
    {
     "name": "stdout",
     "output_type": "stream",
     "text": [
      "0.03786191536748329\n",
      "0.1320553780617677\n"
     ]
    },
    {
     "name": "stderr",
     "output_type": "stream",
     "text": [
      "9842it [03:26,  8.55it/s]"
     ]
    },
    {
     "name": "stdout",
     "output_type": "stream",
     "text": [
      "-0.030743432084963662\n",
      "-0.09269356597600864\n"
     ]
    },
    {
     "name": "stderr",
     "output_type": "stream",
     "text": [
      "\r",
      "9843it [03:26,  8.24it/s]"
     ]
    },
    {
     "name": "stdout",
     "output_type": "stream",
     "text": [
      "-0.0011325028312568763\n",
      "0.09325588899645054\n"
     ]
    },
    {
     "name": "stderr",
     "output_type": "stream",
     "text": [
      "9846it [03:26,  7.71it/s]"
     ]
    },
    {
     "name": "stdout",
     "output_type": "stream",
     "text": [
      "0.05607476635513997\n",
      "0.08826628874595732\n"
     ]
    },
    {
     "name": "stderr",
     "output_type": "stream",
     "text": [
      "9849it [03:26,  9.22it/s]"
     ]
    },
    {
     "name": "stdout",
     "output_type": "stream",
     "text": [
      "0.07752956636005237\n",
      "0.007566585956416461\n"
     ]
    },
    {
     "name": "stderr",
     "output_type": "stream",
     "text": [
      "\r",
      "9851it [03:27,  7.96it/s]"
     ]
    },
    {
     "name": "stdout",
     "output_type": "stream",
     "text": [
      "-0.12502045491736213\n",
      "-0.013513513513513375\n"
     ]
    },
    {
     "name": "stderr",
     "output_type": "stream",
     "text": [
      "\r",
      "9853it [03:27,  8.38it/s]"
     ]
    },
    {
     "name": "stdout",
     "output_type": "stream",
     "text": [
      "0.06138009912314124\n",
      "0.06292565266742334\n"
     ]
    },
    {
     "name": "stderr",
     "output_type": "stream",
     "text": [
      "9857it [03:27,  9.85it/s]"
     ]
    },
    {
     "name": "stdout",
     "output_type": "stream",
     "text": [
      "0.07302904564315349\n",
      "0.13656387665198233\n"
     ]
    },
    {
     "name": "stderr",
     "output_type": "stream",
     "text": [
      "9861it [03:27, 11.68it/s]"
     ]
    },
    {
     "name": "stdout",
     "output_type": "stream",
     "text": [
      "0.050243111831442366\n",
      "0.09751434034416828\n"
     ]
    },
    {
     "name": "stderr",
     "output_type": "stream",
     "text": [
      "\r",
      "9863it [03:28,  9.48it/s]"
     ]
    },
    {
     "name": "stdout",
     "output_type": "stream",
     "text": [
      "0.10366328916601719\n",
      "-0.016049382716049276\n"
     ]
    },
    {
     "name": "stderr",
     "output_type": "stream",
     "text": [
      "\r",
      "9865it [03:28,  9.22it/s]"
     ]
    },
    {
     "name": "stdout",
     "output_type": "stream",
     "text": [
      "0.018564356435643692\n",
      "0.0\n"
     ]
    },
    {
     "name": "stderr",
     "output_type": "stream",
     "text": [
      "\r",
      "9867it [03:28,  7.64it/s]"
     ]
    },
    {
     "name": "stdout",
     "output_type": "stream",
     "text": [
      "0.0378900445765229\n",
      "-0.05968212779759996\n"
     ]
    },
    {
     "name": "stderr",
     "output_type": "stream",
     "text": [
      "9872it [03:29, 10.26it/s]"
     ]
    },
    {
     "name": "stdout",
     "output_type": "stream",
     "text": [
      "0.1896162528216705\n",
      "-0.11073094867807165\n"
     ]
    },
    {
     "name": "stderr",
     "output_type": "stream",
     "text": [
      "\r",
      "9874it [03:29,  9.94it/s]"
     ]
    },
    {
     "name": "stdout",
     "output_type": "stream",
     "text": [
      "-0.054441260744985676\n",
      "0.045323047251687676\n"
     ]
    },
    {
     "name": "stderr",
     "output_type": "stream",
     "text": [
      "9877it [03:29,  6.84it/s]"
     ]
    },
    {
     "name": "stdout",
     "output_type": "stream",
     "text": [
      "-0.03427719821162434\n",
      "-0.15475950895552415\n"
     ]
    },
    {
     "name": "stderr",
     "output_type": "stream",
     "text": [
      "9881it [03:30,  6.60it/s]"
     ]
    },
    {
     "name": "stdout",
     "output_type": "stream",
     "text": [
      "-0.008416220351950998\n",
      "-0.1084917617237009\n"
     ]
    },
    {
     "name": "stderr",
     "output_type": "stream",
     "text": [
      "\r",
      "9883it [03:30,  7.55it/s]"
     ]
    },
    {
     "name": "stdout",
     "output_type": "stream",
     "text": [
      "-0.07046010224494337\n"
     ]
    },
    {
     "name": "stderr",
     "output_type": "stream",
     "text": [
      "\r",
      "9885it [03:30,  6.65it/s]"
     ]
    },
    {
     "name": "stdout",
     "output_type": "stream",
     "text": [
      "-0.052475864216754875\n"
     ]
    },
    {
     "name": "stderr",
     "output_type": "stream",
     "text": [
      "9888it [03:31,  6.15it/s]"
     ]
    },
    {
     "name": "stdout",
     "output_type": "stream",
     "text": [
      "-0.10344827586206906\n",
      "-0.06634033234574266\n"
     ]
    },
    {
     "name": "stderr",
     "output_type": "stream",
     "text": [
      "\r",
      "9891it [03:31,  7.03it/s]"
     ]
    },
    {
     "name": "stdout",
     "output_type": "stream",
     "text": [
      "-0.0227367023483529\n",
      "0.0043290043290042934\n"
     ]
    },
    {
     "name": "stderr",
     "output_type": "stream",
     "text": [
      "\r",
      "9893it [03:32,  6.06it/s]"
     ]
    },
    {
     "name": "stdout",
     "output_type": "stream",
     "text": [
      "-0.09478467864098683\n"
     ]
    },
    {
     "name": "stderr",
     "output_type": "stream",
     "text": [
      "9895it [03:32,  6.22it/s]"
     ]
    },
    {
     "name": "stdout",
     "output_type": "stream",
     "text": [
      "0.05027887139107623\n",
      "-0.242837653478854\n"
     ]
    },
    {
     "name": "stderr",
     "output_type": "stream",
     "text": [
      "9897it [03:32,  7.06it/s]"
     ]
    },
    {
     "name": "stdout",
     "output_type": "stream",
     "text": [
      "-0.029266681347720813\n",
      "0.13602762966553583\n"
     ]
    },
    {
     "name": "stderr",
     "output_type": "stream",
     "text": [
      "\r",
      "9901it [03:33,  8.56it/s]"
     ]
    },
    {
     "name": "stdout",
     "output_type": "stream",
     "text": [
      "0.1610599078341013\n"
     ]
    },
    {
     "name": "stderr",
     "output_type": "stream",
     "text": [
      "\r",
      "9909it [03:33, 11.04it/s]"
     ]
    },
    {
     "name": "stdout",
     "output_type": "stream",
     "text": [
      "0.04657998869417734\n"
     ]
    },
    {
     "name": "stderr",
     "output_type": "stream",
     "text": [
      "\r",
      "9914it [03:33, 12.26it/s]"
     ]
    },
    {
     "name": "stdout",
     "output_type": "stream",
     "text": [
      "-0.003940239697914905\n",
      "-0.05554133606347589\n"
     ]
    },
    {
     "name": "stderr",
     "output_type": "stream",
     "text": [
      "9918it [03:34,  9.12it/s]"
     ]
    },
    {
     "name": "stdout",
     "output_type": "stream",
     "text": [
      "-0.04698375870069593\n",
      "-0.10848978844216506\n"
     ]
    },
    {
     "name": "stderr",
     "output_type": "stream",
     "text": [
      "\r",
      "9920it [03:34,  9.07it/s]"
     ]
    },
    {
     "name": "stdout",
     "output_type": "stream",
     "text": [
      "-0.22973464194838245\n",
      "-0.059713375796178414\n"
     ]
    },
    {
     "name": "stderr",
     "output_type": "stream",
     "text": [
      "\r",
      "9922it [03:34,  8.15it/s]"
     ]
    },
    {
     "name": "stdout",
     "output_type": "stream",
     "text": [
      "-0.03475853583512767\n",
      "-0.1401379310344828\n"
     ]
    },
    {
     "name": "stderr",
     "output_type": "stream",
     "text": [
      "9925it [03:35,  7.71it/s]"
     ]
    },
    {
     "name": "stdout",
     "output_type": "stream",
     "text": [
      "-0.10058139534883725\n",
      "-0.46087411672337086\n"
     ]
    },
    {
     "name": "stderr",
     "output_type": "stream",
     "text": [
      "9928it [03:35,  7.38it/s]"
     ]
    },
    {
     "name": "stdout",
     "output_type": "stream",
     "text": [
      "-0.018081180811808206\n",
      "-0.28127232716984363\n"
     ]
    },
    {
     "name": "stderr",
     "output_type": "stream",
     "text": [
      "9935it [03:35,  9.39it/s]"
     ]
    },
    {
     "name": "stdout",
     "output_type": "stream",
     "text": [
      "-0.036991368680641235\n",
      "0.007778317938745838\n",
      "-0.0034460124712832885\n"
     ]
    },
    {
     "name": "stderr",
     "output_type": "stream",
     "text": [
      "\r",
      "9953it [03:35, 13.05it/s]"
     ]
    },
    {
     "name": "stdout",
     "output_type": "stream",
     "text": [
      "0.005970149253731405\n",
      "0.003106554830692776\n"
     ]
    },
    {
     "name": "stderr",
     "output_type": "stream",
     "text": [
      "9978it [03:36, 21.34it/s]"
     ]
    },
    {
     "name": "stdout",
     "output_type": "stream",
     "text": [
      "0.0073037127206330155\n",
      "0.05003166561114614\n",
      "-0.008363201911588902\n",
      "0.055218271176640465\n"
     ]
    },
    {
     "name": "stderr",
     "output_type": "stream",
     "text": [
      "10008it [03:36, 36.58it/s]"
     ]
    },
    {
     "name": "stdout",
     "output_type": "stream",
     "text": [
      "-0.044472681067344366\n",
      "0.03380230221085334\n",
      "-0.033259423503326\n",
      "0.05578055964653883\n"
     ]
    },
    {
     "name": "stderr",
     "output_type": "stream",
     "text": [
      "10030it [03:36, 54.00it/s]"
     ]
    },
    {
     "name": "stdout",
     "output_type": "stream",
     "text": [
      "0.0008017103153392657\n",
      "0.011446886446886406\n",
      "-0.025542784163473664\n",
      "0.02667744543249806\n"
     ]
    },
    {
     "name": "stderr",
     "output_type": "stream",
     "text": [
      "10057it [03:36, 74.51it/s]"
     ]
    },
    {
     "name": "stdout",
     "output_type": "stream",
     "text": [
      "0.03380281690140863\n",
      "0.05718824463860184\n",
      "-0.058367999999999975\n",
      "-0.00580130529369105\n"
     ]
    },
    {
     "name": "stderr",
     "output_type": "stream",
     "text": [
      "10119it [03:37, 112.05it/s]"
     ]
    },
    {
     "name": "stdout",
     "output_type": "stream",
     "text": [
      "0.057446030003659\n",
      "0.008139104698483113\n",
      "0.006506180871828304\n",
      "-0.016219588271989993\n"
     ]
    },
    {
     "name": "stderr",
     "output_type": "stream",
     "text": [
      "\r",
      "10138it [03:37, 111.80it/s]"
     ]
    },
    {
     "name": "stdout",
     "output_type": "stream",
     "text": [
      "0.007895860008536149\n",
      "0.01877682403433467\n",
      "0.032488986784140916\n",
      "0.0021706099413936197\n"
     ]
    },
    {
     "name": "stderr",
     "output_type": "stream",
     "text": [
      "\r",
      "10155it [03:37, 106.91it/s]"
     ]
    },
    {
     "name": "stdout",
     "output_type": "stream",
     "text": [
      "0.0791712104689204\n",
      "0.12279355333844988\n",
      "0.07149758454106281\n"
     ]
    },
    {
     "name": "stderr",
     "output_type": "stream",
     "text": [
      "\r",
      "10170it [03:37, 71.88it/s] "
     ]
    },
    {
     "name": "stdout",
     "output_type": "stream",
     "text": [
      "-0.0037523452157598447\n",
      "-0.019884541372674813\n",
      "-0.09873060648801135\n",
      "0.07533589251439543\n"
     ]
    },
    {
     "name": "stderr",
     "output_type": "stream",
     "text": [
      "\r",
      "10182it [03:38, 71.61it/s]"
     ]
    },
    {
     "name": "stdout",
     "output_type": "stream",
     "text": [
      "-0.03561749903213318\n",
      "-0.028037383177569986\n"
     ]
    },
    {
     "name": "stderr",
     "output_type": "stream",
     "text": [
      "\r",
      "10192it [03:38, 54.29it/s]"
     ]
    },
    {
     "name": "stdout",
     "output_type": "stream",
     "text": [
      "0.010450685826257411\n",
      "-0.0931796349663786\n",
      "-0.05527331843121319\n"
     ]
    },
    {
     "name": "stderr",
     "output_type": "stream",
     "text": [
      "10254it [03:38, 78.61it/s]"
     ]
    },
    {
     "name": "stdout",
     "output_type": "stream",
     "text": [
      "-0.0471042471042471\n",
      "-0.0561660561660563\n",
      "-0.09243027888446209\n",
      "0.05234526112185689\n"
     ]
    },
    {
     "name": "stderr",
     "output_type": "stream",
     "text": [
      "\r",
      "10273it [03:38, 62.67it/s]"
     ]
    },
    {
     "name": "stdout",
     "output_type": "stream",
     "text": [
      "-0.010955902492467695\n",
      "-0.022681787858572444\n",
      "0.006143344709897747\n",
      "0.03409456416854284\n",
      "0.031620553359683834\n",
      "0.008797653958944274\n",
      "0.006854009595613331\n"
     ]
    },
    {
     "name": "stderr",
     "output_type": "stream",
     "text": [
      "10314it [03:39, 74.04it/s]"
     ]
    },
    {
     "name": "stdout",
     "output_type": "stream",
     "text": [
      "0.054027743976636566\n",
      "0.003603603603603567\n",
      "0.025663716814159354\n",
      "-0.013650885855358674\n"
     ]
    },
    {
     "name": "stderr",
     "output_type": "stream",
     "text": [
      "10356it [03:39, 98.23it/s]"
     ]
    },
    {
     "name": "stdout",
     "output_type": "stream",
     "text": [
      "0.04829210836277986\n",
      "-0.010924796747967536\n",
      "-0.0025657472738934706\n"
     ]
    },
    {
     "name": "stderr",
     "output_type": "stream",
     "text": [
      "\r",
      "10372it [03:39, 87.05it/s]"
     ]
    },
    {
     "name": "stdout",
     "output_type": "stream",
     "text": [
      "-0.004928536224741209\n",
      "-0.01308494122865389\n",
      "0.026774012357236643\n"
     ]
    },
    {
     "name": "stderr",
     "output_type": "stream",
     "text": [
      "\r",
      "10385it [03:40, 74.41it/s]"
     ]
    },
    {
     "name": "stdout",
     "output_type": "stream",
     "text": [
      "0.042896678966789725\n",
      "0.04187489229708774\n",
      "-0.02394427514148878\n",
      "0.013368983957219305\n",
      "-0.06741996233521652\n",
      "0.025371828521434825\n"
     ]
    },
    {
     "name": "stderr",
     "output_type": "stream",
     "text": [
      "\r",
      "10396it [03:40, 43.35it/s]"
     ]
    },
    {
     "name": "stdout",
     "output_type": "stream",
     "text": [
      "-0.018224699828473412\n",
      "-0.013137557959814528\n"
     ]
    },
    {
     "name": "stderr",
     "output_type": "stream",
     "text": [
      "\r",
      "10405it [03:41, 35.61it/s]"
     ]
    },
    {
     "name": "stdout",
     "output_type": "stream",
     "text": [
      "-0.04475084663763895\n",
      "0.08137432188065108\n",
      "0.004133298889175796\n"
     ]
    },
    {
     "name": "stderr",
     "output_type": "stream",
     "text": [
      "\r",
      "10412it [03:41, 38.73it/s]"
     ]
    },
    {
     "name": "stdout",
     "output_type": "stream",
     "text": [
      "0.04611872146118734\n"
     ]
    },
    {
     "name": "stderr",
     "output_type": "stream",
     "text": [
      "10433it [03:41, 56.07it/s]"
     ]
    },
    {
     "name": "stdout",
     "output_type": "stream",
     "text": [
      "0.008763388510223846\n",
      "0.005003262997607338\n"
     ]
    },
    {
     "name": "stderr",
     "output_type": "stream",
     "text": [
      "\r",
      "10441it [03:41, 44.46it/s]"
     ]
    },
    {
     "name": "stdout",
     "output_type": "stream",
     "text": [
      "0.1681614349775784\n",
      "0.016612377850163007\n"
     ]
    },
    {
     "name": "stderr",
     "output_type": "stream",
     "text": [
      "\r",
      "10448it [03:41, 46.98it/s]"
     ]
    },
    {
     "name": "stdout",
     "output_type": "stream",
     "text": [
      "0.056508999581414976\n",
      "-0.021839276573963562\n",
      "-0.0006148170919151319\n",
      "-0.03510436432637565\n"
     ]
    },
    {
     "name": "stderr",
     "output_type": "stream",
     "text": [
      "10461it [03:42, 33.08it/s]"
     ]
    },
    {
     "name": "stdout",
     "output_type": "stream",
     "text": [
      "0.01902587519025878\n",
      "0.023328149300155587\n"
     ]
    },
    {
     "name": "stderr",
     "output_type": "stream",
     "text": [
      "\r",
      "10466it [03:42, 25.04it/s]"
     ]
    },
    {
     "name": "stdout",
     "output_type": "stream",
     "text": [
      "0.07774914089347074\n",
      "0.011619462599854913\n"
     ]
    },
    {
     "name": "stderr",
     "output_type": "stream",
     "text": [
      "\r",
      "10476it [03:42, 32.22it/s]"
     ]
    },
    {
     "name": "stdout",
     "output_type": "stream",
     "text": [
      "0.0013736263736263687\n",
      "0.029572338489535888\n"
     ]
    },
    {
     "name": "stderr",
     "output_type": "stream",
     "text": [
      "\r",
      "10482it [03:43, 26.96it/s]"
     ]
    },
    {
     "name": "stdout",
     "output_type": "stream",
     "text": [
      "0.023421588594704668\n",
      "-0.017078651685393242\n",
      "-0.01623363544813694\n"
     ]
    },
    {
     "name": "stderr",
     "output_type": "stream",
     "text": [
      "10492it [03:43, 30.70it/s]"
     ]
    },
    {
     "name": "stdout",
     "output_type": "stream",
     "text": [
      "0.036796536796536605\n",
      "0.01446280991735538\n"
     ]
    },
    {
     "name": "stderr",
     "output_type": "stream",
     "text": [
      "\r",
      "10498it [03:43, 34.82it/s]"
     ]
    },
    {
     "name": "stdout",
     "output_type": "stream",
     "text": [
      "0.01909273614699969\n",
      "-0.052803929594760546\n"
     ]
    },
    {
     "name": "stderr",
     "output_type": "stream",
     "text": [
      "10510it [03:43, 33.02it/s]"
     ]
    },
    {
     "name": "stdout",
     "output_type": "stream",
     "text": [
      "0.007968127490039834\n",
      "0.008866995073891548\n"
     ]
    },
    {
     "name": "stderr",
     "output_type": "stream",
     "text": [
      "\r",
      "10517it [03:43, 38.46it/s]"
     ]
    },
    {
     "name": "stdout",
     "output_type": "stream",
     "text": [
      "-0.03307810107197551\n"
     ]
    },
    {
     "name": "stderr",
     "output_type": "stream",
     "text": [
      "10531it [03:44, 36.47it/s]"
     ]
    },
    {
     "name": "stdout",
     "output_type": "stream",
     "text": [
      "-0.030127741624487836\n",
      "0.07692307692307687\n"
     ]
    },
    {
     "name": "stderr",
     "output_type": "stream",
     "text": [
      "10572it [03:44, 57.64it/s]"
     ]
    },
    {
     "name": "stdout",
     "output_type": "stream",
     "text": [
      "0.04227687206410602\n",
      "-0.025191055759977377\n",
      "-0.03695408734602479\n"
     ]
    },
    {
     "name": "stderr",
     "output_type": "stream",
     "text": [
      "\r",
      "10581it [03:44, 59.25it/s]"
     ]
    },
    {
     "name": "stdout",
     "output_type": "stream",
     "text": [
      "-0.0417910447761195\n",
      "-0.031764255644852635\n",
      "-0.04253325838486033\n"
     ]
    },
    {
     "name": "stderr",
     "output_type": "stream",
     "text": [
      "\r",
      "10590it [03:45, 38.46it/s]"
     ]
    },
    {
     "name": "stdout",
     "output_type": "stream",
     "text": [
      "-0.042383292383292304\n",
      "0.009270965023177258\n",
      "0.005563985837126806\n"
     ]
    },
    {
     "name": "stderr",
     "output_type": "stream",
     "text": [
      "\r",
      "10601it [03:45, 43.69it/s]"
     ]
    },
    {
     "name": "stdout",
     "output_type": "stream",
     "text": [
      "0.044135188866799346\n",
      "-0.027873595193056766\n"
     ]
    },
    {
     "name": "stderr",
     "output_type": "stream",
     "text": [
      "10615it [03:45, 41.40it/s]"
     ]
    },
    {
     "name": "stdout",
     "output_type": "stream",
     "text": [
      "0.010480349344978102\n",
      "-0.010280373831775713\n",
      "0.05500856164383561\n"
     ]
    },
    {
     "name": "stderr",
     "output_type": "stream",
     "text": [
      "10635it [03:46, 45.92it/s]"
     ]
    },
    {
     "name": "stdout",
     "output_type": "stream",
     "text": [
      "0.0036122817579771205\n",
      "0.016072002571520416\n",
      "0.01244444444444448\n"
     ]
    },
    {
     "name": "stderr",
     "output_type": "stream",
     "text": [
      "\r",
      "10641it [03:46, 40.61it/s]"
     ]
    },
    {
     "name": "stdout",
     "output_type": "stream",
     "text": [
      "0.22107792653621705\n"
     ]
    },
    {
     "name": "stderr",
     "output_type": "stream",
     "text": [
      "\r",
      "10646it [03:46, 21.04it/s]"
     ]
    },
    {
     "name": "stdout",
     "output_type": "stream",
     "text": [
      "0.14090019569471623\n",
      "0.04264927245358763\n"
     ]
    },
    {
     "name": "stderr",
     "output_type": "stream",
     "text": [
      "\r",
      "10650it [03:46, 22.01it/s]"
     ]
    },
    {
     "name": "stdout",
     "output_type": "stream",
     "text": [
      "-0.08235638921453692\n",
      "-0.01922590437642291\n"
     ]
    },
    {
     "name": "stderr",
     "output_type": "stream",
     "text": [
      "10663it [03:47, 24.34it/s]"
     ]
    },
    {
     "name": "stdout",
     "output_type": "stream",
     "text": [
      "-0.012944983818770184\n",
      "-0.007063572149343944\n"
     ]
    },
    {
     "name": "stderr",
     "output_type": "stream",
     "text": [
      "\r",
      "10667it [03:47, 21.23it/s]"
     ]
    },
    {
     "name": "stdout",
     "output_type": "stream",
     "text": [
      "0.015044247787610487\n",
      "-0.02812803103782746\n"
     ]
    },
    {
     "name": "stderr",
     "output_type": "stream",
     "text": [
      "10679it [03:47, 29.50it/s]"
     ]
    },
    {
     "name": "stdout",
     "output_type": "stream",
     "text": [
      "0.04927385892116187\n",
      "-0.024654832347140054\n"
     ]
    },
    {
     "name": "stderr",
     "output_type": "stream",
     "text": [
      "\r",
      "10687it [03:48, 33.49it/s]"
     ]
    },
    {
     "name": "stdout",
     "output_type": "stream",
     "text": [
      "0.023295944779982758\n",
      "0.03267700041893584\n"
     ]
    },
    {
     "name": "stderr",
     "output_type": "stream",
     "text": [
      "\r",
      "10698it [03:48, 36.94it/s]"
     ]
    },
    {
     "name": "stdout",
     "output_type": "stream",
     "text": [
      "0.03485576923076916\n",
      "0.0034305317324185847\n",
      "0.11120174007612826\n",
      "0.01107174490699725\n"
     ]
    },
    {
     "name": "stderr",
     "output_type": "stream",
     "text": [
      "\r",
      "10703it [03:48, 19.22it/s]"
     ]
    },
    {
     "name": "stdout",
     "output_type": "stream",
     "text": [
      "0.034776520014004\n",
      "-0.0005189413596261572\n"
     ]
    },
    {
     "name": "stderr",
     "output_type": "stream",
     "text": [
      "10710it [03:49, 19.24it/s]"
     ]
    },
    {
     "name": "stdout",
     "output_type": "stream",
     "text": [
      "-0.06484517304189441\n",
      "0.015082427218519712\n"
     ]
    },
    {
     "name": "stderr",
     "output_type": "stream",
     "text": [
      "10720it [03:49, 24.32it/s]"
     ]
    },
    {
     "name": "stdout",
     "output_type": "stream",
     "text": [
      "0.019988577955453835\n",
      "-0.014000848536274924\n"
     ]
    },
    {
     "name": "stderr",
     "output_type": "stream",
     "text": [
      "\r",
      "10724it [03:49, 19.83it/s]"
     ]
    },
    {
     "name": "stdout",
     "output_type": "stream",
     "text": [
      "0.09863013698630141\n",
      "0.03486924034869232\n"
     ]
    },
    {
     "name": "stderr",
     "output_type": "stream",
     "text": [
      "\r",
      "10727it [03:50, 17.36it/s]"
     ]
    },
    {
     "name": "stdout",
     "output_type": "stream",
     "text": [
      "0.019523123699791922\n",
      "0.07913978494623652\n"
     ]
    },
    {
     "name": "stderr",
     "output_type": "stream",
     "text": [
      "10732it [03:50, 13.26it/s]"
     ]
    },
    {
     "name": "stdout",
     "output_type": "stream",
     "text": [
      "0.036578805809575066\n",
      "0.01835501858736066\n"
     ]
    },
    {
     "name": "stderr",
     "output_type": "stream",
     "text": [
      "\r",
      "10734it [03:50, 13.68it/s]"
     ]
    },
    {
     "name": "stdout",
     "output_type": "stream",
     "text": [
      "-0.01857142857142846\n",
      "0.01037924151696612\n"
     ]
    },
    {
     "name": "stderr",
     "output_type": "stream",
     "text": [
      "10739it [03:51, 12.19it/s]"
     ]
    },
    {
     "name": "stdout",
     "output_type": "stream",
     "text": [
      "-0.02786531763144795\n",
      "-0.028929097412160765\n"
     ]
    },
    {
     "name": "stderr",
     "output_type": "stream",
     "text": [
      "\r",
      "10743it [03:51, 14.67it/s]"
     ]
    },
    {
     "name": "stdout",
     "output_type": "stream",
     "text": [
      "-0.02328334648776642\n",
      "-0.019816819317235557\n"
     ]
    },
    {
     "name": "stderr",
     "output_type": "stream",
     "text": [
      "10747it [03:51, 11.98it/s]"
     ]
    },
    {
     "name": "stdout",
     "output_type": "stream",
     "text": [
      "0.015433841520798186\n",
      "0.043410041841004166\n"
     ]
    },
    {
     "name": "stderr",
     "output_type": "stream",
     "text": [
      "10751it [03:51, 12.60it/s]"
     ]
    },
    {
     "name": "stdout",
     "output_type": "stream",
     "text": [
      "-0.14125560538116588\n",
      "0.08229988726042836\n"
     ]
    },
    {
     "name": "stderr",
     "output_type": "stream",
     "text": [
      "10755it [03:52, 12.28it/s]"
     ]
    },
    {
     "name": "stdout",
     "output_type": "stream",
     "text": [
      "-0.07180851063829796\n",
      "0.03828623518687313\n"
     ]
    },
    {
     "name": "stderr",
     "output_type": "stream",
     "text": [
      "10759it [03:52, 12.62it/s]"
     ]
    },
    {
     "name": "stdout",
     "output_type": "stream",
     "text": [
      "0.006931836936788338\n",
      "-0.01477832512315258\n"
     ]
    },
    {
     "name": "stderr",
     "output_type": "stream",
     "text": [
      "10763it [03:52, 12.66it/s]"
     ]
    },
    {
     "name": "stdout",
     "output_type": "stream",
     "text": [
      "-0.06305084745762712\n",
      "0.024970737417089328\n"
     ]
    },
    {
     "name": "stderr",
     "output_type": "stream",
     "text": [
      "10768it [03:53, 13.47it/s]"
     ]
    },
    {
     "name": "stdout",
     "output_type": "stream",
     "text": [
      "-0.04332129963898923\n",
      "-0.009277155005798288\n"
     ]
    },
    {
     "name": "stderr",
     "output_type": "stream",
     "text": [
      "\r",
      "10770it [03:53, 11.03it/s]"
     ]
    },
    {
     "name": "stdout",
     "output_type": "stream",
     "text": [
      "-0.054247697031729825\n",
      "-0.0016642891107941926\n"
     ]
    },
    {
     "name": "stderr",
     "output_type": "stream",
     "text": [
      "\r",
      "10772it [03:53,  8.93it/s]"
     ]
    },
    {
     "name": "stdout",
     "output_type": "stream",
     "text": [
      "-0.035553555355535504\n",
      "-0.025398570643210605\n"
     ]
    },
    {
     "name": "stderr",
     "output_type": "stream",
     "text": [
      "10776it [03:54, 10.85it/s]"
     ]
    },
    {
     "name": "stdout",
     "output_type": "stream",
     "text": [
      "-0.05057289608850246\n",
      "-0.011251758087201025\n"
     ]
    },
    {
     "name": "stderr",
     "output_type": "stream",
     "text": [
      "10782it [03:54, 13.09it/s]"
     ]
    },
    {
     "name": "stdout",
     "output_type": "stream",
     "text": [
      "-0.018959257765228\n",
      "0.016544117647058876\n"
     ]
    },
    {
     "name": "stderr",
     "output_type": "stream",
     "text": [
      "\r",
      "10784it [03:54, 10.64it/s]"
     ]
    },
    {
     "name": "stdout",
     "output_type": "stream",
     "text": [
      "0.13069401383257806\n",
      "0.025337837837837718\n"
     ]
    },
    {
     "name": "stderr",
     "output_type": "stream",
     "text": [
      "10788it [03:55, 11.39it/s]"
     ]
    },
    {
     "name": "stdout",
     "output_type": "stream",
     "text": [
      "0.05100539480137334\n",
      "0.03816793893129766\n"
     ]
    },
    {
     "name": "stderr",
     "output_type": "stream",
     "text": [
      "10792it [03:55, 12.34it/s]"
     ]
    },
    {
     "name": "stdout",
     "output_type": "stream",
     "text": [
      "-0.014008993427879535\n",
      "-0.012912482065997155\n"
     ]
    },
    {
     "name": "stderr",
     "output_type": "stream",
     "text": [
      "\r",
      "10794it [03:55,  9.66it/s]"
     ]
    },
    {
     "name": "stdout",
     "output_type": "stream",
     "text": [
      "0.009646302250803762\n",
      "-0.07321509777171442\n"
     ]
    },
    {
     "name": "stderr",
     "output_type": "stream",
     "text": [
      "10798it [03:55, 11.22it/s]"
     ]
    },
    {
     "name": "stdout",
     "output_type": "stream",
     "text": [
      "0.0063745019920318224\n",
      "-0.01706596652445025\n"
     ]
    },
    {
     "name": "stderr",
     "output_type": "stream",
     "text": [
      "10803it [03:56, 12.73it/s]"
     ]
    },
    {
     "name": "stdout",
     "output_type": "stream",
     "text": [
      "0.035749950069902114\n",
      "0.07897240723120835\n"
     ]
    },
    {
     "name": "stderr",
     "output_type": "stream",
     "text": [
      "\r",
      "10805it [03:56, 10.12it/s]"
     ]
    },
    {
     "name": "stdout",
     "output_type": "stream",
     "text": [
      "0.08922742110990223\n",
      "0.1408888026392392\n"
     ]
    },
    {
     "name": "stderr",
     "output_type": "stream",
     "text": [
      "10809it [03:56, 11.19it/s]"
     ]
    },
    {
     "name": "stdout",
     "output_type": "stream",
     "text": [
      "0.05004591368227729\n",
      "0.07318952234206466\n"
     ]
    },
    {
     "name": "stderr",
     "output_type": "stream",
     "text": [
      "\r",
      "10811it [03:57,  9.59it/s]"
     ]
    },
    {
     "name": "stdout",
     "output_type": "stream",
     "text": [
      "-0.043072824156305534\n",
      "0.005584192439862523\n"
     ]
    },
    {
     "name": "stderr",
     "output_type": "stream",
     "text": [
      "10816it [03:57, 12.86it/s]"
     ]
    },
    {
     "name": "stdout",
     "output_type": "stream",
     "text": [
      "-0.04197638828159167\n",
      "-0.05907172995780585\n"
     ]
    },
    {
     "name": "stderr",
     "output_type": "stream",
     "text": [
      "\r",
      "10818it [03:57, 10.28it/s]"
     ]
    },
    {
     "name": "stdout",
     "output_type": "stream",
     "text": [
      "0.013542107490478017\n",
      "0.0007399186089531717\n"
     ]
    },
    {
     "name": "stderr",
     "output_type": "stream",
     "text": [
      "10824it [03:58, 12.52it/s]"
     ]
    },
    {
     "name": "stdout",
     "output_type": "stream",
     "text": [
      "0.02503498678277105\n",
      "0.01768276590129325\n"
     ]
    },
    {
     "name": "stderr",
     "output_type": "stream",
     "text": [
      "\r",
      "10826it [03:58, 12.48it/s]"
     ]
    },
    {
     "name": "stdout",
     "output_type": "stream",
     "text": [
      "-0.005052935514918366\n",
      "0.18380309646685178\n"
     ]
    },
    {
     "name": "stderr",
     "output_type": "stream",
     "text": [
      "10830it [03:58, 11.07it/s]"
     ]
    },
    {
     "name": "stdout",
     "output_type": "stream",
     "text": [
      "0.04225352112676073\n",
      "0.01690821256038655\n"
     ]
    },
    {
     "name": "stderr",
     "output_type": "stream",
     "text": [
      "\r",
      "10832it [03:58,  9.29it/s]"
     ]
    },
    {
     "name": "stdout",
     "output_type": "stream",
     "text": [
      "0.2704174228675136\n",
      "0.025771736052109695\n"
     ]
    },
    {
     "name": "stderr",
     "output_type": "stream",
     "text": [
      "\r",
      "10834it [03:59, 10.48it/s]"
     ]
    },
    {
     "name": "stdout",
     "output_type": "stream",
     "text": [
      "0.059326232350755514\n",
      "0.02969348659003823\n"
     ]
    },
    {
     "name": "stderr",
     "output_type": "stream",
     "text": [
      "10838it [03:59, 10.63it/s]"
     ]
    },
    {
     "name": "stdout",
     "output_type": "stream",
     "text": [
      "-0.01624365482233514\n",
      "0.0\n"
     ]
    },
    {
     "name": "stderr",
     "output_type": "stream",
     "text": [
      "\r",
      "10840it [03:59,  8.89it/s]"
     ]
    },
    {
     "name": "stdout",
     "output_type": "stream",
     "text": [
      "0.016489143793527283\n",
      "-0.06543346217559354\n"
     ]
    },
    {
     "name": "stderr",
     "output_type": "stream",
     "text": [
      "\r",
      "10842it [03:59,  9.05it/s]"
     ]
    },
    {
     "name": "stdout",
     "output_type": "stream",
     "text": [
      "0.006931776723823502\n",
      "0.011280931586608478\n"
     ]
    },
    {
     "name": "stderr",
     "output_type": "stream",
     "text": [
      "\r",
      "10844it [04:00,  9.78it/s]"
     ]
    },
    {
     "name": "stdout",
     "output_type": "stream",
     "text": [
      "0.0049586776859504855\n",
      "-0.06871129460336178\n"
     ]
    },
    {
     "name": "stderr",
     "output_type": "stream",
     "text": [
      "10848it [04:00,  9.41it/s]"
     ]
    },
    {
     "name": "stdout",
     "output_type": "stream",
     "text": [
      "-0.041465766634522616\n",
      "0.040985096328607584\n"
     ]
    },
    {
     "name": "stderr",
     "output_type": "stream",
     "text": [
      "10852it [04:00, 10.40it/s]"
     ]
    },
    {
     "name": "stdout",
     "output_type": "stream",
     "text": [
      "-0.05397625044980192\n",
      "0.013829879476285445\n"
     ]
    },
    {
     "name": "stderr",
     "output_type": "stream",
     "text": [
      "\r",
      "10854it [04:01, 10.98it/s]"
     ]
    },
    {
     "name": "stdout",
     "output_type": "stream",
     "text": [
      "0.029902642559109793\n",
      "0.10701009028146569\n"
     ]
    },
    {
     "name": "stderr",
     "output_type": "stream",
     "text": [
      "10858it [04:01, 10.11it/s]"
     ]
    },
    {
     "name": "stdout",
     "output_type": "stream",
     "text": [
      "-0.20191355988122728\n",
      "0.051668092386655484\n"
     ]
    },
    {
     "name": "stderr",
     "output_type": "stream",
     "text": [
      "\r",
      "10860it [04:01, 10.55it/s]"
     ]
    },
    {
     "name": "stdout",
     "output_type": "stream",
     "text": [
      "-0.16719833269533413\n",
      "-0.31512749827705033\n"
     ]
    },
    {
     "name": "stderr",
     "output_type": "stream",
     "text": [
      "10865it [04:02, 10.27it/s]"
     ]
    },
    {
     "name": "stdout",
     "output_type": "stream",
     "text": [
      "-0.03648548026805676\n",
      "-0.09779579427413221\n"
     ]
    },
    {
     "name": "stderr",
     "output_type": "stream",
     "text": [
      "\r",
      "10867it [04:02,  9.98it/s]"
     ]
    },
    {
     "name": "stdout",
     "output_type": "stream",
     "text": [
      "-0.04251299008030218\n",
      "-0.16847561963388946\n"
     ]
    },
    {
     "name": "stderr",
     "output_type": "stream",
     "text": [
      "10871it [04:02,  9.23it/s]"
     ]
    },
    {
     "name": "stdout",
     "output_type": "stream",
     "text": [
      "-0.07506297229219161\n",
      "-0.0826893353941266\n"
     ]
    },
    {
     "name": "stderr",
     "output_type": "stream",
     "text": [
      "\r",
      "10873it [04:03,  8.16it/s]"
     ]
    },
    {
     "name": "stdout",
     "output_type": "stream",
     "text": [
      "-0.0131386861313868\n",
      "0.02838550431953335\n"
     ]
    },
    {
     "name": "stderr",
     "output_type": "stream",
     "text": [
      "\r",
      "10876it [04:03,  9.66it/s]"
     ]
    },
    {
     "name": "stdout",
     "output_type": "stream",
     "text": [
      "-0.12862616310892172\n",
      "-0.0012562814070351536\n"
     ]
    },
    {
     "name": "stderr",
     "output_type": "stream",
     "text": [
      "10880it [04:03,  9.93it/s]"
     ]
    },
    {
     "name": "stdout",
     "output_type": "stream",
     "text": [
      "-0.08608815426997252\n",
      "-0.006464124111183023\n"
     ]
    },
    {
     "name": "stderr",
     "output_type": "stream",
     "text": [
      "\r",
      "10882it [04:04,  9.04it/s]"
     ]
    },
    {
     "name": "stdout",
     "output_type": "stream",
     "text": [
      "0.02206776715899239\n",
      "0.011976047904191711\n"
     ]
    },
    {
     "name": "stderr",
     "output_type": "stream",
     "text": [
      "\r",
      "10884it [04:04,  8.43it/s]"
     ]
    },
    {
     "name": "stdout",
     "output_type": "stream",
     "text": [
      "-0.004306632213608941\n",
      "0.0058798824023518215\n"
     ]
    },
    {
     "name": "stderr",
     "output_type": "stream",
     "text": [
      "10887it [04:04,  9.23it/s]"
     ]
    },
    {
     "name": "stdout",
     "output_type": "stream",
     "text": [
      "0.001875000000000071\n",
      "-0.009704641350210985\n"
     ]
    },
    {
     "name": "stderr",
     "output_type": "stream",
     "text": [
      "\r",
      "10889it [04:04,  8.11it/s]"
     ]
    },
    {
     "name": "stdout",
     "output_type": "stream",
     "text": [
      "-0.0021558361564519846\n",
      "-0.012505210504376807\n"
     ]
    },
    {
     "name": "stderr",
     "output_type": "stream",
     "text": [
      "10893it [04:05,  9.51it/s]"
     ]
    },
    {
     "name": "stdout",
     "output_type": "stream",
     "text": [
      "0.026794258373205926\n",
      "-0.020453289110005657\n",
      "0.00390930414386248\n"
     ]
    },
    {
     "name": "stderr",
     "output_type": "stream",
     "text": [
      "10897it [04:05, 10.73it/s]"
     ]
    },
    {
     "name": "stdout",
     "output_type": "stream",
     "text": [
      "-0.010533104041272612\n",
      "-0.003866602223296267\n"
     ]
    },
    {
     "name": "stderr",
     "output_type": "stream",
     "text": [
      "10901it [04:05, 11.38it/s]"
     ]
    },
    {
     "name": "stdout",
     "output_type": "stream",
     "text": [
      "-0.03179364127174544\n",
      "-0.000683060109289646\n"
     ]
    },
    {
     "name": "stderr",
     "output_type": "stream",
     "text": [
      "\r",
      "10903it [04:06, 11.49it/s]"
     ]
    },
    {
     "name": "stdout",
     "output_type": "stream",
     "text": [
      "-0.05498981670061098\n",
      "-0.0017101325352714136\n"
     ]
    },
    {
     "name": "stderr",
     "output_type": "stream",
     "text": [
      "10907it [04:06, 10.03it/s]"
     ]
    },
    {
     "name": "stdout",
     "output_type": "stream",
     "text": [
      "-0.01098039215686275\n",
      "-0.04067059919279736\n"
     ]
    },
    {
     "name": "stderr",
     "output_type": "stream",
     "text": [
      "\r",
      "10910it [04:06, 11.33it/s]"
     ]
    },
    {
     "name": "stdout",
     "output_type": "stream",
     "text": [
      "-0.006073752711496794\n",
      "-0.10392156862745094\n"
     ]
    },
    {
     "name": "stderr",
     "output_type": "stream",
     "text": [
      "10914it [04:07, 10.23it/s]"
     ]
    },
    {
     "name": "stdout",
     "output_type": "stream",
     "text": [
      "-0.04773269689737469\n",
      "-0.03228583727938017\n"
     ]
    },
    {
     "name": "stderr",
     "output_type": "stream",
     "text": [
      "\r",
      "10918it [04:07, 11.53it/s]"
     ]
    },
    {
     "name": "stdout",
     "output_type": "stream",
     "text": [
      "-0.03118325501922259\n",
      "-0.0841457157516674\n"
     ]
    },
    {
     "name": "stderr",
     "output_type": "stream",
     "text": [
      "10922it [04:07, 11.58it/s]"
     ]
    },
    {
     "name": "stdout",
     "output_type": "stream",
     "text": [
      "-0.0404051287576771\n",
      "-0.009454545454545493\n"
     ]
    },
    {
     "name": "stderr",
     "output_type": "stream",
     "text": [
      "\r",
      "10924it [04:08,  9.22it/s]"
     ]
    },
    {
     "name": "stdout",
     "output_type": "stream",
     "text": [
      "0.017170891251022002\n",
      "0.03402171035213142\n"
     ]
    },
    {
     "name": "stderr",
     "output_type": "stream",
     "text": [
      "\r",
      "10928it [04:08, 11.33it/s]"
     ]
    },
    {
     "name": "stdout",
     "output_type": "stream",
     "text": [
      "-0.03155716502845329\n",
      "0.0026420079260236484\n"
     ]
    },
    {
     "name": "stderr",
     "output_type": "stream",
     "text": [
      "10932it [04:08, 10.09it/s]"
     ]
    },
    {
     "name": "stdout",
     "output_type": "stream",
     "text": [
      "0.0120430107526881\n",
      "0.021901007446342602\n"
     ]
    },
    {
     "name": "stderr",
     "output_type": "stream",
     "text": [
      "\r",
      "10934it [04:09,  8.43it/s]"
     ]
    },
    {
     "name": "stdout",
     "output_type": "stream",
     "text": [
      "0.011458333333333348\n",
      "-0.1201248049921998\n"
     ]
    },
    {
     "name": "stderr",
     "output_type": "stream",
     "text": [
      "\r",
      "10936it [04:09,  7.64it/s]"
     ]
    },
    {
     "name": "stdout",
     "output_type": "stream",
     "text": [
      "-0.003831417624520994\n",
      "0.01620421753607104\n"
     ]
    },
    {
     "name": "stderr",
     "output_type": "stream",
     "text": [
      "10938it [04:09,  7.05it/s]"
     ]
    },
    {
     "name": "stdout",
     "output_type": "stream",
     "text": [
      "-0.1788494809688581\n",
      "-0.06599724674062668\n"
     ]
    },
    {
     "name": "stderr",
     "output_type": "stream",
     "text": [
      "\r",
      "10942it [04:09,  8.95it/s]"
     ]
    },
    {
     "name": "stdout",
     "output_type": "stream",
     "text": [
      "0.006820119352088705\n",
      "0.0\n"
     ]
    },
    {
     "name": "stderr",
     "output_type": "stream",
     "text": [
      "10948it [04:10, 10.52it/s]"
     ]
    },
    {
     "name": "stdout",
     "output_type": "stream",
     "text": [
      "-0.013261648745519716\n",
      "0.011772400261608862\n"
     ]
    },
    {
     "name": "stderr",
     "output_type": "stream",
     "text": [
      "10953it [04:10, 12.50it/s]"
     ]
    },
    {
     "name": "stdout",
     "output_type": "stream",
     "text": [
      "-0.019966015293118144\n",
      "0.002702702702702675\n"
     ]
    },
    {
     "name": "stderr",
     "output_type": "stream",
     "text": [
      "\r",
      "10955it [04:10, 12.55it/s]"
     ]
    },
    {
     "name": "stdout",
     "output_type": "stream",
     "text": [
      "0.005298013245033095\n",
      "-0.05768783438008829\n"
     ]
    },
    {
     "name": "stderr",
     "output_type": "stream",
     "text": [
      "\r",
      "10958it [04:11, 12.55it/s]"
     ]
    },
    {
     "name": "stdout",
     "output_type": "stream",
     "text": [
      "0.06052514463729408\n",
      "-0.0469768487300517\n"
     ]
    },
    {
     "name": "stderr",
     "output_type": "stream",
     "text": [
      "\r",
      "10960it [04:11,  9.60it/s]"
     ]
    },
    {
     "name": "stdout",
     "output_type": "stream",
     "text": [
      "-0.005134788189987138\n",
      "0.004215407313731712\n"
     ]
    },
    {
     "name": "stderr",
     "output_type": "stream",
     "text": [
      "\r",
      "10962it [04:11,  8.72it/s]"
     ]
    },
    {
     "name": "stdout",
     "output_type": "stream",
     "text": [
      "-0.0601010101010101\n",
      "-0.01995841995841996\n"
     ]
    },
    {
     "name": "stderr",
     "output_type": "stream",
     "text": [
      "10966it [04:12,  8.72it/s]"
     ]
    },
    {
     "name": "stdout",
     "output_type": "stream",
     "text": [
      "-0.03359880537580884\n",
      "-0.13786213786213775\n"
     ]
    },
    {
     "name": "stderr",
     "output_type": "stream",
     "text": [
      "10969it [04:12,  9.05it/s]"
     ]
    },
    {
     "name": "stdout",
     "output_type": "stream",
     "text": [
      "-0.061014544164597284\n",
      "-0.009333899024183245\n"
     ]
    },
    {
     "name": "stderr",
     "output_type": "stream",
     "text": [
      "\r",
      "10971it [04:12,  9.60it/s]"
     ]
    },
    {
     "name": "stdout",
     "output_type": "stream",
     "text": [
      "0.03866432337434089\n",
      "0.01334127456819556\n"
     ]
    },
    {
     "name": "stderr",
     "output_type": "stream",
     "text": [
      "10976it [04:13, 10.24it/s]"
     ]
    },
    {
     "name": "stdout",
     "output_type": "stream",
     "text": [
      "0.08850820842255525\n",
      "-0.01538461538461533\n"
     ]
    },
    {
     "name": "stderr",
     "output_type": "stream",
     "text": [
      "\r",
      "10978it [04:13,  8.56it/s]"
     ]
    },
    {
     "name": "stdout",
     "output_type": "stream",
     "text": [
      "-0.003922223149461779\n",
      "0.015182481751824906\n"
     ]
    },
    {
     "name": "stderr",
     "output_type": "stream",
     "text": [
      "10982it [04:13, 10.17it/s]"
     ]
    },
    {
     "name": "stdout",
     "output_type": "stream",
     "text": [
      "0.006345177664974555\n",
      "-0.053697183098591506\n"
     ]
    },
    {
     "name": "stderr",
     "output_type": "stream",
     "text": [
      "10988it [04:14, 13.80it/s]"
     ]
    },
    {
     "name": "stdout",
     "output_type": "stream",
     "text": [
      "-0.003398470688190214\n",
      "-0.04206863830460206\n"
     ]
    },
    {
     "name": "stderr",
     "output_type": "stream",
     "text": [
      "10992it [04:14, 13.61it/s]"
     ]
    },
    {
     "name": "stdout",
     "output_type": "stream",
     "text": [
      "-0.008884376189871812\n",
      "-0.03836150845253594\n"
     ]
    },
    {
     "name": "stderr",
     "output_type": "stream",
     "text": [
      "\r",
      "10994it [04:14, 13.46it/s]"
     ]
    },
    {
     "name": "stdout",
     "output_type": "stream",
     "text": [
      "0.051982851018220755\n",
      "-0.002152389151958589\n"
     ]
    },
    {
     "name": "stderr",
     "output_type": "stream",
     "text": [
      "10998it [04:14, 10.59it/s]"
     ]
    },
    {
     "name": "stdout",
     "output_type": "stream",
     "text": [
      "0.01770657672849918\n",
      "0.014437689969604817\n"
     ]
    },
    {
     "name": "stderr",
     "output_type": "stream",
     "text": [
      "11002it [04:15, 11.80it/s]"
     ]
    },
    {
     "name": "stdout",
     "output_type": "stream",
     "text": [
      "-0.049201836868576376\n",
      "-0.02741514360313324\n"
     ]
    },
    {
     "name": "stderr",
     "output_type": "stream",
     "text": [
      "11006it [04:15, 12.57it/s]"
     ]
    },
    {
     "name": "stdout",
     "output_type": "stream",
     "text": [
      "-0.01431578947368417\n",
      "0.08829787234042552\n"
     ]
    },
    {
     "name": "stderr",
     "output_type": "stream",
     "text": [
      "\r",
      "11008it [04:15, 13.00it/s]"
     ]
    },
    {
     "name": "stdout",
     "output_type": "stream",
     "text": [
      "-0.0928368244116885\n",
      "0.0\n"
     ]
    },
    {
     "name": "stderr",
     "output_type": "stream",
     "text": [
      "\r",
      "11010it [04:16,  9.96it/s]"
     ]
    },
    {
     "name": "stdout",
     "output_type": "stream",
     "text": [
      "0.045362134688691214\n",
      "-0.09407894736842104\n"
     ]
    },
    {
     "name": "stderr",
     "output_type": "stream",
     "text": [
      "11014it [04:16, 10.09it/s]"
     ]
    },
    {
     "name": "stdout",
     "output_type": "stream",
     "text": [
      "0.004680851063829872\n",
      "-0.04242129573356046\n"
     ]
    },
    {
     "name": "stderr",
     "output_type": "stream",
     "text": [
      "\r",
      "11016it [04:16, 10.74it/s]"
     ]
    },
    {
     "name": "stdout",
     "output_type": "stream",
     "text": [
      "0.000838926174496768\n",
      "-0.01106770833333337\n"
     ]
    },
    {
     "name": "stderr",
     "output_type": "stream",
     "text": [
      "\r",
      "11018it [04:16,  9.21it/s]"
     ]
    },
    {
     "name": "stdout",
     "output_type": "stream",
     "text": [
      "-0.01243265644426017\n",
      "0.03508316008316004\n"
     ]
    },
    {
     "name": "stderr",
     "output_type": "stream",
     "text": [
      "11024it [04:17, 11.79it/s]"
     ]
    },
    {
     "name": "stdout",
     "output_type": "stream",
     "text": [
      "-0.02805555555555561\n",
      "-0.04655172413793096\n"
     ]
    },
    {
     "name": "stderr",
     "output_type": "stream",
     "text": [
      "11031it [04:17, 13.98it/s]"
     ]
    },
    {
     "name": "stdout",
     "output_type": "stream",
     "text": [
      "0.009663865546218453\n",
      "0.0060934326337169775\n"
     ]
    },
    {
     "name": "stderr",
     "output_type": "stream",
     "text": [
      "\r",
      "11033it [04:17, 13.63it/s]"
     ]
    },
    {
     "name": "stdout",
     "output_type": "stream",
     "text": [
      "0.04589917231000751\n",
      "0.012134655532359151\n"
     ]
    },
    {
     "name": "stderr",
     "output_type": "stream",
     "text": [
      "11037it [04:18, 10.99it/s]"
     ]
    },
    {
     "name": "stdout",
     "output_type": "stream",
     "text": [
      "0.20375161707632605\n",
      "-0.009180327868852589\n"
     ]
    },
    {
     "name": "stderr",
     "output_type": "stream",
     "text": [
      "\r",
      "11039it [04:18,  9.07it/s]"
     ]
    },
    {
     "name": "stdout",
     "output_type": "stream",
     "text": [
      "-0.002746855573225515\n",
      "-0.01845775225594737\n"
     ]
    },
    {
     "name": "stderr",
     "output_type": "stream",
     "text": [
      "\r",
      "11041it [04:18,  8.52it/s]"
     ]
    },
    {
     "name": "stdout",
     "output_type": "stream",
     "text": [
      "-0.034222222222222154\n",
      "-0.010109519797809607\n"
     ]
    },
    {
     "name": "stderr",
     "output_type": "stream",
     "text": [
      "11045it [04:19,  9.14it/s]"
     ]
    },
    {
     "name": "stdout",
     "output_type": "stream",
     "text": [
      "0.007279947054930513\n",
      "0.004178854993731829\n"
     ]
    },
    {
     "name": "stderr",
     "output_type": "stream",
     "text": [
      "11050it [04:19, 11.21it/s]"
     ]
    },
    {
     "name": "stdout",
     "output_type": "stream",
     "text": [
      "-0.04980340760157287\n",
      "0.012411347517730542\n"
     ]
    },
    {
     "name": "stderr",
     "output_type": "stream",
     "text": [
      "\r",
      "11052it [04:19,  9.31it/s]"
     ]
    },
    {
     "name": "stdout",
     "output_type": "stream",
     "text": [
      "0.006625258799171974\n",
      "-0.005826271186440635\n"
     ]
    },
    {
     "name": "stderr",
     "output_type": "stream",
     "text": [
      "\r",
      "11054it [04:19,  8.45it/s]"
     ]
    },
    {
     "name": "stdout",
     "output_type": "stream",
     "text": [
      "-0.009240924092409286\n",
      "-0.038634747570514216\n"
     ]
    },
    {
     "name": "stderr",
     "output_type": "stream",
     "text": [
      "11058it [04:20, 10.69it/s]"
     ]
    },
    {
     "name": "stdout",
     "output_type": "stream",
     "text": [
      "-0.020547945205479423\n",
      "0.009191176470588314\n"
     ]
    },
    {
     "name": "stderr",
     "output_type": "stream",
     "text": [
      "11062it [04:20, 12.21it/s]"
     ]
    },
    {
     "name": "stdout",
     "output_type": "stream",
     "text": [
      "-0.03757431629013075\n",
      "-0.016122650840751596\n"
     ]
    },
    {
     "name": "stderr",
     "output_type": "stream",
     "text": [
      "11066it [04:20, 12.51it/s]"
     ]
    },
    {
     "name": "stdout",
     "output_type": "stream",
     "text": [
      "-0.03875236294896034\n",
      "-0.019173412867490414\n"
     ]
    },
    {
     "name": "stderr",
     "output_type": "stream",
     "text": [
      "11073it [04:21, 14.41it/s]"
     ]
    },
    {
     "name": "stdout",
     "output_type": "stream",
     "text": [
      "-0.03738220979600293\n",
      "0.0\n"
     ]
    },
    {
     "name": "stderr",
     "output_type": "stream",
     "text": [
      "\r",
      "11076it [04:21, 15.45it/s]"
     ]
    },
    {
     "name": "stdout",
     "output_type": "stream",
     "text": [
      "0.0237068965517242\n",
      "0.07807239057239057\n"
     ]
    },
    {
     "name": "stderr",
     "output_type": "stream",
     "text": [
      "11080it [04:21, 12.27it/s]"
     ]
    },
    {
     "name": "stdout",
     "output_type": "stream",
     "text": [
      "0.0273580404008269\n",
      "0.03901437371663263\n"
     ]
    },
    {
     "name": "stderr",
     "output_type": "stream",
     "text": [
      "\r",
      "11082it [04:22, 10.15it/s]"
     ]
    },
    {
     "name": "stdout",
     "output_type": "stream",
     "text": [
      "0.03402489626556027\n",
      "0.08835341365461846\n"
     ]
    },
    {
     "name": "stderr",
     "output_type": "stream",
     "text": [
      "\r",
      "11084it [04:22, 11.06it/s]"
     ]
    },
    {
     "name": "stdout",
     "output_type": "stream",
     "text": [
      "-0.02155332590115211\n",
      "-0.10484848484848497\n"
     ]
    },
    {
     "name": "stderr",
     "output_type": "stream",
     "text": [
      "\r",
      "11086it [04:22,  9.47it/s]"
     ]
    },
    {
     "name": "stdout",
     "output_type": "stream",
     "text": [
      "0.0037641154328731385\n",
      "-0.002024291497976005\n"
     ]
    },
    {
     "name": "stderr",
     "output_type": "stream",
     "text": [
      "11089it [04:22,  8.19it/s]"
     ]
    },
    {
     "name": "stdout",
     "output_type": "stream",
     "text": [
      "-0.02014504431909747\n",
      "0.07302790217016897\n"
     ]
    },
    {
     "name": "stderr",
     "output_type": "stream",
     "text": [
      "11092it [04:23,  8.40it/s]"
     ]
    },
    {
     "name": "stdout",
     "output_type": "stream",
     "text": [
      "-0.03323586744639373\n",
      "0.0020929259104227604\n"
     ]
    },
    {
     "name": "stderr",
     "output_type": "stream",
     "text": [
      "11094it [04:23,  7.45it/s]"
     ]
    },
    {
     "name": "stdout",
     "output_type": "stream",
     "text": [
      "-0.03676880222841228\n",
      "-0.0047586675730796335\n"
     ]
    },
    {
     "name": "stderr",
     "output_type": "stream",
     "text": [
      "11099it [04:23, 10.09it/s]"
     ]
    },
    {
     "name": "stdout",
     "output_type": "stream",
     "text": [
      "0.035916824196597474\n",
      "-0.017019510170195096\n"
     ]
    },
    {
     "name": "stderr",
     "output_type": "stream",
     "text": [
      "\r",
      "11101it [04:23, 11.00it/s]"
     ]
    },
    {
     "name": "stdout",
     "output_type": "stream",
     "text": [
      "-0.0019295706705259041\n",
      "-0.03284916201117316\n"
     ]
    },
    {
     "name": "stderr",
     "output_type": "stream",
     "text": [
      "\r",
      "11103it [04:24,  9.43it/s]"
     ]
    },
    {
     "name": "stdout",
     "output_type": "stream",
     "text": [
      "-0.03269180068547339\n",
      "0.002060641742714253\n"
     ]
    },
    {
     "name": "stderr",
     "output_type": "stream",
     "text": [
      "11106it [04:24,  8.18it/s]"
     ]
    },
    {
     "name": "stdout",
     "output_type": "stream",
     "text": [
      "-0.047810218978102226\n",
      "0.01586314152410573\n"
     ]
    },
    {
     "name": "stderr",
     "output_type": "stream",
     "text": [
      "11108it [04:24,  7.28it/s]"
     ]
    },
    {
     "name": "stdout",
     "output_type": "stream",
     "text": [
      "-0.005778382053025277\n",
      "0.005946935041171164\n"
     ]
    },
    {
     "name": "stderr",
     "output_type": "stream",
     "text": [
      "11111it [04:25,  7.72it/s]"
     ]
    },
    {
     "name": "stdout",
     "output_type": "stream",
     "text": [
      "0.11730449251247932\n",
      "0.0007499062617171148\n"
     ]
    },
    {
     "name": "stderr",
     "output_type": "stream",
     "text": [
      "11113it [04:25,  7.22it/s]"
     ]
    },
    {
     "name": "stdout",
     "output_type": "stream",
     "text": [
      "0.019554956169925752\n",
      "0.023829431438127102\n"
     ]
    },
    {
     "name": "stderr",
     "output_type": "stream",
     "text": [
      "\r",
      "11115it [04:25,  8.32it/s]"
     ]
    },
    {
     "name": "stdout",
     "output_type": "stream",
     "text": [
      "0.0455819442395633\n"
     ]
    },
    {
     "name": "stderr",
     "output_type": "stream",
     "text": [
      "11117it [04:26,  6.91it/s]"
     ]
    },
    {
     "name": "stdout",
     "output_type": "stream",
     "text": [
      "-0.017695473251028826\n",
      "-0.06222056631892692\n"
     ]
    },
    {
     "name": "stderr",
     "output_type": "stream",
     "text": [
      "11120it [04:26,  7.50it/s]"
     ]
    },
    {
     "name": "stdout",
     "output_type": "stream",
     "text": [
      "-0.5065837071335553\n",
      "-0.0026525198938992522\n"
     ]
    },
    {
     "name": "stderr",
     "output_type": "stream",
     "text": [
      "11122it [04:26,  6.67it/s]"
     ]
    },
    {
     "name": "stdout",
     "output_type": "stream",
     "text": [
      "-0.025859619210002682\n",
      "0.016242721422004447\n"
     ]
    },
    {
     "name": "stderr",
     "output_type": "stream",
     "text": [
      "11125it [04:27,  7.48it/s]"
     ]
    },
    {
     "name": "stdout",
     "output_type": "stream",
     "text": [
      "-0.05022458146182118\n",
      "-0.04152249134948105\n"
     ]
    },
    {
     "name": "stderr",
     "output_type": "stream",
     "text": [
      "11129it [04:27,  8.90it/s]"
     ]
    },
    {
     "name": "stdout",
     "output_type": "stream",
     "text": [
      "0.17240373395565922\n",
      "0.11984536082474229\n"
     ]
    },
    {
     "name": "stderr",
     "output_type": "stream",
     "text": [
      "\r",
      "11131it [04:27,  8.38it/s]"
     ]
    },
    {
     "name": "stdout",
     "output_type": "stream",
     "text": [
      "0.16085119699577533\n",
      "0.13124999999999987\n"
     ]
    },
    {
     "name": "stderr",
     "output_type": "stream",
     "text": [
      "\r",
      "11133it [04:27,  9.60it/s]"
     ]
    },
    {
     "name": "stdout",
     "output_type": "stream",
     "text": [
      "0.07950423216445013\n",
      "0.005442176870748439\n"
     ]
    },
    {
     "name": "stderr",
     "output_type": "stream",
     "text": [
      "11137it [04:28,  9.68it/s]"
     ]
    },
    {
     "name": "stdout",
     "output_type": "stream",
     "text": [
      "-0.19416007445323413\n",
      "-0.04534606205250602\n"
     ]
    },
    {
     "name": "stderr",
     "output_type": "stream",
     "text": [
      "11142it [04:28, 11.85it/s]"
     ]
    },
    {
     "name": "stdout",
     "output_type": "stream",
     "text": [
      "-0.027210884353741638\n",
      "0.00040338846308984877\n"
     ]
    },
    {
     "name": "stderr",
     "output_type": "stream",
     "text": [
      "\r",
      "11144it [04:28, 12.11it/s]"
     ]
    },
    {
     "name": "stdout",
     "output_type": "stream",
     "text": [
      "-0.012439920836867291\n",
      "0.011227763196266949\n"
     ]
    },
    {
     "name": "stderr",
     "output_type": "stream",
     "text": [
      "\r",
      "11146it [04:28,  9.80it/s]"
     ]
    },
    {
     "name": "stdout",
     "output_type": "stream",
     "text": [
      "-0.008866371120962557\n",
      "-0.0071641791044776415\n"
     ]
    },
    {
     "name": "stderr",
     "output_type": "stream",
     "text": [
      "\r",
      "11148it [04:29,  8.95it/s]"
     ]
    },
    {
     "name": "stdout",
     "output_type": "stream",
     "text": [
      "-0.07581803671189147\n",
      "-0.005261027923917472\n"
     ]
    },
    {
     "name": "stderr",
     "output_type": "stream",
     "text": [
      "11155it [04:29, 10.84it/s]"
     ]
    },
    {
     "name": "stdout",
     "output_type": "stream",
     "text": [
      "0.0\n",
      "0.11694747274529238\n"
     ]
    },
    {
     "name": "stderr",
     "output_type": "stream",
     "text": [
      "11159it [04:29, 12.62it/s]"
     ]
    },
    {
     "name": "stdout",
     "output_type": "stream",
     "text": [
      "0.04825155868799125\n",
      "0.0620689655172415\n"
     ]
    },
    {
     "name": "stderr",
     "output_type": "stream",
     "text": [
      "\r",
      "11161it [04:30, 10.80it/s]"
     ]
    },
    {
     "name": "stdout",
     "output_type": "stream",
     "text": [
      "-0.07205465326114968\n",
      "-0.03126861226920774\n"
     ]
    },
    {
     "name": "stderr",
     "output_type": "stream",
     "text": [
      "11165it [04:30, 12.15it/s]"
     ]
    },
    {
     "name": "stdout",
     "output_type": "stream",
     "text": [
      "-0.06611570247933884\n",
      "-0.011826383808827057\n"
     ]
    },
    {
     "name": "stderr",
     "output_type": "stream",
     "text": [
      "11169it [04:30, 12.43it/s]"
     ]
    },
    {
     "name": "stdout",
     "output_type": "stream",
     "text": [
      "0.023182711198428407\n",
      "0.055247003800058314\n"
     ]
    },
    {
     "name": "stderr",
     "output_type": "stream",
     "text": [
      "\r",
      "11171it [04:31,  9.89it/s]"
     ]
    },
    {
     "name": "stdout",
     "output_type": "stream",
     "text": [
      "0.005842696629213551\n",
      "0.0233884768967485\n"
     ]
    },
    {
     "name": "stderr",
     "output_type": "stream",
     "text": [
      "\r",
      "11173it [04:31,  8.83it/s]"
     ]
    },
    {
     "name": "stdout",
     "output_type": "stream",
     "text": [
      "-0.01290070367474594\n",
      "-0.03202846975088958\n"
     ]
    },
    {
     "name": "stderr",
     "output_type": "stream",
     "text": [
      "11178it [04:31, 11.74it/s]"
     ]
    },
    {
     "name": "stdout",
     "output_type": "stream",
     "text": [
      "0.04244031830238737\n",
      "-0.031050955414012593\n"
     ]
    },
    {
     "name": "stderr",
     "output_type": "stream",
     "text": [
      "\r",
      "11180it [04:31,  9.93it/s]"
     ]
    },
    {
     "name": "stdout",
     "output_type": "stream",
     "text": [
      "-0.06633221850613158\n",
      "-0.05327617881200253\n"
     ]
    },
    {
     "name": "stderr",
     "output_type": "stream",
     "text": [
      "11184it [04:32, 11.65it/s]"
     ]
    },
    {
     "name": "stdout",
     "output_type": "stream",
     "text": [
      "-0.07241063244729606\n",
      "0.0031725888324873885\n"
     ]
    },
    {
     "name": "stderr",
     "output_type": "stream",
     "text": [
      "11188it [04:32, 12.49it/s]"
     ]
    },
    {
     "name": "stdout",
     "output_type": "stream",
     "text": [
      "-0.001474926253687281\n",
      "0.008222932846048359\n"
     ]
    },
    {
     "name": "stderr",
     "output_type": "stream",
     "text": [
      "11193it [04:32, 13.85it/s]"
     ]
    },
    {
     "name": "stdout",
     "output_type": "stream",
     "text": [
      "-0.06400506970849174\n",
      "0.005143422354104921\n"
     ]
    },
    {
     "name": "stderr",
     "output_type": "stream",
     "text": [
      "\r",
      "11195it [04:33, 10.89it/s]"
     ]
    },
    {
     "name": "stdout",
     "output_type": "stream",
     "text": [
      "-0.011455239711497534\n",
      "0.0008503401360544505\n"
     ]
    },
    {
     "name": "stderr",
     "output_type": "stream",
     "text": [
      "\r",
      "11200it [04:33, 12.56it/s]"
     ]
    },
    {
     "name": "stdout",
     "output_type": "stream",
     "text": [
      "0.08669212275491422\n",
      "0.0045045045045044585\n"
     ]
    },
    {
     "name": "stderr",
     "output_type": "stream",
     "text": [
      "11206it [04:33, 14.39it/s]"
     ]
    },
    {
     "name": "stdout",
     "output_type": "stream",
     "text": [
      "-0.006278026905829681\n",
      "-0.006697362913352878\n"
     ]
    },
    {
     "name": "stderr",
     "output_type": "stream",
     "text": [
      "\r",
      "11208it [04:33, 11.70it/s]"
     ]
    },
    {
     "name": "stdout",
     "output_type": "stream",
     "text": [
      "-0.010503552672227245\n",
      "0.020565552699228773\n"
     ]
    },
    {
     "name": "stderr",
     "output_type": "stream",
     "text": [
      "\r",
      "11211it [04:34, 13.21it/s]"
     ]
    },
    {
     "name": "stdout",
     "output_type": "stream",
     "text": [
      "-0.004067796610169427\n",
      "0.04484304932735439\n"
     ]
    },
    {
     "name": "stderr",
     "output_type": "stream",
     "text": [
      "11215it [04:34, 10.31it/s]"
     ]
    },
    {
     "name": "stdout",
     "output_type": "stream",
     "text": [
      "-0.023144996596324185\n",
      "-0.0018873859704309215\n"
     ]
    },
    {
     "name": "stderr",
     "output_type": "stream",
     "text": [
      "\r",
      "11217it [04:34,  9.71it/s]"
     ]
    },
    {
     "name": "stdout",
     "output_type": "stream",
     "text": [
      "0.037669794146478086\n",
      "0.000426985482493647\n"
     ]
    },
    {
     "name": "stderr",
     "output_type": "stream",
     "text": [
      "11224it [04:35, 12.46it/s]"
     ]
    },
    {
     "name": "stdout",
     "output_type": "stream",
     "text": [
      "-0.15126269200728992\n",
      "-0.013462347496844829\n"
     ]
    },
    {
     "name": "stderr",
     "output_type": "stream",
     "text": [
      "\r",
      "11226it [04:35, 12.69it/s]"
     ]
    },
    {
     "name": "stdout",
     "output_type": "stream",
     "text": [
      "-0.011748445058742063\n",
      "-0.0063775510204081565\n"
     ]
    },
    {
     "name": "stderr",
     "output_type": "stream",
     "text": [
      "11230it [04:35, 10.91it/s]"
     ]
    },
    {
     "name": "stdout",
     "output_type": "stream",
     "text": [
      "0.037275064267352276\n",
      "-0.004862236628849326\n"
     ]
    },
    {
     "name": "stderr",
     "output_type": "stream",
     "text": [
      "11234it [04:35, 11.71it/s]"
     ]
    },
    {
     "name": "stdout",
     "output_type": "stream",
     "text": [
      "0.023138409760201872\n",
      "0.029061457837065152\n"
     ]
    },
    {
     "name": "stderr",
     "output_type": "stream",
     "text": [
      "\r",
      "11237it [04:36, 12.08it/s]"
     ]
    },
    {
     "name": "stdout",
     "output_type": "stream",
     "text": [
      "-0.07152406417112311\n",
      "-0.03697042366107117\n"
     ]
    },
    {
     "name": "stderr",
     "output_type": "stream",
     "text": [
      "\r",
      "11239it [04:36, 12.55it/s]"
     ]
    },
    {
     "name": "stdout",
     "output_type": "stream",
     "text": [
      "0.0008826125330980705\n",
      "0.013215859030837107\n"
     ]
    },
    {
     "name": "stderr",
     "output_type": "stream",
     "text": [
      "11243it [04:36, 10.71it/s]"
     ]
    },
    {
     "name": "stdout",
     "output_type": "stream",
     "text": [
      "0.0008948545861298118\n",
      "-0.004258339247693366\n"
     ]
    },
    {
     "name": "stderr",
     "output_type": "stream",
     "text": [
      "11247it [04:37, 11.85it/s]"
     ]
    },
    {
     "name": "stdout",
     "output_type": "stream",
     "text": [
      "-0.10921501706484649\n",
      "0.0029915692140332073\n"
     ]
    },
    {
     "name": "stderr",
     "output_type": "stream",
     "text": [
      "11251it [04:37, 11.39it/s]"
     ]
    },
    {
     "name": "stdout",
     "output_type": "stream",
     "text": [
      "0.02483875394538204\n",
      "0.02145922746781115\n"
     ]
    },
    {
     "name": "stderr",
     "output_type": "stream",
     "text": [
      "11255it [04:37, 12.64it/s]"
     ]
    },
    {
     "name": "stdout",
     "output_type": "stream",
     "text": [
      "0.0138084632516704\n",
      "0.01098901098901095\n"
     ]
    },
    {
     "name": "stderr",
     "output_type": "stream",
     "text": [
      "11259it [04:38, 12.33it/s]"
     ]
    },
    {
     "name": "stdout",
     "output_type": "stream",
     "text": [
      "0.012658227848101333\n",
      "-0.002519949601008098\n"
     ]
    },
    {
     "name": "stderr",
     "output_type": "stream",
     "text": [
      "\r",
      "11264it [04:38, 14.06it/s]"
     ]
    },
    {
     "name": "stdout",
     "output_type": "stream",
     "text": [
      "-0.005717255717255676\n",
      "-0.020851063829787186\n"
     ]
    },
    {
     "name": "stderr",
     "output_type": "stream",
     "text": [
      "11268it [04:38, 13.09it/s]"
     ]
    },
    {
     "name": "stdout",
     "output_type": "stream",
     "text": [
      "-0.006353240152477735\n",
      "0.022336769759450315\n"
     ]
    },
    {
     "name": "stderr",
     "output_type": "stream",
     "text": [
      "11272it [04:38, 13.37it/s]"
     ]
    },
    {
     "name": "stdout",
     "output_type": "stream",
     "text": [
      "0.021693491952414323\n",
      "0.03741496598639449\n"
     ]
    },
    {
     "name": "stderr",
     "output_type": "stream",
     "text": [
      "11277it [04:39, 14.37it/s]"
     ]
    },
    {
     "name": "stdout",
     "output_type": "stream",
     "text": [
      "-0.11790567545963215\n",
      "0.045223811721273766\n"
     ]
    },
    {
     "name": "stderr",
     "output_type": "stream",
     "text": [
      "\r",
      "11283it [04:39, 17.58it/s]"
     ]
    },
    {
     "name": "stdout",
     "output_type": "stream",
     "text": [
      "0.029350104821803003\n",
      "0.06960873521383082\n"
     ]
    },
    {
     "name": "stderr",
     "output_type": "stream",
     "text": [
      "\r",
      "11286it [04:39, 11.58it/s]"
     ]
    },
    {
     "name": "stdout",
     "output_type": "stream",
     "text": [
      "-0.03369065849923425\n",
      "0.014406779661017\n"
     ]
    },
    {
     "name": "stderr",
     "output_type": "stream",
     "text": [
      "11292it [04:40, 14.97it/s]"
     ]
    },
    {
     "name": "stdout",
     "output_type": "stream",
     "text": [
      "-0.009126466753585527\n",
      "-0.001670843776106934\n"
     ]
    },
    {
     "name": "stderr",
     "output_type": "stream",
     "text": [
      "\r",
      "11294it [04:40, 14.27it/s]"
     ]
    },
    {
     "name": "stdout",
     "output_type": "stream",
     "text": [
      "-0.0038885288399221896\n",
      "0.021338912133891386\n"
     ]
    },
    {
     "name": "stderr",
     "output_type": "stream",
     "text": [
      "11300it [04:40, 12.85it/s]"
     ]
    },
    {
     "name": "stdout",
     "output_type": "stream",
     "text": [
      "0.017857142857143016\n",
      "0.041860465116279055\n"
     ]
    },
    {
     "name": "stderr",
     "output_type": "stream",
     "text": [
      "11307it [04:41, 13.94it/s]"
     ]
    },
    {
     "name": "stdout",
     "output_type": "stream",
     "text": [
      "-0.007655116841257081\n",
      "0.007653061224489832\n"
     ]
    },
    {
     "name": "stderr",
     "output_type": "stream",
     "text": [
      "11311it [04:41, 13.30it/s]"
     ]
    },
    {
     "name": "stdout",
     "output_type": "stream",
     "text": [
      "0.025295797633619\n",
      "0.003661513425549323\n"
     ]
    },
    {
     "name": "stderr",
     "output_type": "stream",
     "text": [
      "\r",
      "11313it [04:41, 10.09it/s]"
     ]
    },
    {
     "name": "stdout",
     "output_type": "stream",
     "text": [
      "0.005063291139240533\n",
      "0.02083333333333348\n"
     ]
    },
    {
     "name": "stderr",
     "output_type": "stream",
     "text": [
      "11318it [04:42, 12.04it/s]"
     ]
    },
    {
     "name": "stdout",
     "output_type": "stream",
     "text": [
      "0.05081555834378926\n",
      "0.0452525252525251\n"
     ]
    },
    {
     "name": "stderr",
     "output_type": "stream",
     "text": [
      "11324it [04:42, 14.19it/s]"
     ]
    },
    {
     "name": "stdout",
     "output_type": "stream",
     "text": [
      "0.0024922118380061864\n",
      "0.015575079872204523\n"
     ]
    },
    {
     "name": "stderr",
     "output_type": "stream",
     "text": [
      "\r",
      "11326it [04:42, 13.22it/s]"
     ]
    },
    {
     "name": "stdout",
     "output_type": "stream",
     "text": [
      "-0.02198492462311563\n",
      "0.005565862708719838\n"
     ]
    },
    {
     "name": "stderr",
     "output_type": "stream",
     "text": [
      "11333it [04:43, 12.61it/s]"
     ]
    },
    {
     "name": "stdout",
     "output_type": "stream",
     "text": [
      "0.019238319591676545\n",
      "-0.01131928181108488\n"
     ]
    },
    {
     "name": "stderr",
     "output_type": "stream",
     "text": [
      "11340it [04:43, 16.42it/s]"
     ]
    },
    {
     "name": "stdout",
     "output_type": "stream",
     "text": [
      "0.027261462205699916\n",
      "-0.002827763496143887\n"
     ]
    },
    {
     "name": "stderr",
     "output_type": "stream",
     "text": [
      "\r",
      "11345it [04:43, 16.03it/s]"
     ]
    },
    {
     "name": "stdout",
     "output_type": "stream",
     "text": [
      "-0.023335883703136884\n",
      "-0.0229797012638836\n"
     ]
    },
    {
     "name": "stderr",
     "output_type": "stream",
     "text": [
      "11349it [04:44, 11.94it/s]"
     ]
    },
    {
     "name": "stdout",
     "output_type": "stream",
     "text": [
      "-0.04321301474326389\n",
      "0.01154313487241776\n"
     ]
    },
    {
     "name": "stderr",
     "output_type": "stream",
     "text": [
      "11353it [04:44, 12.66it/s]"
     ]
    },
    {
     "name": "stdout",
     "output_type": "stream",
     "text": [
      "0.05392745616142203\n",
      "-0.006468797564687878\n"
     ]
    },
    {
     "name": "stderr",
     "output_type": "stream",
     "text": [
      "11360it [04:44, 13.95it/s]"
     ]
    },
    {
     "name": "stdout",
     "output_type": "stream",
     "text": [
      "-0.04902255639097741\n",
      "0.004996156802459684\n"
     ]
    },
    {
     "name": "stderr",
     "output_type": "stream",
     "text": [
      "11367it [04:45, 16.72it/s]"
     ]
    },
    {
     "name": "stdout",
     "output_type": "stream",
     "text": [
      "0.018292682926829285\n",
      "0.011443958263210874\n"
     ]
    },
    {
     "name": "stderr",
     "output_type": "stream",
     "text": [
      "11371it [04:45, 13.92it/s]"
     ]
    },
    {
     "name": "stdout",
     "output_type": "stream",
     "text": [
      "0.10393541876892054\n",
      "0.03953748601268181\n"
     ]
    },
    {
     "name": "stderr",
     "output_type": "stream",
     "text": [
      "11377it [04:45, 15.24it/s]"
     ]
    },
    {
     "name": "stdout",
     "output_type": "stream",
     "text": [
      "0.1448430951650821\n",
      "0.005923836389280401\n"
     ]
    },
    {
     "name": "stderr",
     "output_type": "stream",
     "text": [
      "\r",
      "11380it [04:46, 16.08it/s]"
     ]
    },
    {
     "name": "stdout",
     "output_type": "stream",
     "text": [
      "0.05491744436468049\n",
      "0.11014405762304924\n"
     ]
    },
    {
     "name": "stderr",
     "output_type": "stream",
     "text": [
      "11384it [04:46, 12.38it/s]"
     ]
    },
    {
     "name": "stdout",
     "output_type": "stream",
     "text": [
      "-0.020155249897861882\n",
      "0.002272727272727204\n"
     ]
    },
    {
     "name": "stderr",
     "output_type": "stream",
     "text": [
      "11388it [04:46, 12.25it/s]"
     ]
    },
    {
     "name": "stdout",
     "output_type": "stream",
     "text": [
      "-0.022116366110922048\n",
      "0.013127734944780034\n"
     ]
    },
    {
     "name": "stderr",
     "output_type": "stream",
     "text": [
      "11394it [04:47, 15.50it/s]"
     ]
    },
    {
     "name": "stdout",
     "output_type": "stream",
     "text": [
      "0.04628571428571426\n",
      "0.005468215994531844\n"
     ]
    },
    {
     "name": "stderr",
     "output_type": "stream",
     "text": [
      "11398it [04:47, 14.56it/s]"
     ]
    },
    {
     "name": "stdout",
     "output_type": "stream",
     "text": [
      "-0.02432644520010463\n",
      "0.003502626970227629\n"
     ]
    },
    {
     "name": "stderr",
     "output_type": "stream",
     "text": [
      "11403it [04:47, 14.86it/s]"
     ]
    },
    {
     "name": "stdout",
     "output_type": "stream",
     "text": [
      "0.006138392857142794\n",
      "0.007366482504604033\n"
     ]
    },
    {
     "name": "stderr",
     "output_type": "stream",
     "text": [
      "11410it [04:47, 17.38it/s]"
     ]
    },
    {
     "name": "stdout",
     "output_type": "stream",
     "text": [
      "0.015082427218519712\n",
      "0.0252824098977944\n"
     ]
    },
    {
     "name": "stderr",
     "output_type": "stream",
     "text": [
      "11418it [04:48, 19.29it/s]"
     ]
    },
    {
     "name": "stdout",
     "output_type": "stream",
     "text": [
      "0.007628294036061245\n",
      "0.007399577167019\n"
     ]
    },
    {
     "name": "stderr",
     "output_type": "stream",
     "text": [
      "11429it [04:48, 23.13it/s]"
     ]
    },
    {
     "name": "stdout",
     "output_type": "stream",
     "text": [
      "0.009681881051175623\n",
      "0.019707781175670958\n"
     ]
    },
    {
     "name": "stderr",
     "output_type": "stream",
     "text": [
      "11436it [04:48, 22.61it/s]"
     ]
    },
    {
     "name": "stdout",
     "output_type": "stream",
     "text": [
      "0.043448795180722755\n",
      "-0.07885177006909316\n"
     ]
    },
    {
     "name": "stderr",
     "output_type": "stream",
     "text": [
      "\r",
      "11441it [04:49, 24.91it/s]"
     ]
    },
    {
     "name": "stdout",
     "output_type": "stream",
     "text": [
      "0.03431199151043507\n",
      "0.0774999999999999\n"
     ]
    },
    {
     "name": "stderr",
     "output_type": "stream",
     "text": [
      "\r",
      "11444it [04:49, 14.49it/s]"
     ]
    },
    {
     "name": "stdout",
     "output_type": "stream",
     "text": [
      "0.0013637913399249246\n",
      "0.005173305742369516\n"
     ]
    },
    {
     "name": "stderr",
     "output_type": "stream",
     "text": [
      "\r",
      "11447it [04:49, 13.67it/s]"
     ]
    },
    {
     "name": "stdout",
     "output_type": "stream",
     "text": [
      "0.0006724949562877391\n",
      "0.004854368932038833\n"
     ]
    },
    {
     "name": "stderr",
     "output_type": "stream",
     "text": [
      "11451it [04:50, 10.99it/s]"
     ]
    },
    {
     "name": "stdout",
     "output_type": "stream",
     "text": [
      "-0.022063595068137487\n",
      "-0.1222877042593088\n"
     ]
    },
    {
     "name": "stderr",
     "output_type": "stream",
     "text": [
      "11460it [04:50, 14.43it/s]"
     ]
    },
    {
     "name": "stdout",
     "output_type": "stream",
     "text": [
      "0.1453218314532183\n",
      "-0.10174069627851134\n"
     ]
    },
    {
     "name": "stderr",
     "output_type": "stream",
     "text": [
      "\r",
      "11463it [04:50, 13.35it/s]"
     ]
    },
    {
     "name": "stdout",
     "output_type": "stream",
     "text": [
      "0.014880952380952328\n",
      "-0.05534181710565256\n"
     ]
    },
    {
     "name": "stderr",
     "output_type": "stream",
     "text": [
      "11467it [04:51, 13.55it/s]"
     ]
    },
    {
     "name": "stdout",
     "output_type": "stream",
     "text": [
      "-0.049114600735048364\n",
      "-0.06287347362951412\n"
     ]
    },
    {
     "name": "stderr",
     "output_type": "stream",
     "text": [
      "\r",
      "11469it [04:51, 10.38it/s]"
     ]
    },
    {
     "name": "stdout",
     "output_type": "stream",
     "text": [
      "-0.019364448857994043\n",
      "-0.031262525050100076\n"
     ]
    },
    {
     "name": "stderr",
     "output_type": "stream",
     "text": [
      "11473it [04:51, 12.09it/s]"
     ]
    },
    {
     "name": "stdout",
     "output_type": "stream",
     "text": [
      "-0.07340977515854208\n",
      "0.032366188331413026\n"
     ]
    },
    {
     "name": "stderr",
     "output_type": "stream",
     "text": [
      "\r",
      "11475it [04:51, 11.74it/s]"
     ]
    },
    {
     "name": "stdout",
     "output_type": "stream",
     "text": [
      "0.037676056338028285\n",
      "0.02589514066496168\n"
     ]
    },
    {
     "name": "stderr",
     "output_type": "stream",
     "text": [
      "11483it [04:52, 12.30it/s]"
     ]
    },
    {
     "name": "stdout",
     "output_type": "stream",
     "text": [
      "-0.25919799212823\n",
      "-0.2966169154228856\n"
     ]
    },
    {
     "name": "stderr",
     "output_type": "stream",
     "text": [
      "11492it [04:52, 17.26it/s]"
     ]
    },
    {
     "name": "stdout",
     "output_type": "stream",
     "text": [
      "0.02810862315388274\n",
      "-0.022943297279580444\n",
      "-0.02336448598130858\n",
      "-0.2747362747362748\n"
     ]
    },
    {
     "name": "stderr",
     "output_type": "stream",
     "text": [
      "\r",
      "11495it [04:52, 12.52it/s]"
     ]
    },
    {
     "name": "stdout",
     "output_type": "stream",
     "text": [
      "0.05848696757787675\n",
      "0.032523850823937606\n"
     ]
    },
    {
     "name": "stderr",
     "output_type": "stream",
     "text": [
      "11500it [04:53, 13.32it/s]"
     ]
    },
    {
     "name": "stdout",
     "output_type": "stream",
     "text": [
      "-0.051246051246051305\n",
      "-0.05739130434782613\n"
     ]
    },
    {
     "name": "stderr",
     "output_type": "stream",
     "text": [
      "11506it [04:53, 15.80it/s]"
     ]
    },
    {
     "name": "stdout",
     "output_type": "stream",
     "text": [
      "-0.18190614417029516\n",
      "-0.11024423337856182\n"
     ]
    },
    {
     "name": "stderr",
     "output_type": "stream",
     "text": [
      "11514it [04:53, 17.88it/s]"
     ]
    },
    {
     "name": "stdout",
     "output_type": "stream",
     "text": [
      "-0.12244897959183676\n",
      "-0.12300683371298404\n",
      "-0.05054945054945048\n",
      "-0.13803526448362735\n"
     ]
    },
    {
     "name": "stderr",
     "output_type": "stream",
     "text": [
      "11519it [04:54, 12.79it/s]"
     ]
    },
    {
     "name": "stdout",
     "output_type": "stream",
     "text": [
      "-0.03726435773783421\n",
      "-0.08634222919937207\n"
     ]
    },
    {
     "name": "stderr",
     "output_type": "stream",
     "text": [
      "11523it [04:54, 13.29it/s]"
     ]
    },
    {
     "name": "stdout",
     "output_type": "stream",
     "text": [
      "-0.06574675324675328\n",
      "-0.020242914979756943\n"
     ]
    },
    {
     "name": "stderr",
     "output_type": "stream",
     "text": [
      "\r",
      "11525it [04:55, 10.46it/s]"
     ]
    },
    {
     "name": "stdout",
     "output_type": "stream",
     "text": [
      "-0.014293567894447579\n",
      "-0.012382578992314208\n"
     ]
    },
    {
     "name": "stderr",
     "output_type": "stream",
     "text": [
      "11531it [04:55, 12.80it/s]"
     ]
    },
    {
     "name": "stdout",
     "output_type": "stream",
     "text": [
      "-0.10140511257829699\n",
      "-0.010389610389610393\n"
     ]
    },
    {
     "name": "stderr",
     "output_type": "stream",
     "text": [
      "11535it [04:55, 13.42it/s]"
     ]
    },
    {
     "name": "stdout",
     "output_type": "stream",
     "text": [
      "-0.014184397163120588\n",
      "0.03237095363079612\n"
     ]
    },
    {
     "name": "stderr",
     "output_type": "stream",
     "text": [
      "11539it [04:56, 13.43it/s]"
     ]
    },
    {
     "name": "stdout",
     "output_type": "stream",
     "text": [
      "-0.08555719458227162\n",
      "0.047743623283191594\n"
     ]
    },
    {
     "name": "stderr",
     "output_type": "stream",
     "text": [
      "11544it [04:56, 14.58it/s]"
     ]
    },
    {
     "name": "stdout",
     "output_type": "stream",
     "text": [
      "0.05823117338003514\n",
      "0.013503909026297167\n"
     ]
    },
    {
     "name": "stderr",
     "output_type": "stream",
     "text": [
      "11551it [04:56, 17.49it/s]"
     ]
    },
    {
     "name": "stdout",
     "output_type": "stream",
     "text": [
      "0.033083645443195975\n",
      "0.00330441966129702\n",
      "0.025167785234899265\n",
      "-0.0464274947241482\n"
     ]
    },
    {
     "name": "stderr",
     "output_type": "stream",
     "text": [
      "11559it [04:57, 14.86it/s]"
     ]
    },
    {
     "name": "stdout",
     "output_type": "stream",
     "text": [
      "-0.024169184290030232\n",
      "-0.04966887417218546\n"
     ]
    },
    {
     "name": "stderr",
     "output_type": "stream",
     "text": [
      "11567it [04:57, 18.92it/s]"
     ]
    },
    {
     "name": "stdout",
     "output_type": "stream",
     "text": [
      "0.039382650345928694\n",
      "0.06440346465493163\n"
     ]
    },
    {
     "name": "stderr",
     "output_type": "stream",
     "text": [
      "11573it [04:57, 19.78it/s]"
     ]
    },
    {
     "name": "stdout",
     "output_type": "stream",
     "text": [
      "0.029055690072639084\n",
      "0.052078958420831656\n",
      "-0.07702182284980741\n",
      "0.017257909875359356\n"
     ]
    },
    {
     "name": "stderr",
     "output_type": "stream",
     "text": [
      "11578it [04:58, 13.07it/s]"
     ]
    },
    {
     "name": "stdout",
     "output_type": "stream",
     "text": [
      "0.015378389316066388\n",
      "-0.03529411764705881\n"
     ]
    },
    {
     "name": "stderr",
     "output_type": "stream",
     "text": [
      "\r",
      "11580it [04:58, 10.73it/s]"
     ]
    },
    {
     "name": "stdout",
     "output_type": "stream",
     "text": [
      "-0.035609551738584044\n",
      "0.009036144578313143\n"
     ]
    },
    {
     "name": "stderr",
     "output_type": "stream",
     "text": [
      "11585it [04:58, 12.83it/s]"
     ]
    },
    {
     "name": "stdout",
     "output_type": "stream",
     "text": [
      "-0.03755674783326468\n",
      "-0.008271298593879095\n"
     ]
    },
    {
     "name": "stderr",
     "output_type": "stream",
     "text": [
      "11594it [04:59, 17.45it/s]"
     ]
    },
    {
     "name": "stdout",
     "output_type": "stream",
     "text": [
      "0.15212981744421916\n",
      "0.05740626920712977\n"
     ]
    },
    {
     "name": "stderr",
     "output_type": "stream",
     "text": [
      "\r",
      "11597it [04:59, 17.78it/s]"
     ]
    },
    {
     "name": "stdout",
     "output_type": "stream",
     "text": [
      "0.09696376101860937\n",
      "0.040514218932606205\n"
     ]
    },
    {
     "name": "stderr",
     "output_type": "stream",
     "text": [
      "\r",
      "11600it [04:59, 15.34it/s]"
     ]
    },
    {
     "name": "stdout",
     "output_type": "stream",
     "text": [
      "-0.09633027522935789\n",
      "0.03986951794128313\n"
     ]
    },
    {
     "name": "stderr",
     "output_type": "stream",
     "text": [
      "11604it [05:00, 11.25it/s]"
     ]
    },
    {
     "name": "stdout",
     "output_type": "stream",
     "text": [
      "0.04249717939074826\n",
      "0.04155746911269187\n"
     ]
    },
    {
     "name": "stderr",
     "output_type": "stream",
     "text": [
      "11608it [05:00, 11.87it/s]"
     ]
    },
    {
     "name": "stdout",
     "output_type": "stream",
     "text": [
      "0.05837563451776662\n",
      "-0.2381562099871959\n"
     ]
    },
    {
     "name": "stderr",
     "output_type": "stream",
     "text": [
      "\r",
      "11610it [05:00,  9.42it/s]"
     ]
    },
    {
     "name": "stdout",
     "output_type": "stream",
     "text": [
      "-0.15405128205128216\n",
      "-0.027959547888161684\n"
     ]
    },
    {
     "name": "stderr",
     "output_type": "stream",
     "text": [
      "11615it [05:01, 11.71it/s]"
     ]
    },
    {
     "name": "stdout",
     "output_type": "stream",
     "text": [
      "0.00710984713828644\n",
      "0.07210369970294361\n"
     ]
    },
    {
     "name": "stderr",
     "output_type": "stream",
     "text": [
      "\r",
      "11617it [05:01,  9.36it/s]"
     ]
    },
    {
     "name": "stdout",
     "output_type": "stream",
     "text": [
      "0.11036559139784963\n",
      "0.0721561969439728\n"
     ]
    },
    {
     "name": "stderr",
     "output_type": "stream",
     "text": [
      "11628it [05:01, 13.88it/s]"
     ]
    },
    {
     "name": "stdout",
     "output_type": "stream",
     "text": [
      "0.08334522620236906\n",
      "0.13396960056557083\n"
     ]
    },
    {
     "name": "stderr",
     "output_type": "stream",
     "text": [
      "\r",
      "11631it [05:01, 12.66it/s]"
     ]
    },
    {
     "name": "stdout",
     "output_type": "stream",
     "text": [
      "0.09406231628453843\n",
      "0.040766550522648215\n"
     ]
    },
    {
     "name": "stderr",
     "output_type": "stream",
     "text": [
      "\r",
      "11635it [05:02, 15.22it/s]"
     ]
    },
    {
     "name": "stdout",
     "output_type": "stream",
     "text": [
      "0.057945566286216055\n",
      "0.05340699815837935\n"
     ]
    },
    {
     "name": "stderr",
     "output_type": "stream",
     "text": [
      "\r",
      "11638it [05:02, 13.43it/s]"
     ]
    },
    {
     "name": "stdout",
     "output_type": "stream",
     "text": [
      "0.013672144731390778\n",
      "0.028456645463675656\n"
     ]
    },
    {
     "name": "stderr",
     "output_type": "stream",
     "text": [
      "11642it [05:02, 11.42it/s]"
     ]
    },
    {
     "name": "stdout",
     "output_type": "stream",
     "text": [
      "-0.004128819157720898\n",
      "-0.006378163363281009\n"
     ]
    },
    {
     "name": "stderr",
     "output_type": "stream",
     "text": [
      "\r",
      "11644it [05:03,  9.55it/s]"
     ]
    },
    {
     "name": "stdout",
     "output_type": "stream",
     "text": [
      "0.04240963855421698\n",
      "-0.10742187499999989\n"
     ]
    },
    {
     "name": "stderr",
     "output_type": "stream",
     "text": [
      "11654it [05:03, 14.99it/s]"
     ]
    },
    {
     "name": "stdout",
     "output_type": "stream",
     "text": [
      "0.1804245283018866\n",
      "-0.01649597910509315\n"
     ]
    },
    {
     "name": "stderr",
     "output_type": "stream",
     "text": [
      "11660it [05:03, 17.08it/s]"
     ]
    },
    {
     "name": "stdout",
     "output_type": "stream",
     "text": [
      "0.06906579425663373\n",
      "-0.012579495422461506\n"
     ]
    },
    {
     "name": "stderr",
     "output_type": "stream",
     "text": [
      "\r",
      "11663it [05:03, 14.65it/s]"
     ]
    },
    {
     "name": "stdout",
     "output_type": "stream",
     "text": [
      "0.023937677053824435\n",
      "0.04655493482309114\n"
     ]
    },
    {
     "name": "stderr",
     "output_type": "stream",
     "text": [
      "\r",
      "11665it [05:04, 11.39it/s]"
     ]
    },
    {
     "name": "stdout",
     "output_type": "stream",
     "text": [
      "0.008620689655172376\n",
      "0.012195121951219523\n"
     ]
    },
    {
     "name": "stderr",
     "output_type": "stream",
     "text": [
      "\r",
      "11667it [05:04,  9.36it/s]"
     ]
    },
    {
     "name": "stdout",
     "output_type": "stream",
     "text": [
      "-0.19805297427144575\n",
      "0.11904761904761907\n"
     ]
    },
    {
     "name": "stderr",
     "output_type": "stream",
     "text": [
      "11674it [05:04, 12.92it/s]"
     ]
    },
    {
     "name": "stdout",
     "output_type": "stream",
     "text": [
      "0.14769580345096922\n",
      "0.13960113960113962\n"
     ]
    },
    {
     "name": "stderr",
     "output_type": "stream",
     "text": [
      "\r",
      "11676it [05:05, 10.53it/s]"
     ]
    },
    {
     "name": "stdout",
     "output_type": "stream",
     "text": [
      "0.147907647907648\n",
      "-0.018585858585858595\n"
     ]
    },
    {
     "name": "stderr",
     "output_type": "stream",
     "text": [
      "11680it [05:05, 12.00it/s]"
     ]
    },
    {
     "name": "stdout",
     "output_type": "stream",
     "text": [
      "-0.018844221105527637\n",
      "-0.016811279826464354\n"
     ]
    },
    {
     "name": "stderr",
     "output_type": "stream",
     "text": [
      "\r",
      "11682it [05:05, 12.38it/s]"
     ]
    },
    {
     "name": "stdout",
     "output_type": "stream",
     "text": [
      "-0.0029779630732578166\n",
      "0.08986928104575176\n"
     ]
    },
    {
     "name": "stderr",
     "output_type": "stream",
     "text": [
      "11688it [05:05, 12.55it/s]"
     ]
    },
    {
     "name": "stdout",
     "output_type": "stream",
     "text": [
      "0.06333853354134167\n",
      "0.5188277531936212\n"
     ]
    },
    {
     "name": "stderr",
     "output_type": "stream",
     "text": [
      "\r",
      "11690it [05:06,  9.34it/s]"
     ]
    },
    {
     "name": "stdout",
     "output_type": "stream",
     "text": [
      "0.015350877192982448\n",
      "0.0903225806451613\n"
     ]
    },
    {
     "name": "stderr",
     "output_type": "stream",
     "text": [
      "\r",
      "11692it [05:06,  8.17it/s]"
     ]
    },
    {
     "name": "stdout",
     "output_type": "stream",
     "text": [
      "0.030633284241531555\n",
      "0.1660282574568288\n"
     ]
    },
    {
     "name": "stderr",
     "output_type": "stream",
     "text": [
      "11696it [05:06, 10.60it/s]"
     ]
    },
    {
     "name": "stdout",
     "output_type": "stream",
     "text": [
      "0.027962270469386707\n",
      "-0.013230429988974723\n"
     ]
    },
    {
     "name": "stderr",
     "output_type": "stream",
     "text": [
      "11700it [05:07, 11.66it/s]"
     ]
    },
    {
     "name": "stdout",
     "output_type": "stream",
     "text": [
      "-0.012949174490126336\n",
      "-0.12055682482333563\n"
     ]
    },
    {
     "name": "stderr",
     "output_type": "stream",
     "text": [
      "11707it [05:07, 15.29it/s]"
     ]
    },
    {
     "name": "stdout",
     "output_type": "stream",
     "text": [
      "-0.0835801604825247\n",
      "0.09591704471808171\n"
     ]
    },
    {
     "name": "stderr",
     "output_type": "stream",
     "text": [
      "\r",
      "11709it [05:07, 11.46it/s]"
     ]
    },
    {
     "name": "stdout",
     "output_type": "stream",
     "text": [
      "0.13575865128660158\n",
      "0.05221112696148378\n"
     ]
    },
    {
     "name": "stderr",
     "output_type": "stream",
     "text": [
      "11716it [05:08, 14.45it/s]"
     ]
    },
    {
     "name": "stdout",
     "output_type": "stream",
     "text": [
      "0.0799785292538917\n",
      "0.2363784915487923\n"
     ]
    },
    {
     "name": "stderr",
     "output_type": "stream",
     "text": [
      "\r",
      "11719it [05:08, 15.73it/s]"
     ]
    },
    {
     "name": "stdout",
     "output_type": "stream",
     "text": [
      "0.09367212313706319\n",
      "0.10764642082429488\n"
     ]
    },
    {
     "name": "stderr",
     "output_type": "stream",
     "text": [
      "\r",
      "11722it [05:08, 12.05it/s]"
     ]
    },
    {
     "name": "stdout",
     "output_type": "stream",
     "text": [
      "0.03678738214820698\n",
      "-0.0842105263157894\n"
     ]
    },
    {
     "name": "stderr",
     "output_type": "stream",
     "text": [
      "\r",
      "11727it [05:08, 15.07it/s]"
     ]
    },
    {
     "name": "stdout",
     "output_type": "stream",
     "text": [
      "0.14390423732489044\n",
      "0.08922277053225236\n"
     ]
    },
    {
     "name": "stderr",
     "output_type": "stream",
     "text": [
      "\r",
      "11730it [05:08, 13.84it/s]"
     ]
    },
    {
     "name": "stdout",
     "output_type": "stream",
     "text": [
      "0.10063728093467872\n",
      "0.16925465838509313\n"
     ]
    },
    {
     "name": "stderr",
     "output_type": "stream",
     "text": [
      "11734it [05:09, 11.90it/s]"
     ]
    },
    {
     "name": "stdout",
     "output_type": "stream",
     "text": [
      "0.15797317436661706\n",
      "0.07903102490845426\n"
     ]
    },
    {
     "name": "stderr",
     "output_type": "stream",
     "text": [
      "11739it [05:09, 13.41it/s]"
     ]
    },
    {
     "name": "stdout",
     "output_type": "stream",
     "text": [
      "-0.0317100792751982\n",
      "0.019681349578256846\n"
     ]
    },
    {
     "name": "stderr",
     "output_type": "stream",
     "text": [
      "\r",
      "11741it [05:09, 10.71it/s]"
     ]
    },
    {
     "name": "stdout",
     "output_type": "stream",
     "text": [
      "-0.10274621212121215\n",
      "0.27533097147119157\n"
     ]
    },
    {
     "name": "stderr",
     "output_type": "stream",
     "text": [
      "\r",
      "11743it [05:10,  9.70it/s]"
     ]
    },
    {
     "name": "stdout",
     "output_type": "stream",
     "text": [
      "0.27533097147119157\n",
      "0.3514403922770455\n"
     ]
    },
    {
     "name": "stderr",
     "output_type": "stream",
     "text": [
      "11748it [05:10, 12.89it/s]"
     ]
    },
    {
     "name": "stdout",
     "output_type": "stream",
     "text": [
      "-0.018944519621109657\n",
      "0.07492527785032355\n"
     ]
    },
    {
     "name": "stderr",
     "output_type": "stream",
     "text": [
      "\r",
      "11753it [05:10, 15.94it/s]"
     ]
    },
    {
     "name": "stdout",
     "output_type": "stream",
     "text": [
      "0.15842583249243214\n",
      "0.1561421619230201\n"
     ]
    },
    {
     "name": "stderr",
     "output_type": "stream",
     "text": [
      "\r",
      "11756it [05:10, 13.92it/s]"
     ]
    },
    {
     "name": "stdout",
     "output_type": "stream",
     "text": [
      "0.05220449012713013\n",
      "0.1777370728484775\n"
     ]
    },
    {
     "name": "stderr",
     "output_type": "stream",
     "text": [
      "11767it [05:11, 13.53it/s]"
     ]
    },
    {
     "name": "stdout",
     "output_type": "stream",
     "text": [
      "0.05008865248226968\n",
      "0.03199593702387005\n"
     ]
    },
    {
     "name": "stderr",
     "output_type": "stream",
     "text": [
      "\r",
      "11771it [05:11, 13.90it/s]"
     ]
    },
    {
     "name": "stdout",
     "output_type": "stream",
     "text": [
      "0.010667625554357185\n",
      "0.0064773293472844\n"
     ]
    },
    {
     "name": "stderr",
     "output_type": "stream",
     "text": [
      "\r",
      "11774it [05:11, 15.21it/s]"
     ]
    },
    {
     "name": "stdout",
     "output_type": "stream",
     "text": [
      "-0.032139577594123\n",
      "-0.1508742911153118\n"
     ]
    },
    {
     "name": "stderr",
     "output_type": "stream",
     "text": [
      "\r",
      "11777it [05:12, 11.19it/s]"
     ]
    },
    {
     "name": "stdout",
     "output_type": "stream",
     "text": [
      "0.012959876619984767\n",
      "0.0625\n"
     ]
    },
    {
     "name": "stderr",
     "output_type": "stream",
     "text": [
      "\r",
      "11780it [05:12, 12.79it/s]"
     ]
    },
    {
     "name": "stdout",
     "output_type": "stream",
     "text": [
      "-0.033728502254132486\n",
      "-0.049792531120331995\n"
     ]
    },
    {
     "name": "stderr",
     "output_type": "stream",
     "text": [
      "11785it [05:12, 12.39it/s]"
     ]
    },
    {
     "name": "stdout",
     "output_type": "stream",
     "text": [
      "-0.020811099252934784\n",
      "-0.012207527975584886\n"
     ]
    },
    {
     "name": "stderr",
     "output_type": "stream",
     "text": [
      "11789it [05:13, 13.13it/s]"
     ]
    },
    {
     "name": "stdout",
     "output_type": "stream",
     "text": [
      "-0.04094488188976375\n",
      "0.06482190731520476\n"
     ]
    },
    {
     "name": "stderr",
     "output_type": "stream",
     "text": [
      "11797it [05:13, 17.50it/s]"
     ]
    },
    {
     "name": "stdout",
     "output_type": "stream",
     "text": [
      "0.13305322128851538\n",
      "-0.045629325813893784\n"
     ]
    },
    {
     "name": "stderr",
     "output_type": "stream",
     "text": [
      "\r",
      "11800it [05:13, 14.67it/s]"
     ]
    },
    {
     "name": "stdout",
     "output_type": "stream",
     "text": [
      "0.012658227848101333\n",
      "0.07508116883116878\n"
     ]
    },
    {
     "name": "stderr",
     "output_type": "stream",
     "text": [
      "11808it [05:13, 17.73it/s]"
     ]
    },
    {
     "name": "stdout",
     "output_type": "stream",
     "text": [
      "0.06448945845390663\n",
      "0.03447143795141172\n"
     ]
    },
    {
     "name": "stderr",
     "output_type": "stream",
     "text": [
      "11815it [05:14, 21.86it/s]"
     ]
    },
    {
     "name": "stdout",
     "output_type": "stream",
     "text": [
      "0.034442792162351354\n",
      "0.08411703239289459\n"
     ]
    },
    {
     "name": "stderr",
     "output_type": "stream",
     "text": [
      "\r",
      "11818it [05:14, 17.85it/s]"
     ]
    },
    {
     "name": "stdout",
     "output_type": "stream",
     "text": [
      "0.03273952816562353\n",
      "0.023251192368839435\n"
     ]
    },
    {
     "name": "stderr",
     "output_type": "stream",
     "text": [
      "\r",
      "11821it [05:14, 15.11it/s]"
     ]
    },
    {
     "name": "stdout",
     "output_type": "stream",
     "text": [
      "-0.057091073855913055\n",
      "-0.09786439540152725\n"
     ]
    },
    {
     "name": "stderr",
     "output_type": "stream",
     "text": [
      "11828it [05:15, 18.83it/s]"
     ]
    },
    {
     "name": "stdout",
     "output_type": "stream",
     "text": [
      "-0.01660777385159018\n",
      "-0.09658817876021142\n"
     ]
    },
    {
     "name": "stderr",
     "output_type": "stream",
     "text": [
      "11834it [05:15, 19.51it/s]"
     ]
    },
    {
     "name": "stdout",
     "output_type": "stream",
     "text": [
      "-0.02400960384153672\n",
      "0.7110204081632656\n"
     ]
    },
    {
     "name": "stderr",
     "output_type": "stream",
     "text": [
      "11840it [05:15, 20.12it/s]"
     ]
    },
    {
     "name": "stdout",
     "output_type": "stream",
     "text": [
      "0.010971786833855912\n",
      "0.004691164972634887\n"
     ]
    },
    {
     "name": "stderr",
     "output_type": "stream",
     "text": [
      "\r",
      "11843it [05:15, 20.78it/s]"
     ]
    },
    {
     "name": "stdout",
     "output_type": "stream",
     "text": [
      "-0.00024384296513035864\n",
      "-0.03207096554077116\n"
     ]
    },
    {
     "name": "stderr",
     "output_type": "stream",
     "text": [
      "\r",
      "11846it [05:16, 13.80it/s]"
     ]
    },
    {
     "name": "stdout",
     "output_type": "stream",
     "text": [
      "-0.10945680628272247\n",
      "-0.13358559248970214\n"
     ]
    },
    {
     "name": "stderr",
     "output_type": "stream",
     "text": [
      "\r",
      "11848it [05:16, 14.06it/s]"
     ]
    },
    {
     "name": "stdout",
     "output_type": "stream",
     "text": [
      "-0.0218790218790218\n",
      "0.007053716766142193\n"
     ]
    },
    {
     "name": "stderr",
     "output_type": "stream",
     "text": [
      "11852it [05:16, 12.49it/s]"
     ]
    },
    {
     "name": "stdout",
     "output_type": "stream",
     "text": [
      "-0.0002803476310626607\n",
      "-0.04772234273318876\n"
     ]
    },
    {
     "name": "stderr",
     "output_type": "stream",
     "text": [
      "\r",
      "11854it [05:16, 13.35it/s]"
     ]
    },
    {
     "name": "stdout",
     "output_type": "stream",
     "text": [
      "-0.02404755471494191\n",
      "-0.03785488958990535\n"
     ]
    },
    {
     "name": "stderr",
     "output_type": "stream",
     "text": [
      "11863it [05:17, 14.13it/s]"
     ]
    },
    {
     "name": "stdout",
     "output_type": "stream",
     "text": [
      "0.011814345991561392\n",
      "-0.026009582477754867\n"
     ]
    },
    {
     "name": "stderr",
     "output_type": "stream",
     "text": [
      "11869it [05:17, 18.43it/s]"
     ]
    },
    {
     "name": "stdout",
     "output_type": "stream",
     "text": [
      "-0.013899049012436104\n",
      "-0.040506329113924044\n"
     ]
    },
    {
     "name": "stderr",
     "output_type": "stream",
     "text": [
      "\r",
      "11872it [05:17, 15.59it/s]"
     ]
    },
    {
     "name": "stdout",
     "output_type": "stream",
     "text": [
      "-0.01334445371142623\n",
      "0.047816385081287605\n"
     ]
    },
    {
     "name": "stderr",
     "output_type": "stream",
     "text": [
      "11878it [05:17, 17.84it/s]"
     ]
    },
    {
     "name": "stdout",
     "output_type": "stream",
     "text": [
      "-0.015834348355663885\n",
      "-0.020270270270270174\n"
     ]
    },
    {
     "name": "stderr",
     "output_type": "stream",
     "text": [
      "\r",
      "11881it [05:18, 15.76it/s]"
     ]
    },
    {
     "name": "stdout",
     "output_type": "stream",
     "text": [
      "-0.015219842164599817\n",
      "-0.00987654320987652\n"
     ]
    },
    {
     "name": "stderr",
     "output_type": "stream",
     "text": [
      "11885it [05:18, 16.50it/s]"
     ]
    },
    {
     "name": "stdout",
     "output_type": "stream",
     "text": [
      "0.0003196930946289811\n",
      "0.04448398576512447\n"
     ]
    },
    {
     "name": "stderr",
     "output_type": "stream",
     "text": [
      "\r",
      "11887it [05:18, 11.77it/s]"
     ]
    },
    {
     "name": "stdout",
     "output_type": "stream",
     "text": [
      "0.2041247158168238\n",
      "0.034413535990823085\n"
     ]
    },
    {
     "name": "stderr",
     "output_type": "stream",
     "text": [
      "11893it [05:18, 14.86it/s]"
     ]
    },
    {
     "name": "stdout",
     "output_type": "stream",
     "text": [
      "0.020872865275142427\n",
      "-0.0024360535931788885\n"
     ]
    },
    {
     "name": "stderr",
     "output_type": "stream",
     "text": [
      "\r",
      "11901it [05:19, 19.16it/s]"
     ]
    },
    {
     "name": "stdout",
     "output_type": "stream",
     "text": [
      "-0.03045186640471509\n",
      "-0.04994760740482029\n"
     ]
    },
    {
     "name": "stderr",
     "output_type": "stream",
     "text": [
      "11908it [05:19, 19.31it/s]"
     ]
    },
    {
     "name": "stdout",
     "output_type": "stream",
     "text": [
      "-0.10049893086243766\n",
      "0.044917257683215084\n"
     ]
    },
    {
     "name": "stderr",
     "output_type": "stream",
     "text": [
      "11915it [05:19, 23.30it/s]"
     ]
    },
    {
     "name": "stdout",
     "output_type": "stream",
     "text": [
      "-0.003069196428571397\n",
      "0.05648604269293944\n"
     ]
    },
    {
     "name": "stderr",
     "output_type": "stream",
     "text": [
      "\r",
      "11918it [05:19, 23.83it/s]"
     ]
    },
    {
     "name": "stdout",
     "output_type": "stream",
     "text": [
      "0.3250111457868925\n",
      "-0.004430905566325083\n"
     ]
    },
    {
     "name": "stderr",
     "output_type": "stream",
     "text": [
      "11925it [05:20, 19.96it/s]"
     ]
    },
    {
     "name": "stdout",
     "output_type": "stream",
     "text": [
      "-0.013348164627363657\n",
      "-0.23446688826387108\n"
     ]
    },
    {
     "name": "stderr",
     "output_type": "stream",
     "text": [
      "\r",
      "11928it [05:20, 16.05it/s]"
     ]
    },
    {
     "name": "stdout",
     "output_type": "stream",
     "text": [
      "0.01187335092348274\n",
      "0.027146959018532923\n"
     ]
    },
    {
     "name": "stderr",
     "output_type": "stream",
     "text": [
      "\r",
      "11936it [05:20, 20.47it/s]"
     ]
    },
    {
     "name": "stdout",
     "output_type": "stream",
     "text": [
      "0.02387411828540409\n",
      "0.012478729438457181\n"
     ]
    },
    {
     "name": "stderr",
     "output_type": "stream",
     "text": [
      "\r",
      "11940it [05:21, 16.01it/s]"
     ]
    },
    {
     "name": "stdout",
     "output_type": "stream",
     "text": [
      "0.06589891234804846\n",
      "-0.00497512437810943\n"
     ]
    },
    {
     "name": "stderr",
     "output_type": "stream",
     "text": [
      "\r",
      "11943it [05:21, 14.04it/s]"
     ]
    },
    {
     "name": "stdout",
     "output_type": "stream",
     "text": [
      "-0.0113378684807256\n",
      "-0.027151639344262235\n"
     ]
    },
    {
     "name": "stderr",
     "output_type": "stream",
     "text": [
      "11950it [05:21, 18.32it/s]"
     ]
    },
    {
     "name": "stdout",
     "output_type": "stream",
     "text": [
      "-0.031203566121842607\n",
      "-0.02230275996654585\n"
     ]
    },
    {
     "name": "stderr",
     "output_type": "stream",
     "text": [
      "11957it [05:21, 21.26it/s]"
     ]
    },
    {
     "name": "stdout",
     "output_type": "stream",
     "text": [
      "-0.030412722903005673\n",
      "0.026069708132615332\n"
     ]
    },
    {
     "name": "stderr",
     "output_type": "stream",
     "text": [
      "\r",
      "11963it [05:22, 24.14it/s]"
     ]
    },
    {
     "name": "stdout",
     "output_type": "stream",
     "text": [
      "0.00911369332421974\n",
      "0.0021834061135372895\n"
     ]
    },
    {
     "name": "stderr",
     "output_type": "stream",
     "text": [
      "\r",
      "11966it [05:22, 14.08it/s]"
     ]
    },
    {
     "name": "stdout",
     "output_type": "stream",
     "text": [
      "-0.0039032006245121043\n",
      "-0.30127693535514755\n"
     ]
    },
    {
     "name": "stderr",
     "output_type": "stream",
     "text": [
      "\r",
      "11971it [05:22, 17.08it/s]"
     ]
    },
    {
     "name": "stdout",
     "output_type": "stream",
     "text": [
      "-0.1450617283950617\n",
      "-0.018762251470176405\n"
     ]
    },
    {
     "name": "stderr",
     "output_type": "stream",
     "text": [
      "11978it [05:23, 16.66it/s]"
     ]
    },
    {
     "name": "stdout",
     "output_type": "stream",
     "text": [
      "-0.02083333333333348\n",
      "-0.1848251849702598\n"
     ]
    },
    {
     "name": "stderr",
     "output_type": "stream",
     "text": [
      "11987it [05:23, 23.50it/s]"
     ]
    },
    {
     "name": "stdout",
     "output_type": "stream",
     "text": [
      "-0.01622798337621223\n",
      "-0.051188299817184646\n"
     ]
    },
    {
     "name": "stderr",
     "output_type": "stream",
     "text": [
      "\r",
      "11991it [05:23, 20.27it/s]"
     ]
    },
    {
     "name": "stdout",
     "output_type": "stream",
     "text": [
      "-0.2927624185210159\n",
      "0.01099754172596712\n"
     ]
    },
    {
     "name": "stderr",
     "output_type": "stream",
     "text": [
      "12001it [05:23, 26.70it/s]"
     ]
    },
    {
     "name": "stdout",
     "output_type": "stream",
     "text": [
      "-0.0504663955991389\n",
      "-0.07120023249055518\n",
      "-0.07120023249055518\n",
      "-0.09548022598870054\n"
     ]
    },
    {
     "name": "stderr",
     "output_type": "stream",
     "text": [
      "12008it [05:24, 18.64it/s]"
     ]
    },
    {
     "name": "stdout",
     "output_type": "stream",
     "text": [
      "-0.16091828963116095\n",
      "-0.0277392510402219\n"
     ]
    },
    {
     "name": "stderr",
     "output_type": "stream",
     "text": [
      "12014it [05:24, 20.85it/s]"
     ]
    },
    {
     "name": "stdout",
     "output_type": "stream",
     "text": [
      "0.03852596314907886\n",
      "0.004237288135593209\n"
     ]
    },
    {
     "name": "stderr",
     "output_type": "stream",
     "text": [
      "\r",
      "12017it [05:24, 21.28it/s]"
     ]
    },
    {
     "name": "stdout",
     "output_type": "stream",
     "text": [
      "-0.013847080072245666\n",
      "-0.009104438413726657\n"
     ]
    },
    {
     "name": "stderr",
     "output_type": "stream",
     "text": [
      "\r",
      "12020it [05:24, 17.35it/s]"
     ]
    },
    {
     "name": "stdout",
     "output_type": "stream",
     "text": [
      "0.02676289279807542\n",
      "-0.005291005291005235\n"
     ]
    },
    {
     "name": "stderr",
     "output_type": "stream",
     "text": [
      "12025it [05:25, 14.72it/s]"
     ]
    },
    {
     "name": "stdout",
     "output_type": "stream",
     "text": [
      "-0.05032822757111599\n",
      "-0.009694258016405444\n"
     ]
    },
    {
     "name": "stderr",
     "output_type": "stream",
     "text": [
      "12031it [05:25, 18.17it/s]"
     ]
    },
    {
     "name": "stdout",
     "output_type": "stream",
     "text": [
      "-0.045680375379519744\n",
      "-0.07939450108124813\n"
     ]
    },
    {
     "name": "stderr",
     "output_type": "stream",
     "text": [
      "\r",
      "12034it [05:25, 15.43it/s]"
     ]
    },
    {
     "name": "stdout",
     "output_type": "stream",
     "text": [
      "0.03763812154696122\n",
      "0.018825301204819178\n"
     ]
    },
    {
     "name": "stderr",
     "output_type": "stream",
     "text": [
      "12042it [05:26, 19.29it/s]"
     ]
    },
    {
     "name": "stdout",
     "output_type": "stream",
     "text": [
      "0.1838281743524952\n",
      "0.1520923864515744\n"
     ]
    },
    {
     "name": "stderr",
     "output_type": "stream",
     "text": [
      "12049it [05:26, 22.18it/s]"
     ]
    },
    {
     "name": "stdout",
     "output_type": "stream",
     "text": [
      "-0.003020007550018744\n",
      "0.03442389758179232\n"
     ]
    },
    {
     "name": "stderr",
     "output_type": "stream",
     "text": [
      "12058it [05:26, 26.56it/s]"
     ]
    },
    {
     "name": "stdout",
     "output_type": "stream",
     "text": [
      "0.029107981220657164\n",
      "0.020275162925416312\n"
     ]
    },
    {
     "name": "stderr",
     "output_type": "stream",
     "text": [
      "\r",
      "12062it [05:26, 28.97it/s]"
     ]
    },
    {
     "name": "stdout",
     "output_type": "stream",
     "text": [
      "0.006353240152477735\n",
      "0.033434650455927084\n"
     ]
    },
    {
     "name": "stderr",
     "output_type": "stream",
     "text": [
      "\r",
      "12066it [05:27, 18.40it/s]"
     ]
    },
    {
     "name": "stdout",
     "output_type": "stream",
     "text": [
      "0.004909299815466062\n",
      "-0.012968586648080982\n"
     ]
    },
    {
     "name": "stderr",
     "output_type": "stream",
     "text": [
      "\r",
      "12069it [05:27, 15.04it/s]"
     ]
    },
    {
     "name": "stdout",
     "output_type": "stream",
     "text": [
      "0.04108216432865741\n",
      "-0.034881972635693925\n"
     ]
    },
    {
     "name": "stderr",
     "output_type": "stream",
     "text": [
      "\r",
      "12072it [05:27, 15.81it/s]"
     ]
    },
    {
     "name": "stdout",
     "output_type": "stream",
     "text": [
      "-0.0011652295502213583\n",
      "-0.059248554913294726\n"
     ]
    },
    {
     "name": "stderr",
     "output_type": "stream",
     "text": [
      "12077it [05:28, 14.70it/s]"
     ]
    },
    {
     "name": "stdout",
     "output_type": "stream",
     "text": [
      "-0.016321020984169654\n",
      "-0.09287776708373441\n"
     ]
    },
    {
     "name": "stderr",
     "output_type": "stream",
     "text": [
      "\r",
      "12079it [05:28, 11.51it/s]"
     ]
    },
    {
     "name": "stdout",
     "output_type": "stream",
     "text": [
      "0.004316158618829391\n",
      "-0.05571348536094456\n"
     ]
    },
    {
     "name": "stderr",
     "output_type": "stream",
     "text": [
      "12087it [05:28, 16.20it/s]"
     ]
    },
    {
     "name": "stdout",
     "output_type": "stream",
     "text": [
      "0.005061460592914013\n",
      "0.014408493427704672\n"
     ]
    },
    {
     "name": "stderr",
     "output_type": "stream",
     "text": [
      "\r",
      "12090it [05:28, 14.79it/s]"
     ]
    },
    {
     "name": "stdout",
     "output_type": "stream",
     "text": [
      "0.01137944114300149\n",
      "-0.028953229398663627\n"
     ]
    },
    {
     "name": "stderr",
     "output_type": "stream",
     "text": [
      "\r",
      "12092it [05:29, 11.21it/s]"
     ]
    },
    {
     "name": "stdout",
     "output_type": "stream",
     "text": [
      "0.042237177999535636\n",
      "0.0002294104152329446\n"
     ]
    },
    {
     "name": "stderr",
     "output_type": "stream",
     "text": [
      "12100it [05:29, 15.54it/s]"
     ]
    },
    {
     "name": "stdout",
     "output_type": "stream",
     "text": [
      "-0.005453962143086355\n",
      "-0.01422265816576751\n"
     ]
    },
    {
     "name": "stderr",
     "output_type": "stream",
     "text": [
      "\r",
      "12103it [05:29, 14.08it/s]"
     ]
    },
    {
     "name": "stdout",
     "output_type": "stream",
     "text": [
      "-0.0160109789569991\n",
      "-0.1474639442553881\n"
     ]
    },
    {
     "name": "stderr",
     "output_type": "stream",
     "text": [
      "12108it [05:29, 16.10it/s]"
     ]
    },
    {
     "name": "stdout",
     "output_type": "stream",
     "text": [
      "-0.03041274438812458\n",
      "0.0015073483230749751\n"
     ]
    },
    {
     "name": "stderr",
     "output_type": "stream",
     "text": [
      "12112it [05:30, 15.57it/s]"
     ]
    },
    {
     "name": "stdout",
     "output_type": "stream",
     "text": [
      "-0.019736842105263275\n",
      "0.0019508388607101246\n"
     ]
    },
    {
     "name": "stderr",
     "output_type": "stream",
     "text": [
      "12119it [05:30, 19.69it/s]"
     ]
    },
    {
     "name": "stdout",
     "output_type": "stream",
     "text": [
      "0.10985915492957754\n",
      "-0.04613918017159202\n"
     ]
    },
    {
     "name": "stderr",
     "output_type": "stream",
     "text": [
      "\r",
      "12122it [05:30, 17.16it/s]"
     ]
    },
    {
     "name": "stdout",
     "output_type": "stream",
     "text": [
      "-0.05664461815995192\n",
      "0.006258381761287346\n"
     ]
    },
    {
     "name": "stderr",
     "output_type": "stream",
     "text": [
      "\r",
      "12133it [05:30, 22.20it/s]"
     ]
    },
    {
     "name": "stdout",
     "output_type": "stream",
     "text": [
      "-0.06869009584664532\n",
      "0.04404381560931081\n"
     ]
    },
    {
     "name": "stderr",
     "output_type": "stream",
     "text": [
      "\r",
      "12137it [05:31, 20.71it/s]"
     ]
    },
    {
     "name": "stdout",
     "output_type": "stream",
     "text": [
      "0.06411698537682775\n",
      "0.009689922480620172\n"
     ]
    },
    {
     "name": "stderr",
     "output_type": "stream",
     "text": [
      "12143it [05:31, 17.48it/s]"
     ]
    },
    {
     "name": "stdout",
     "output_type": "stream",
     "text": [
      "-0.00030613806826862433\n",
      "-0.021863957597173078\n"
     ]
    },
    {
     "name": "stderr",
     "output_type": "stream",
     "text": [
      "12150it [05:31, 21.51it/s]"
     ]
    },
    {
     "name": "stdout",
     "output_type": "stream",
     "text": [
      "-0.07925039512305265\n",
      "-0.0141034251175286\n"
     ]
    },
    {
     "name": "stderr",
     "output_type": "stream",
     "text": [
      "12156it [05:32, 22.31it/s]"
     ]
    },
    {
     "name": "stdout",
     "output_type": "stream",
     "text": [
      "0.010769575947947141\n",
      "0.03708262809663032\n"
     ]
    },
    {
     "name": "stderr",
     "output_type": "stream",
     "text": [
      "12162it [05:32, 22.12it/s]"
     ]
    },
    {
     "name": "stdout",
     "output_type": "stream",
     "text": [
      "-0.08467153284671536\n",
      "-0.036375661375661394\n"
     ]
    },
    {
     "name": "stderr",
     "output_type": "stream",
     "text": [
      "\r",
      "12166it [05:32, 25.02it/s]"
     ]
    },
    {
     "name": "stdout",
     "output_type": "stream",
     "text": [
      "-0.10997067448680353\n",
      "0.0004442781648974492\n"
     ]
    },
    {
     "name": "stderr",
     "output_type": "stream",
     "text": [
      "12172it [05:32, 19.61it/s]"
     ]
    },
    {
     "name": "stdout",
     "output_type": "stream",
     "text": [
      "-0.2085790637670475\n",
      "-0.062360248447205\n"
     ]
    },
    {
     "name": "stderr",
     "output_type": "stream",
     "text": [
      "12179it [05:33, 19.70it/s]"
     ]
    },
    {
     "name": "stdout",
     "output_type": "stream",
     "text": [
      "-0.17132701421800955\n",
      "0.0927227386080256\n",
      "-0.03549571603427171\n"
     ]
    },
    {
     "name": "stderr",
     "output_type": "stream",
     "text": [
      "12185it [05:33, 18.31it/s]"
     ]
    },
    {
     "name": "stdout",
     "output_type": "stream",
     "text": [
      "0.08698516264625611\n",
      "0.1464208242950109\n",
      "0.19703389830508478\n"
     ]
    },
    {
     "name": "stderr",
     "output_type": "stream",
     "text": [
      "\r",
      "12188it [05:33, 17.09it/s]"
     ]
    },
    {
     "name": "stdout",
     "output_type": "stream",
     "text": [
      "0.08266575762740747\n",
      "0.08472976162379053\n",
      "0.06285714285714294\n"
     ]
    },
    {
     "name": "stderr",
     "output_type": "stream",
     "text": [
      "12197it [05:34, 22.21it/s]"
     ]
    },
    {
     "name": "stdout",
     "output_type": "stream",
     "text": [
      "0.010723860589812118\n",
      "-0.13511469624401307\n"
     ]
    },
    {
     "name": "stderr",
     "output_type": "stream",
     "text": [
      "\r",
      "12200it [05:34, 16.94it/s]"
     ]
    },
    {
     "name": "stdout",
     "output_type": "stream",
     "text": [
      "-0.08102493074792239\n",
      "-0.2931706050376526\n"
     ]
    },
    {
     "name": "stderr",
     "output_type": "stream",
     "text": [
      "12206it [05:34, 18.68it/s]"
     ]
    },
    {
     "name": "stdout",
     "output_type": "stream",
     "text": [
      "0.03038033395176254\n",
      "-0.08064516129032251\n"
     ]
    },
    {
     "name": "stderr",
     "output_type": "stream",
     "text": [
      "12212it [05:34, 20.67it/s]"
     ]
    },
    {
     "name": "stdout",
     "output_type": "stream",
     "text": [
      "0.039746001881467485\n",
      "0.026538280883043663\n"
     ]
    },
    {
     "name": "stderr",
     "output_type": "stream",
     "text": [
      "\r",
      "12215it [05:35, 16.29it/s]"
     ]
    },
    {
     "name": "stdout",
     "output_type": "stream",
     "text": [
      "-0.02298560242485459\n",
      "-0.10626151012891338\n"
     ]
    },
    {
     "name": "stderr",
     "output_type": "stream",
     "text": [
      "12220it [05:35, 14.45it/s]"
     ]
    },
    {
     "name": "stdout",
     "output_type": "stream",
     "text": [
      "-0.14507560277891296\n",
      "-0.045476536042573845\n",
      "0.04709018214127059\n"
     ]
    },
    {
     "name": "stderr",
     "output_type": "stream",
     "text": [
      "12225it [05:35, 16.74it/s]"
     ]
    },
    {
     "name": "stdout",
     "output_type": "stream",
     "text": [
      "0.04092294296909005\n",
      "0.05525058815142225\n"
     ]
    },
    {
     "name": "stderr",
     "output_type": "stream",
     "text": [
      "\r",
      "12227it [05:35, 12.78it/s]"
     ]
    },
    {
     "name": "stdout",
     "output_type": "stream",
     "text": [
      "0.03348976109215007\n",
      "-0.0060517529215359245\n"
     ]
    },
    {
     "name": "stderr",
     "output_type": "stream",
     "text": [
      "\r",
      "12232it [05:36, 15.47it/s]"
     ]
    },
    {
     "name": "stdout",
     "output_type": "stream",
     "text": [
      "-0.03094262295081973\n",
      "0.00474444684062969\n"
     ]
    },
    {
     "name": "stderr",
     "output_type": "stream",
     "text": [
      "\r",
      "12235it [05:36, 12.00it/s]"
     ]
    },
    {
     "name": "stdout",
     "output_type": "stream",
     "text": [
      "0.10570626753975687\n",
      "0.07680457746478875\n"
     ]
    },
    {
     "name": "stderr",
     "output_type": "stream",
     "text": [
      "12245it [05:36, 18.15it/s]"
     ]
    },
    {
     "name": "stdout",
     "output_type": "stream",
     "text": [
      "-0.002822201317027373\n",
      "-0.013167520117044473\n"
     ]
    },
    {
     "name": "stderr",
     "output_type": "stream",
     "text": [
      "12252it [05:37, 20.66it/s]"
     ]
    },
    {
     "name": "stdout",
     "output_type": "stream",
     "text": [
      "-0.004720161834119829\n",
      "0.12572180396169852\n"
     ]
    },
    {
     "name": "stderr",
     "output_type": "stream",
     "text": [
      "\r",
      "12255it [05:37, 17.42it/s]"
     ]
    },
    {
     "name": "stdout",
     "output_type": "stream",
     "text": [
      "-0.03126928615511193\n",
      "0.08701973001038432\n"
     ]
    },
    {
     "name": "stderr",
     "output_type": "stream",
     "text": [
      "12266it [05:37, 24.23it/s]"
     ]
    },
    {
     "name": "stdout",
     "output_type": "stream",
     "text": [
      "-0.083507704013696\n",
      "-0.014712643678160942\n"
     ]
    },
    {
     "name": "stderr",
     "output_type": "stream",
     "text": [
      "\r",
      "12270it [05:37, 19.75it/s]"
     ]
    },
    {
     "name": "stdout",
     "output_type": "stream",
     "text": [
      "0.036809815950920255\n",
      "-0.06338208878624585\n"
     ]
    },
    {
     "name": "stderr",
     "output_type": "stream",
     "text": [
      "\r",
      "12273it [05:38, 19.28it/s]"
     ]
    },
    {
     "name": "stdout",
     "output_type": "stream",
     "text": [
      "0.09863945578231315\n",
      "0.040169573980123774\n"
     ]
    },
    {
     "name": "stderr",
     "output_type": "stream",
     "text": [
      "12279it [05:38, 17.21it/s]"
     ]
    },
    {
     "name": "stdout",
     "output_type": "stream",
     "text": [
      "-0.00995024875621886\n",
      "0.049039098740887965\n"
     ]
    },
    {
     "name": "stderr",
     "output_type": "stream",
     "text": [
      "\r",
      "12283it [05:38, 19.01it/s]"
     ]
    },
    {
     "name": "stdout",
     "output_type": "stream",
     "text": [
      "-0.024877832074633455\n",
      "-0.0172108327005821\n"
     ]
    },
    {
     "name": "stderr",
     "output_type": "stream",
     "text": [
      "\r",
      "12286it [05:38, 14.17it/s]"
     ]
    },
    {
     "name": "stdout",
     "output_type": "stream",
     "text": [
      "-0.06317135549872122\n",
      "0.031695721077654504\n"
     ]
    },
    {
     "name": "stderr",
     "output_type": "stream",
     "text": [
      "12295it [05:39, 17.54it/s]"
     ]
    },
    {
     "name": "stdout",
     "output_type": "stream",
     "text": [
      "-0.008239126269400265\n",
      "-0.0709534368070952\n"
     ]
    },
    {
     "name": "stderr",
     "output_type": "stream",
     "text": [
      "\r",
      "12300it [05:39, 19.21it/s]"
     ]
    },
    {
     "name": "stdout",
     "output_type": "stream",
     "text": [
      "0.009250693802035137\n",
      "-0.014947683109117982\n"
     ]
    },
    {
     "name": "stderr",
     "output_type": "stream",
     "text": [
      "\r",
      "12303it [05:39, 19.78it/s]"
     ]
    },
    {
     "name": "stdout",
     "output_type": "stream",
     "text": [
      "0.06344253770150798\n",
      "0.00511811023622033\n"
     ]
    },
    {
     "name": "stderr",
     "output_type": "stream",
     "text": [
      "12309it [05:39, 18.64it/s]"
     ]
    },
    {
     "name": "stdout",
     "output_type": "stream",
     "text": [
      "-0.14357182561740656\n",
      "-0.12560330290166888\n"
     ]
    },
    {
     "name": "stderr",
     "output_type": "stream",
     "text": [
      "12315it [05:40, 20.82it/s]"
     ]
    },
    {
     "name": "stdout",
     "output_type": "stream",
     "text": [
      "-0.08761682242990654\n",
      "-0.34244670991658943\n"
     ]
    },
    {
     "name": "stderr",
     "output_type": "stream",
     "text": [
      "12321it [05:40, 20.76it/s]"
     ]
    },
    {
     "name": "stdout",
     "output_type": "stream",
     "text": [
      "-0.049948506694129646\n",
      "-0.18463706835799854\n"
     ]
    },
    {
     "name": "stderr",
     "output_type": "stream",
     "text": [
      "12330it [05:40, 25.58it/s]"
     ]
    },
    {
     "name": "stdout",
     "output_type": "stream",
     "text": [
      "0.02788550323176353\n",
      "0.01032863849765242\n"
     ]
    },
    {
     "name": "stderr",
     "output_type": "stream",
     "text": [
      "\r",
      "12337it [05:40, 30.66it/s]"
     ]
    },
    {
     "name": "stdout",
     "output_type": "stream",
     "text": [
      "-0.031230082855321917\n",
      "-0.1235123834030234\n"
     ]
    },
    {
     "name": "stderr",
     "output_type": "stream",
     "text": [
      "12345it [05:41, 26.58it/s]"
     ]
    },
    {
     "name": "stdout",
     "output_type": "stream",
     "text": [
      "-0.07073784607232736\n",
      "-0.11567821491485619\n"
     ]
    },
    {
     "name": "stderr",
     "output_type": "stream",
     "text": [
      "\r",
      "12349it [05:41, 23.42it/s]"
     ]
    },
    {
     "name": "stdout",
     "output_type": "stream",
     "text": [
      "0.028933352526270273\n",
      "-0.05914870093974578\n"
     ]
    },
    {
     "name": "stderr",
     "output_type": "stream",
     "text": [
      "12355it [05:41, 24.83it/s]"
     ]
    },
    {
     "name": "stdout",
     "output_type": "stream",
     "text": [
      "-0.16621983914209115\n",
      "-0.018341892883345534\n"
     ]
    },
    {
     "name": "stderr",
     "output_type": "stream",
     "text": [
      "\r",
      "12358it [05:41, 19.55it/s]"
     ]
    },
    {
     "name": "stdout",
     "output_type": "stream",
     "text": [
      "0.004605936540429845\n",
      "-0.024979709622148016\n"
     ]
    },
    {
     "name": "stderr",
     "output_type": "stream",
     "text": [
      "12364it [05:42, 21.71it/s]"
     ]
    },
    {
     "name": "stdout",
     "output_type": "stream",
     "text": [
      "-0.00434153400868309\n",
      "-0.036602123672704434\n"
     ]
    },
    {
     "name": "stderr",
     "output_type": "stream",
     "text": [
      "12371it [05:42, 23.56it/s]"
     ]
    },
    {
     "name": "stdout",
     "output_type": "stream",
     "text": [
      "-0.04033214709371291\n",
      "-0.006732673267326628\n"
     ]
    },
    {
     "name": "stderr",
     "output_type": "stream",
     "text": [
      "\r",
      "12375it [05:42, 25.68it/s]"
     ]
    },
    {
     "name": "stdout",
     "output_type": "stream",
     "text": [
      "-0.026112759643917016\n",
      "-0.07498197548666186\n"
     ]
    },
    {
     "name": "stderr",
     "output_type": "stream",
     "text": [
      "12387it [05:42, 25.82it/s]"
     ]
    },
    {
     "name": "stdout",
     "output_type": "stream",
     "text": [
      "0.03307642903018637\n",
      "0.005910165484633634\n"
     ]
    },
    {
     "name": "stderr",
     "output_type": "stream",
     "text": [
      "12396it [05:43, 29.13it/s]"
     ]
    },
    {
     "name": "stdout",
     "output_type": "stream",
     "text": [
      "-0.006142506142506332\n",
      "-0.15929203539823011\n"
     ]
    },
    {
     "name": "stderr",
     "output_type": "stream",
     "text": [
      "\r",
      "12400it [05:43, 23.71it/s]"
     ]
    },
    {
     "name": "stdout",
     "output_type": "stream",
     "text": [
      "-0.03310562270099837\n",
      "0.09127625201938616\n"
     ]
    },
    {
     "name": "stderr",
     "output_type": "stream",
     "text": [
      "12412it [05:43, 29.91it/s]"
     ]
    },
    {
     "name": "stdout",
     "output_type": "stream",
     "text": [
      "0.03871724677356281\n",
      "0.08271534512264678\n"
     ]
    },
    {
     "name": "stderr",
     "output_type": "stream",
     "text": [
      "12420it [05:43, 27.02it/s]"
     ]
    },
    {
     "name": "stdout",
     "output_type": "stream",
     "text": [
      "-0.0651296829971183\n",
      "0.06961259079903126\n"
     ]
    },
    {
     "name": "stderr",
     "output_type": "stream",
     "text": [
      "\r",
      "12443it [05:44, 36.06it/s]"
     ]
    },
    {
     "name": "stdout",
     "output_type": "stream",
     "text": [
      "-0.018057589067837942\n",
      "-0.011146838156484429\n"
     ]
    },
    {
     "name": "stderr",
     "output_type": "stream",
     "text": [
      "12458it [05:44, 39.85it/s]"
     ]
    },
    {
     "name": "stdout",
     "output_type": "stream",
     "text": [
      "0.03464673913043481\n",
      "0.07841503144177575\n"
     ]
    },
    {
     "name": "stderr",
     "output_type": "stream",
     "text": [
      "12470it [05:44, 45.20it/s]"
     ]
    },
    {
     "name": "stdout",
     "output_type": "stream",
     "text": [
      "-0.02974186307519644\n",
      "0.014782608695652177\n"
     ]
    },
    {
     "name": "stderr",
     "output_type": "stream",
     "text": [
      "\r",
      "12476it [05:44, 35.99it/s]"
     ]
    },
    {
     "name": "stdout",
     "output_type": "stream",
     "text": [
      "-0.04426337811054848\n",
      "0.06069304900553596\n"
     ]
    },
    {
     "name": "stderr",
     "output_type": "stream",
     "text": [
      "\r",
      "12481it [05:45, 29.56it/s]"
     ]
    },
    {
     "name": "stdout",
     "output_type": "stream",
     "text": [
      "0.11305697669334025\n",
      "0.1637298091042585\n"
     ]
    },
    {
     "name": "stderr",
     "output_type": "stream",
     "text": [
      "\r",
      "12485it [05:45, 31.20it/s]"
     ]
    },
    {
     "name": "stdout",
     "output_type": "stream",
     "text": [
      "0.07159435815033022\n",
      "0.09345794392523366\n"
     ]
    },
    {
     "name": "stderr",
     "output_type": "stream",
     "text": [
      "12493it [05:45, 27.24it/s]"
     ]
    },
    {
     "name": "stdout",
     "output_type": "stream",
     "text": [
      "-0.07330567081604433\n",
      "-0.007383100902379147\n"
     ]
    },
    {
     "name": "stderr",
     "output_type": "stream",
     "text": [
      "12501it [05:45, 30.22it/s]"
     ]
    },
    {
     "name": "stdout",
     "output_type": "stream",
     "text": [
      "-0.04981391354136855\n",
      "0.0078125\n"
     ]
    },
    {
     "name": "stderr",
     "output_type": "stream",
     "text": [
      "12512it [05:46, 35.55it/s]"
     ]
    },
    {
     "name": "stdout",
     "output_type": "stream",
     "text": [
      "0.041924398625429404\n",
      "-0.02211425699447145\n"
     ]
    },
    {
     "name": "stderr",
     "output_type": "stream",
     "text": [
      "12522it [05:46, 38.45it/s]"
     ]
    },
    {
     "name": "stdout",
     "output_type": "stream",
     "text": [
      "-0.17680150013394058\n",
      "0.1155212032588262\n"
     ]
    },
    {
     "name": "stderr",
     "output_type": "stream",
     "text": [
      "\r",
      "12532it [05:46, 46.17it/s]"
     ]
    },
    {
     "name": "stdout",
     "output_type": "stream",
     "text": [
      "0.0036496350364962904\n",
      "0.030740740740740735\n"
     ]
    },
    {
     "name": "stderr",
     "output_type": "stream",
     "text": [
      "\r",
      "12538it [05:46, 36.21it/s]"
     ]
    },
    {
     "name": "stdout",
     "output_type": "stream",
     "text": [
      "-0.05018939393939392\n",
      "-0.015294117647058902\n"
     ]
    },
    {
     "name": "stderr",
     "output_type": "stream",
     "text": [
      "12552it [05:47, 35.66it/s]"
     ]
    },
    {
     "name": "stdout",
     "output_type": "stream",
     "text": [
      "0.10428849902534121\n",
      "0.058064516129032295\n"
     ]
    },
    {
     "name": "stderr",
     "output_type": "stream",
     "text": [
      "\r",
      "12557it [05:47, 28.14it/s]"
     ]
    },
    {
     "name": "stdout",
     "output_type": "stream",
     "text": [
      "0.01145710928319632\n",
      "-0.019238991021804153\n"
     ]
    },
    {
     "name": "stderr",
     "output_type": "stream",
     "text": [
      "12567it [05:47, 31.41it/s]"
     ]
    },
    {
     "name": "stdout",
     "output_type": "stream",
     "text": [
      "0.0\n",
      "-0.007512279687951429\n"
     ]
    },
    {
     "name": "stderr",
     "output_type": "stream",
     "text": [
      "\r",
      "12571it [05:47, 29.06it/s]"
     ]
    },
    {
     "name": "stdout",
     "output_type": "stream",
     "text": [
      "-0.07787864309603443\n",
      "-0.027813156721645638\n"
     ]
    },
    {
     "name": "stderr",
     "output_type": "stream",
     "text": [
      "12579it [05:48, 25.79it/s]"
     ]
    },
    {
     "name": "stdout",
     "output_type": "stream",
     "text": [
      "-0.016511867905056765\n",
      "-0.022840531561461708\n"
     ]
    },
    {
     "name": "stderr",
     "output_type": "stream",
     "text": [
      "\r",
      "12582it [05:48, 19.94it/s]"
     ]
    },
    {
     "name": "stdout",
     "output_type": "stream",
     "text": [
      "0.04030874785591765\n",
      "-0.010997643362136711\n"
     ]
    },
    {
     "name": "stderr",
     "output_type": "stream",
     "text": [
      "\r",
      "12588it [05:48, 24.11it/s]"
     ]
    },
    {
     "name": "stdout",
     "output_type": "stream",
     "text": [
      "-0.031727681438664\n",
      "-0.05072164948453606\n"
     ]
    },
    {
     "name": "stderr",
     "output_type": "stream",
     "text": [
      "12601it [05:48, 24.91it/s]"
     ]
    },
    {
     "name": "stdout",
     "output_type": "stream",
     "text": [
      "-0.007128599942971214\n",
      "-0.033191661606962075\n"
     ]
    },
    {
     "name": "stderr",
     "output_type": "stream",
     "text": [
      "\r",
      "12606it [05:49, 24.01it/s]"
     ]
    },
    {
     "name": "stdout",
     "output_type": "stream",
     "text": [
      "-0.08396641343462607\n",
      "0.06939535201407021\n"
     ]
    },
    {
     "name": "stderr",
     "output_type": "stream",
     "text": [
      "\r",
      "12621it [05:49, 30.69it/s]"
     ]
    },
    {
     "name": "stdout",
     "output_type": "stream",
     "text": [
      "0.025916120941897658\n",
      "-0.061331338818249925\n"
     ]
    },
    {
     "name": "stderr",
     "output_type": "stream",
     "text": [
      "12632it [05:49, 32.46it/s]"
     ]
    },
    {
     "name": "stdout",
     "output_type": "stream",
     "text": [
      "-0.006421626593088869\n",
      "-0.060123784261715274\n"
     ]
    },
    {
     "name": "stderr",
     "output_type": "stream",
     "text": [
      "12642it [05:49, 37.16it/s]"
     ]
    },
    {
     "name": "stdout",
     "output_type": "stream",
     "text": [
      "-0.018981433461259134\n",
      "0.07736063708759966\n"
     ]
    },
    {
     "name": "stderr",
     "output_type": "stream",
     "text": [
      "12652it [05:50, 41.14it/s]"
     ]
    },
    {
     "name": "stdout",
     "output_type": "stream",
     "text": [
      "0.09275807247409684\n",
      "-0.04571428571428582\n"
     ]
    },
    {
     "name": "stderr",
     "output_type": "stream",
     "text": [
      "\r",
      "12658it [05:50, 43.81it/s]"
     ]
    },
    {
     "name": "stdout",
     "output_type": "stream",
     "text": [
      "0.031584729469925854\n",
      "0.017127071823204387\n"
     ]
    },
    {
     "name": "stderr",
     "output_type": "stream",
     "text": [
      "\r",
      "12663it [05:50, 29.88it/s]"
     ]
    },
    {
     "name": "stdout",
     "output_type": "stream",
     "text": [
      "0.027254931486222045\n",
      "0.03383458646616533\n"
     ]
    },
    {
     "name": "stderr",
     "output_type": "stream",
     "text": [
      "12671it [05:50, 25.91it/s]"
     ]
    },
    {
     "name": "stdout",
     "output_type": "stream",
     "text": [
      "-0.04652233993551358\n",
      "-0.08158094755510514\n"
     ]
    },
    {
     "name": "stderr",
     "output_type": "stream",
     "text": [
      "12684it [05:51, 34.21it/s]"
     ]
    },
    {
     "name": "stdout",
     "output_type": "stream",
     "text": [
      "-0.04862124707691806\n",
      "-0.08112724167378305\n"
     ]
    },
    {
     "name": "stderr",
     "output_type": "stream",
     "text": [
      "\r",
      "12689it [05:51, 29.25it/s]"
     ]
    },
    {
     "name": "stdout",
     "output_type": "stream",
     "text": [
      "-0.06154089542793861\n",
      "-0.017835909631391034\n"
     ]
    },
    {
     "name": "stderr",
     "output_type": "stream",
     "text": [
      "\r",
      "12693it [05:51, 24.38it/s]"
     ]
    },
    {
     "name": "stdout",
     "output_type": "stream",
     "text": [
      "-0.05483059978450866\n",
      "-0.07801418439716301\n"
     ]
    },
    {
     "name": "stderr",
     "output_type": "stream",
     "text": [
      "12707it [05:51, 32.94it/s]"
     ]
    },
    {
     "name": "stdout",
     "output_type": "stream",
     "text": [
      "0.11582733812949653\n",
      "-0.007670182166826578\n"
     ]
    },
    {
     "name": "stderr",
     "output_type": "stream",
     "text": [
      "12717it [05:52, 34.25it/s]"
     ]
    },
    {
     "name": "stdout",
     "output_type": "stream",
     "text": [
      "0.026652638961949693\n",
      "-0.0016789590453918368\n"
     ]
    },
    {
     "name": "stderr",
     "output_type": "stream",
     "text": [
      "\r",
      "12722it [05:52, 27.12it/s]"
     ]
    },
    {
     "name": "stdout",
     "output_type": "stream",
     "text": [
      "-0.016919531400038545\n",
      "-0.06605749095754798\n"
     ]
    },
    {
     "name": "stderr",
     "output_type": "stream",
     "text": [
      "12734it [05:52, 34.42it/s]"
     ]
    },
    {
     "name": "stdout",
     "output_type": "stream",
     "text": [
      "0.02372393961179009\n",
      "-0.013504273504273523\n"
     ]
    },
    {
     "name": "stderr",
     "output_type": "stream",
     "text": [
      "12752it [05:52, 43.70it/s]"
     ]
    },
    {
     "name": "stdout",
     "output_type": "stream",
     "text": [
      "-0.014420247204237846\n",
      "0.07948243992606274\n"
     ]
    },
    {
     "name": "stderr",
     "output_type": "stream",
     "text": [
      "\r",
      "12758it [05:53, 30.99it/s]"
     ]
    },
    {
     "name": "stdout",
     "output_type": "stream",
     "text": [
      "0.09018355945730261\n",
      "0.060975609756097615\n",
      "0.04887218045112762\n",
      "0.05842105263157893\n"
     ]
    },
    {
     "name": "stderr",
     "output_type": "stream",
     "text": [
      "\r",
      "12763it [05:53, 23.00it/s]"
     ]
    },
    {
     "name": "stdout",
     "output_type": "stream",
     "text": [
      "0.012086513994910897\n",
      "-0.003646005966191579\n"
     ]
    },
    {
     "name": "stderr",
     "output_type": "stream",
     "text": [
      "12773it [05:53, 28.54it/s]"
     ]
    },
    {
     "name": "stdout",
     "output_type": "stream",
     "text": [
      "-0.02386325442934656\n",
      "0.022380687227201657\n"
     ]
    },
    {
     "name": "stderr",
     "output_type": "stream",
     "text": [
      "\r",
      "12777it [05:53, 28.46it/s]"
     ]
    },
    {
     "name": "stdout",
     "output_type": "stream",
     "text": [
      "-0.014258555133079831\n",
      "-0.11487303506650548\n"
     ]
    },
    {
     "name": "stderr",
     "output_type": "stream",
     "text": [
      "12784it [05:54, 23.64it/s]"
     ]
    },
    {
     "name": "stdout",
     "output_type": "stream",
     "text": [
      "-0.055798156234837415\n",
      "-0.028337061894108895\n"
     ]
    },
    {
     "name": "stderr",
     "output_type": "stream",
     "text": [
      "12792it [05:54, 24.92it/s]"
     ]
    },
    {
     "name": "stdout",
     "output_type": "stream",
     "text": [
      "-0.04674610449129235\n",
      "-0.025139664804469275\n"
     ]
    },
    {
     "name": "stderr",
     "output_type": "stream",
     "text": [
      "\r",
      "12795it [05:54, 18.20it/s]"
     ]
    },
    {
     "name": "stdout",
     "output_type": "stream",
     "text": [
      "0.030421502748930962\n",
      "0.02267637178051518\n"
     ]
    },
    {
     "name": "stderr",
     "output_type": "stream",
     "text": [
      "12807it [05:55, 23.60it/s]"
     ]
    },
    {
     "name": "stdout",
     "output_type": "stream",
     "text": [
      "0.04532030285131272\n",
      "0.11269389047166833\n"
     ]
    },
    {
     "name": "stderr",
     "output_type": "stream",
     "text": [
      "12822it [05:55, 31.73it/s]"
     ]
    },
    {
     "name": "stdout",
     "output_type": "stream",
     "text": [
      "-0.16146158650843223\n",
      "-0.06375545851528386\n"
     ]
    },
    {
     "name": "stderr",
     "output_type": "stream",
     "text": [
      "\r",
      "12828it [05:55, 29.06it/s]"
     ]
    },
    {
     "name": "stdout",
     "output_type": "stream",
     "text": [
      "0.011154144074360994\n",
      "0.06503841931942911\n"
     ]
    },
    {
     "name": "stderr",
     "output_type": "stream",
     "text": [
      "\r",
      "12833it [05:55, 32.99it/s]"
     ]
    },
    {
     "name": "stdout",
     "output_type": "stream",
     "text": [
      "0.01851851851851838\n",
      "0.781378903948144\n"
     ]
    },
    {
     "name": "stderr",
     "output_type": "stream",
     "text": [
      "\r",
      "12838it [05:56, 21.97it/s]"
     ]
    },
    {
     "name": "stdout",
     "output_type": "stream",
     "text": [
      "-0.10495626822157444\n",
      "-0.07552083333333337\n",
      "-0.14328571428571413\n"
     ]
    },
    {
     "name": "stderr",
     "output_type": "stream",
     "text": [
      "12849it [05:56, 31.19it/s]"
     ]
    },
    {
     "name": "stdout",
     "output_type": "stream",
     "text": [
      "-0.07174526400644887\n",
      "0.03565030907026623\n"
     ]
    },
    {
     "name": "stderr",
     "output_type": "stream",
     "text": [
      "\r",
      "12855it [05:56, 22.75it/s]"
     ]
    },
    {
     "name": "stdout",
     "output_type": "stream",
     "text": [
      "-0.0753382152165818\n",
      "-0.0026160889470243642\n"
     ]
    },
    {
     "name": "stderr",
     "output_type": "stream",
     "text": [
      "\r",
      "12859it [05:57, 20.15it/s]"
     ]
    },
    {
     "name": "stdout",
     "output_type": "stream",
     "text": [
      "-0.01228300032754659\n",
      "-0.004835589941972973\n"
     ]
    },
    {
     "name": "stderr",
     "output_type": "stream",
     "text": [
      "12867it [05:57, 21.26it/s]"
     ]
    },
    {
     "name": "stdout",
     "output_type": "stream",
     "text": [
      "0.01819763519511408\n",
      "-0.035906135142776296\n"
     ]
    },
    {
     "name": "stderr",
     "output_type": "stream",
     "text": [
      "\r",
      "12877it [05:57, 27.49it/s]"
     ]
    },
    {
     "name": "stdout",
     "output_type": "stream",
     "text": [
      "-0.05956864087641234\n",
      "-0.10099700897308073\n"
     ]
    },
    {
     "name": "stderr",
     "output_type": "stream",
     "text": [
      "12886it [05:57, 25.06it/s]"
     ]
    },
    {
     "name": "stdout",
     "output_type": "stream",
     "text": [
      "0.033644859813084294\n",
      "0.07533234859675053\n"
     ]
    },
    {
     "name": "stderr",
     "output_type": "stream",
     "text": [
      "\r",
      "12902it [05:58, 33.08it/s]"
     ]
    },
    {
     "name": "stdout",
     "output_type": "stream",
     "text": [
      "-0.03156087927502249\n",
      "-0.032648466084998606\n",
      "0.033041132838840026\n",
      "0.07256637168141578\n"
     ]
    },
    {
     "name": "stderr",
     "output_type": "stream",
     "text": [
      "12915it [05:58, 31.25it/s]"
     ]
    },
    {
     "name": "stdout",
     "output_type": "stream",
     "text": [
      "0.08968689191579693\n",
      "-0.045454545454545525\n"
     ]
    },
    {
     "name": "stderr",
     "output_type": "stream",
     "text": [
      "12927it [05:58, 35.79it/s]"
     ]
    },
    {
     "name": "stdout",
     "output_type": "stream",
     "text": [
      "-0.09682804674457435\n",
      "0.07327070879590103\n"
     ]
    },
    {
     "name": "stderr",
     "output_type": "stream",
     "text": [
      "\r",
      "12932it [05:59, 26.99it/s]"
     ]
    },
    {
     "name": "stdout",
     "output_type": "stream",
     "text": [
      "0.13114754098360648\n",
      "0.028594377510040125\n"
     ]
    },
    {
     "name": "stderr",
     "output_type": "stream",
     "text": [
      "12943it [05:59, 32.50it/s]"
     ]
    },
    {
     "name": "stdout",
     "output_type": "stream",
     "text": [
      "0.04218893304799742\n",
      "0.060011883541295274\n"
     ]
    },
    {
     "name": "stderr",
     "output_type": "stream",
     "text": [
      "12961it [05:59, 44.53it/s]"
     ]
    },
    {
     "name": "stdout",
     "output_type": "stream",
     "text": [
      "0.06521267024478039\n",
      "-0.023455119530897628\n"
     ]
    },
    {
     "name": "stderr",
     "output_type": "stream",
     "text": [
      "\r",
      "12967it [05:59, 37.54it/s]"
     ]
    },
    {
     "name": "stdout",
     "output_type": "stream",
     "text": [
      "-0.012468827930174564\n",
      "-0.1131639722863742\n"
     ]
    },
    {
     "name": "stderr",
     "output_type": "stream",
     "text": [
      "\r",
      "12972it [06:00, 32.14it/s]"
     ]
    },
    {
     "name": "stdout",
     "output_type": "stream",
     "text": [
      "-0.041615667074663354\n",
      "0.01795918367346938\n"
     ]
    },
    {
     "name": "stderr",
     "output_type": "stream",
     "text": [
      "12982it [06:00, 37.55it/s]"
     ]
    },
    {
     "name": "stdout",
     "output_type": "stream",
     "text": [
      "-0.040857142857143036\n",
      "-0.028785982478097716\n"
     ]
    },
    {
     "name": "stderr",
     "output_type": "stream",
     "text": [
      "12992it [06:00, 40.90it/s]"
     ]
    },
    {
     "name": "stdout",
     "output_type": "stream",
     "text": [
      "-0.029962546816479474\n",
      "-0.0009165902841430373\n",
      "0.027943078913324815\n"
     ]
    },
    {
     "name": "stderr",
     "output_type": "stream",
     "text": [
      "\r",
      "13003it [06:00, 44.74it/s]"
     ]
    },
    {
     "name": "stdout",
     "output_type": "stream",
     "text": [
      "-0.03767660910518056\n",
      "-0.02192873162222775\n"
     ]
    },
    {
     "name": "stderr",
     "output_type": "stream",
     "text": [
      "\r",
      "13011it [06:00, 40.78it/s]"
     ]
    },
    {
     "name": "stdout",
     "output_type": "stream",
     "text": [
      "-0.02902115100836211\n",
      "-0.012045529892805829\n"
     ]
    },
    {
     "name": "stderr",
     "output_type": "stream",
     "text": [
      "13022it [06:01, 36.21it/s]"
     ]
    },
    {
     "name": "stdout",
     "output_type": "stream",
     "text": [
      "0.05355776587605199\n",
      "0.062047963456413946\n"
     ]
    },
    {
     "name": "stderr",
     "output_type": "stream",
     "text": [
      "13039it [06:01, 46.78it/s]"
     ]
    },
    {
     "name": "stdout",
     "output_type": "stream",
     "text": [
      "-0.10289680144840063\n",
      "-0.08391608391608396\n"
     ]
    },
    {
     "name": "stderr",
     "output_type": "stream",
     "text": [
      "13051it [06:01, 49.02it/s]"
     ]
    },
    {
     "name": "stdout",
     "output_type": "stream",
     "text": [
      "0.06562193927522042\n",
      "0.0625\n"
     ]
    },
    {
     "name": "stderr",
     "output_type": "stream",
     "text": [
      "13069it [06:02, 55.71it/s]"
     ]
    },
    {
     "name": "stdout",
     "output_type": "stream",
     "text": [
      "0.07608695652173925\n",
      "-0.03313609467455614\n"
     ]
    },
    {
     "name": "stderr",
     "output_type": "stream",
     "text": [
      "13089it [06:02, 62.54it/s]"
     ]
    },
    {
     "name": "stdout",
     "output_type": "stream",
     "text": [
      "0.20234604105571852\n",
      "0.06517967781908318\n"
     ]
    },
    {
     "name": "stderr",
     "output_type": "stream",
     "text": [
      "\r",
      "13102it [06:02, 69.95it/s]"
     ]
    },
    {
     "name": "stdout",
     "output_type": "stream",
     "text": [
      "-0.0038058991436725753\n",
      "-0.04726598702502316\n"
     ]
    },
    {
     "name": "stderr",
     "output_type": "stream",
     "text": [
      "\r",
      "13110it [06:02, 43.90it/s]"
     ]
    },
    {
     "name": "stdout",
     "output_type": "stream",
     "text": [
      "-0.022798074199943397\n",
      "0.03060366571380535\n",
      "0.01561483409238762\n",
      "0.0\n"
     ]
    },
    {
     "name": "stderr",
     "output_type": "stream",
     "text": [
      "\r",
      "13117it [06:03, 30.12it/s]"
     ]
    },
    {
     "name": "stdout",
     "output_type": "stream",
     "text": [
      "0.06670052480108346\n",
      "0.0\n"
     ]
    },
    {
     "name": "stderr",
     "output_type": "stream",
     "text": [
      "\r",
      "13122it [06:03, 20.25it/s]"
     ]
    },
    {
     "name": "stdout",
     "output_type": "stream",
     "text": [
      "0.06670052480108346\n",
      "0.01580698835274541\n",
      "-0.047186932849364815\n",
      "-0.051360489454194136\n"
     ]
    },
    {
     "name": "stderr",
     "output_type": "stream",
     "text": [
      "\r",
      "13126it [06:04, 12.62it/s]"
     ]
    },
    {
     "name": "stdout",
     "output_type": "stream",
     "text": [
      "0.0042204568023833655\n",
      "0.021431740046578662\n"
     ]
    },
    {
     "name": "stderr",
     "output_type": "stream",
     "text": [
      "\r",
      "13129it [06:04, 11.57it/s]"
     ]
    },
    {
     "name": "stdout",
     "output_type": "stream",
     "text": [
      "0.04897660818713434\n",
      "-0.05705157462345967\n",
      "-0.03035274815422484\n",
      "0.0300850228907783\n"
     ]
    },
    {
     "name": "stderr",
     "output_type": "stream",
     "text": [
      "\r",
      "13132it [06:04,  9.91it/s]"
     ]
    },
    {
     "name": "stdout",
     "output_type": "stream",
     "text": [
      "0.1735419630156474\n",
      "0.04452975047984631\n"
     ]
    },
    {
     "name": "stderr",
     "output_type": "stream",
     "text": [
      "\r",
      "13134it [06:05,  8.87it/s]"
     ]
    },
    {
     "name": "stdout",
     "output_type": "stream",
     "text": [
      "-0.03509571558796731\n",
      "-0.016679904686259017\n"
     ]
    },
    {
     "name": "stderr",
     "output_type": "stream",
     "text": [
      "\r",
      "13136it [06:05,  8.38it/s]"
     ]
    },
    {
     "name": "stdout",
     "output_type": "stream",
     "text": [
      "0.0786061588330631\n",
      "-0.004002668445630464\n"
     ]
    },
    {
     "name": "stderr",
     "output_type": "stream",
     "text": [
      "\r",
      "13138it [06:05,  8.07it/s]"
     ]
    },
    {
     "name": "stdout",
     "output_type": "stream",
     "text": [
      "0.011882426516572897\n",
      "0.04763427109974416\n"
     ]
    },
    {
     "name": "stderr",
     "output_type": "stream",
     "text": [
      "13141it [06:06,  7.79it/s]"
     ]
    },
    {
     "name": "stdout",
     "output_type": "stream",
     "text": [
      "-0.022761009401286447\n",
      "-0.07080572026508547\n"
     ]
    },
    {
     "name": "stderr",
     "output_type": "stream",
     "text": [
      "13143it [06:06,  7.21it/s]"
     ]
    },
    {
     "name": "stdout",
     "output_type": "stream",
     "text": [
      "-0.15391566265060241\n",
      "0.21756355232750102\n"
     ]
    },
    {
     "name": "stderr",
     "output_type": "stream",
     "text": [
      "13145it [06:06,  7.70it/s]"
     ]
    },
    {
     "name": "stdout",
     "output_type": "stream",
     "text": [
      "0.2357262103505844\n",
      "0.07228915662650603\n"
     ]
    },
    {
     "name": "stderr",
     "output_type": "stream",
     "text": [
      "13147it [06:07,  7.61it/s]"
     ]
    },
    {
     "name": "stdout",
     "output_type": "stream",
     "text": [
      "-0.003890562248995977\n",
      "-0.046025104602510525\n"
     ]
    },
    {
     "name": "stderr",
     "output_type": "stream",
     "text": [
      "13149it [06:07,  6.86it/s]"
     ]
    },
    {
     "name": "stdout",
     "output_type": "stream",
     "text": [
      "-0.20897503983005838\n",
      "0.007474747474747412\n"
     ]
    },
    {
     "name": "stderr",
     "output_type": "stream",
     "text": [
      "13151it [06:07,  6.98it/s]"
     ]
    },
    {
     "name": "stdout",
     "output_type": "stream",
     "text": [
      "0.004096834264432081\n",
      "-0.20372786579683133\n"
     ]
    },
    {
     "name": "stderr",
     "output_type": "stream",
     "text": [
      "13154it [06:07,  7.79it/s]"
     ]
    },
    {
     "name": "stdout",
     "output_type": "stream",
     "text": [
      "-0.02360622802611745\n",
      "0.016541353383458635\n"
     ]
    },
    {
     "name": "stderr",
     "output_type": "stream",
     "text": [
      "13156it [06:08,  7.18it/s]"
     ]
    },
    {
     "name": "stdout",
     "output_type": "stream",
     "text": [
      "-0.017923362175525148\n",
      "-0.0035137034434293835\n"
     ]
    },
    {
     "name": "stderr",
     "output_type": "stream",
     "text": [
      "13158it [06:08,  6.89it/s]"
     ]
    },
    {
     "name": "stdout",
     "output_type": "stream",
     "text": [
      "-0.09753954305799628\n",
      "-0.020888418826017996\n"
     ]
    },
    {
     "name": "stderr",
     "output_type": "stream",
     "text": [
      "13161it [06:08,  7.37it/s]"
     ]
    },
    {
     "name": "stdout",
     "output_type": "stream",
     "text": [
      "-0.006232686980609525\n",
      "-0.01386962552011095\n"
     ]
    },
    {
     "name": "stderr",
     "output_type": "stream",
     "text": [
      "13164it [06:09,  7.77it/s]"
     ]
    },
    {
     "name": "stdout",
     "output_type": "stream",
     "text": [
      "-0.003835616438356171\n",
      "-0.0026954177897573484\n"
     ]
    },
    {
     "name": "stderr",
     "output_type": "stream",
     "text": [
      "13166it [06:09,  7.38it/s]"
     ]
    },
    {
     "name": "stdout",
     "output_type": "stream",
     "text": [
      "-0.0008829242450998365\n",
      "-0.008443158171685505\n"
     ]
    },
    {
     "name": "stderr",
     "output_type": "stream",
     "text": [
      "13168it [06:09,  7.36it/s]"
     ]
    },
    {
     "name": "stdout",
     "output_type": "stream",
     "text": [
      "0.00870147255689413\n",
      "0.0030911901081918103\n"
     ]
    },
    {
     "name": "stderr",
     "output_type": "stream",
     "text": [
      "13170it [06:10,  6.97it/s]"
     ]
    },
    {
     "name": "stdout",
     "output_type": "stream",
     "text": [
      "-0.0019893899204244114\n",
      "0.03771392110840188\n"
     ]
    },
    {
     "name": "stderr",
     "output_type": "stream",
     "text": [
      "13172it [06:10,  7.02it/s]"
     ]
    },
    {
     "name": "stdout",
     "output_type": "stream",
     "text": [
      "0.027002371829957905\n",
      "0.011936339522546469\n"
     ]
    },
    {
     "name": "stderr",
     "output_type": "stream",
     "text": [
      "13175it [06:10,  7.99it/s]"
     ]
    },
    {
     "name": "stdout",
     "output_type": "stream",
     "text": [
      "0.05779987569919198\n",
      "0.09621710526315796\n"
     ]
    },
    {
     "name": "stderr",
     "output_type": "stream",
     "text": [
      "13177it [06:10,  7.34it/s]"
     ]
    },
    {
     "name": "stdout",
     "output_type": "stream",
     "text": [
      "0.0\n",
      "0.006329113924050667\n"
     ]
    },
    {
     "name": "stderr",
     "output_type": "stream",
     "text": [
      "13179it [06:11,  6.79it/s]"
     ]
    },
    {
     "name": "stdout",
     "output_type": "stream",
     "text": [
      "0.03749098774333093\n",
      "-0.0012143290831815312\n"
     ]
    },
    {
     "name": "stderr",
     "output_type": "stream",
     "text": [
      "13181it [06:11,  6.93it/s]"
     ]
    },
    {
     "name": "stdout",
     "output_type": "stream",
     "text": [
      "0.0012128562765312267\n",
      "0.052044232525108924\n"
     ]
    },
    {
     "name": "stderr",
     "output_type": "stream",
     "text": [
      "13183it [06:11,  6.79it/s]"
     ]
    },
    {
     "name": "stdout",
     "output_type": "stream",
     "text": [
      "0.03414264036418824\n",
      "-0.040116279069767335\n"
     ]
    },
    {
     "name": "stderr",
     "output_type": "stream",
     "text": [
      "13186it [06:12,  7.48it/s]"
     ]
    },
    {
     "name": "stdout",
     "output_type": "stream",
     "text": [
      "-0.0005688282138796019\n",
      "-0.017948717948717996\n"
     ]
    },
    {
     "name": "stderr",
     "output_type": "stream",
     "text": [
      "13188it [06:12,  7.71it/s]"
     ]
    },
    {
     "name": "stdout",
     "output_type": "stream",
     "text": [
      "-0.1086234038831555\n",
      "-0.06529209621993137\n"
     ]
    },
    {
     "name": "stderr",
     "output_type": "stream",
     "text": [
      "13190it [06:12,  7.65it/s]"
     ]
    },
    {
     "name": "stdout",
     "output_type": "stream",
     "text": [
      "-0.0633620689655171\n",
      "-0.05897635749545327\n"
     ]
    },
    {
     "name": "stderr",
     "output_type": "stream",
     "text": [
      "13192it [06:12,  7.69it/s]"
     ]
    },
    {
     "name": "stdout",
     "output_type": "stream",
     "text": [
      "0.03641923825410065\n",
      "-0.00046012812798634783\n"
     ]
    },
    {
     "name": "stderr",
     "output_type": "stream",
     "text": [
      "13194it [06:13,  6.99it/s]"
     ]
    },
    {
     "name": "stdout",
     "output_type": "stream",
     "text": [
      "-0.025418474891506504\n",
      "0.0030607247796279324\n"
     ]
    },
    {
     "name": "stderr",
     "output_type": "stream",
     "text": [
      "\r",
      "13195it [06:13,  7.23it/s]"
     ]
    },
    {
     "name": "stdout",
     "output_type": "stream",
     "text": [
      "-0.006620922113879768\n"
     ]
    },
    {
     "name": "stderr",
     "output_type": "stream",
     "text": [
      "13197it [06:13,  6.13it/s]"
     ]
    },
    {
     "name": "stdout",
     "output_type": "stream",
     "text": [
      "-0.009732360097323589\n",
      "0.02391171060698949\n"
     ]
    },
    {
     "name": "stderr",
     "output_type": "stream",
     "text": [
      "13199it [06:14,  6.61it/s]"
     ]
    },
    {
     "name": "stdout",
     "output_type": "stream",
     "text": [
      "-0.003990422984836317\n",
      "-0.04845019560637975\n"
     ]
    },
    {
     "name": "stderr",
     "output_type": "stream",
     "text": [
      "13201it [06:14,  6.26it/s]"
     ]
    },
    {
     "name": "stdout",
     "output_type": "stream",
     "text": [
      "0.03252032520325221\n",
      "-0.00927643784786647\n"
     ]
    },
    {
     "name": "stderr",
     "output_type": "stream",
     "text": [
      "13204it [06:14,  7.75it/s]"
     ]
    },
    {
     "name": "stdout",
     "output_type": "stream",
     "text": [
      "0.010907003444317054\n",
      "0.002309468822170979\n"
     ]
    },
    {
     "name": "stderr",
     "output_type": "stream",
     "text": [
      "13206it [06:14,  7.62it/s]"
     ]
    },
    {
     "name": "stdout",
     "output_type": "stream",
     "text": [
      "-0.029017857142857206\n",
      "-0.050000000000000044\n"
     ]
    },
    {
     "name": "stderr",
     "output_type": "stream",
     "text": [
      "13208it [06:15,  7.20it/s]"
     ]
    },
    {
     "name": "stdout",
     "output_type": "stream",
     "text": [
      "-0.07020364415862812\n",
      "-0.027721308445758708\n"
     ]
    },
    {
     "name": "stderr",
     "output_type": "stream",
     "text": [
      "13211it [06:15,  9.08it/s]"
     ]
    },
    {
     "name": "stdout",
     "output_type": "stream",
     "text": [
      "0.0012437810945273853\n",
      "0.0021828765462041932\n"
     ]
    },
    {
     "name": "stderr",
     "output_type": "stream",
     "text": [
      "\r",
      "13213it [06:15,  8.64it/s]"
     ]
    },
    {
     "name": "stdout",
     "output_type": "stream",
     "text": [
      "-0.09350649350649343\n",
      "-0.003965631196298669\n"
     ]
    },
    {
     "name": "stderr",
     "output_type": "stream",
     "text": [
      "13215it [06:15,  7.77it/s]"
     ]
    },
    {
     "name": "stdout",
     "output_type": "stream",
     "text": [
      "-0.008323281061519916\n",
      "0.03781228899392297\n"
     ]
    },
    {
     "name": "stderr",
     "output_type": "stream",
     "text": [
      "13217it [06:16,  7.32it/s]"
     ]
    },
    {
     "name": "stdout",
     "output_type": "stream",
     "text": [
      "0.050830889540566915\n",
      "0.09099018733273856\n"
     ]
    },
    {
     "name": "stderr",
     "output_type": "stream",
     "text": [
      "13220it [06:16,  8.85it/s]"
     ]
    },
    {
     "name": "stdout",
     "output_type": "stream",
     "text": [
      "0.04661654135338367\n",
      "-0.0003044140030440401\n"
     ]
    },
    {
     "name": "stderr",
     "output_type": "stream",
     "text": [
      "\r",
      "13222it [06:16,  8.30it/s]"
     ]
    },
    {
     "name": "stdout",
     "output_type": "stream",
     "text": [
      "-0.03131313131313118\n",
      "-0.01143241425689312\n"
     ]
    },
    {
     "name": "stderr",
     "output_type": "stream",
     "text": [
      "13224it [06:17,  7.02it/s]"
     ]
    },
    {
     "name": "stdout",
     "output_type": "stream",
     "text": [
      "-0.01931719965427825\n",
      "0.029179539993134274\n"
     ]
    },
    {
     "name": "stderr",
     "output_type": "stream",
     "text": [
      "13227it [06:17,  7.51it/s]"
     ]
    },
    {
     "name": "stdout",
     "output_type": "stream",
     "text": [
      "-0.028251912889935227\n",
      "0.04022627278441249\n"
     ]
    },
    {
     "name": "stderr",
     "output_type": "stream",
     "text": [
      "\r",
      "13229it [06:17,  9.03it/s]"
     ]
    },
    {
     "name": "stdout",
     "output_type": "stream",
     "text": [
      "-0.007274762171236682\n"
     ]
    },
    {
     "name": "stderr",
     "output_type": "stream",
     "text": [
      "\r",
      "13231it [06:18,  6.45it/s]"
     ]
    },
    {
     "name": "stdout",
     "output_type": "stream",
     "text": [
      "-0.07875647668393781\n",
      "-0.012969283276450416\n"
     ]
    },
    {
     "name": "stderr",
     "output_type": "stream",
     "text": [
      "13233it [06:18,  6.17it/s]"
     ]
    },
    {
     "name": "stdout",
     "output_type": "stream",
     "text": [
      "-0.0295151089248068\n",
      "-0.08210116731517514\n"
     ]
    },
    {
     "name": "stderr",
     "output_type": "stream",
     "text": [
      "\r",
      "13236it [06:18,  7.63it/s]"
     ]
    },
    {
     "name": "stdout",
     "output_type": "stream",
     "text": [
      "-0.07874015748031482\n",
      "-0.05466472303206982\n"
     ]
    },
    {
     "name": "stderr",
     "output_type": "stream",
     "text": [
      "13239it [06:19,  7.16it/s]"
     ]
    },
    {
     "name": "stdout",
     "output_type": "stream",
     "text": [
      "-0.026066350710900354\n",
      "-0.025336500395882755\n"
     ]
    },
    {
     "name": "stderr",
     "output_type": "stream",
     "text": [
      "13242it [06:19,  8.51it/s]"
     ]
    },
    {
     "name": "stdout",
     "output_type": "stream",
     "text": [
      "0.007542426147077341\n",
      "0.0\n",
      "-0.004805125467164939\n"
     ]
    },
    {
     "name": "stderr",
     "output_type": "stream",
     "text": [
      "13245it [06:19,  7.40it/s]"
     ]
    },
    {
     "name": "stdout",
     "output_type": "stream",
     "text": [
      "0.04269476018852236\n",
      "-0.022090517241379226\n"
     ]
    },
    {
     "name": "stderr",
     "output_type": "stream",
     "text": [
      "13247it [06:20,  6.79it/s]"
     ]
    },
    {
     "name": "stdout",
     "output_type": "stream",
     "text": [
      "-0.0031347962382447525\n",
      "0.013093289689034338\n"
     ]
    },
    {
     "name": "stderr",
     "output_type": "stream",
     "text": [
      "13249it [06:20,  6.85it/s]"
     ]
    },
    {
     "name": "stdout",
     "output_type": "stream",
     "text": [
      "-0.02168021680216803\n",
      "-0.02168021680216803\n"
     ]
    },
    {
     "name": "stderr",
     "output_type": "stream",
     "text": [
      "13251it [06:20,  6.51it/s]"
     ]
    },
    {
     "name": "stdout",
     "output_type": "stream",
     "text": [
      "-0.009269356597600864\n",
      "0.007616974972796564\n"
     ]
    },
    {
     "name": "stderr",
     "output_type": "stream",
     "text": [
      "13253it [06:21,  5.80it/s]"
     ]
    },
    {
     "name": "stdout",
     "output_type": "stream",
     "text": [
      "-0.02064095600217286\n",
      "0.08900804289544229\n"
     ]
    },
    {
     "name": "stderr",
     "output_type": "stream",
     "text": [
      "13255it [06:21,  6.13it/s]"
     ]
    },
    {
     "name": "stdout",
     "output_type": "stream",
     "text": [
      "0.10867237687366171\n",
      "0.03639010189228542\n"
     ]
    },
    {
     "name": "stderr",
     "output_type": "stream",
     "text": [
      "13257it [06:21,  6.55it/s]"
     ]
    },
    {
     "name": "stdout",
     "output_type": "stream",
     "text": [
      "0.0416054821341163\n",
      "0.0018876828692779846\n"
     ]
    },
    {
     "name": "stderr",
     "output_type": "stream",
     "text": [
      "13259it [06:22,  6.32it/s]"
     ]
    },
    {
     "name": "stdout",
     "output_type": "stream",
     "text": [
      "0.015684410646387814\n",
      "-0.009398496240601517\n"
     ]
    },
    {
     "name": "stderr",
     "output_type": "stream",
     "text": [
      "13261it [06:22,  6.14it/s]"
     ]
    },
    {
     "name": "stdout",
     "output_type": "stream",
     "text": [
      "0.11187511614941448\n",
      "0.029894276339773818\n"
     ]
    },
    {
     "name": "stderr",
     "output_type": "stream",
     "text": [
      "13263it [06:22,  6.82it/s]"
     ]
    },
    {
     "name": "stdout",
     "output_type": "stream",
     "text": [
      "0.07075913776944698\n",
      "0.0034572169403628283\n"
     ]
    },
    {
     "name": "stderr",
     "output_type": "stream",
     "text": [
      "13265it [06:22,  6.88it/s]"
     ]
    },
    {
     "name": "stdout",
     "output_type": "stream",
     "text": [
      "-0.047048379937860596\n",
      "-0.031319910514541416\n"
     ]
    },
    {
     "name": "stderr",
     "output_type": "stream",
     "text": [
      "13267it [06:23,  6.70it/s]"
     ]
    },
    {
     "name": "stdout",
     "output_type": "stream",
     "text": [
      "-0.03779406093328186\n",
      "-0.03725961538461531\n"
     ]
    },
    {
     "name": "stderr",
     "output_type": "stream",
     "text": [
      "13269it [06:23,  6.24it/s]"
     ]
    },
    {
     "name": "stdout",
     "output_type": "stream",
     "text": [
      "-0.06669480793583793\n",
      "-0.030851501439736806\n"
     ]
    },
    {
     "name": "stderr",
     "output_type": "stream",
     "text": [
      "13271it [06:23,  6.82it/s]"
     ]
    },
    {
     "name": "stdout",
     "output_type": "stream",
     "text": [
      "-0.07165109034267914\n",
      "-0.0028557829604950458\n"
     ]
    },
    {
     "name": "stderr",
     "output_type": "stream",
     "text": [
      "13273it [06:24,  7.15it/s]"
     ]
    },
    {
     "name": "stdout",
     "output_type": "stream",
     "text": [
      "0.0041200706297821466\n",
      "-0.0004604051565377798\n"
     ]
    },
    {
     "name": "stderr",
     "output_type": "stream",
     "text": [
      "13275it [06:24,  6.76it/s]"
     ]
    },
    {
     "name": "stdout",
     "output_type": "stream",
     "text": [
      "-0.013370216689718828\n",
      "-0.013370216689718828\n"
     ]
    },
    {
     "name": "stderr",
     "output_type": "stream",
     "text": [
      "13277it [06:24,  7.12it/s]"
     ]
    },
    {
     "name": "stdout",
     "output_type": "stream",
     "text": [
      "-0.017487344684767647\n",
      "-0.07405637840420454\n"
     ]
    },
    {
     "name": "stderr",
     "output_type": "stream",
     "text": [
      "13279it [06:24,  7.08it/s]"
     ]
    },
    {
     "name": "stdout",
     "output_type": "stream",
     "text": [
      "-0.01179487179487182\n",
      "-0.001045478306325176\n"
     ]
    },
    {
     "name": "stderr",
     "output_type": "stream",
     "text": [
      "13281it [06:25,  7.08it/s]"
     ]
    },
    {
     "name": "stdout",
     "output_type": "stream",
     "text": [
      "-0.012054794520548029\n",
      "-0.0038824181919022704\n"
     ]
    },
    {
     "name": "stderr",
     "output_type": "stream",
     "text": [
      "13283it [06:25,  7.52it/s]"
     ]
    },
    {
     "name": "stdout",
     "output_type": "stream",
     "text": [
      "0.0011001100110010764\n",
      "0.008241758241758212\n"
     ]
    },
    {
     "name": "stderr",
     "output_type": "stream",
     "text": [
      "13285it [06:25,  6.94it/s]"
     ]
    },
    {
     "name": "stdout",
     "output_type": "stream",
     "text": [
      "0.010022271714922093\n",
      "0.014835164835164782\n"
     ]
    },
    {
     "name": "stderr",
     "output_type": "stream",
     "text": [
      "13288it [06:26,  7.59it/s]"
     ]
    },
    {
     "name": "stdout",
     "output_type": "stream",
     "text": [
      "0.014835164835164782\n",
      "-0.013121546961326058\n"
     ]
    },
    {
     "name": "stderr",
     "output_type": "stream",
     "text": [
      "13290it [06:26,  6.92it/s]"
     ]
    },
    {
     "name": "stdout",
     "output_type": "stream",
     "text": [
      "-0.030860855441256163\n",
      "-0.07289455060155703\n"
     ]
    },
    {
     "name": "stderr",
     "output_type": "stream",
     "text": [
      "13292it [06:26,  6.24it/s]"
     ]
    },
    {
     "name": "stdout",
     "output_type": "stream",
     "text": [
      "-0.013997760358342659\n",
      "-0.04974016332590936\n"
     ]
    },
    {
     "name": "stderr",
     "output_type": "stream",
     "text": [
      "13294it [06:27,  6.46it/s]"
     ]
    },
    {
     "name": "stdout",
     "output_type": "stream",
     "text": [
      "-0.01459034792368119\n",
      "-0.051935272250164144\n"
     ]
    },
    {
     "name": "stderr",
     "output_type": "stream",
     "text": [
      "13296it [06:27,  6.58it/s]"
     ]
    },
    {
     "name": "stdout",
     "output_type": "stream",
     "text": [
      "0.006582884500299091\n",
      "0.005257009345794428\n"
     ]
    },
    {
     "name": "stderr",
     "output_type": "stream",
     "text": [
      "13298it [06:27,  6.76it/s]"
     ]
    },
    {
     "name": "stdout",
     "output_type": "stream",
     "text": [
      "0.047815333882934796\n",
      "0.04297328687572599\n"
     ]
    },
    {
     "name": "stderr",
     "output_type": "stream",
     "text": [
      "13300it [06:28,  6.82it/s]"
     ]
    },
    {
     "name": "stdout",
     "output_type": "stream",
     "text": [
      "0.0016602102933038765\n",
      "-0.04549272116461367\n"
     ]
    },
    {
     "name": "stderr",
     "output_type": "stream",
     "text": [
      "13302it [06:28,  5.89it/s]"
     ]
    },
    {
     "name": "stdout",
     "output_type": "stream",
     "text": [
      "0.0011098779134295356\n",
      "-0.021428571428571352\n"
     ]
    },
    {
     "name": "stderr",
     "output_type": "stream",
     "text": [
      "13304it [06:28,  6.30it/s]"
     ]
    },
    {
     "name": "stdout",
     "output_type": "stream",
     "text": [
      "-0.015890410958903978\n",
      "0.0642099385817978\n"
     ]
    },
    {
     "name": "stderr",
     "output_type": "stream",
     "text": [
      "13306it [06:29,  5.93it/s]"
     ]
    },
    {
     "name": "stdout",
     "output_type": "stream",
     "text": [
      "-0.004441976679622539\n",
      "-0.018623024830699775\n"
     ]
    },
    {
     "name": "stderr",
     "output_type": "stream",
     "text": [
      "13309it [06:29,  7.49it/s]"
     ]
    },
    {
     "name": "stdout",
     "output_type": "stream",
     "text": [
      "-0.04275402554136598\n",
      "-0.035654596100278546\n"
     ]
    },
    {
     "name": "stderr",
     "output_type": "stream",
     "text": [
      "13311it [06:29,  6.21it/s]"
     ]
    },
    {
     "name": "stdout",
     "output_type": "stream",
     "text": [
      "0.03384968445209413\n",
      "-0.07612833061446445\n"
     ]
    },
    {
     "name": "stderr",
     "output_type": "stream",
     "text": [
      "13314it [06:30,  6.95it/s]"
     ]
    },
    {
     "name": "stdout",
     "output_type": "stream",
     "text": [
      "-0.047027388109552426\n",
      "-0.03422526446795271\n"
     ]
    },
    {
     "name": "stderr",
     "output_type": "stream",
     "text": [
      "13316it [06:30,  6.98it/s]"
     ]
    },
    {
     "name": "stdout",
     "output_type": "stream",
     "text": [
      "-0.03984716157205226\n",
      "0.018903591682419618\n"
     ]
    },
    {
     "name": "stderr",
     "output_type": "stream",
     "text": [
      "13318it [06:30,  6.73it/s]"
     ]
    },
    {
     "name": "stdout",
     "output_type": "stream",
     "text": [
      "-0.006756756756756799\n",
      "0.02182247124741976\n"
     ]
    },
    {
     "name": "stderr",
     "output_type": "stream",
     "text": [
      "13320it [06:30,  6.72it/s]"
     ]
    },
    {
     "name": "stdout",
     "output_type": "stream",
     "text": [
      "0.040874524714828775\n",
      "0.010252904989746847\n"
     ]
    },
    {
     "name": "stderr",
     "output_type": "stream",
     "text": [
      "13322it [06:31,  7.31it/s]"
     ]
    },
    {
     "name": "stdout",
     "output_type": "stream",
     "text": [
      "0.003972194637537063\n",
      "0.008211678832116931\n"
     ]
    },
    {
     "name": "stderr",
     "output_type": "stream",
     "text": [
      "13324it [06:31,  7.04it/s]"
     ]
    },
    {
     "name": "stdout",
     "output_type": "stream",
     "text": [
      "0.06255625562556233\n",
      "-0.028474576271186325\n"
     ]
    },
    {
     "name": "stderr",
     "output_type": "stream",
     "text": [
      "13326it [06:31,  6.61it/s]"
     ]
    },
    {
     "name": "stdout",
     "output_type": "stream",
     "text": [
      "-0.008258774948382674\n",
      "0.029840388619014613\n"
     ]
    },
    {
     "name": "stderr",
     "output_type": "stream",
     "text": [
      "13328it [06:32,  6.71it/s]"
     ]
    },
    {
     "name": "stdout",
     "output_type": "stream",
     "text": [
      "0.01897018970189701\n",
      "-0.05575868372943338\n"
     ]
    },
    {
     "name": "stderr",
     "output_type": "stream",
     "text": [
      "13330it [06:32,  6.48it/s]"
     ]
    },
    {
     "name": "stdout",
     "output_type": "stream",
     "text": [
      "-0.0560661764705882\n",
      "-0.032498307379823954\n"
     ]
    },
    {
     "name": "stderr",
     "output_type": "stream",
     "text": [
      "13332it [06:32,  6.34it/s]"
     ]
    },
    {
     "name": "stdout",
     "output_type": "stream",
     "text": [
      "0.0027643400138217533\n",
      "-0.11390312911449152\n"
     ]
    },
    {
     "name": "stderr",
     "output_type": "stream",
     "text": [
      "13334it [06:33,  6.19it/s]"
     ]
    },
    {
     "name": "stdout",
     "output_type": "stream",
     "text": [
      "-0.040526950925181104\n",
      "-0.0077241688122691166\n"
     ]
    },
    {
     "name": "stderr",
     "output_type": "stream",
     "text": [
      "13336it [06:33,  5.78it/s]"
     ]
    },
    {
     "name": "stdout",
     "output_type": "stream",
     "text": [
      "0.023233301064859768\n",
      "0.06785452770319766\n"
     ]
    },
    {
     "name": "stderr",
     "output_type": "stream",
     "text": [
      "13338it [06:33,  6.55it/s]"
     ]
    },
    {
     "name": "stdout",
     "output_type": "stream",
     "text": [
      "0.014769230769230646\n",
      "-0.016904871676655997\n"
     ]
    },
    {
     "name": "stderr",
     "output_type": "stream",
     "text": [
      "13340it [06:34,  6.41it/s]"
     ]
    },
    {
     "name": "stdout",
     "output_type": "stream",
     "text": [
      "0.016918429003021096\n",
      "0.13787991104521868\n"
     ]
    },
    {
     "name": "stderr",
     "output_type": "stream",
     "text": [
      "13343it [06:34,  6.63it/s]"
     ]
    },
    {
     "name": "stdout",
     "output_type": "stream",
     "text": [
      "-0.020564323290291564\n",
      "-0.023337222870478458\n"
     ]
    },
    {
     "name": "stderr",
     "output_type": "stream",
     "text": [
      "13345it [06:34,  6.80it/s]"
     ]
    },
    {
     "name": "stdout",
     "output_type": "stream",
     "text": [
      "-0.02376811594202899\n",
      "-0.011501210653753091\n"
     ]
    },
    {
     "name": "stderr",
     "output_type": "stream",
     "text": [
      "13348it [06:35,  7.68it/s]"
     ]
    },
    {
     "name": "stdout",
     "output_type": "stream",
     "text": [
      "0.03829594380240198\n",
      "-0.050643507376791685\n"
     ]
    },
    {
     "name": "stderr",
     "output_type": "stream",
     "text": [
      "13350it [06:35,  6.79it/s]"
     ]
    },
    {
     "name": "stdout",
     "output_type": "stream",
     "text": [
      "0.015240328253223856\n",
      "0.015814443858724436\n"
     ]
    },
    {
     "name": "stderr",
     "output_type": "stream",
     "text": [
      "13352it [06:35,  6.80it/s]"
     ]
    },
    {
     "name": "stdout",
     "output_type": "stream",
     "text": [
      "-0.0005665722379603055\n",
      "-0.045740423098913685\n"
     ]
    },
    {
     "name": "stderr",
     "output_type": "stream",
     "text": [
      "13354it [06:35,  6.85it/s]"
     ]
    },
    {
     "name": "stdout",
     "output_type": "stream",
     "text": [
      "-0.0023474178403755097\n",
      "0.016696481812761066\n"
     ]
    },
    {
     "name": "stderr",
     "output_type": "stream",
     "text": [
      "13356it [06:36,  6.84it/s]"
     ]
    },
    {
     "name": "stdout",
     "output_type": "stream",
     "text": [
      "0.04524886877828038\n",
      "0.04492187499999978\n"
     ]
    },
    {
     "name": "stderr",
     "output_type": "stream",
     "text": [
      "13358it [06:36,  6.85it/s]"
     ]
    },
    {
     "name": "stdout",
     "output_type": "stream",
     "text": [
      "0.050773136395107166\n",
      "0.02752779248279502\n"
     ]
    },
    {
     "name": "stderr",
     "output_type": "stream",
     "text": [
      "13361it [06:36,  8.16it/s]"
     ]
    },
    {
     "name": "stdout",
     "output_type": "stream",
     "text": [
      "-0.011334363730036157\n",
      "-0.19348837209302316\n"
     ]
    },
    {
     "name": "stderr",
     "output_type": "stream",
     "text": [
      "13363it [06:37,  7.64it/s]"
     ]
    },
    {
     "name": "stdout",
     "output_type": "stream",
     "text": [
      "0.027268220128904286\n",
      "0.012266928361138296\n"
     ]
    },
    {
     "name": "stderr",
     "output_type": "stream",
     "text": [
      "13366it [06:37,  8.53it/s]"
     ]
    },
    {
     "name": "stdout",
     "output_type": "stream",
     "text": [
      "-0.25674671948502104\n",
      "0.019560357675111772\n"
     ]
    },
    {
     "name": "stderr",
     "output_type": "stream",
     "text": [
      "13368it [06:37,  7.50it/s]"
     ]
    },
    {
     "name": "stdout",
     "output_type": "stream",
     "text": [
      "0.012594858754817473\n",
      "-0.0022103888274891403\n"
     ]
    },
    {
     "name": "stderr",
     "output_type": "stream",
     "text": [
      "13370it [06:37,  6.92it/s]"
     ]
    },
    {
     "name": "stdout",
     "output_type": "stream",
     "text": [
      "-0.022486772486772222\n",
      "-0.012406137773424808\n"
     ]
    },
    {
     "name": "stderr",
     "output_type": "stream",
     "text": [
      "13372it [06:38,  7.11it/s]"
     ]
    },
    {
     "name": "stdout",
     "output_type": "stream",
     "text": [
      "0.024702249669166232\n",
      "0.005567928730512373\n"
     ]
    },
    {
     "name": "stderr",
     "output_type": "stream",
     "text": [
      "13374it [06:38,  7.18it/s]"
     ]
    },
    {
     "name": "stdout",
     "output_type": "stream",
     "text": [
      "-0.08656509695290848\n",
      "0.009381232610248036\n"
     ]
    },
    {
     "name": "stderr",
     "output_type": "stream",
     "text": [
      "13377it [06:38,  8.26it/s]"
     ]
    },
    {
     "name": "stdout",
     "output_type": "stream",
     "text": [
      "-0.001776198934280715\n",
      "-0.0014104372355430161\n"
     ]
    },
    {
     "name": "stderr",
     "output_type": "stream",
     "text": [
      "13379it [06:39,  7.21it/s]"
     ]
    },
    {
     "name": "stdout",
     "output_type": "stream",
     "text": [
      "0.009147127029116131\n",
      "0.004583651642475095\n"
     ]
    },
    {
     "name": "stderr",
     "output_type": "stream",
     "text": [
      "13381it [06:39,  6.54it/s]"
     ]
    },
    {
     "name": "stdout",
     "output_type": "stream",
     "text": [
      "-0.042245021122510495\n",
      "-0.054306643091689755\n"
     ]
    },
    {
     "name": "stderr",
     "output_type": "stream",
     "text": [
      "13383it [06:39,  6.47it/s]"
     ]
    },
    {
     "name": "stdout",
     "output_type": "stream",
     "text": [
      "0.04163052905463993\n",
      "-0.028199566160520773\n"
     ]
    },
    {
     "name": "stderr",
     "output_type": "stream",
     "text": [
      "13385it [06:40,  7.02it/s]"
     ]
    },
    {
     "name": "stdout",
     "output_type": "stream",
     "text": [
      "0.023070097604259043\n",
      "0.06314797360980218\n"
     ]
    },
    {
     "name": "stderr",
     "output_type": "stream",
     "text": [
      "13387it [06:40,  5.90it/s]"
     ]
    },
    {
     "name": "stdout",
     "output_type": "stream",
     "text": [
      "0.02530322040987043\n",
      "0.03645116918844571\n"
     ]
    },
    {
     "name": "stderr",
     "output_type": "stream",
     "text": [
      "13392it [06:40,  8.31it/s]"
     ]
    },
    {
     "name": "stdout",
     "output_type": "stream",
     "text": [
      "0.0034662045060658286\n",
      "-0.03511650804069577\n"
     ]
    },
    {
     "name": "stderr",
     "output_type": "stream",
     "text": [
      "13395it [06:41,  7.25it/s]"
     ]
    },
    {
     "name": "stdout",
     "output_type": "stream",
     "text": [
      "0.05924252953439901\n",
      "-0.054650373387644335\n"
     ]
    },
    {
     "name": "stderr",
     "output_type": "stream",
     "text": [
      "13399it [06:41,  8.28it/s]"
     ]
    },
    {
     "name": "stdout",
     "output_type": "stream",
     "text": [
      "-0.0786895607289585\n",
      "-0.011098354381936626\n"
     ]
    },
    {
     "name": "stderr",
     "output_type": "stream",
     "text": [
      "\r",
      "13401it [06:41,  7.40it/s]"
     ]
    },
    {
     "name": "stdout",
     "output_type": "stream",
     "text": [
      "0.008888888888888724\n",
      "0.00029841838257227415\n"
     ]
    },
    {
     "name": "stderr",
     "output_type": "stream",
     "text": [
      "13403it [06:42,  6.47it/s]"
     ]
    },
    {
     "name": "stdout",
     "output_type": "stream",
     "text": [
      "-0.05546935608999237\n",
      "-0.010784313725490047\n"
     ]
    },
    {
     "name": "stderr",
     "output_type": "stream",
     "text": [
      "13405it [06:42,  5.53it/s]"
     ]
    },
    {
     "name": "stdout",
     "output_type": "stream",
     "text": [
      "-0.012670565302144166\n",
      "0.0007371007371006488\n"
     ]
    },
    {
     "name": "stderr",
     "output_type": "stream",
     "text": [
      "13407it [06:43,  6.23it/s]"
     ]
    },
    {
     "name": "stdout",
     "output_type": "stream",
     "text": [
      "0.013493253373313419\n",
      "-0.010565391205025754\n"
     ]
    },
    {
     "name": "stderr",
     "output_type": "stream",
     "text": [
      "13410it [06:43,  7.69it/s]"
     ]
    },
    {
     "name": "stdout",
     "output_type": "stream",
     "text": [
      "-0.09267734553775742\n",
      "0.04153427144802535\n"
     ]
    },
    {
     "name": "stderr",
     "output_type": "stream",
     "text": [
      "13412it [06:43,  6.56it/s]"
     ]
    },
    {
     "name": "stdout",
     "output_type": "stream",
     "text": [
      "0.0019249278152069227\n",
      "0.09225092250922518\n"
     ]
    },
    {
     "name": "stderr",
     "output_type": "stream",
     "text": [
      "13414it [06:43,  6.40it/s]"
     ]
    },
    {
     "name": "stdout",
     "output_type": "stream",
     "text": [
      "0.003427592116538092\n",
      "0.008131147540983541\n"
     ]
    },
    {
     "name": "stderr",
     "output_type": "stream",
     "text": [
      "13416it [06:44,  6.49it/s]"
     ]
    },
    {
     "name": "stdout",
     "output_type": "stream",
     "text": [
      "-0.0315658600603228\n",
      "0.003298350824587848\n"
     ]
    },
    {
     "name": "stderr",
     "output_type": "stream",
     "text": [
      "13418it [06:44,  7.19it/s]"
     ]
    },
    {
     "name": "stdout",
     "output_type": "stream",
     "text": [
      "0.08109719737626708\n",
      "0.03221704111911827\n"
     ]
    },
    {
     "name": "stderr",
     "output_type": "stream",
     "text": [
      "13420it [06:44,  7.18it/s]"
     ]
    },
    {
     "name": "stdout",
     "output_type": "stream",
     "text": [
      "0.03926589842082784\n",
      "-0.000983284169124965\n"
     ]
    },
    {
     "name": "stderr",
     "output_type": "stream",
     "text": [
      "13425it [06:45,  9.23it/s]"
     ]
    },
    {
     "name": "stdout",
     "output_type": "stream",
     "text": [
      "-0.034983050847457564\n",
      "0.009818360333824216\n"
     ]
    },
    {
     "name": "stderr",
     "output_type": "stream",
     "text": [
      "\r",
      "13427it [06:45,  8.15it/s]"
     ]
    },
    {
     "name": "stdout",
     "output_type": "stream",
     "text": [
      "0.013057452792286206\n",
      "-0.0019455252918288979\n"
     ]
    },
    {
     "name": "stderr",
     "output_type": "stream",
     "text": [
      "13431it [06:45,  9.68it/s]"
     ]
    },
    {
     "name": "stdout",
     "output_type": "stream",
     "text": [
      "0.034866624658685286\n",
      "-0.0018921475875117721\n"
     ]
    },
    {
     "name": "stderr",
     "output_type": "stream",
     "text": [
      "\r",
      "13433it [06:45, 10.50it/s]"
     ]
    },
    {
     "name": "stdout",
     "output_type": "stream",
     "text": [
      "0.02715239280461601\n",
      "0.015267175572518887\n"
     ]
    },
    {
     "name": "stderr",
     "output_type": "stream",
     "text": [
      "13437it [06:46, 10.28it/s]"
     ]
    },
    {
     "name": "stdout",
     "output_type": "stream",
     "text": [
      "-0.011870572467930218\n",
      "-0.25022866849601466\n"
     ]
    },
    {
     "name": "stderr",
     "output_type": "stream",
     "text": [
      "13442it [06:46, 11.96it/s]"
     ]
    },
    {
     "name": "stdout",
     "output_type": "stream",
     "text": [
      "-0.0162368672397325\n",
      "-0.009013520280420573\n"
     ]
    },
    {
     "name": "stderr",
     "output_type": "stream",
     "text": [
      "13446it [06:46, 12.94it/s]"
     ]
    },
    {
     "name": "stdout",
     "output_type": "stream",
     "text": [
      "0.014438751746623124\n",
      "0.13500931098696456\n"
     ]
    },
    {
     "name": "stderr",
     "output_type": "stream",
     "text": [
      "13450it [06:47, 12.33it/s]"
     ]
    },
    {
     "name": "stdout",
     "output_type": "stream",
     "text": [
      "-0.0005910165484633856\n",
      "-0.013720742534301889\n"
     ]
    },
    {
     "name": "stderr",
     "output_type": "stream",
     "text": [
      "\r",
      "13452it [06:47,  9.33it/s]"
     ]
    },
    {
     "name": "stdout",
     "output_type": "stream",
     "text": [
      "0.008603031544448969\n",
      "0.04603580562659859\n"
     ]
    },
    {
     "name": "stderr",
     "output_type": "stream",
     "text": [
      "\r",
      "13454it [06:47,  8.22it/s]"
     ]
    },
    {
     "name": "stdout",
     "output_type": "stream",
     "text": [
      "0.021510145248919033\n",
      "0.005973715651135025\n"
     ]
    },
    {
     "name": "stderr",
     "output_type": "stream",
     "text": [
      "13456it [06:48,  7.14it/s]"
     ]
    },
    {
     "name": "stdout",
     "output_type": "stream",
     "text": [
      "0.05849268841394828\n",
      "0.06991972502012311\n"
     ]
    },
    {
     "name": "stderr",
     "output_type": "stream",
     "text": [
      "13458it [06:48,  6.55it/s]"
     ]
    },
    {
     "name": "stdout",
     "output_type": "stream",
     "text": [
      "0.004774469154416261\n",
      "-0.015757109915449652\n"
     ]
    },
    {
     "name": "stderr",
     "output_type": "stream",
     "text": [
      "13460it [06:48,  6.02it/s]"
     ]
    },
    {
     "name": "stdout",
     "output_type": "stream",
     "text": [
      "0.0015939883866560312\n",
      "-0.026613292565175417\n"
     ]
    },
    {
     "name": "stderr",
     "output_type": "stream",
     "text": [
      "13462it [06:49,  5.91it/s]"
     ]
    },
    {
     "name": "stdout",
     "output_type": "stream",
     "text": [
      "0.015258547612319928\n",
      "-0.025012141816415867\n"
     ]
    },
    {
     "name": "stderr",
     "output_type": "stream",
     "text": [
      "13464it [06:49,  6.22it/s]"
     ]
    },
    {
     "name": "stdout",
     "output_type": "stream",
     "text": [
      "-0.009680542110358181\n",
      "0.01660231660231659\n"
     ]
    },
    {
     "name": "stderr",
     "output_type": "stream",
     "text": [
      "13466it [06:49,  6.31it/s]"
     ]
    },
    {
     "name": "stdout",
     "output_type": "stream",
     "text": [
      "-0.004005722460658001\n",
      "0.004733727810650734\n"
     ]
    },
    {
     "name": "stderr",
     "output_type": "stream",
     "text": [
      "13468it [06:50,  6.31it/s]"
     ]
    },
    {
     "name": "stdout",
     "output_type": "stream",
     "text": [
      "0.03956043956043942\n",
      "-0.03734850358644559\n"
     ]
    },
    {
     "name": "stderr",
     "output_type": "stream",
     "text": [
      "13470it [06:50,  6.39it/s]"
     ]
    },
    {
     "name": "stdout",
     "output_type": "stream",
     "text": [
      "-0.0014960728088767583\n",
      "0.05280118988596927\n"
     ]
    },
    {
     "name": "stderr",
     "output_type": "stream",
     "text": [
      "13472it [06:50,  6.36it/s]"
     ]
    },
    {
     "name": "stdout",
     "output_type": "stream",
     "text": [
      "0.05137395459976113\n",
      "0.058178752107926\n"
     ]
    },
    {
     "name": "stderr",
     "output_type": "stream",
     "text": [
      "13474it [06:51,  5.76it/s]"
     ]
    },
    {
     "name": "stdout",
     "output_type": "stream",
     "text": [
      "-0.052351738241308676\n",
      "-0.07895268904164987\n"
     ]
    },
    {
     "name": "stderr",
     "output_type": "stream",
     "text": [
      "13476it [06:51,  6.04it/s]"
     ]
    },
    {
     "name": "stdout",
     "output_type": "stream",
     "text": [
      "-0.05189038315148431\n",
      "-0.08158799624882762\n"
     ]
    },
    {
     "name": "stderr",
     "output_type": "stream",
     "text": [
      "13479it [06:51,  7.69it/s]"
     ]
    },
    {
     "name": "stdout",
     "output_type": "stream",
     "text": [
      "-0.06269592476489028\n",
      "-0.007089056269384164\n"
     ]
    },
    {
     "name": "stderr",
     "output_type": "stream",
     "text": [
      "13481it [06:52,  6.93it/s]"
     ]
    },
    {
     "name": "stdout",
     "output_type": "stream",
     "text": [
      "0.028997919980423115\n",
      "-0.04108428631935612\n"
     ]
    },
    {
     "name": "stderr",
     "output_type": "stream",
     "text": [
      "13483it [06:52,  6.28it/s]"
     ]
    },
    {
     "name": "stdout",
     "output_type": "stream",
     "text": [
      "-0.0017064846416383617\n",
      "0.012237762237762073\n"
     ]
    },
    {
     "name": "stderr",
     "output_type": "stream",
     "text": [
      "13486it [06:52,  7.05it/s]"
     ]
    },
    {
     "name": "stdout",
     "output_type": "stream",
     "text": [
      "0.023285899094437346\n",
      "-0.005456349206349298\n"
     ]
    },
    {
     "name": "stderr",
     "output_type": "stream",
     "text": [
      "13489it [06:53,  7.56it/s]"
     ]
    },
    {
     "name": "stdout",
     "output_type": "stream",
     "text": [
      "-0.28724701292367705\n",
      "-0.004239284032030111\n"
     ]
    },
    {
     "name": "stderr",
     "output_type": "stream",
     "text": [
      "13491it [06:53,  7.01it/s]"
     ]
    },
    {
     "name": "stdout",
     "output_type": "stream",
     "text": [
      "0.0028248587570620654\n",
      "-0.0164979377577803\n"
     ]
    },
    {
     "name": "stderr",
     "output_type": "stream",
     "text": [
      "13494it [06:53,  6.88it/s]"
     ]
    },
    {
     "name": "stdout",
     "output_type": "stream",
     "text": [
      "-0.09359605911330049\n",
      "-0.00030921459492905257\n"
     ]
    },
    {
     "name": "stderr",
     "output_type": "stream",
     "text": [
      "13496it [06:54,  7.39it/s]"
     ]
    },
    {
     "name": "stdout",
     "output_type": "stream",
     "text": [
      "-0.041999160016799486\n",
      "0.009024252679074918\n"
     ]
    },
    {
     "name": "stderr",
     "output_type": "stream",
     "text": [
      "13498it [06:54,  7.63it/s]"
     ]
    },
    {
     "name": "stdout",
     "output_type": "stream",
     "text": [
      "0.08754623921085081\n",
      "0.027601435274634323\n"
     ]
    },
    {
     "name": "stderr",
     "output_type": "stream",
     "text": [
      "13500it [06:54,  7.00it/s]"
     ]
    },
    {
     "name": "stdout",
     "output_type": "stream",
     "text": [
      "0.006876227897838927\n",
      "-0.20360631104432747\n"
     ]
    },
    {
     "name": "stderr",
     "output_type": "stream",
     "text": [
      "13502it [06:54,  7.04it/s]"
     ]
    },
    {
     "name": "stdout",
     "output_type": "stream",
     "text": [
      "-0.03441835645677693\n",
      "-0.009764035801464788\n"
     ]
    },
    {
     "name": "stderr",
     "output_type": "stream",
     "text": [
      "\r",
      "13503it [06:55,  6.83it/s]"
     ]
    },
    {
     "name": "stdout",
     "output_type": "stream",
     "text": [
      "-0.0418892324992971\n"
     ]
    },
    {
     "name": "stderr",
     "output_type": "stream",
     "text": [
      "13505it [06:55,  6.21it/s]"
     ]
    },
    {
     "name": "stdout",
     "output_type": "stream",
     "text": [
      "-0.03370786516853952\n",
      "-0.03271291596164705\n"
     ]
    },
    {
     "name": "stderr",
     "output_type": "stream",
     "text": [
      "13507it [06:55,  6.76it/s]"
     ]
    },
    {
     "name": "stdout",
     "output_type": "stream",
     "text": [
      "-0.05182213306586425\n",
      "0.02950018789928599\n"
     ]
    },
    {
     "name": "stderr",
     "output_type": "stream",
     "text": [
      "13510it [06:56,  7.49it/s]"
     ]
    },
    {
     "name": "stdout",
     "output_type": "stream",
     "text": [
      "-0.004139490390468681\n",
      "0.3475336322869955\n"
     ]
    },
    {
     "name": "stderr",
     "output_type": "stream",
     "text": [
      "13512it [06:56,  7.77it/s]"
     ]
    },
    {
     "name": "stdout",
     "output_type": "stream",
     "text": [
      "0.033661006851355424\n",
      "0.04931192660550465\n"
     ]
    },
    {
     "name": "stderr",
     "output_type": "stream",
     "text": [
      "13515it [06:56,  9.10it/s]"
     ]
    },
    {
     "name": "stdout",
     "output_type": "stream",
     "text": [
      "0.05991285403050117\n",
      "0.04357999415033653\n"
     ]
    },
    {
     "name": "stderr",
     "output_type": "stream",
     "text": [
      "13517it [06:56,  7.18it/s]"
     ]
    },
    {
     "name": "stdout",
     "output_type": "stream",
     "text": [
      "0.016210739614994862\n",
      "-0.012203876525484603\n"
     ]
    },
    {
     "name": "stderr",
     "output_type": "stream",
     "text": [
      "13519it [06:57,  7.52it/s]"
     ]
    },
    {
     "name": "stdout",
     "output_type": "stream",
     "text": [
      "-0.019956345494231198\n",
      "0.03082706766917287\n"
     ]
    },
    {
     "name": "stderr",
     "output_type": "stream",
     "text": [
      "13521it [06:57,  6.97it/s]"
     ]
    },
    {
     "name": "stdout",
     "output_type": "stream",
     "text": [
      "0.01831069108092165\n",
      "0.07059267648169132\n"
     ]
    },
    {
     "name": "stderr",
     "output_type": "stream",
     "text": [
      "13523it [06:57,  7.43it/s]"
     ]
    },
    {
     "name": "stdout",
     "output_type": "stream",
     "text": [
      "-0.03394581127374652\n",
      "0.004331210191082846\n"
     ]
    },
    {
     "name": "stderr",
     "output_type": "stream",
     "text": [
      "13526it [06:58,  7.65it/s]"
     ]
    },
    {
     "name": "stdout",
     "output_type": "stream",
     "text": [
      "-0.026562812063111618\n",
      "-0.06223849372384915\n"
     ]
    },
    {
     "name": "stderr",
     "output_type": "stream",
     "text": [
      "13530it [06:58,  8.19it/s]"
     ]
    },
    {
     "name": "stdout",
     "output_type": "stream",
     "text": [
      "0.015765069551777477\n",
      "0.0009079903147699575\n",
      "0.010000000000000009\n"
     ]
    },
    {
     "name": "stderr",
     "output_type": "stream",
     "text": [
      "13533it [06:58,  6.40it/s]"
     ]
    },
    {
     "name": "stdout",
     "output_type": "stream",
     "text": [
      "-0.1294156487289534\n",
      "0.13854734440359984\n"
     ]
    },
    {
     "name": "stderr",
     "output_type": "stream",
     "text": [
      "13535it [06:59,  6.76it/s]"
     ]
    },
    {
     "name": "stdout",
     "output_type": "stream",
     "text": [
      "0.00572337042925275\n",
      "0.06588669950738923\n"
     ]
    },
    {
     "name": "stderr",
     "output_type": "stream",
     "text": [
      "13537it [06:59,  6.17it/s]"
     ]
    },
    {
     "name": "stdout",
     "output_type": "stream",
     "text": [
      "0.10230326295585401\n",
      "0.1542835481425322\n"
     ]
    },
    {
     "name": "stderr",
     "output_type": "stream",
     "text": [
      "13539it [06:59,  5.99it/s]"
     ]
    },
    {
     "name": "stdout",
     "output_type": "stream",
     "text": [
      "-0.07685311505229653\n",
      "-0.031847133757961776\n"
     ]
    },
    {
     "name": "stderr",
     "output_type": "stream",
     "text": [
      "13541it [07:00,  6.68it/s]"
     ]
    },
    {
     "name": "stdout",
     "output_type": "stream",
     "text": [
      "-0.12896028558679162\n",
      "0.08286825638423823\n"
     ]
    },
    {
     "name": "stderr",
     "output_type": "stream",
     "text": [
      "13543it [07:00,  6.29it/s]"
     ]
    },
    {
     "name": "stdout",
     "output_type": "stream",
     "text": [
      "0.26053980184489234\n",
      "-0.015985130111524137\n"
     ]
    },
    {
     "name": "stderr",
     "output_type": "stream",
     "text": [
      "13545it [07:00,  7.06it/s]"
     ]
    },
    {
     "name": "stdout",
     "output_type": "stream",
     "text": [
      "-0.07333696837513637\n",
      "-0.03755280863714605\n"
     ]
    },
    {
     "name": "stderr",
     "output_type": "stream",
     "text": [
      "13547it [07:01,  6.11it/s]"
     ]
    },
    {
     "name": "stdout",
     "output_type": "stream",
     "text": [
      "0.019473264166001814\n",
      "0.05930550136558721\n"
     ]
    },
    {
     "name": "stderr",
     "output_type": "stream",
     "text": [
      "13549it [07:01,  6.12it/s]"
     ]
    },
    {
     "name": "stdout",
     "output_type": "stream",
     "text": [
      "0.027521423862887362\n",
      "-0.03096676737160109\n"
     ]
    },
    {
     "name": "stderr",
     "output_type": "stream",
     "text": [
      "\r",
      "13550it [07:01,  6.15it/s]"
     ]
    },
    {
     "name": "stdout",
     "output_type": "stream",
     "text": [
      "-0.12355953905249673\n"
     ]
    },
    {
     "name": "stderr",
     "output_type": "stream",
     "text": [
      "13552it [07:02,  5.74it/s]"
     ]
    },
    {
     "name": "stdout",
     "output_type": "stream",
     "text": [
      "-0.007300884955752318\n",
      "-0.022734761120263625\n"
     ]
    },
    {
     "name": "stderr",
     "output_type": "stream",
     "text": [
      "13555it [07:02,  6.80it/s]"
     ]
    },
    {
     "name": "stdout",
     "output_type": "stream",
     "text": [
      "0.0005054334091483259\n",
      "0.019704433497536922\n"
     ]
    },
    {
     "name": "stderr",
     "output_type": "stream",
     "text": [
      "13557it [07:02,  5.80it/s]"
     ]
    },
    {
     "name": "stdout",
     "output_type": "stream",
     "text": [
      "0.07950337617076886\n",
      "0.08805460750853245\n"
     ]
    },
    {
     "name": "stderr",
     "output_type": "stream",
     "text": [
      "13559it [07:03,  6.41it/s]"
     ]
    },
    {
     "name": "stdout",
     "output_type": "stream",
     "text": [
      "-0.06337186129932249\n",
      "-0.010712035286704502\n"
     ]
    },
    {
     "name": "stderr",
     "output_type": "stream",
     "text": [
      "13561it [07:03,  6.97it/s]"
     ]
    },
    {
     "name": "stdout",
     "output_type": "stream",
     "text": [
      "-0.06775300171526588\n",
      "-0.0030560271646857817\n"
     ]
    },
    {
     "name": "stderr",
     "output_type": "stream",
     "text": [
      "13563it [07:03,  7.04it/s]"
     ]
    },
    {
     "name": "stdout",
     "output_type": "stream",
     "text": [
      "0.017509727626459304\n",
      "-0.070002811357886\n"
     ]
    },
    {
     "name": "stderr",
     "output_type": "stream",
     "text": [
      "13565it [07:03,  7.22it/s]"
     ]
    },
    {
     "name": "stdout",
     "output_type": "stream",
     "text": [
      "-0.005131494547787052\n",
      "-0.08494558645707362\n"
     ]
    },
    {
     "name": "stderr",
     "output_type": "stream",
     "text": [
      "13567it [07:04,  6.49it/s]"
     ]
    },
    {
     "name": "stdout",
     "output_type": "stream",
     "text": [
      "-0.022524882137244684\n",
      "-0.17310252996005326\n"
     ]
    },
    {
     "name": "stderr",
     "output_type": "stream",
     "text": [
      "13569it [07:04,  6.42it/s]"
     ]
    },
    {
     "name": "stdout",
     "output_type": "stream",
     "text": [
      "-0.03890796141899633\n",
      "-0.015477214101461856\n"
     ]
    },
    {
     "name": "stderr",
     "output_type": "stream",
     "text": [
      "13571it [07:04,  6.46it/s]"
     ]
    },
    {
     "name": "stdout",
     "output_type": "stream",
     "text": [
      "-0.01038062283737018\n",
      "-0.004826678367705117\n"
     ]
    },
    {
     "name": "stderr",
     "output_type": "stream",
     "text": [
      "\r",
      "13572it [07:04,  6.77it/s]"
     ]
    },
    {
     "name": "stdout",
     "output_type": "stream",
     "text": [
      "0.038798092504282566\n"
     ]
    },
    {
     "name": "stderr",
     "output_type": "stream",
     "text": [
      "13574it [07:05,  5.60it/s]"
     ]
    },
    {
     "name": "stdout",
     "output_type": "stream",
     "text": [
      "0.040087145969498916\n",
      "0.00390625\n"
     ]
    },
    {
     "name": "stderr",
     "output_type": "stream",
     "text": [
      "13576it [07:05,  6.23it/s]"
     ]
    },
    {
     "name": "stdout",
     "output_type": "stream",
     "text": [
      "-0.014982876712328785\n",
      "-0.09152450582182514\n"
     ]
    },
    {
     "name": "stderr",
     "output_type": "stream",
     "text": [
      "13578it [07:05,  7.16it/s]"
     ]
    },
    {
     "name": "stdout",
     "output_type": "stream",
     "text": [
      "0.01782608695652166\n",
      "0.01782608695652166\n"
     ]
    },
    {
     "name": "stderr",
     "output_type": "stream",
     "text": [
      "13580it [07:06,  7.04it/s]"
     ]
    },
    {
     "name": "stdout",
     "output_type": "stream",
     "text": [
      "-0.0294796206100999\n",
      "-0.03605150214592279\n"
     ]
    },
    {
     "name": "stderr",
     "output_type": "stream",
     "text": [
      "13582it [07:06,  6.17it/s]"
     ]
    },
    {
     "name": "stdout",
     "output_type": "stream",
     "text": [
      "-0.017201988979975824\n",
      "0.0015384615384614886\n"
     ]
    },
    {
     "name": "stderr",
     "output_type": "stream",
     "text": [
      "13584it [07:06,  5.67it/s]"
     ]
    },
    {
     "name": "stdout",
     "output_type": "stream",
     "text": [
      "0.012019826517967624\n",
      "0.010685663401602818\n"
     ]
    },
    {
     "name": "stderr",
     "output_type": "stream",
     "text": [
      "13586it [07:07,  5.60it/s]"
     ]
    },
    {
     "name": "stdout",
     "output_type": "stream",
     "text": [
      "0.03930280246069717\n",
      "0.029562982005141514\n"
     ]
    },
    {
     "name": "stderr",
     "output_type": "stream",
     "text": [
      "13588it [07:07,  6.29it/s]"
     ]
    },
    {
     "name": "stdout",
     "output_type": "stream",
     "text": [
      "-0.013584574934268123\n",
      "0.0809371671991479\n"
     ]
    },
    {
     "name": "stderr",
     "output_type": "stream",
     "text": [
      "13591it [07:07,  7.52it/s]"
     ]
    },
    {
     "name": "stdout",
     "output_type": "stream",
     "text": [
      "-0.009051724137930983\n",
      "0.07649333906317146\n"
     ]
    },
    {
     "name": "stderr",
     "output_type": "stream",
     "text": [
      "13593it [07:08,  6.29it/s]"
     ]
    },
    {
     "name": "stdout",
     "output_type": "stream",
     "text": [
      "0.08126520681265204\n",
      "0.06574394463667832\n"
     ]
    },
    {
     "name": "stderr",
     "output_type": "stream",
     "text": [
      "13595it [07:08,  6.49it/s]"
     ]
    },
    {
     "name": "stdout",
     "output_type": "stream",
     "text": [
      "-0.014280047600158663\n",
      "0.08229988726042836\n"
     ]
    },
    {
     "name": "stderr",
     "output_type": "stream",
     "text": [
      "\r",
      "13596it [07:08,  6.40it/s]"
     ]
    },
    {
     "name": "stdout",
     "output_type": "stream",
     "text": [
      "-0.011987625676720737\n",
      "0.05130306507129978\n"
     ]
    },
    {
     "name": "stderr",
     "output_type": "stream",
     "text": [
      "13599it [07:09,  7.40it/s]"
     ]
    },
    {
     "name": "stdout",
     "output_type": "stream",
     "text": [
      "-0.05633802816901401\n",
      "0.032993116544030476\n"
     ]
    },
    {
     "name": "stderr",
     "output_type": "stream",
     "text": [
      "13601it [07:09,  6.25it/s]"
     ]
    },
    {
     "name": "stdout",
     "output_type": "stream",
     "text": [
      "-0.009413241292751784\n",
      "-0.018959257765228\n"
     ]
    },
    {
     "name": "stderr",
     "output_type": "stream",
     "text": [
      "13603it [07:09,  5.47it/s]"
     ]
    },
    {
     "name": "stdout",
     "output_type": "stream",
     "text": [
      "0.016544117647058876\n",
      "0.011049493391152021\n"
     ]
    },
    {
     "name": "stderr",
     "output_type": "stream",
     "text": [
      "13605it [07:10,  5.54it/s]"
     ]
    },
    {
     "name": "stdout",
     "output_type": "stream",
     "text": [
      "0.02035830618892498\n",
      "0.05100539480137334\n"
     ]
    },
    {
     "name": "stderr",
     "output_type": "stream",
     "text": [
      "13607it [07:10,  5.89it/s]"
     ]
    },
    {
     "name": "stdout",
     "output_type": "stream",
     "text": [
      "0.04386617100371737\n",
      "-0.060123329907502465\n"
     ]
    },
    {
     "name": "stderr",
     "output_type": "stream",
     "text": [
      "13609it [07:10,  6.50it/s]"
     ]
    },
    {
     "name": "stdout",
     "output_type": "stream",
     "text": [
      "-0.012759170653907637\n",
      "0.07314059797380779\n"
     ]
    },
    {
     "name": "stderr",
     "output_type": "stream",
     "text": [
      "13611it [07:11,  6.40it/s]"
     ]
    },
    {
     "name": "stdout",
     "output_type": "stream",
     "text": [
      "0.08237166732988466\n",
      "0.06279069767441858\n"
     ]
    },
    {
     "name": "stderr",
     "output_type": "stream",
     "text": [
      "13613it [07:11,  6.65it/s]"
     ]
    },
    {
     "name": "stdout",
     "output_type": "stream",
     "text": [
      "-0.058531073446327575\n",
      "0.019478133039323664\n"
     ]
    },
    {
     "name": "stderr",
     "output_type": "stream",
     "text": [
      "\r",
      "13614it [07:11,  6.88it/s]"
     ]
    },
    {
     "name": "stdout",
     "output_type": "stream",
     "text": [
      "0.006029544769369677\n"
     ]
    },
    {
     "name": "stderr",
     "output_type": "stream",
     "text": [
      "13616it [07:12,  6.05it/s]"
     ]
    },
    {
     "name": "stdout",
     "output_type": "stream",
     "text": [
      "-0.07717041800643087\n",
      "0.019478133039323664\n"
     ]
    },
    {
     "name": "stderr",
     "output_type": "stream",
     "text": [
      "13618it [07:12,  6.51it/s]"
     ]
    },
    {
     "name": "stdout",
     "output_type": "stream",
     "text": [
      "-0.04265578635014844\n",
      "-0.07123394316854814\n"
     ]
    },
    {
     "name": "stderr",
     "output_type": "stream",
     "text": [
      "13622it [07:12,  6.59it/s]"
     ]
    },
    {
     "name": "stdout",
     "output_type": "stream",
     "text": [
      "-0.1100882240122747\n",
      "0.00524367674275128\n"
     ]
    },
    {
     "name": "stderr",
     "output_type": "stream",
     "text": [
      "13624it [07:13,  5.88it/s]"
     ]
    },
    {
     "name": "stdout",
     "output_type": "stream",
     "text": [
      "-0.09895460403837897\n",
      "0.012324929971988752\n"
     ]
    },
    {
     "name": "stderr",
     "output_type": "stream",
     "text": [
      "13626it [07:13,  5.39it/s]"
     ]
    },
    {
     "name": "stdout",
     "output_type": "stream",
     "text": [
      "-0.02087682672233826\n"
     ]
    },
    {
     "name": "stderr",
     "output_type": "stream",
     "text": [
      "13628it [07:13,  6.23it/s]"
     ]
    },
    {
     "name": "stdout",
     "output_type": "stream",
     "text": [
      "-0.016196013289036526\n",
      "-0.0018890606216726002\n",
      "-0.02829841969864011\n"
     ]
    },
    {
     "name": "stderr",
     "output_type": "stream",
     "text": [
      "13631it [07:14,  7.20it/s]"
     ]
    },
    {
     "name": "stdout",
     "output_type": "stream",
     "text": [
      "-0.0034393809114359186\n",
      "0.025991189427312822\n"
     ]
    },
    {
     "name": "stderr",
     "output_type": "stream",
     "text": [
      "13633it [07:14,  5.97it/s]"
     ]
    },
    {
     "name": "stdout",
     "output_type": "stream",
     "text": [
      "0.042652139250597854\n",
      "-0.02616726526423807\n"
     ]
    },
    {
     "name": "stderr",
     "output_type": "stream",
     "text": [
      "13635it [07:14,  5.42it/s]"
     ]
    },
    {
     "name": "stdout",
     "output_type": "stream",
     "text": [
      "0.019357677078750468\n"
     ]
    },
    {
     "name": "stderr",
     "output_type": "stream",
     "text": [
      "\r",
      "13636it [07:15,  5.79it/s]"
     ]
    },
    {
     "name": "stdout",
     "output_type": "stream",
     "text": [
      "0.004731861198738141\n",
      "0.0007243752263672576\n"
     ]
    },
    {
     "name": "stderr",
     "output_type": "stream",
     "text": [
      "13638it [07:15,  5.31it/s]"
     ]
    },
    {
     "name": "stdout",
     "output_type": "stream",
     "text": [
      "-0.0008485362749257597\n",
      "0.0029787234042553123\n"
     ]
    },
    {
     "name": "stderr",
     "output_type": "stream",
     "text": [
      "13640it [07:15,  5.75it/s]"
     ]
    },
    {
     "name": "stdout",
     "output_type": "stream",
     "text": [
      "-0.15567458988952143\n",
      "0.039535883111302184\n"
     ]
    },
    {
     "name": "stderr",
     "output_type": "stream",
     "text": [
      "13642it [07:16,  6.59it/s]"
     ]
    },
    {
     "name": "stdout",
     "output_type": "stream",
     "text": [
      "0.03460731764157532\n",
      "-0.011887947269303312\n"
     ]
    },
    {
     "name": "stderr",
     "output_type": "stream",
     "text": [
      "13644it [07:16,  6.06it/s]"
     ]
    },
    {
     "name": "stdout",
     "output_type": "stream",
     "text": [
      "0.0267611176702085\n",
      "0.004668930390492321\n"
     ]
    },
    {
     "name": "stderr",
     "output_type": "stream",
     "text": [
      "13646it [07:16,  5.59it/s]"
     ]
    },
    {
     "name": "stdout",
     "output_type": "stream",
     "text": [
      "0.015981169474727386\n",
      "-0.021135515955242434\n"
     ]
    },
    {
     "name": "stderr",
     "output_type": "stream",
     "text": [
      "13648it [07:17,  6.12it/s]"
     ]
    },
    {
     "name": "stdout",
     "output_type": "stream",
     "text": [
      "-0.005080440304826461\n",
      "-0.0012706480304954804\n"
     ]
    },
    {
     "name": "stderr",
     "output_type": "stream",
     "text": [
      "13650it [07:17,  6.50it/s]"
     ]
    },
    {
     "name": "stdout",
     "output_type": "stream",
     "text": [
      "0.008047437526471857\n",
      "0.04761904761904767\n"
     ]
    },
    {
     "name": "stderr",
     "output_type": "stream",
     "text": [
      "13652it [07:17,  6.43it/s]"
     ]
    },
    {
     "name": "stdout",
     "output_type": "stream",
     "text": [
      "-0.05273833671399597\n",
      "-0.010165184243964509\n"
     ]
    },
    {
     "name": "stderr",
     "output_type": "stream",
     "text": [
      "13654it [07:17,  6.52it/s]"
     ]
    },
    {
     "name": "stdout",
     "output_type": "stream",
     "text": [
      "-0.022674687644608893\n",
      "0.0158458244111348\n"
     ]
    },
    {
     "name": "stderr",
     "output_type": "stream",
     "text": [
      "\r",
      "13655it [07:18,  6.32it/s]"
     ]
    },
    {
     "name": "stdout",
     "output_type": "stream",
     "text": [
      "0.03846153846153855\n"
     ]
    },
    {
     "name": "stderr",
     "output_type": "stream",
     "text": [
      "13657it [07:18,  6.28it/s]"
     ]
    },
    {
     "name": "stdout",
     "output_type": "stream",
     "text": [
      "-0.022122081114297476\n",
      "0.0573248407643312\n"
     ]
    },
    {
     "name": "stderr",
     "output_type": "stream",
     "text": [
      "13659it [07:18,  6.27it/s]"
     ]
    },
    {
     "name": "stdout",
     "output_type": "stream",
     "text": [
      "0.0\n",
      "0.0136315973435861\n"
     ]
    },
    {
     "name": "stderr",
     "output_type": "stream",
     "text": [
      "13661it [07:19,  5.82it/s]"
     ]
    },
    {
     "name": "stdout",
     "output_type": "stream",
     "text": [
      "-0.015081967213114833\n",
      "-0.014391447368421018\n"
     ]
    },
    {
     "name": "stderr",
     "output_type": "stream",
     "text": [
      "\r",
      "13662it [07:19,  6.01it/s]"
     ]
    },
    {
     "name": "stdout",
     "output_type": "stream",
     "text": [
      "-0.04796380090497743\n"
     ]
    },
    {
     "name": "stderr",
     "output_type": "stream",
     "text": [
      "13664it [07:19,  5.06it/s]"
     ]
    },
    {
     "name": "stdout",
     "output_type": "stream",
     "text": [
      "-0.0307606263982102\n",
      "0.0006816632583503957\n"
     ]
    },
    {
     "name": "stderr",
     "output_type": "stream",
     "text": [
      "\r",
      "13665it [07:19,  5.39it/s]"
     ]
    },
    {
     "name": "stdout",
     "output_type": "stream",
     "text": [
      "-0.005161290322580725\n"
     ]
    },
    {
     "name": "stderr",
     "output_type": "stream",
     "text": [
      "\r",
      "13666it [07:20,  4.86it/s]"
     ]
    },
    {
     "name": "stdout",
     "output_type": "stream",
     "text": [
      "-0.005161290322580725\n"
     ]
    },
    {
     "name": "stderr",
     "output_type": "stream",
     "text": [
      "13668it [07:20,  4.77it/s]"
     ]
    },
    {
     "name": "stdout",
     "output_type": "stream",
     "text": [
      "0.002545824847250522\n",
      "0.0\n"
     ]
    },
    {
     "name": "stderr",
     "output_type": "stream",
     "text": [
      "\r",
      "13669it [07:20,  4.88it/s]"
     ]
    },
    {
     "name": "stdout",
     "output_type": "stream",
     "text": [
      "0.023333333333333428\n"
     ]
    },
    {
     "name": "stderr",
     "output_type": "stream",
     "text": [
      "13671it [07:21,  4.94it/s]"
     ]
    },
    {
     "name": "stdout",
     "output_type": "stream",
     "text": [
      "0.02764976958525356\n",
      "0.0020929259104227604\n"
     ]
    },
    {
     "name": "stderr",
     "output_type": "stream",
     "text": [
      "13673it [07:21,  5.01it/s]"
     ]
    },
    {
     "name": "stdout",
     "output_type": "stream",
     "text": [
      "-0.0021618282890670804\n",
      "0.019887429643527188\n"
     ]
    },
    {
     "name": "stderr",
     "output_type": "stream",
     "text": [
      "13675it [07:22,  5.01it/s]"
     ]
    },
    {
     "name": "stdout",
     "output_type": "stream",
     "text": [
      "0.03427540589296463\n",
      "0.01043478260869568\n"
     ]
    },
    {
     "name": "stderr",
     "output_type": "stream",
     "text": [
      "\r",
      "13676it [07:22,  5.72it/s]"
     ]
    },
    {
     "name": "stdout",
     "output_type": "stream",
     "text": [
      "0.0021114864864864025\n"
     ]
    },
    {
     "name": "stderr",
     "output_type": "stream",
     "text": [
      "13678it [07:22,  5.23it/s]"
     ]
    },
    {
     "name": "stdout",
     "output_type": "stream",
     "text": [
      "0.025170648464163836\n",
      "0.005887300252312766\n"
     ]
    },
    {
     "name": "stderr",
     "output_type": "stream",
     "text": [
      "13680it [07:23,  5.32it/s]"
     ]
    },
    {
     "name": "stdout",
     "output_type": "stream",
     "text": [
      "0.03118415507796035\n",
      "0.02468619246861925\n"
     ]
    },
    {
     "name": "stderr",
     "output_type": "stream",
     "text": [
      "13682it [07:23,  5.16it/s]"
     ]
    },
    {
     "name": "stdout",
     "output_type": "stream",
     "text": [
      "-0.05939393939393933\n",
      "-0.006779661016949046\n"
     ]
    },
    {
     "name": "stderr",
     "output_type": "stream",
     "text": [
      "13684it [07:23,  5.63it/s]"
     ]
    },
    {
     "name": "stdout",
     "output_type": "stream",
     "text": [
      "-0.016572352465642815\n",
      "0.04037490987743353\n"
     ]
    },
    {
     "name": "stderr",
     "output_type": "stream",
     "text": [
      "13686it [07:24,  6.03it/s]"
     ]
    },
    {
     "name": "stdout",
     "output_type": "stream",
     "text": [
      "-0.012767629149479487\n",
      "-0.23204377897697037\n"
     ]
    },
    {
     "name": "stderr",
     "output_type": "stream",
     "text": [
      "\r",
      "13687it [07:24,  5.69it/s]"
     ]
    },
    {
     "name": "stdout",
     "output_type": "stream",
     "text": [
      "-0.02604577742699299\n"
     ]
    },
    {
     "name": "stderr",
     "output_type": "stream",
     "text": [
      "13689it [07:24,  5.19it/s]"
     ]
    },
    {
     "name": "stdout",
     "output_type": "stream",
     "text": [
      "0.05085419149781489\n",
      "-0.0035087719298246833\n"
     ]
    },
    {
     "name": "stderr",
     "output_type": "stream",
     "text": [
      "\r",
      "13690it [07:24,  5.43it/s]"
     ]
    },
    {
     "name": "stdout",
     "output_type": "stream",
     "text": [
      "-0.0384462940943322\n"
     ]
    },
    {
     "name": "stderr",
     "output_type": "stream",
     "text": [
      "13692it [07:25,  5.30it/s]"
     ]
    },
    {
     "name": "stdout",
     "output_type": "stream",
     "text": [
      "0.0025117739403452966\n",
      "0.011925042589437718\n"
     ]
    },
    {
     "name": "stderr",
     "output_type": "stream",
     "text": [
      "13694it [07:25,  5.30it/s]"
     ]
    },
    {
     "name": "stdout",
     "output_type": "stream",
     "text": [
      "0.005380794701986824\n",
      "-0.009749894022891059\n"
     ]
    },
    {
     "name": "stderr",
     "output_type": "stream",
     "text": [
      "13697it [07:26,  6.30it/s]"
     ]
    },
    {
     "name": "stdout",
     "output_type": "stream",
     "text": [
      "-0.07424144609425432\n",
      "0.0059328968903435975\n"
     ]
    },
    {
     "name": "stderr",
     "output_type": "stream",
     "text": [
      "13699it [07:26,  7.30it/s]"
     ]
    },
    {
     "name": "stdout",
     "output_type": "stream",
     "text": [
      "-0.03525954946131249\n",
      "0.0042808219178083196\n"
     ]
    },
    {
     "name": "stderr",
     "output_type": "stream",
     "text": [
      "\r",
      "13700it [07:26,  7.10it/s]"
     ]
    },
    {
     "name": "stdout",
     "output_type": "stream",
     "text": [
      "0.02509570395576355\n"
     ]
    },
    {
     "name": "stderr",
     "output_type": "stream",
     "text": [
      "13702it [07:26,  5.92it/s]"
     ]
    },
    {
     "name": "stdout",
     "output_type": "stream",
     "text": [
      "-0.12477442639855618\n",
      "0.011777301927194728\n"
     ]
    },
    {
     "name": "stderr",
     "output_type": "stream",
     "text": [
      "13704it [07:27,  5.65it/s]"
     ]
    },
    {
     "name": "stdout",
     "output_type": "stream",
     "text": [
      "0.0445648900933453\n",
      "-0.10989355040701299\n"
     ]
    },
    {
     "name": "stderr",
     "output_type": "stream",
     "text": [
      "13707it [07:27,  7.32it/s]"
     ]
    },
    {
     "name": "stdout",
     "output_type": "stream",
     "text": [
      "-0.006663493574488255\n",
      "0.0\n"
     ]
    },
    {
     "name": "stderr",
     "output_type": "stream",
     "text": [
      "13709it [07:27,  6.92it/s]"
     ]
    },
    {
     "name": "stdout",
     "output_type": "stream",
     "text": [
      "0.01594896331738438\n",
      "-0.08444902162718837\n"
     ]
    },
    {
     "name": "stderr",
     "output_type": "stream",
     "text": [
      "\r",
      "13710it [07:27,  7.03it/s]"
     ]
    },
    {
     "name": "stdout",
     "output_type": "stream",
     "text": [
      "-0.024277456647398887\n"
     ]
    },
    {
     "name": "stderr",
     "output_type": "stream",
     "text": [
      "13712it [07:28,  5.90it/s]"
     ]
    },
    {
     "name": "stdout",
     "output_type": "stream",
     "text": [
      "-0.01147902869757178\n",
      "-0.00044523597506673784\n"
     ]
    },
    {
     "name": "stderr",
     "output_type": "stream",
     "text": [
      "\r",
      "13713it [07:28,  6.38it/s]"
     ]
    },
    {
     "name": "stdout",
     "output_type": "stream",
     "text": [
      "0.02175346077785112\n"
     ]
    },
    {
     "name": "stderr",
     "output_type": "stream",
     "text": [
      "\r",
      "13714it [07:28,  5.03it/s]"
     ]
    },
    {
     "name": "stdout",
     "output_type": "stream",
     "text": [
      "-0.03055767761650119\n"
     ]
    },
    {
     "name": "stderr",
     "output_type": "stream",
     "text": [
      "13716it [07:29,  4.56it/s]"
     ]
    },
    {
     "name": "stdout",
     "output_type": "stream",
     "text": [
      "0.0026269702276706663\n",
      "-0.00772849462365599\n"
     ]
    },
    {
     "name": "stderr",
     "output_type": "stream",
     "text": [
      "13719it [07:29,  6.63it/s]"
     ]
    },
    {
     "name": "stdout",
     "output_type": "stream",
     "text": [
      "0.008541498791297286\n",
      "0.0756192959582791\n"
     ]
    },
    {
     "name": "stderr",
     "output_type": "stream",
     "text": [
      "13721it [07:29,  6.31it/s]"
     ]
    },
    {
     "name": "stdout",
     "output_type": "stream",
     "text": [
      "0.04244306418219468\n",
      "-0.10262626262626262\n"
     ]
    },
    {
     "name": "stderr",
     "output_type": "stream",
     "text": [
      "13724it [07:30,  7.51it/s]"
     ]
    },
    {
     "name": "stdout",
     "output_type": "stream",
     "text": [
      "-0.002696629213483237\n",
      "-0.004575960951800018\n"
     ]
    },
    {
     "name": "stderr",
     "output_type": "stream",
     "text": [
      "\r",
      "13726it [07:30,  9.00it/s]"
     ]
    },
    {
     "name": "stdout",
     "output_type": "stream",
     "text": [
      "-0.007553135429474778\n",
      "-0.0037429013939080935\n"
     ]
    },
    {
     "name": "stderr",
     "output_type": "stream",
     "text": [
      "13730it [07:30,  9.57it/s]"
     ]
    },
    {
     "name": "stdout",
     "output_type": "stream",
     "text": [
      "0.027272727272727337\n",
      "-0.009671179883945835\n",
      "-0.09132699969353353\n"
     ]
    },
    {
     "name": "stderr",
     "output_type": "stream",
     "text": [
      "13733it [07:31,  6.86it/s]"
     ]
    },
    {
     "name": "stdout",
     "output_type": "stream",
     "text": [
      "-0.005376344086021501\n",
      "-0.004048582995951455\n"
     ]
    },
    {
     "name": "stderr",
     "output_type": "stream",
     "text": [
      "\r",
      "13735it [07:31,  8.35it/s]"
     ]
    },
    {
     "name": "stdout",
     "output_type": "stream",
     "text": [
      "-0.00615199034981917\n",
      "0.015774458801812274\n"
     ]
    },
    {
     "name": "stderr",
     "output_type": "stream",
     "text": [
      "\r",
      "13737it [07:31,  8.65it/s]"
     ]
    },
    {
     "name": "stdout",
     "output_type": "stream",
     "text": [
      "0.011399371069182207\n",
      "0.0064639693559971345\n"
     ]
    },
    {
     "name": "stderr",
     "output_type": "stream",
     "text": [
      "13741it [07:32, 10.41it/s]"
     ]
    },
    {
     "name": "stdout",
     "output_type": "stream",
     "text": [
      "0.014260768335273566\n",
      "0.1453072891853262\n"
     ]
    },
    {
     "name": "stderr",
     "output_type": "stream",
     "text": [
      "\r",
      "13743it [07:32, 10.78it/s]"
     ]
    },
    {
     "name": "stdout",
     "output_type": "stream",
     "text": [
      "0.06173780487804881\n",
      "0.11237209302325568\n"
     ]
    },
    {
     "name": "stderr",
     "output_type": "stream",
     "text": [
      "\r",
      "13745it [07:32,  9.03it/s]"
     ]
    },
    {
     "name": "stdout",
     "output_type": "stream",
     "text": [
      "0.08856502242152464\n",
      "0.050233225690706984\n"
     ]
    },
    {
     "name": "stderr",
     "output_type": "stream",
     "text": [
      "\r",
      "13747it [07:32,  8.89it/s]"
     ]
    },
    {
     "name": "stdout",
     "output_type": "stream",
     "text": [
      "0.002272727272727204\n"
     ]
    },
    {
     "name": "stderr",
     "output_type": "stream",
     "text": [
      "13749it [07:33,  6.87it/s]"
     ]
    },
    {
     "name": "stdout",
     "output_type": "stream",
     "text": [
      "-0.06603307825228333\n",
      "-0.009072580645161255\n"
     ]
    },
    {
     "name": "stderr",
     "output_type": "stream",
     "text": [
      "\r",
      "13750it [07:33,  6.38it/s]"
     ]
    },
    {
     "name": "stdout",
     "output_type": "stream",
     "text": [
      "0.0073699421965316425\n"
     ]
    },
    {
     "name": "stderr",
     "output_type": "stream",
     "text": [
      "13752it [07:33,  6.38it/s]"
     ]
    },
    {
     "name": "stdout",
     "output_type": "stream",
     "text": [
      "0.012983266012694727\n",
      "0.008388520971302382\n"
     ]
    },
    {
     "name": "stderr",
     "output_type": "stream",
     "text": [
      "\r",
      "13755it [07:33,  8.17it/s]"
     ]
    },
    {
     "name": "stdout",
     "output_type": "stream",
     "text": [
      "0.058144972720186816\n",
      "0.021413575927221817\n"
     ]
    },
    {
     "name": "stderr",
     "output_type": "stream",
     "text": [
      "13760it [07:34, 10.00it/s]"
     ]
    },
    {
     "name": "stdout",
     "output_type": "stream",
     "text": [
      "-0.03337828725556291\n",
      "0.026315789473684292\n",
      "-0.14361508830583625\n"
     ]
    },
    {
     "name": "stderr",
     "output_type": "stream",
     "text": [
      "\r",
      "13762it [07:34,  6.59it/s]"
     ]
    },
    {
     "name": "stdout",
     "output_type": "stream",
     "text": [
      "-0.12888888888888894\n",
      "0.05837837837837845\n"
     ]
    },
    {
     "name": "stderr",
     "output_type": "stream",
     "text": [
      "13766it [07:35,  8.08it/s]"
     ]
    },
    {
     "name": "stdout",
     "output_type": "stream",
     "text": [
      "0.08510638297872353\n",
      "0.05692985428668251\n"
     ]
    },
    {
     "name": "stderr",
     "output_type": "stream",
     "text": [
      "\r",
      "13768it [07:35,  8.27it/s]"
     ]
    },
    {
     "name": "stdout",
     "output_type": "stream",
     "text": [
      "0.018785733732643806\n",
      "0.023768515328970174\n",
      "0.03932968536251713\n"
     ]
    },
    {
     "name": "stderr",
     "output_type": "stream",
     "text": [
      "13771it [07:35,  6.58it/s]"
     ]
    },
    {
     "name": "stdout",
     "output_type": "stream",
     "text": [
      "-0.0785391079508726\n",
      "0.1271055676996271\n"
     ]
    },
    {
     "name": "stderr",
     "output_type": "stream",
     "text": [
      "13773it [07:36,  6.88it/s]"
     ]
    },
    {
     "name": "stdout",
     "output_type": "stream",
     "text": [
      "0.03903810118675821\n",
      "0.02456912357902441\n"
     ]
    },
    {
     "name": "stderr",
     "output_type": "stream",
     "text": [
      "\r",
      "13774it [07:36,  6.93it/s]"
     ]
    },
    {
     "name": "stdout",
     "output_type": "stream",
     "text": [
      "-0.0600222304557243\n"
     ]
    },
    {
     "name": "stderr",
     "output_type": "stream",
     "text": [
      "13776it [07:36,  6.48it/s]"
     ]
    },
    {
     "name": "stdout",
     "output_type": "stream",
     "text": [
      "-0.07033730158730156\n",
      "-0.03939260563380287\n",
      "-0.0304422745548536\n"
     ]
    },
    {
     "name": "stderr",
     "output_type": "stream",
     "text": [
      "13779it [07:37,  7.75it/s]"
     ]
    },
    {
     "name": "stdout",
     "output_type": "stream",
     "text": [
      "0.06310854670032451\n",
      "-0.10531628532974424\n"
     ]
    },
    {
     "name": "stderr",
     "output_type": "stream",
     "text": [
      "\r",
      "13780it [07:37,  7.15it/s]"
     ]
    },
    {
     "name": "stdout",
     "output_type": "stream",
     "text": [
      "-0.08498971898560659\n"
     ]
    },
    {
     "name": "stderr",
     "output_type": "stream",
     "text": [
      "13782it [07:37,  5.40it/s]"
     ]
    },
    {
     "name": "stdout",
     "output_type": "stream",
     "text": [
      "-0.05876731963688486\n",
      "-0.07504363001745196\n"
     ]
    },
    {
     "name": "stderr",
     "output_type": "stream",
     "text": [
      "13784it [07:38,  5.59it/s]"
     ]
    },
    {
     "name": "stdout",
     "output_type": "stream",
     "text": [
      "-0.002624343914021443\n",
      "-0.0895040044962766\n"
     ]
    },
    {
     "name": "stderr",
     "output_type": "stream",
     "text": [
      "13786it [07:38,  5.57it/s]"
     ]
    },
    {
     "name": "stdout",
     "output_type": "stream",
     "text": [
      "0.022586359610274442\n",
      "0.02021706746116192\n"
     ]
    },
    {
     "name": "stderr",
     "output_type": "stream",
     "text": [
      "13788it [07:38,  6.46it/s]"
     ]
    },
    {
     "name": "stdout",
     "output_type": "stream",
     "text": [
      "0.0535475234270415\n",
      "0.05535872453498669\n"
     ]
    },
    {
     "name": "stderr",
     "output_type": "stream",
     "text": [
      "13790it [07:38,  7.50it/s]"
     ]
    },
    {
     "name": "stdout",
     "output_type": "stream",
     "text": [
      "0.019839594765723945\n",
      "-0.018060200668896242\n"
     ]
    },
    {
     "name": "stderr",
     "output_type": "stream",
     "text": [
      "13792it [07:39,  6.45it/s]"
     ]
    },
    {
     "name": "stdout",
     "output_type": "stream",
     "text": [
      "0.10650069156293229\n",
      "0.013175230566534912\n"
     ]
    },
    {
     "name": "stderr",
     "output_type": "stream",
     "text": [
      "\r",
      "13793it [07:39,  6.53it/s]"
     ]
    },
    {
     "name": "stdout",
     "output_type": "stream",
     "text": [
      "-0.01909917270963124\n"
     ]
    },
    {
     "name": "stderr",
     "output_type": "stream",
     "text": [
      "13795it [07:39,  5.71it/s]"
     ]
    },
    {
     "name": "stdout",
     "output_type": "stream",
     "text": [
      "-0.054508196721311464\n",
      "-0.02568283734203014\n"
     ]
    },
    {
     "name": "stderr",
     "output_type": "stream",
     "text": [
      "13797it [07:40,  6.66it/s]"
     ]
    },
    {
     "name": "stdout",
     "output_type": "stream",
     "text": [
      "-0.04313886606409201\n",
      "0.18665694495078355\n"
     ]
    },
    {
     "name": "stderr",
     "output_type": "stream",
     "text": [
      "\r",
      "13798it [07:40,  6.43it/s]"
     ]
    },
    {
     "name": "stdout",
     "output_type": "stream",
     "text": [
      "-0.14186436616343145\n"
     ]
    },
    {
     "name": "stderr",
     "output_type": "stream",
     "text": [
      "13801it [07:40,  7.32it/s]"
     ]
    },
    {
     "name": "stdout",
     "output_type": "stream",
     "text": [
      "0.12124876332856971\n",
      "-0.05018181818181833\n"
     ]
    },
    {
     "name": "stderr",
     "output_type": "stream",
     "text": [
      "\r",
      "13803it [07:40,  8.29it/s]"
     ]
    },
    {
     "name": "stdout",
     "output_type": "stream",
     "text": [
      "-0.059873506676036636\n",
      "0.008040626322471267\n"
     ]
    },
    {
     "name": "stderr",
     "output_type": "stream",
     "text": [
      "\r",
      "13805it [07:41,  8.00it/s]"
     ]
    },
    {
     "name": "stdout",
     "output_type": "stream",
     "text": [
      "0.04249717939074826\n",
      "0.11049723756906071\n"
     ]
    },
    {
     "name": "stderr",
     "output_type": "stream",
     "text": [
      "13808it [07:41,  7.44it/s]"
     ]
    },
    {
     "name": "stdout",
     "output_type": "stream",
     "text": [
      "0.016851918250269105\n",
      "-0.04291845493562241\n"
     ]
    },
    {
     "name": "stderr",
     "output_type": "stream",
     "text": [
      "13811it [07:41,  8.54it/s]"
     ]
    },
    {
     "name": "stdout",
     "output_type": "stream",
     "text": [
      "0.07102367455818603\n",
      "-0.08257575757575764\n"
     ]
    },
    {
     "name": "stderr",
     "output_type": "stream",
     "text": [
      "\r",
      "13813it [07:41,  8.42it/s]"
     ]
    },
    {
     "name": "stdout",
     "output_type": "stream",
     "text": [
      "-0.02612190221031474\n",
      "0.0067708333333333925\n"
     ]
    },
    {
     "name": "stderr",
     "output_type": "stream",
     "text": [
      "\r",
      "13815it [07:42,  8.48it/s]"
     ]
    },
    {
     "name": "stdout",
     "output_type": "stream",
     "text": [
      "-0.0008236101578584787\n",
      "0.003985507246376807\n"
     ]
    },
    {
     "name": "stderr",
     "output_type": "stream",
     "text": [
      "\r",
      "13816it [07:42,  8.07it/s]"
     ]
    },
    {
     "name": "stdout",
     "output_type": "stream",
     "text": [
      "0.07638633859713573\n"
     ]
    },
    {
     "name": "stderr",
     "output_type": "stream",
     "text": [
      "13818it [07:42,  6.19it/s]"
     ]
    },
    {
     "name": "stdout",
     "output_type": "stream",
     "text": [
      "0.06049290515309935\n",
      "0.03359557729109075\n"
     ]
    },
    {
     "name": "stderr",
     "output_type": "stream",
     "text": [
      "13820it [07:43,  6.33it/s]"
     ]
    },
    {
     "name": "stdout",
     "output_type": "stream",
     "text": [
      "-0.016985793699814566\n",
      "0.257686368103327\n"
     ]
    },
    {
     "name": "stderr",
     "output_type": "stream",
     "text": [
      "13822it [07:43,  6.74it/s]"
     ]
    },
    {
     "name": "stdout",
     "output_type": "stream",
     "text": [
      "0.0025358184354000723\n",
      "0.1211469534050178\n"
     ]
    },
    {
     "name": "stderr",
     "output_type": "stream",
     "text": [
      "13825it [07:43,  8.58it/s]"
     ]
    },
    {
     "name": "stdout",
     "output_type": "stream",
     "text": [
      "-0.02254986990459662\n",
      "-0.13770139634801282\n"
     ]
    },
    {
     "name": "stderr",
     "output_type": "stream",
     "text": [
      "\r",
      "13827it [07:43,  7.21it/s]"
     ]
    },
    {
     "name": "stdout",
     "output_type": "stream",
     "text": [
      "-0.12055682482333563\n",
      "-0.0835801604825247\n"
     ]
    },
    {
     "name": "stderr",
     "output_type": "stream",
     "text": [
      "\r",
      "13829it [07:44,  6.68it/s]"
     ]
    },
    {
     "name": "stdout",
     "output_type": "stream",
     "text": [
      "0.059910414333706585\n"
     ]
    },
    {
     "name": "stderr",
     "output_type": "stream",
     "text": [
      "\r",
      "13830it [07:44,  4.70it/s]"
     ]
    },
    {
     "name": "stdout",
     "output_type": "stream",
     "text": [
      "-0.000529380624669229\n"
     ]
    },
    {
     "name": "stderr",
     "output_type": "stream",
     "text": [
      "13832it [07:45,  4.66it/s]"
     ]
    },
    {
     "name": "stdout",
     "output_type": "stream",
     "text": [
      "0.2742672919109026\n",
      "0.4167330677290837\n",
      "0.07146638433033337\n"
     ]
    },
    {
     "name": "stderr",
     "output_type": "stream",
     "text": [
      "13835it [07:45,  5.08it/s]"
     ]
    },
    {
     "name": "stdout",
     "output_type": "stream",
     "text": [
      "0.2642906634332236\n",
      "-0.055459476456253376\n"
     ]
    },
    {
     "name": "stderr",
     "output_type": "stream",
     "text": [
      "\r",
      "13836it [07:45,  4.58it/s]"
     ]
    },
    {
     "name": "stdout",
     "output_type": "stream",
     "text": [
      "-0.04045143804862261\n"
     ]
    },
    {
     "name": "stderr",
     "output_type": "stream",
     "text": [
      "13838it [07:46,  4.19it/s]"
     ]
    },
    {
     "name": "stdout",
     "output_type": "stream",
     "text": [
      "0.03359557729109075\n",
      "0.27533097147119157\n"
     ]
    },
    {
     "name": "stderr",
     "output_type": "stream",
     "text": [
      "13840it [07:46,  4.85it/s]"
     ]
    },
    {
     "name": "stdout",
     "output_type": "stream",
     "text": [
      "-0.031502229957576344\n",
      "-0.07797681770284515\n"
     ]
    },
    {
     "name": "stderr",
     "output_type": "stream",
     "text": [
      "13842it [07:47,  6.09it/s]"
     ]
    },
    {
     "name": "stdout",
     "output_type": "stream",
     "text": [
      "-0.04764397905759166\n",
      "0.07492527785032355\n"
     ]
    },
    {
     "name": "stderr",
     "output_type": "stream",
     "text": [
      "13844it [07:47,  6.51it/s]"
     ]
    },
    {
     "name": "stdout",
     "output_type": "stream",
     "text": [
      "0.08158371834610212\n",
      "0.04305177111716607\n"
     ]
    },
    {
     "name": "stderr",
     "output_type": "stream",
     "text": [
      "\r",
      "13845it [07:47,  6.82it/s]"
     ]
    },
    {
     "name": "stdout",
     "output_type": "stream",
     "text": [
      "0.1657108361002111\n"
     ]
    },
    {
     "name": "stderr",
     "output_type": "stream",
     "text": [
      "13847it [07:47,  6.10it/s]"
     ]
    },
    {
     "name": "stdout",
     "output_type": "stream",
     "text": [
      "0.14743773260807336\n",
      "0.048823678219074074\n"
     ]
    },
    {
     "name": "stderr",
     "output_type": "stream",
     "text": [
      "13849it [07:48,  6.30it/s]"
     ]
    },
    {
     "name": "stdout",
     "output_type": "stream",
     "text": [
      "0.050483351235230955\n",
      "0.17251069028711052\n"
     ]
    },
    {
     "name": "stderr",
     "output_type": "stream",
     "text": [
      "\r",
      "13850it [07:48,  5.95it/s]"
     ]
    },
    {
     "name": "stdout",
     "output_type": "stream",
     "text": [
      "0.013744875813841206\n"
     ]
    },
    {
     "name": "stderr",
     "output_type": "stream",
     "text": [
      "13853it [07:48,  6.36it/s]"
     ]
    },
    {
     "name": "stdout",
     "output_type": "stream",
     "text": [
      "0.08017282765242428\n",
      "0.07999713699479893\n"
     ]
    },
    {
     "name": "stderr",
     "output_type": "stream",
     "text": [
      "13855it [07:49,  5.73it/s]"
     ]
    },
    {
     "name": "stdout",
     "output_type": "stream",
     "text": [
      "0.03192227619708543\n",
      "-0.006924852526288938\n"
     ]
    },
    {
     "name": "stderr",
     "output_type": "stream",
     "text": [
      "\r",
      "13856it [07:49,  5.04it/s]"
     ]
    },
    {
     "name": "stdout",
     "output_type": "stream",
     "text": [
      "-0.04373464373464364\n"
     ]
    },
    {
     "name": "stderr",
     "output_type": "stream",
     "text": [
      "\r",
      "13857it [07:49,  4.96it/s]"
     ]
    },
    {
     "name": "stdout",
     "output_type": "stream",
     "text": [
      "0.008551624808713632\n"
     ]
    },
    {
     "name": "stderr",
     "output_type": "stream",
     "text": [
      "13860it [07:50,  5.30it/s]"
     ]
    },
    {
     "name": "stdout",
     "output_type": "stream",
     "text": [
      "0.0514994644769724\n",
      "0.03166496424923393\n",
      "0.004602011249360993\n"
     ]
    },
    {
     "name": "stderr",
     "output_type": "stream",
     "text": [
      "13862it [07:50,  5.77it/s]"
     ]
    },
    {
     "name": "stdout",
     "output_type": "stream",
     "text": [
      "-0.01980728051391878\n",
      "-0.008572128337007157\n"
     ]
    },
    {
     "name": "stderr",
     "output_type": "stream",
     "text": [
      "13864it [07:50,  6.39it/s]"
     ]
    },
    {
     "name": "stdout",
     "output_type": "stream",
     "text": [
      "-0.03609778387023088\n",
      "-0.01730103806228378\n"
     ]
    },
    {
     "name": "stderr",
     "output_type": "stream",
     "text": [
      "\r",
      "13865it [07:50,  6.31it/s]"
     ]
    },
    {
     "name": "stdout",
     "output_type": "stream",
     "text": [
      "-0.009214230867673368\n"
     ]
    },
    {
     "name": "stderr",
     "output_type": "stream",
     "text": [
      "13867it [07:51,  5.82it/s]"
     ]
    },
    {
     "name": "stdout",
     "output_type": "stream",
     "text": [
      "0.001240837335416689\n",
      "0.008044361137144573\n"
     ]
    },
    {
     "name": "stderr",
     "output_type": "stream",
     "text": [
      "13869it [07:51,  6.50it/s]"
     ]
    },
    {
     "name": "stdout",
     "output_type": "stream",
     "text": [
      "-0.012790697674418539\n",
      "-0.0033566433566433185\n"
     ]
    },
    {
     "name": "stderr",
     "output_type": "stream",
     "text": [
      "13871it [07:51,  6.97it/s]"
     ]
    },
    {
     "name": "stdout",
     "output_type": "stream",
     "text": [
      "-0.018531591951994386\n",
      "-0.033103231879510475\n"
     ]
    },
    {
     "name": "stderr",
     "output_type": "stream",
     "text": [
      "13873it [07:52,  6.70it/s]"
     ]
    },
    {
     "name": "stdout",
     "output_type": "stream",
     "text": [
      "-0.0017055144968731728\n",
      "-0.03427307904919852\n"
     ]
    },
    {
     "name": "stderr",
     "output_type": "stream",
     "text": [
      "13876it [07:52,  7.30it/s]"
     ]
    },
    {
     "name": "stdout",
     "output_type": "stream",
     "text": [
      "-0.008748317631224745\n",
      "0.002308136180034559\n"
     ]
    },
    {
     "name": "stderr",
     "output_type": "stream",
     "text": [
      "13879it [07:52,  8.89it/s]"
     ]
    },
    {
     "name": "stdout",
     "output_type": "stream",
     "text": [
      "0.035758323057953234\n",
      "-0.002589331952356222\n"
     ]
    },
    {
     "name": "stderr",
     "output_type": "stream",
     "text": [
      "13881it [07:53,  7.12it/s]"
     ]
    },
    {
     "name": "stdout",
     "output_type": "stream",
     "text": [
      "0.0038610038610038533\n",
      "-0.009340659340659418\n"
     ]
    },
    {
     "name": "stderr",
     "output_type": "stream",
     "text": [
      "13883it [07:53,  6.15it/s]"
     ]
    },
    {
     "name": "stdout",
     "output_type": "stream",
     "text": [
      "-0.008026570716855863\n",
      "-0.0064550833781603645\n"
     ]
    },
    {
     "name": "stderr",
     "output_type": "stream",
     "text": [
      "13885it [07:53,  6.67it/s]"
     ]
    },
    {
     "name": "stdout",
     "output_type": "stream",
     "text": [
      "0.028087864602088564\n",
      "-0.0035724100027481054\n"
     ]
    },
    {
     "name": "stderr",
     "output_type": "stream",
     "text": [
      "13888it [07:54,  7.63it/s]"
     ]
    },
    {
     "name": "stdout",
     "output_type": "stream",
     "text": [
      "-0.017743979721166037\n",
      "-0.010342084327764622\n"
     ]
    },
    {
     "name": "stderr",
     "output_type": "stream",
     "text": [
      "13890it [07:54,  7.86it/s]"
     ]
    },
    {
     "name": "stdout",
     "output_type": "stream",
     "text": [
      "-0.0027292576419214454\n",
      "0.008451425644527832\n"
     ]
    },
    {
     "name": "stderr",
     "output_type": "stream",
     "text": [
      "13894it [07:54,  9.25it/s]"
     ]
    },
    {
     "name": "stdout",
     "output_type": "stream",
     "text": [
      "-0.0033222591362124243\n",
      "-0.0423572744014733\n"
     ]
    },
    {
     "name": "stderr",
     "output_type": "stream",
     "text": [
      "\r",
      "13896it [07:54,  8.46it/s]"
     ]
    },
    {
     "name": "stdout",
     "output_type": "stream",
     "text": [
      "-0.15905433840821903\n",
      "-0.010204081632653184\n"
     ]
    },
    {
     "name": "stderr",
     "output_type": "stream",
     "text": [
      "\r",
      "13898it [07:55,  8.06it/s]"
     ]
    },
    {
     "name": "stdout",
     "output_type": "stream",
     "text": [
      "-0.026472534745201837\n",
      "0.0625651720542233\n"
     ]
    },
    {
     "name": "stderr",
     "output_type": "stream",
     "text": [
      "\r",
      "13900it [07:55,  9.00it/s]"
     ]
    },
    {
     "name": "stdout",
     "output_type": "stream",
     "text": [
      "0.0625651720542233\n",
      "0.017400761283306254\n"
     ]
    },
    {
     "name": "stderr",
     "output_type": "stream",
     "text": [
      "13903it [07:55,  8.02it/s]"
     ]
    },
    {
     "name": "stdout",
     "output_type": "stream",
     "text": [
      "0.013366208149494074\n",
      "0.009494689411007284\n"
     ]
    },
    {
     "name": "stderr",
     "output_type": "stream",
     "text": [
      "13905it [07:55,  7.80it/s]"
     ]
    },
    {
     "name": "stdout",
     "output_type": "stream",
     "text": [
      "0.0\n",
      "0.034782608695652195\n"
     ]
    },
    {
     "name": "stderr",
     "output_type": "stream",
     "text": [
      "13907it [07:56,  7.25it/s]"
     ]
    },
    {
     "name": "stdout",
     "output_type": "stream",
     "text": [
      "-0.022506082725060716\n",
      "0.13921562875832327\n"
     ]
    },
    {
     "name": "stderr",
     "output_type": "stream",
     "text": [
      "13911it [07:56,  9.16it/s]"
     ]
    },
    {
     "name": "stdout",
     "output_type": "stream",
     "text": [
      "0.02151101783840481\n",
      "-0.02304453800132955\n"
     ]
    },
    {
     "name": "stderr",
     "output_type": "stream",
     "text": [
      "\r",
      "13913it [07:56, 10.37it/s]"
     ]
    },
    {
     "name": "stdout",
     "output_type": "stream",
     "text": [
      "-0.011589141133513281\n",
      "-0.0011441647597253413\n"
     ]
    },
    {
     "name": "stderr",
     "output_type": "stream",
     "text": [
      "\r",
      "13915it [07:56,  9.34it/s]"
     ]
    },
    {
     "name": "stdout",
     "output_type": "stream",
     "text": [
      "0.010133333333333328\n",
      "-0.018373346398824153\n"
     ]
    },
    {
     "name": "stderr",
     "output_type": "stream",
     "text": [
      "13920it [07:57, 11.04it/s]"
     ]
    },
    {
     "name": "stdout",
     "output_type": "stream",
     "text": [
      "-0.027027027027027195\n",
      "0.040479760119940034\n"
     ]
    },
    {
     "name": "stderr",
     "output_type": "stream",
     "text": [
      "13924it [07:57, 11.72it/s]"
     ]
    },
    {
     "name": "stdout",
     "output_type": "stream",
     "text": [
      "0.009684113442471665\n",
      "-0.023998777132375415\n",
      "-0.05379587732528901\n"
     ]
    },
    {
     "name": "stderr",
     "output_type": "stream",
     "text": [
      "\r",
      "13926it [07:57, 10.43it/s]"
     ]
    },
    {
     "name": "stdout",
     "output_type": "stream",
     "text": [
      "-0.02840909090909094\n",
      "-0.05864811133200787\n"
     ]
    },
    {
     "name": "stderr",
     "output_type": "stream",
     "text": [
      "\r",
      "13928it [07:58, 11.26it/s]"
     ]
    },
    {
     "name": "stdout",
     "output_type": "stream",
     "text": [
      "0.004727544165215258\n",
      "-0.02423529411764702\n"
     ]
    },
    {
     "name": "stderr",
     "output_type": "stream",
     "text": [
      "\r",
      "13930it [07:58,  9.69it/s]"
     ]
    },
    {
     "name": "stdout",
     "output_type": "stream",
     "text": [
      "-0.039716312056737646\n",
      "-0.012009006755066332\n"
     ]
    },
    {
     "name": "stderr",
     "output_type": "stream",
     "text": [
      "13933it [07:58,  7.71it/s]"
     ]
    },
    {
     "name": "stdout",
     "output_type": "stream",
     "text": [
      "-0.1707197248833211\n",
      "-0.0025316455696203777\n"
     ]
    },
    {
     "name": "stderr",
     "output_type": "stream",
     "text": [
      "13935it [07:59,  7.74it/s]"
     ]
    },
    {
     "name": "stdout",
     "output_type": "stream",
     "text": [
      "0.013664484353414386\n",
      "0.10406091370558368\n"
     ]
    },
    {
     "name": "stderr",
     "output_type": "stream",
     "text": [
      "13937it [07:59,  7.63it/s]"
     ]
    },
    {
     "name": "stdout",
     "output_type": "stream",
     "text": [
      "0.07217473884140557\n",
      "0.21914357682619645\n"
     ]
    },
    {
     "name": "stderr",
     "output_type": "stream",
     "text": [
      "\r",
      "13938it [07:59,  7.32it/s]"
     ]
    },
    {
     "name": "stdout",
     "output_type": "stream",
     "text": [
      "0.018650229176544686\n",
      "-0.17792534920998393\n"
     ]
    },
    {
     "name": "stderr",
     "output_type": "stream",
     "text": [
      "13941it [07:59,  7.39it/s]"
     ]
    },
    {
     "name": "stdout",
     "output_type": "stream",
     "text": [
      "-0.23972902097902105\n",
      "-0.11648846370287003\n"
     ]
    },
    {
     "name": "stderr",
     "output_type": "stream",
     "text": [
      "13944it [08:00,  8.51it/s]"
     ]
    },
    {
     "name": "stdout",
     "output_type": "stream",
     "text": [
      "0.024311183144246407\n",
      "0.023498694516971286\n"
     ]
    },
    {
     "name": "stderr",
     "output_type": "stream",
     "text": [
      "13946it [08:00,  7.87it/s]"
     ]
    },
    {
     "name": "stdout",
     "output_type": "stream",
     "text": [
      "-0.004778156996586902\n",
      "0.015665796344647598\n"
     ]
    },
    {
     "name": "stderr",
     "output_type": "stream",
     "text": [
      "13948it [08:00,  7.41it/s]"
     ]
    },
    {
     "name": "stdout",
     "output_type": "stream",
     "text": [
      "0.06982990152193391\n",
      "-0.06388160359685269\n"
     ]
    },
    {
     "name": "stderr",
     "output_type": "stream",
     "text": [
      "\r",
      "13951it [08:00,  9.25it/s]"
     ]
    },
    {
     "name": "stdout",
     "output_type": "stream",
     "text": [
      "-0.07354956601187757\n",
      "0.029194953526995304\n"
     ]
    },
    {
     "name": "stderr",
     "output_type": "stream",
     "text": [
      "13955it [08:01,  8.68it/s]"
     ]
    },
    {
     "name": "stdout",
     "output_type": "stream",
     "text": [
      "0.07258472432979257\n",
      "0.028627195836044228\n"
     ]
    },
    {
     "name": "stderr",
     "output_type": "stream",
     "text": [
      "\r",
      "13957it [08:01,  7.85it/s]"
     ]
    },
    {
     "name": "stdout",
     "output_type": "stream",
     "text": [
      "-0.036809815950920366\n",
      "0.02080783353733162\n"
     ]
    },
    {
     "name": "stderr",
     "output_type": "stream",
     "text": [
      "\r",
      "13960it [08:01,  9.60it/s]"
     ]
    },
    {
     "name": "stdout",
     "output_type": "stream",
     "text": [
      "0.11043872919818476\n",
      "0.10883674488267592\n"
     ]
    },
    {
     "name": "stderr",
     "output_type": "stream",
     "text": [
      "\r",
      "13962it [08:02,  8.88it/s]"
     ]
    },
    {
     "name": "stdout",
     "output_type": "stream",
     "text": [
      "-0.004187020237264583\n",
      "0.005674490585504177\n"
     ]
    },
    {
     "name": "stderr",
     "output_type": "stream",
     "text": [
      "13965it [08:02,  7.42it/s]"
     ]
    },
    {
     "name": "stdout",
     "output_type": "stream",
     "text": [
      "-0.025588536335721557\n",
      "-0.03187499999999999\n"
     ]
    },
    {
     "name": "stderr",
     "output_type": "stream",
     "text": [
      "13967it [08:02,  8.15it/s]"
     ]
    },
    {
     "name": "stdout",
     "output_type": "stream",
     "text": [
      "0.056606773731912696\n",
      "0.1684141546526865\n"
     ]
    },
    {
     "name": "stderr",
     "output_type": "stream",
     "text": [
      "13971it [08:03,  9.59it/s]"
     ]
    },
    {
     "name": "stdout",
     "output_type": "stream",
     "text": [
      "0.11751412429378538\n",
      "-0.03016380343587688\n",
      "-0.03016380343587688\n"
     ]
    },
    {
     "name": "stderr",
     "output_type": "stream",
     "text": [
      "\r",
      "13973it [08:03,  7.87it/s]"
     ]
    },
    {
     "name": "stdout",
     "output_type": "stream",
     "text": [
      "-0.026919242273180433\n",
      "-0.026996197718631154\n"
     ]
    },
    {
     "name": "stderr",
     "output_type": "stream",
     "text": [
      "13975it [08:03,  7.63it/s]"
     ]
    },
    {
     "name": "stdout",
     "output_type": "stream",
     "text": [
      "-0.03611007346532191\n",
      "-0.020023557126030656\n"
     ]
    },
    {
     "name": "stderr",
     "output_type": "stream",
     "text": [
      "13979it [08:03,  9.98it/s]"
     ]
    },
    {
     "name": "stdout",
     "output_type": "stream",
     "text": [
      "0.1618942731277535\n",
      "0.04082661290322598\n"
     ]
    },
    {
     "name": "stderr",
     "output_type": "stream",
     "text": [
      "\r",
      "13981it [08:04, 10.18it/s]"
     ]
    },
    {
     "name": "stdout",
     "output_type": "stream",
     "text": [
      "-0.024578313253012074\n",
      "-0.011975223675155022\n",
      "-0.028042959427207692\n"
     ]
    },
    {
     "name": "stderr",
     "output_type": "stream",
     "text": [
      "13987it [08:04, 12.10it/s]"
     ]
    },
    {
     "name": "stdout",
     "output_type": "stream",
     "text": [
      "0.05351386202450037\n",
      "-0.03310562270099837\n",
      "-0.048114593535749095\n"
     ]
    },
    {
     "name": "stderr",
     "output_type": "stream",
     "text": [
      "\r",
      "13989it [08:04, 11.16it/s]"
     ]
    },
    {
     "name": "stdout",
     "output_type": "stream",
     "text": [
      "-0.01062045835662384\n",
      "0.028589993502274202\n",
      "-0.09094903339191562\n"
     ]
    },
    {
     "name": "stderr",
     "output_type": "stream",
     "text": [
      "\r",
      "13992it [08:04, 11.73it/s]"
     ]
    },
    {
     "name": "stdout",
     "output_type": "stream",
     "text": [
      "-0.08771929824561409\n",
      "-0.04934770277935341\n"
     ]
    },
    {
     "name": "stderr",
     "output_type": "stream",
     "text": [
      "13996it [08:05, 10.36it/s]"
     ]
    },
    {
     "name": "stdout",
     "output_type": "stream",
     "text": [
      "0.06112746207833375\n",
      "-0.04016298020954612\n",
      "0.021432305279665442\n"
     ]
    },
    {
     "name": "stderr",
     "output_type": "stream",
     "text": [
      "\r",
      "13998it [08:05, 12.01it/s]"
     ]
    },
    {
     "name": "stdout",
     "output_type": "stream",
     "text": [
      "0.031509295242096336\n",
      "-0.013498723093761544\n"
     ]
    },
    {
     "name": "stderr",
     "output_type": "stream",
     "text": [
      "\r",
      "14000it [08:05,  9.75it/s]"
     ]
    },
    {
     "name": "stdout",
     "output_type": "stream",
     "text": [
      "0.11311053984575836\n",
      "0.11619150080688545\n"
     ]
    },
    {
     "name": "stderr",
     "output_type": "stream",
     "text": [
      "\r",
      "14002it [08:06,  8.57it/s]"
     ]
    },
    {
     "name": "stdout",
     "output_type": "stream",
     "text": [
      "0.1338947368421053\n",
      "0.16447876447876464\n"
     ]
    },
    {
     "name": "stderr",
     "output_type": "stream",
     "text": [
      "14006it [08:06,  9.14it/s]"
     ]
    },
    {
     "name": "stdout",
     "output_type": "stream",
     "text": [
      "0.028731343283581845\n",
      "-0.0429271103428408\n"
     ]
    },
    {
     "name": "stderr",
     "output_type": "stream",
     "text": [
      "\r",
      "14008it [08:06,  8.22it/s]"
     ]
    },
    {
     "name": "stdout",
     "output_type": "stream",
     "text": [
      "0.059003496503496455\n",
      "0.10735930735930732\n"
     ]
    },
    {
     "name": "stderr",
     "output_type": "stream",
     "text": [
      "14012it [08:07,  9.47it/s]"
     ]
    },
    {
     "name": "stdout",
     "output_type": "stream",
     "text": [
      "-0.012496449872195448\n",
      "0.027568922305764465\n"
     ]
    },
    {
     "name": "stderr",
     "output_type": "stream",
     "text": [
      "\r",
      "14014it [08:07,  8.48it/s]"
     ]
    },
    {
     "name": "stdout",
     "output_type": "stream",
     "text": [
      "-0.014248704663212486\n",
      "0.09302325581395365\n"
     ]
    },
    {
     "name": "stderr",
     "output_type": "stream",
     "text": [
      "14017it [08:07,  8.25it/s]"
     ]
    },
    {
     "name": "stdout",
     "output_type": "stream",
     "text": [
      "0.060434782608695725\n",
      "0.05979412655161975\n"
     ]
    },
    {
     "name": "stderr",
     "output_type": "stream",
     "text": [
      "14019it [08:08,  7.48it/s]"
     ]
    },
    {
     "name": "stdout",
     "output_type": "stream",
     "text": [
      "0.025046335721083945\n",
      "-0.1708185053380783\n"
     ]
    },
    {
     "name": "stderr",
     "output_type": "stream",
     "text": [
      "14021it [08:08,  7.17it/s]"
     ]
    },
    {
     "name": "stdout",
     "output_type": "stream",
     "text": [
      "-0.024390243902439046\n",
      "0.021468144044321402\n"
     ]
    },
    {
     "name": "stderr",
     "output_type": "stream",
     "text": [
      "14024it [08:08,  7.51it/s]"
     ]
    },
    {
     "name": "stdout",
     "output_type": "stream",
     "text": [
      "0.04814004376367609\n",
      "-0.02821718683197949\n"
     ]
    },
    {
     "name": "stderr",
     "output_type": "stream",
     "text": [
      "14026it [08:09,  7.10it/s]"
     ]
    },
    {
     "name": "stdout",
     "output_type": "stream",
     "text": [
      "0.005327019828351709\n",
      "0.07052441229656425\n"
     ]
    },
    {
     "name": "stderr",
     "output_type": "stream",
     "text": [
      "14028it [08:09,  7.08it/s]"
     ]
    },
    {
     "name": "stdout",
     "output_type": "stream",
     "text": [
      "0.022979397781299538\n",
      "-0.08354011579818033\n"
     ]
    },
    {
     "name": "stderr",
     "output_type": "stream",
     "text": [
      "14032it [08:09,  8.43it/s]"
     ]
    },
    {
     "name": "stdout",
     "output_type": "stream",
     "text": [
      "-0.018151815181518094\n",
      "0.014528508771929793\n"
     ]
    },
    {
     "name": "stderr",
     "output_type": "stream",
     "text": [
      "\r",
      "14034it [08:09,  8.27it/s]"
     ]
    },
    {
     "name": "stdout",
     "output_type": "stream",
     "text": [
      "-0.01613120043016536\n",
      "-0.04562268803945735\n"
     ]
    },
    {
     "name": "stderr",
     "output_type": "stream",
     "text": [
      "\r",
      "14036it [08:10,  9.28it/s]"
     ]
    },
    {
     "name": "stdout",
     "output_type": "stream",
     "text": [
      "0.02750000000000008\n",
      "0.08310249307479234\n"
     ]
    },
    {
     "name": "stderr",
     "output_type": "stream",
     "text": [
      "14039it [08:10,  7.71it/s]"
     ]
    },
    {
     "name": "stdout",
     "output_type": "stream",
     "text": [
      "0.0017441860465117198\n",
      "0.21305418719211833\n"
     ]
    },
    {
     "name": "stderr",
     "output_type": "stream",
     "text": [
      "14041it [08:10,  7.34it/s]"
     ]
    },
    {
     "name": "stdout",
     "output_type": "stream",
     "text": [
      "0.011659436008676805\n",
      "0.03211586901763219\n"
     ]
    },
    {
     "name": "stderr",
     "output_type": "stream",
     "text": [
      "14043it [08:11,  6.61it/s]"
     ]
    },
    {
     "name": "stdout",
     "output_type": "stream",
     "text": [
      "-0.02477713686418459\n",
      "0.00108108108108107\n"
     ]
    },
    {
     "name": "stderr",
     "output_type": "stream",
     "text": [
      "14045it [08:11,  6.78it/s]"
     ]
    },
    {
     "name": "stdout",
     "output_type": "stream",
     "text": [
      "-0.04180887372013653\n",
      "-0.047244094488189003\n"
     ]
    },
    {
     "name": "stderr",
     "output_type": "stream",
     "text": [
      "14047it [08:11,  6.89it/s]"
     ]
    },
    {
     "name": "stdout",
     "output_type": "stream",
     "text": [
      "-0.04156795175533057\n",
      "0.0015267175572519776\n"
     ]
    },
    {
     "name": "stderr",
     "output_type": "stream",
     "text": [
      "14049it [08:12,  6.04it/s]"
     ]
    },
    {
     "name": "stdout",
     "output_type": "stream",
     "text": [
      "0.0183486238532109\n",
      "0.004521963824289488\n"
     ]
    },
    {
     "name": "stderr",
     "output_type": "stream",
     "text": [
      "\r",
      "14050it [08:12,  5.87it/s]"
     ]
    },
    {
     "name": "stdout",
     "output_type": "stream",
     "text": [
      "-0.029488859764089104\n"
     ]
    },
    {
     "name": "stderr",
     "output_type": "stream",
     "text": [
      "14053it [08:12,  6.46it/s]"
     ]
    },
    {
     "name": "stdout",
     "output_type": "stream",
     "text": [
      "-0.047334754797441314\n",
      "0.04769828064337234\n"
     ]
    },
    {
     "name": "stderr",
     "output_type": "stream",
     "text": [
      "14057it [08:12,  8.72it/s]"
     ]
    },
    {
     "name": "stdout",
     "output_type": "stream",
     "text": [
      "0.007328784432651059\n",
      "0.051249684423125386\n"
     ]
    },
    {
     "name": "stderr",
     "output_type": "stream",
     "text": [
      "\r",
      "14059it [08:13,  7.84it/s]"
     ]
    },
    {
     "name": "stdout",
     "output_type": "stream",
     "text": [
      "0.027599991262369228\n",
      "-0.059067357512953444\n"
     ]
    },
    {
     "name": "stderr",
     "output_type": "stream",
     "text": [
      "14061it [08:13,  6.90it/s]"
     ]
    },
    {
     "name": "stdout",
     "output_type": "stream",
     "text": [
      "-0.08795712484237062\n",
      "-0.023500810372771408\n"
     ]
    },
    {
     "name": "stderr",
     "output_type": "stream",
     "text": [
      "\r",
      "14062it [08:13,  6.72it/s]"
     ]
    },
    {
     "name": "stdout",
     "output_type": "stream",
     "text": [
      "0.04388155547627548\n"
     ]
    },
    {
     "name": "stderr",
     "output_type": "stream",
     "text": [
      "14064it [08:14,  5.26it/s]"
     ]
    },
    {
     "name": "stdout",
     "output_type": "stream",
     "text": [
      "0.04797325179079692\n",
      "0.06761069006781018\n"
     ]
    },
    {
     "name": "stderr",
     "output_type": "stream",
     "text": [
      "14066it [08:14,  5.98it/s]"
     ]
    },
    {
     "name": "stdout",
     "output_type": "stream",
     "text": [
      "-0.03791469194312802\n",
      "-0.045956214944816276\n"
     ]
    },
    {
     "name": "stderr",
     "output_type": "stream",
     "text": [
      "14068it [08:14,  5.76it/s]"
     ]
    },
    {
     "name": "stdout",
     "output_type": "stream",
     "text": [
      "0.008325624421831712\n",
      "0.10507624817213279\n"
     ]
    },
    {
     "name": "stderr",
     "output_type": "stream",
     "text": [
      "14070it [08:15,  6.07it/s]"
     ]
    },
    {
     "name": "stdout",
     "output_type": "stream",
     "text": [
      "-0.038385437277403955\n",
      "0.022739955357143016\n"
     ]
    },
    {
     "name": "stderr",
     "output_type": "stream",
     "text": [
      "14072it [08:15,  6.33it/s]"
     ]
    },
    {
     "name": "stdout",
     "output_type": "stream",
     "text": [
      "-0.04675894665766378\n",
      "0.000983772439380859\n"
     ]
    },
    {
     "name": "stderr",
     "output_type": "stream",
     "text": [
      "14075it [08:15,  7.33it/s]"
     ]
    },
    {
     "name": "stdout",
     "output_type": "stream",
     "text": [
      "0.004686686339177237\n",
      "0.18195519261191162\n"
     ]
    },
    {
     "name": "stderr",
     "output_type": "stream",
     "text": [
      "14077it [08:16,  6.47it/s]"
     ]
    },
    {
     "name": "stdout",
     "output_type": "stream",
     "text": [
      "-0.10066037735849054\n",
      "-0.004113018597997287\n"
     ]
    },
    {
     "name": "stderr",
     "output_type": "stream",
     "text": [
      "14079it [08:16,  6.22it/s]"
     ]
    },
    {
     "name": "stdout",
     "output_type": "stream",
     "text": [
      "-0.0022288261515599483\n",
      "-0.07339874733510776\n"
     ]
    },
    {
     "name": "stderr",
     "output_type": "stream",
     "text": [
      "14082it [08:16,  7.39it/s]"
     ]
    },
    {
     "name": "stdout",
     "output_type": "stream",
     "text": [
      "-0.03911753800519102\n",
      "0.16442417331812997\n"
     ]
    },
    {
     "name": "stderr",
     "output_type": "stream",
     "text": [
      "14084it [08:17,  6.82it/s]"
     ]
    },
    {
     "name": "stdout",
     "output_type": "stream",
     "text": [
      "-0.03670698069170386\n",
      "-0.19723646088700686\n"
     ]
    },
    {
     "name": "stderr",
     "output_type": "stream",
     "text": [
      "14086it [08:17,  6.23it/s]"
     ]
    },
    {
     "name": "stdout",
     "output_type": "stream",
     "text": [
      "-0.07371844509834302\n",
      "0.017243666268735858\n"
     ]
    },
    {
     "name": "stderr",
     "output_type": "stream",
     "text": [
      "14088it [08:17,  6.35it/s]"
     ]
    },
    {
     "name": "stdout",
     "output_type": "stream",
     "text": [
      "0.3267626990144048\n",
      "0.05066019940716804\n"
     ]
    },
    {
     "name": "stderr",
     "output_type": "stream",
     "text": [
      "14090it [08:18,  6.00it/s]"
     ]
    },
    {
     "name": "stdout",
     "output_type": "stream",
     "text": [
      "0.03719436386241193\n",
      "0.16509136735979846\n"
     ]
    },
    {
     "name": "stderr",
     "output_type": "stream",
     "text": [
      "14092it [08:18,  5.97it/s]"
     ]
    },
    {
     "name": "stdout",
     "output_type": "stream",
     "text": [
      "0.13728265264860484\n",
      "-0.17496071241487698\n"
     ]
    },
    {
     "name": "stderr",
     "output_type": "stream",
     "text": [
      "14094it [08:18,  5.73it/s]"
     ]
    },
    {
     "name": "stdout",
     "output_type": "stream",
     "text": [
      "0.11972238288027759\n",
      "0.26201298701298703\n"
     ]
    },
    {
     "name": "stderr",
     "output_type": "stream",
     "text": [
      "14096it [08:19,  5.91it/s]"
     ]
    },
    {
     "name": "stdout",
     "output_type": "stream",
     "text": [
      "0.05832492431886993\n",
      "0.08257713248638843\n"
     ]
    },
    {
     "name": "stderr",
     "output_type": "stream",
     "text": [
      "14098it [08:19,  5.94it/s]"
     ]
    },
    {
     "name": "stdout",
     "output_type": "stream",
     "text": [
      "0.07357723577235764\n",
      "0.02853576405016245\n"
     ]
    },
    {
     "name": "stderr",
     "output_type": "stream",
     "text": [
      "14100it [08:19,  6.11it/s]"
     ]
    },
    {
     "name": "stdout",
     "output_type": "stream",
     "text": [
      "0.08502024291497956\n",
      "-0.07638402242466713\n"
     ]
    },
    {
     "name": "stderr",
     "output_type": "stream",
     "text": [
      "14103it [08:20,  7.02it/s]"
     ]
    },
    {
     "name": "stdout",
     "output_type": "stream",
     "text": [
      "-0.20612536497484002\n",
      "-0.11652415987273812\n"
     ]
    },
    {
     "name": "stderr",
     "output_type": "stream",
     "text": [
      "14105it [08:20,  6.72it/s]"
     ]
    },
    {
     "name": "stdout",
     "output_type": "stream",
     "text": [
      "-0.09142270159219301\n",
      "-0.040947885478044954\n"
     ]
    },
    {
     "name": "stderr",
     "output_type": "stream",
     "text": [
      "14109it [08:20,  8.45it/s]"
     ]
    },
    {
     "name": "stdout",
     "output_type": "stream",
     "text": [
      "-0.03837495980276551\n",
      "0.34713076199435555\n"
     ]
    },
    {
     "name": "stderr",
     "output_type": "stream",
     "text": [
      "14113it [08:21, 10.01it/s]"
     ]
    },
    {
     "name": "stdout",
     "output_type": "stream",
     "text": [
      "-0.11714890613973195\n",
      "-0.061003163126976845\n"
     ]
    },
    {
     "name": "stderr",
     "output_type": "stream",
     "text": [
      "14117it [08:21, 10.48it/s]"
     ]
    },
    {
     "name": "stdout",
     "output_type": "stream",
     "text": [
      "0.06694970607446105\n",
      "0.289568345323741\n"
     ]
    },
    {
     "name": "stderr",
     "output_type": "stream",
     "text": [
      "\r",
      "14119it [08:21,  8.64it/s]"
     ]
    },
    {
     "name": "stdout",
     "output_type": "stream",
     "text": [
      "-0.08840327787434821\n",
      "0.0032938076416337836\n"
     ]
    },
    {
     "name": "stderr",
     "output_type": "stream",
     "text": [
      "14121it [08:22,  7.40it/s]"
     ]
    },
    {
     "name": "stdout",
     "output_type": "stream",
     "text": [
      "-0.05450782787322861\n",
      "0.05910636800750568\n"
     ]
    },
    {
     "name": "stderr",
     "output_type": "stream",
     "text": [
      "14123it [08:22,  6.17it/s]"
     ]
    },
    {
     "name": "stdout",
     "output_type": "stream",
     "text": [
      "-0.07854889589905356\n",
      "-0.3145676691729322\n"
     ]
    },
    {
     "name": "stderr",
     "output_type": "stream",
     "text": [
      "14125it [08:22,  5.92it/s]"
     ]
    },
    {
     "name": "stdout",
     "output_type": "stream",
     "text": [
      "0.01642857142857146\n",
      "0.12537764350453173\n"
     ]
    },
    {
     "name": "stderr",
     "output_type": "stream",
     "text": [
      "14127it [08:23,  6.51it/s]"
     ]
    },
    {
     "name": "stdout",
     "output_type": "stream",
     "text": [
      "0.2641323481659139\n",
      "0.03351712759953118\n"
     ]
    },
    {
     "name": "stderr",
     "output_type": "stream",
     "text": [
      "14129it [08:23,  6.67it/s]"
     ]
    },
    {
     "name": "stdout",
     "output_type": "stream",
     "text": [
      "-0.10215033823878483\n",
      "-0.05506216696269972\n"
     ]
    },
    {
     "name": "stderr",
     "output_type": "stream",
     "text": [
      "\r",
      "14130it [08:23,  6.02it/s]"
     ]
    },
    {
     "name": "stdout",
     "output_type": "stream",
     "text": [
      "-0.13350958360872434\n"
     ]
    },
    {
     "name": "stderr",
     "output_type": "stream",
     "text": [
      "14132it [08:24,  5.55it/s]"
     ]
    },
    {
     "name": "stdout",
     "output_type": "stream",
     "text": [
      "0.05229509809113808\n",
      "0.12448380516443591\n"
     ]
    },
    {
     "name": "stderr",
     "output_type": "stream",
     "text": [
      "14134it [08:24,  5.99it/s]"
     ]
    },
    {
     "name": "stdout",
     "output_type": "stream",
     "text": [
      "-0.24558930325943018\n",
      "0.4111711711711714\n"
     ]
    },
    {
     "name": "stderr",
     "output_type": "stream",
     "text": [
      "\r",
      "14135it [08:24,  5.85it/s]"
     ]
    },
    {
     "name": "stdout",
     "output_type": "stream",
     "text": [
      "0.006343472418546936\n"
     ]
    },
    {
     "name": "stderr",
     "output_type": "stream",
     "text": [
      "14139it [08:24,  6.06it/s]"
     ]
    },
    {
     "name": "stdout",
     "output_type": "stream",
     "text": [
      "-0.011717430344410529\n",
      "0.19052768166089962\n"
     ]
    },
    {
     "name": "stderr",
     "output_type": "stream",
     "text": [
      "14142it [08:25,  6.86it/s]"
     ]
    },
    {
     "name": "stdout",
     "output_type": "stream",
     "text": [
      "-0.05044843049327363\n",
      "0.39450060655074815\n"
     ]
    },
    {
     "name": "stderr",
     "output_type": "stream",
     "text": [
      "\r",
      "14144it [08:25,  7.87it/s]"
     ]
    },
    {
     "name": "stdout",
     "output_type": "stream",
     "text": [
      "-0.02629931120851603\n",
      "-0.027382028660203006\n"
     ]
    },
    {
     "name": "stderr",
     "output_type": "stream",
     "text": [
      "14147it [08:25,  6.96it/s]"
     ]
    },
    {
     "name": "stdout",
     "output_type": "stream",
     "text": [
      "0.0007634484378669093\n",
      "0.04051024184244323\n"
     ]
    },
    {
     "name": "stderr",
     "output_type": "stream",
     "text": [
      "14149it [08:26,  6.03it/s]"
     ]
    },
    {
     "name": "stdout",
     "output_type": "stream",
     "text": [
      "-0.3319772257814221\n",
      "-0.17780767596657698\n"
     ]
    },
    {
     "name": "stderr",
     "output_type": "stream",
     "text": [
      "14151it [08:26,  5.91it/s]"
     ]
    },
    {
     "name": "stdout",
     "output_type": "stream",
     "text": [
      "0.04395481176239735\n",
      "0.163108242303873\n"
     ]
    },
    {
     "name": "stderr",
     "output_type": "stream",
     "text": [
      "14154it [08:26,  7.03it/s]"
     ]
    },
    {
     "name": "stdout",
     "output_type": "stream",
     "text": [
      "0.07860922146636407\n",
      "-0.11386138613861385\n"
     ]
    },
    {
     "name": "stderr",
     "output_type": "stream",
     "text": [
      "14156it [08:27,  6.54it/s]"
     ]
    },
    {
     "name": "stdout",
     "output_type": "stream",
     "text": [
      "0.15191436805269665\n",
      "-0.059994690735333256\n"
     ]
    },
    {
     "name": "stderr",
     "output_type": "stream",
     "text": [
      "14161it [08:27,  7.31it/s]"
     ]
    },
    {
     "name": "stdout",
     "output_type": "stream",
     "text": [
      "0.13368630046326957\n",
      "0.10333221137664084\n"
     ]
    },
    {
     "name": "stderr",
     "output_type": "stream",
     "text": [
      "\r",
      "14163it [08:27,  7.23it/s]"
     ]
    },
    {
     "name": "stdout",
     "output_type": "stream",
     "text": [
      "-0.026930781215223742\n",
      "-0.009696969696969537\n"
     ]
    },
    {
     "name": "stderr",
     "output_type": "stream",
     "text": [
      "\r",
      "14165it [08:28,  8.23it/s]"
     ]
    },
    {
     "name": "stdout",
     "output_type": "stream",
     "text": [
      "-0.19228903976721623\n",
      "0.1361622755887153\n"
     ]
    },
    {
     "name": "stderr",
     "output_type": "stream",
     "text": [
      "14169it [08:28,  8.84it/s]"
     ]
    },
    {
     "name": "stdout",
     "output_type": "stream",
     "text": [
      "-0.07861866274797946\n",
      "0.026328620185275486\n"
     ]
    },
    {
     "name": "stderr",
     "output_type": "stream",
     "text": [
      "\r",
      "14171it [08:28,  9.71it/s]"
     ]
    },
    {
     "name": "stdout",
     "output_type": "stream",
     "text": [
      "-0.006501625406351463\n"
     ]
    },
    {
     "name": "stderr",
     "output_type": "stream",
     "text": [
      "\r",
      "14173it [08:29,  6.51it/s]"
     ]
    },
    {
     "name": "stdout",
     "output_type": "stream",
     "text": [
      "-0.02423028589381082\n",
      "0.3007610498585229\n"
     ]
    },
    {
     "name": "stderr",
     "output_type": "stream",
     "text": [
      "14175it [08:29,  6.33it/s]"
     ]
    },
    {
     "name": "stdout",
     "output_type": "stream",
     "text": [
      "1.0474723428091304\n",
      "0.8248571771003954\n"
     ]
    },
    {
     "name": "stderr",
     "output_type": "stream",
     "text": [
      "14178it [08:29,  7.55it/s]"
     ]
    },
    {
     "name": "stdout",
     "output_type": "stream",
     "text": [
      "-0.2501204080739087\n",
      "-0.2501204080739087\n"
     ]
    },
    {
     "name": "stderr",
     "output_type": "stream",
     "text": [
      "14180it [08:30,  6.90it/s]"
     ]
    },
    {
     "name": "stdout",
     "output_type": "stream",
     "text": [
      "-0.4557833276508694\n",
      "0.1215367996963772\n"
     ]
    },
    {
     "name": "stderr",
     "output_type": "stream",
     "text": [
      "14182it [08:30,  6.94it/s]"
     ]
    },
    {
     "name": "stdout",
     "output_type": "stream",
     "text": [
      "-0.05104712041884818\n",
      "-0.024671295612350375\n"
     ]
    },
    {
     "name": "stderr",
     "output_type": "stream",
     "text": [
      "\r",
      "14185it [08:30,  8.61it/s]"
     ]
    },
    {
     "name": "stdout",
     "output_type": "stream",
     "text": [
      "-0.011189956331877804\n",
      "0.020796347958407235\n"
     ]
    },
    {
     "name": "stderr",
     "output_type": "stream",
     "text": [
      "14227it [08:30, 27.84it/s]\n"
     ]
    }
   ],
   "source": [
    "#TimeFrame in Hours\n",
    "\n",
    "TimeFrame = 24 * 3600\n",
    "\n",
    "#for x in tqdm(df.iterrows()):\n",
    "def process(x):\n",
    "    try:\n",
    "        usable = isUsable(x[1][2])\n",
    "        if usable != False:\n",
    "            timestamp = x[1][4]\n",
    "            est = find_nearest(crypto_prices[usable[0]]['time'].values,timestamp)\n",
    "            if 3600 > abs(timestamp-est):\n",
    "                first = crypto_prices[usable[0]]['price'].loc[crypto_prices[usable[0]]['time'] == est].values\n",
    "                second = crypto_prices[usable[0]]['price'].loc[crypto_prices[usable[0]]['time'] == est+TimeFrame].values\n",
    "                returns = first/second -1\n",
    "                x = x[1]\n",
    "                text = x[5]\n",
    "                print(returns[0])\n",
    "                token_new.append(mypreprocess(text))\n",
    "                texts_new.append(' '.join(mypreprocess(text)))\n",
    "                return [usable,x[1],x[2],x[3],est,est+TimeFrame,returns[0]]\n",
    "    except:\n",
    "        i=0\n",
    "data_processed = [process(x) for x in tqdm(df.iterrows())]\n",
    "  "
   ]
  },
  {
   "cell_type": "code",
   "execution_count": 16,
   "metadata": {},
   "outputs": [],
   "source": [
    "data_processed = list(filter(None.__ne__, data_processed))"
   ]
  },
  {
   "cell_type": "code",
   "execution_count": 17,
   "metadata": {},
   "outputs": [
    {
     "name": "stdout",
     "output_type": "stream",
     "text": [
      "3349\n"
     ]
    }
   ],
   "source": [
    "print(len(texts_new))"
   ]
  },
  {
   "cell_type": "code",
   "execution_count": 18,
   "metadata": {},
   "outputs": [],
   "source": [
    "dp = pd.DataFrame(data_processed, columns=['Symbol','Source','Title','Author','Bought','Sold','Returns'])"
   ]
  },
  {
   "cell_type": "markdown",
   "metadata": {},
   "source": [
    "# The Altcoins used in the model"
   ]
  },
  {
   "cell_type": "code",
   "execution_count": 195,
   "metadata": {},
   "outputs": [
    {
     "name": "stdout",
     "output_type": "stream",
     "text": [
      "0    Ripple\n",
      "Name: Coin, dtype: object\n",
      "9    Tezos\n",
      "Name: Coin, dtype: object\n",
      "2    Bitcoin SV\n",
      "Name: Coin, dtype: object\n",
      "3    Cardano\n",
      "Name: Coin, dtype: object\n",
      "5    Chainlink\n",
      "Name: Coin, dtype: object\n",
      "18    IOTA\n",
      "Name: Coin, dtype: object\n",
      "23    Maker\n",
      "Name: Coin, dtype: object\n",
      "37    0x\n",
      "Name: Coin, dtype: object\n",
      "93    Matic Network\n",
      "Name: Coin, dtype: object\n",
      "4    Litecoin\n",
      "Name: Coin, dtype: object\n",
      "41    Dai\n",
      "Name: Coin, dtype: object\n",
      "21    Dash\n",
      "Name: Coin, dtype: object\n",
      "11    TRON\n",
      "Name: Coin, dtype: object\n",
      "38    BitTorrent\n",
      "Name: Coin, dtype: object\n",
      "56    Bitcoin Gold\n",
      "Name: Coin, dtype: object\n",
      "17    Neo\n",
      "Name: Coin, dtype: object\n",
      "8    EOS\n",
      "Name: Coin, dtype: object\n",
      "10    Stellar\n",
      "Name: Coin, dtype: object\n",
      "1    Bitcoin Cash\n",
      "Name: Coin, dtype: object\n",
      "7    Binance Coin\n",
      "Name: Coin, dtype: object\n",
      "14    USD Coin\n",
      "Name: Coin, dtype: object\n",
      "20    Ethereum Classic\n",
      "Name: Coin, dtype: object\n",
      "46    ICON\n",
      "Name: Coin, dtype: object\n",
      "19    Cosmos\n",
      "Name: Coin, dtype: object\n",
      "27    Dogecoin\n",
      "Name: Coin, dtype: object\n",
      "39    Augur\n",
      "Name: Coin, dtype: object\n",
      "64    Nano\n",
      "Name: Coin, dtype: object\n",
      "58    Lisk\n",
      "Name: Coin, dtype: object\n",
      "83    Bancor\n",
      "Name: Coin, dtype: object\n",
      "62    Ren\n",
      "Name: Coin, dtype: object\n",
      "66    Siacoin\n",
      "Name: Coin, dtype: object\n",
      "77    Verge\n",
      "Name: Coin, dtype: object\n",
      "16    Huobi Token\n",
      "Name: Coin, dtype: object\n",
      "24    Ontology\n",
      "Name: Coin, dtype: object\n",
      "12    Monero\n",
      "Name: Coin, dtype: object\n",
      "91    Komodo\n",
      "Name: Coin, dtype: object\n",
      "25    NEM\n",
      "Name: Coin, dtype: object\n",
      "47    Qtum\n",
      "Name: Coin, dtype: object\n",
      "34    Kyber Network\n",
      "Name: Coin, dtype: object\n",
      "74    Nexo\n",
      "Name: Coin, dtype: object\n",
      "71    Divi\n",
      "Name: Coin, dtype: object\n",
      "88    Status\n",
      "Name: Coin, dtype: object\n",
      "57    Waves\n",
      "Name: Coin, dtype: object\n",
      "89    Blockstack\n",
      "Name: Coin, dtype: object\n",
      "59    Enjin Coin\n",
      "Name: Coin, dtype: object\n",
      "51    Zilliqa\n",
      "Name: Coin, dtype: object\n",
      "80    Quant\n",
      "Name: Coin, dtype: object\n",
      "40    Algorand\n",
      "Name: Coin, dtype: object\n",
      "15    VeChain\n",
      "Name: Coin, dtype: object\n",
      "65    Ravencoin\n",
      "Name: Coin, dtype: object\n",
      "28    Basic Attention Token\n",
      "Name: Coin, dtype: object\n",
      "67    Holo\n",
      "Name: Coin, dtype: object\n",
      "54    Decred\n",
      "Name: Coin, dtype: object\n",
      "94    Steem\n",
      "Name: Coin, dtype: object\n",
      "26    Compound\n",
      "Name: Coin, dtype: object\n",
      "50    Hedera Hashgraph\n",
      "Name: Coin, dtype: object\n",
      "68    DxChain Token\n",
      "Name: Coin, dtype: object\n",
      "57\n"
     ]
    },
    {
     "data": {
      "text/plain": [
       "['XRP',\n",
       " 'XTZ',\n",
       " 'BSV',\n",
       " 'ADA',\n",
       " 'LINK',\n",
       " 'MIOTA',\n",
       " 'MKR',\n",
       " 'ZRX',\n",
       " 'MATIC',\n",
       " 'LTC',\n",
       " 'DAI',\n",
       " 'DASH',\n",
       " 'TRX',\n",
       " 'BTT',\n",
       " 'BTG',\n",
       " 'NEO',\n",
       " 'EOS',\n",
       " 'XLM',\n",
       " 'BCH',\n",
       " 'BNB',\n",
       " 'USDC',\n",
       " 'ETC',\n",
       " 'ICX',\n",
       " 'ATOM',\n",
       " 'DOGE',\n",
       " 'REP',\n",
       " 'NANO',\n",
       " 'LSK',\n",
       " 'BNT',\n",
       " 'REN',\n",
       " 'SC',\n",
       " 'XVG',\n",
       " 'HT',\n",
       " 'ONT',\n",
       " 'XMR',\n",
       " 'KMD',\n",
       " 'XEM',\n",
       " 'QTUM',\n",
       " 'KNC',\n",
       " 'NEXO',\n",
       " 'DIVI',\n",
       " 'SNT',\n",
       " 'WAVES',\n",
       " 'STX',\n",
       " 'ENJ',\n",
       " 'ZIL',\n",
       " 'QNT',\n",
       " 'ALGO',\n",
       " 'VET',\n",
       " 'RVN',\n",
       " 'BAT',\n",
       " 'HOT',\n",
       " 'DCR',\n",
       " 'STEEM',\n",
       " 'COMP',\n",
       " 'HBAR',\n",
       " 'DX']"
      ]
     },
     "execution_count": 195,
     "metadata": {},
     "output_type": "execute_result"
    }
   ],
   "source": [
    "symbols = []\n",
    "for x in dp.Symbol.values:\n",
    "    if x[0] not in symbols:\n",
    "        symbols.append(x[0])\n",
    "        name = df_art.loc[df_art['Symbol']==x[0]]['Coin']\n",
    "        print(name)\n",
    "print(len(symbols))\n",
    "symbols "
   ]
  },
  {
   "cell_type": "code",
   "execution_count": 20,
   "metadata": {},
   "outputs": [
    {
     "name": "stderr",
     "output_type": "stream",
     "text": [
      "/home/block/.local/lib/python3.8/site-packages/pandas/core/ops/array_ops.py:253: FutureWarning: elementwise comparison failed; returning scalar instead, but in the future will perform elementwise comparison\n",
      "  res_values = method(rvalues)\n"
     ]
    }
   ],
   "source": [
    "nan_value = float(\"NaN\")\n",
    "df.replace(\"\", nan_value, inplace=True)\n",
    "\n",
    "dp.dropna(subset = [\"Returns\"], inplace=True)\n",
    "dp = dp[dp.Returns != '']\n"
   ]
  },
  {
   "cell_type": "markdown",
   "metadata": {},
   "source": [
    "# Distribution of Returns"
   ]
  },
  {
   "cell_type": "code",
   "execution_count": 197,
   "metadata": {},
   "outputs": [
    {
     "data": {
      "image/png": "[encoded data removed]",
      "text/plain": [
       "<Figure size 432x288 with 1 Axes>"
      ]
     },
     "metadata": {
      "needs_background": "light"
     },
     "output_type": "display_data"
    }
   ],
   "source": [
    "import matplotlib.pyplot as plt\n",
    "import seaborn as sns\n",
    "\n",
    "sns.distplot(dp['Returns'].values, hist=True)\n",
    "plt.title('Distribution of 24 hour returns')\n",
    "\n",
    "plt.show()"
   ]
  },
  {
   "cell_type": "code",
   "execution_count": 22,
   "metadata": {},
   "outputs": [],
   "source": [
    "for x in dp['Returns'].values:\n",
    "    if x =='':\n",
    "        print('ues')"
   ]
  },
  {
   "cell_type": "code",
   "execution_count": 23,
   "metadata": {},
   "outputs": [
    {
     "name": "stdout",
     "output_type": "stream",
     "text": [
      "0.2   -0.043336\n",
      "0.5   -0.000445\n",
      "0.8    0.040120\n",
      "Name: Returns, dtype: float64\n"
     ]
    }
   ],
   "source": [
    "quarts = dp.Returns.quantile([0.2,0.5,0.8])\n",
    "print(quarts)"
   ]
  },
  {
   "cell_type": "code",
   "execution_count": 24,
   "metadata": {},
   "outputs": [
    {
     "name": "stdout",
     "output_type": "stream",
     "text": [
      "-0.0433364584689252\n",
      "-0.00044523597506673784\n",
      "0.040120117173748866\n"
     ]
    }
   ],
   "source": [
    "print(quarts[0.2])\n",
    "print(quarts[0.5])\n",
    "print(quarts[0.8])\n",
    "\n",
    "#0 is short\n",
    "#1 is hold\n",
    "#2 is buy\n",
    "\n",
    "def label_signal (row):\n",
    "    if row['Returns'] <= quarts[0.2]:\n",
    "        return 0\n",
    "    elif row['Returns'] <= quarts[0.8]:\n",
    "        return 1\n",
    "    else:\n",
    "        return 2\n",
    "\n",
    "dp['Signal'] = dp.apply (lambda row: label_signal(row), axis=1)"
   ]
  },
  {
   "cell_type": "code",
   "execution_count": 25,
   "metadata": {},
   "outputs": [
    {
     "name": "stdout",
     "output_type": "stream",
     "text": [
      "3349\n",
      "3349\n"
     ]
    }
   ],
   "source": [
    "from sklearn.feature_extraction.text import CountVectorizer\n",
    "cv = CountVectorizer(min_df=0.0001) #feature extraction function buildup\n",
    "result=cv.fit_transform(texts_new)  #transform the data into document-term matrix\n",
    "name=cv.get_feature_names() #feature name\n",
    "X=result.toarray() #prepare for the data in matrix\n",
    "y = dp['Signal'].tolist()\n",
    "print(len(texts_new))\n",
    "print(len(y))"
   ]
  },
  {
   "cell_type": "markdown",
   "metadata": {},
   "source": [
    "# Train Test Split Manually For Time Series Data"
   ]
  },
  {
   "cell_type": "code",
   "execution_count": 26,
   "metadata": {},
   "outputs": [
    {
     "data": {
      "text/plain": [
       "[1,\n",
       " 1,\n",
       " 1,\n",
       " 0,\n",
       " 0,\n",
       " 0,\n",
       " 0,\n",
       " 2,\n",
       " 1,\n",
       " 2,\n",
       " 1,\n",
       " 1,\n",
       " 0,\n",
       " 1,\n",
       " 0,\n",
       " 1,\n",
       " 1,\n",
       " 1,\n",
       " 1,\n",
       " 1,\n",
       " 1,\n",
       " 1,\n",
       " 1,\n",
       " 1,\n",
       " 0,\n",
       " 1,\n",
       " 1,\n",
       " 1,\n",
       " 1,\n",
       " 1,\n",
       " 1,\n",
       " 0,\n",
       " 1,\n",
       " 1,\n",
       " 0,\n",
       " 1,\n",
       " 1,\n",
       " 1,\n",
       " 1,\n",
       " 1,\n",
       " 0,\n",
       " 1,\n",
       " 2,\n",
       " 0,\n",
       " 2,\n",
       " 1,\n",
       " 1,\n",
       " 2,\n",
       " 1,\n",
       " 1,\n",
       " 0,\n",
       " 0,\n",
       " 1,\n",
       " 1,\n",
       " 1,\n",
       " 0,\n",
       " 1,\n",
       " 1,\n",
       " 1,\n",
       " 2,\n",
       " 0,\n",
       " 0,\n",
       " 1,\n",
       " 1,\n",
       " 1,\n",
       " 1,\n",
       " 2,\n",
       " 1,\n",
       " 1,\n",
       " 1,\n",
       " 2,\n",
       " 1,\n",
       " 0,\n",
       " 1,\n",
       " 1,\n",
       " 1,\n",
       " 1,\n",
       " 1,\n",
       " 1,\n",
       " 1,\n",
       " 1,\n",
       " 2,\n",
       " 1,\n",
       " 1,\n",
       " 1,\n",
       " 2,\n",
       " 1,\n",
       " 1,\n",
       " 1,\n",
       " 2,\n",
       " 0,\n",
       " 1,\n",
       " 1,\n",
       " 1,\n",
       " 2,\n",
       " 1,\n",
       " 1,\n",
       " 2,\n",
       " 0,\n",
       " 0,\n",
       " 0,\n",
       " 1,\n",
       " 2,\n",
       " 2,\n",
       " 2,\n",
       " 2,\n",
       " 1,\n",
       " 1,\n",
       " 1,\n",
       " 0,\n",
       " 0,\n",
       " 1,\n",
       " 0,\n",
       " 1,\n",
       " 1,\n",
       " 1,\n",
       " 0,\n",
       " 1,\n",
       " 1,\n",
       " 1,\n",
       " 1,\n",
       " 0,\n",
       " 0,\n",
       " 2,\n",
       " 1,\n",
       " 1,\n",
       " 0,\n",
       " 1,\n",
       " 2,\n",
       " 1,\n",
       " 1,\n",
       " 1,\n",
       " 1,\n",
       " 0,\n",
       " 1,\n",
       " 0,\n",
       " 2,\n",
       " 2,\n",
       " 2,\n",
       " 1,\n",
       " 1,\n",
       " 2,\n",
       " 1,\n",
       " 1,\n",
       " 1,\n",
       " 1,\n",
       " 2,\n",
       " 0,\n",
       " 1,\n",
       " 1,\n",
       " 1,\n",
       " 1,\n",
       " 1,\n",
       " 1,\n",
       " 1,\n",
       " 1,\n",
       " 0,\n",
       " 2,\n",
       " 1,\n",
       " 0,\n",
       " 1,\n",
       " 0,\n",
       " 0,\n",
       " 1,\n",
       " 2,\n",
       " 0,\n",
       " 0,\n",
       " 1,\n",
       " 1,\n",
       " 1,\n",
       " 1,\n",
       " 1,\n",
       " 1,\n",
       " 1,\n",
       " 1,\n",
       " 2,\n",
       " 2,\n",
       " 1,\n",
       " 1,\n",
       " 1,\n",
       " 1,\n",
       " 1,\n",
       " 2,\n",
       " 1,\n",
       " 2,\n",
       " 1,\n",
       " 0,\n",
       " 0,\n",
       " 0,\n",
       " 0,\n",
       " 1,\n",
       " 1,\n",
       " 1,\n",
       " 1,\n",
       " 1,\n",
       " 2,\n",
       " 2,\n",
       " 1,\n",
       " 0,\n",
       " 1,\n",
       " 2,\n",
       " 2,\n",
       " 2,\n",
       " 2,\n",
       " 2,\n",
       " 2,\n",
       " 1,\n",
       " 1,\n",
       " 2,\n",
       " 1,\n",
       " 0,\n",
       " 0,\n",
       " 1,\n",
       " 1,\n",
       " 0,\n",
       " 1,\n",
       " 1,\n",
       " 2,\n",
       " 0,\n",
       " 0,\n",
       " 0,\n",
       " 1,\n",
       " 2,\n",
       " 2,\n",
       " 1,\n",
       " 0,\n",
       " 1,\n",
       " 0,\n",
       " 1,\n",
       " 1,\n",
       " 1,\n",
       " 1,\n",
       " 1,\n",
       " 1,\n",
       " 1,\n",
       " 1,\n",
       " 0,\n",
       " 1,\n",
       " 0,\n",
       " 1,\n",
       " 1,\n",
       " 0,\n",
       " 0,\n",
       " 2,\n",
       " 1,\n",
       " 1,\n",
       " 2,\n",
       " 2,\n",
       " 2,\n",
       " 2,\n",
       " 0,\n",
       " 0,\n",
       " 2,\n",
       " 1,\n",
       " 1,\n",
       " 2,\n",
       " 1,\n",
       " 1,\n",
       " 1,\n",
       " 0,\n",
       " 1,\n",
       " 1,\n",
       " 1,\n",
       " 0,\n",
       " 1,\n",
       " 2,\n",
       " 2,\n",
       " 1,\n",
       " 1,\n",
       " 1,\n",
       " 1,\n",
       " 0,\n",
       " 1,\n",
       " 2,\n",
       " 0,\n",
       " 0,\n",
       " 0,\n",
       " 1,\n",
       " 2,\n",
       " 1,\n",
       " 0,\n",
       " 2,\n",
       " 1,\n",
       " 1,\n",
       " 0,\n",
       " 1,\n",
       " 0,\n",
       " 0,\n",
       " 1,\n",
       " 1,\n",
       " 1,\n",
       " 2,\n",
       " 1,\n",
       " 1,\n",
       " 1,\n",
       " 1,\n",
       " 2,\n",
       " 2,\n",
       " 2,\n",
       " 1,\n",
       " 1,\n",
       " 1,\n",
       " 1,\n",
       " 1,\n",
       " 1,\n",
       " 0,\n",
       " 0,\n",
       " 0,\n",
       " 2,\n",
       " 2,\n",
       " 1,\n",
       " 0,\n",
       " 2,\n",
       " 0,\n",
       " 2,\n",
       " 2,\n",
       " 1,\n",
       " 2,\n",
       " 1,\n",
       " 1,\n",
       " 0,\n",
       " 1,\n",
       " 1,\n",
       " 0,\n",
       " 1,\n",
       " 0,\n",
       " 1,\n",
       " 1,\n",
       " 2,\n",
       " 1,\n",
       " 0,\n",
       " 1,\n",
       " 1,\n",
       " 1,\n",
       " 2,\n",
       " 1,\n",
       " 0,\n",
       " 0,\n",
       " 1,\n",
       " 1,\n",
       " 1,\n",
       " 0,\n",
       " 0,\n",
       " 2,\n",
       " 2,\n",
       " 2,\n",
       " 2,\n",
       " 2,\n",
       " 2,\n",
       " 2,\n",
       " 2,\n",
       " 2,\n",
       " 2,\n",
       " 1,\n",
       " 0,\n",
       " 2,\n",
       " 2,\n",
       " 0,\n",
       " 2,\n",
       " 2,\n",
       " 1,\n",
       " 0,\n",
       " 1,\n",
       " 0,\n",
       " 0,\n",
       " 1,\n",
       " 0,\n",
       " 2,\n",
       " 2,\n",
       " 0,\n",
       " 0,\n",
       " 1,\n",
       " 1,\n",
       " 0,\n",
       " 1,\n",
       " 0,\n",
       " 2,\n",
       " 1,\n",
       " 0,\n",
       " 1,\n",
       " 1,\n",
       " 0,\n",
       " 2,\n",
       " 2,\n",
       " 2,\n",
       " 1,\n",
       " 1,\n",
       " 2,\n",
       " 1,\n",
       " 2,\n",
       " 1,\n",
       " 0,\n",
       " 2,\n",
       " 1,\n",
       " 1,\n",
       " 1,\n",
       " 1,\n",
       " 1,\n",
       " 1,\n",
       " 1,\n",
       " 1,\n",
       " 1,\n",
       " 1,\n",
       " 1,\n",
       " 1,\n",
       " 1,\n",
       " 0,\n",
       " 2,\n",
       " 0,\n",
       " 1,\n",
       " 1,\n",
       " 2,\n",
       " 1,\n",
       " 1,\n",
       " 1,\n",
       " 1,\n",
       " 2,\n",
       " 0,\n",
       " 1,\n",
       " 1,\n",
       " 1,\n",
       " 1,\n",
       " 1,\n",
       " 1,\n",
       " 1,\n",
       " 1,\n",
       " 0,\n",
       " 0,\n",
       " 2,\n",
       " 1,\n",
       " 1,\n",
       " 0,\n",
       " 1,\n",
       " 1,\n",
       " 0,\n",
       " 2,\n",
       " 2,\n",
       " 0,\n",
       " 2,\n",
       " 2,\n",
       " 0,\n",
       " 1,\n",
       " 1,\n",
       " 1,\n",
       " 0,\n",
       " 1,\n",
       " 2,\n",
       " 1,\n",
       " 1,\n",
       " 1,\n",
       " 2,\n",
       " 0,\n",
       " 1,\n",
       " 2,\n",
       " 1,\n",
       " 1,\n",
       " 2,\n",
       " 1,\n",
       " 1,\n",
       " 0,\n",
       " 1,\n",
       " 2,\n",
       " 1,\n",
       " 1,\n",
       " 1,\n",
       " 1,\n",
       " 1,\n",
       " 2,\n",
       " 0,\n",
       " 1,\n",
       " 1,\n",
       " 1,\n",
       " 1,\n",
       " 1,\n",
       " 1,\n",
       " 0,\n",
       " 1,\n",
       " 1,\n",
       " 1,\n",
       " 0,\n",
       " 1,\n",
       " 1,\n",
       " 1,\n",
       " 2,\n",
       " 1,\n",
       " 1,\n",
       " 2,\n",
       " 1,\n",
       " 1,\n",
       " 1,\n",
       " 1,\n",
       " 1,\n",
       " 2,\n",
       " 1,\n",
       " 2,\n",
       " 1,\n",
       " 1,\n",
       " 1,\n",
       " 2,\n",
       " 1,\n",
       " 1,\n",
       " 0,\n",
       " 1,\n",
       " 1,\n",
       " 1,\n",
       " 1,\n",
       " 1,\n",
       " 0,\n",
       " 0,\n",
       " 0,\n",
       " 2,\n",
       " 1,\n",
       " 2,\n",
       " 1,\n",
       " 1,\n",
       " 2,\n",
       " 0,\n",
       " 1,\n",
       " 0,\n",
       " 0,\n",
       " 1,\n",
       " 2,\n",
       " 0,\n",
       " 2,\n",
       " 2,\n",
       " 0,\n",
       " 0,\n",
       " 0,\n",
       " 1,\n",
       " 1,\n",
       " 1,\n",
       " 2,\n",
       " 0,\n",
       " 2,\n",
       " 1,\n",
       " 2,\n",
       " 0,\n",
       " 1,\n",
       " 1,\n",
       " 1,\n",
       " 1,\n",
       " 0,\n",
       " 1,\n",
       " 1,\n",
       " 0,\n",
       " 0,\n",
       " 1,\n",
       " 1,\n",
       " 1,\n",
       " 0,\n",
       " 1,\n",
       " 0,\n",
       " 1,\n",
       " 1,\n",
       " 1,\n",
       " 1,\n",
       " 0,\n",
       " 1,\n",
       " 0,\n",
       " 1,\n",
       " 1,\n",
       " 1,\n",
       " 0,\n",
       " 1,\n",
       " 1,\n",
       " 1,\n",
       " 1,\n",
       " 1,\n",
       " 1,\n",
       " 1,\n",
       " 1,\n",
       " 1,\n",
       " 2,\n",
       " 0,\n",
       " 1,\n",
       " 1,\n",
       " 1,\n",
       " 1,\n",
       " 2,\n",
       " 1,\n",
       " 1,\n",
       " 1,\n",
       " 1,\n",
       " 1,\n",
       " 2,\n",
       " 0,\n",
       " 1,\n",
       " 1,\n",
       " 2,\n",
       " 1,\n",
       " 1,\n",
       " 2,\n",
       " 1,\n",
       " 1,\n",
       " 1,\n",
       " 0,\n",
       " 2,\n",
       " 0,\n",
       " 1,\n",
       " 2,\n",
       " 2,\n",
       " 2,\n",
       " 2,\n",
       " 2,\n",
       " 1,\n",
       " 1,\n",
       " 1,\n",
       " 0,\n",
       " 0,\n",
       " 0,\n",
       " 1,\n",
       " 1,\n",
       " 1,\n",
       " 0,\n",
       " 1,\n",
       " 2,\n",
       " 0,\n",
       " 1,\n",
       " 1,\n",
       " 2,\n",
       " 2,\n",
       " 1,\n",
       " 1,\n",
       " 1,\n",
       " 2,\n",
       " 1,\n",
       " 1,\n",
       " 2,\n",
       " 0,\n",
       " 0,\n",
       " 1,\n",
       " 0,\n",
       " 1,\n",
       " 2,\n",
       " 1,\n",
       " 1,\n",
       " 0,\n",
       " 2,\n",
       " 1,\n",
       " 2,\n",
       " 1,\n",
       " 0,\n",
       " 2,\n",
       " 2,\n",
       " 1,\n",
       " 2,\n",
       " 2,\n",
       " 2,\n",
       " 2,\n",
       " 0,\n",
       " 0,\n",
       " 0,\n",
       " 1,\n",
       " 0,\n",
       " 0,\n",
       " 0,\n",
       " 1,\n",
       " 0,\n",
       " 1,\n",
       " 2,\n",
       " 1,\n",
       " 0,\n",
       " 2,\n",
       " 1,\n",
       " 0,\n",
       " 1,\n",
       " 0,\n",
       " 1,\n",
       " 1,\n",
       " 0,\n",
       " 1,\n",
       " 1,\n",
       " 1,\n",
       " 1,\n",
       " 1,\n",
       " 1,\n",
       " 0,\n",
       " 0,\n",
       " 2,\n",
       " 1,\n",
       " 0,\n",
       " 1,\n",
       " 1,\n",
       " 0,\n",
       " 0,\n",
       " 1,\n",
       " 1,\n",
       " 2,\n",
       " 1,\n",
       " 1,\n",
       " 1,\n",
       " 1,\n",
       " 2,\n",
       " 2,\n",
       " 1,\n",
       " 0,\n",
       " 1,\n",
       " 1,\n",
       " 0,\n",
       " 2,\n",
       " 1,\n",
       " 1,\n",
       " 0,\n",
       " 0,\n",
       " 1,\n",
       " 2,\n",
       " 1,\n",
       " 2,\n",
       " 1,\n",
       " 0,\n",
       " 0,\n",
       " 0,\n",
       " 1,\n",
       " 1,\n",
       " 1,\n",
       " 1,\n",
       " 0,\n",
       " 1,\n",
       " 0,\n",
       " 0,\n",
       " 1,\n",
       " 1,\n",
       " 1,\n",
       " 0,\n",
       " 1,\n",
       " 1,\n",
       " 1,\n",
       " 1,\n",
       " 2,\n",
       " 1,\n",
       " 0,\n",
       " 1,\n",
       " 1,\n",
       " 1,\n",
       " 1,\n",
       " 1,\n",
       " 1,\n",
       " 0,\n",
       " 1,\n",
       " 0,\n",
       " 1,\n",
       " 1,\n",
       " 1,\n",
       " 0,\n",
       " 2,\n",
       " 1,\n",
       " 1,\n",
       " 2,\n",
       " 1,\n",
       " 2,\n",
       " 1,\n",
       " 1,\n",
       " 1,\n",
       " 1,\n",
       " 0,\n",
       " 1,\n",
       " 0,\n",
       " 1,\n",
       " 0,\n",
       " 1,\n",
       " 1,\n",
       " 0,\n",
       " 1,\n",
       " 1,\n",
       " 1,\n",
       " 2,\n",
       " 1,\n",
       " 1,\n",
       " 1,\n",
       " 0,\n",
       " 1,\n",
       " 0,\n",
       " 1,\n",
       " 1,\n",
       " 1,\n",
       " 0,\n",
       " 1,\n",
       " 0,\n",
       " 0,\n",
       " 2,\n",
       " 1,\n",
       " 1,\n",
       " 1,\n",
       " 1,\n",
       " 2,\n",
       " 2,\n",
       " 2,\n",
       " 1,\n",
       " 2,\n",
       " 1,\n",
       " 1,\n",
       " 1,\n",
       " 1,\n",
       " 1,\n",
       " 0,\n",
       " 0,\n",
       " 1,\n",
       " 1,\n",
       " 1,\n",
       " 1,\n",
       " 2,\n",
       " 2,\n",
       " 2,\n",
       " 1,\n",
       " 2,\n",
       " 0,\n",
       " 0,\n",
       " 2,\n",
       " 0,\n",
       " 0,\n",
       " 0,\n",
       " 0,\n",
       " 0,\n",
       " 1,\n",
       " 1,\n",
       " 0,\n",
       " 0,\n",
       " 0,\n",
       " 2,\n",
       " 2,\n",
       " 1,\n",
       " 1,\n",
       " 1,\n",
       " 1,\n",
       " 1,\n",
       " 1,\n",
       " 0,\n",
       " 1,\n",
       " 1,\n",
       " 1,\n",
       " 1,\n",
       " 2,\n",
       " 2,\n",
       " 2,\n",
       " 2,\n",
       " 1,\n",
       " 1,\n",
       " 1,\n",
       " 1,\n",
       " 1,\n",
       " 1,\n",
       " 1,\n",
       " 1,\n",
       " 1,\n",
       " 1,\n",
       " 1,\n",
       " 0,\n",
       " 0,\n",
       " 0,\n",
       " 1,\n",
       " 1,\n",
       " 1,\n",
       " 1,\n",
       " 0,\n",
       " 1,\n",
       " 0,\n",
       " 1,\n",
       " 1,\n",
       " 1,\n",
       " 0,\n",
       " 1,\n",
       " 1,\n",
       " 1,\n",
       " 2,\n",
       " 1,\n",
       " 0,\n",
       " 1,\n",
       " 1,\n",
       " 2,\n",
       " 1,\n",
       " 2,\n",
       " 1,\n",
       " 1,\n",
       " 1,\n",
       " 1,\n",
       " 1,\n",
       " 1,\n",
       " 1,\n",
       " 1,\n",
       " 1,\n",
       " 1,\n",
       " 1,\n",
       " 0,\n",
       " 1,\n",
       " 2,\n",
       " 0,\n",
       " 1,\n",
       " 1,\n",
       " 1,\n",
       " 1,\n",
       " 2,\n",
       " 1,\n",
       " 1,\n",
       " 2,\n",
       " 1,\n",
       " 1,\n",
       " 1,\n",
       " 1,\n",
       " 1,\n",
       " 1,\n",
       " 1,\n",
       " 1,\n",
       " 1,\n",
       " 2,\n",
       " 2,\n",
       " 0,\n",
       " 1,\n",
       " 1,\n",
       " 1,\n",
       " 1,\n",
       " 0,\n",
       " 1,\n",
       " 1,\n",
       " 1,\n",
       " 1,\n",
       " 2,\n",
       " 0,\n",
       " 1,\n",
       " 0,\n",
       " 0,\n",
       " 1,\n",
       " 1,\n",
       " 0,\n",
       " 1,\n",
       " 1,\n",
       " 0,\n",
       " 2,\n",
       " 1,\n",
       " 1,\n",
       " 1,\n",
       " 1,\n",
       " 2,\n",
       " 1,\n",
       " 1,\n",
       " 1,\n",
       " 2,\n",
       " 1,\n",
       " 1,\n",
       " 1,\n",
       " 2,\n",
       " 2,\n",
       " 1,\n",
       " 0,\n",
       " 0,\n",
       " 1,\n",
       " 1,\n",
       " 1,\n",
       " 1,\n",
       " 1,\n",
       " 1,\n",
       " 2,\n",
       " 1,\n",
       " 1,\n",
       " 0,\n",
       " 0,\n",
       " 0,\n",
       " 1,\n",
       " 1,\n",
       " 2,\n",
       " 2,\n",
       " 1,\n",
       " 1,\n",
       " 1,\n",
       " 1,\n",
       " 1,\n",
       " 1,\n",
       " 2,\n",
       " 1,\n",
       " 0,\n",
       " 1,\n",
       " 1,\n",
       " 1,\n",
       " 1,\n",
       " 1,\n",
       " 1,\n",
       " 1,\n",
       " 1,\n",
       " 1,\n",
       " 0,\n",
       " 1,\n",
       " 1,\n",
       " 1,\n",
       " 1,\n",
       " 1,\n",
       " 2,\n",
       " 1,\n",
       " 1,\n",
       " 1,\n",
       " 1,\n",
       " 1,\n",
       " 2,\n",
       " 1,\n",
       " 1,\n",
       " 1,\n",
       " 1,\n",
       " 1,\n",
       " 1,\n",
       " 1,\n",
       " 1,\n",
       " 1,\n",
       " ...]"
      ]
     },
     "execution_count": 26,
     "metadata": {},
     "output_type": "execute_result"
    }
   ],
   "source": [
    "X_train = X[:int(X.shape[0]*0.7)]\n",
    "X_test = X[int(X.shape[0]*0.7):]\n",
    "y_train = y[:int(X.shape[0]*0.7)]\n",
    "y_test = y[int(X.shape[0]*0.7):]\n"
   ]
  },
  {
   "cell_type": "code",
   "execution_count": 27,
   "metadata": {},
   "outputs": [
    {
     "name": "stderr",
     "output_type": "stream",
     "text": [
      "/home/block/anaconda3/lib/python3.8/site-packages/sklearn/model_selection/_validation.py:548: FitFailedWarning: Estimator fit failed. The score on this train-test partition for these parameters will be set to nan. Details: \n",
      "Traceback (most recent call last):\n",
      "  File \"/home/block/anaconda3/lib/python3.8/site-packages/sklearn/model_selection/_validation.py\", line 531, in _fit_and_score\n",
      "    estimator.fit(X_train, y_train, **fit_params)\n",
      "  File \"/home/block/anaconda3/lib/python3.8/site-packages/sklearn/linear_model/_logistic.py\", line 1304, in fit\n",
      "    solver = _check_solver(self.solver, self.penalty, self.dual)\n",
      "  File \"/home/block/anaconda3/lib/python3.8/site-packages/sklearn/linear_model/_logistic.py\", line 442, in _check_solver\n",
      "    raise ValueError(\"Solver %s supports only 'l2' or 'none' penalties, \"\n",
      "ValueError: Solver lbfgs supports only 'l2' or 'none' penalties, got l1 penalty.\n",
      "\n",
      "  warnings.warn(\"Estimator fit failed. The score on this train-test\"\n",
      "/home/block/anaconda3/lib/python3.8/site-packages/sklearn/model_selection/_validation.py:548: FitFailedWarning: Estimator fit failed. The score on this train-test partition for these parameters will be set to nan. Details: \n",
      "Traceback (most recent call last):\n",
      "  File \"/home/block/anaconda3/lib/python3.8/site-packages/sklearn/model_selection/_validation.py\", line 531, in _fit_and_score\n",
      "    estimator.fit(X_train, y_train, **fit_params)\n",
      "  File \"/home/block/anaconda3/lib/python3.8/site-packages/sklearn/linear_model/_logistic.py\", line 1304, in fit\n",
      "    solver = _check_solver(self.solver, self.penalty, self.dual)\n",
      "  File \"/home/block/anaconda3/lib/python3.8/site-packages/sklearn/linear_model/_logistic.py\", line 442, in _check_solver\n",
      "    raise ValueError(\"Solver %s supports only 'l2' or 'none' penalties, \"\n",
      "ValueError: Solver lbfgs supports only 'l2' or 'none' penalties, got l1 penalty.\n",
      "\n",
      "  warnings.warn(\"Estimator fit failed. The score on this train-test\"\n",
      "/home/block/anaconda3/lib/python3.8/site-packages/sklearn/linear_model/_logistic.py:762: ConvergenceWarning: lbfgs failed to converge (status=1):\n",
      "STOP: TOTAL NO. of ITERATIONS REACHED LIMIT.\n",
      "\n",
      "Increase the number of iterations (max_iter) or scale the data as shown in:\n",
      "    https://scikit-learn.org/stable/modules/preprocessing.html\n",
      "Please also refer to the documentation for alternative solver options:\n",
      "    https://scikit-learn.org/stable/modules/linear_model.html#logistic-regression\n",
      "  n_iter_i = _check_optimize_result(\n",
      "/home/block/anaconda3/lib/python3.8/site-packages/sklearn/linear_model/_logistic.py:762: ConvergenceWarning: lbfgs failed to converge (status=1):\n",
      "STOP: TOTAL NO. of ITERATIONS REACHED LIMIT.\n",
      "\n",
      "Increase the number of iterations (max_iter) or scale the data as shown in:\n",
      "    https://scikit-learn.org/stable/modules/preprocessing.html\n",
      "Please also refer to the documentation for alternative solver options:\n",
      "    https://scikit-learn.org/stable/modules/linear_model.html#logistic-regression\n",
      "  n_iter_i = _check_optimize_result(\n",
      "/home/block/anaconda3/lib/python3.8/site-packages/sklearn/linear_model/_logistic.py:762: ConvergenceWarning: lbfgs failed to converge (status=1):\n",
      "STOP: TOTAL NO. of ITERATIONS REACHED LIMIT.\n",
      "\n",
      "Increase the number of iterations (max_iter) or scale the data as shown in:\n",
      "    https://scikit-learn.org/stable/modules/preprocessing.html\n",
      "Please also refer to the documentation for alternative solver options:\n",
      "    https://scikit-learn.org/stable/modules/linear_model.html#logistic-regression\n",
      "  n_iter_i = _check_optimize_result(\n",
      "/home/block/anaconda3/lib/python3.8/site-packages/sklearn/linear_model/_logistic.py:762: ConvergenceWarning: lbfgs failed to converge (status=1):\n",
      "STOP: TOTAL NO. of ITERATIONS REACHED LIMIT.\n",
      "\n",
      "Increase the number of iterations (max_iter) or scale the data as shown in:\n",
      "    https://scikit-learn.org/stable/modules/preprocessing.html\n",
      "Please also refer to the documentation for alternative solver options:\n",
      "    https://scikit-learn.org/stable/modules/linear_model.html#logistic-regression\n",
      "  n_iter_i = _check_optimize_result(\n",
      "/home/block/anaconda3/lib/python3.8/site-packages/sklearn/linear_model/_logistic.py:762: ConvergenceWarning: lbfgs failed to converge (status=1):\n",
      "STOP: TOTAL NO. of ITERATIONS REACHED LIMIT.\n",
      "\n",
      "Increase the number of iterations (max_iter) or scale the data as shown in:\n",
      "    https://scikit-learn.org/stable/modules/preprocessing.html\n",
      "Please also refer to the documentation for alternative solver options:\n",
      "    https://scikit-learn.org/stable/modules/linear_model.html#logistic-regression\n",
      "  n_iter_i = _check_optimize_result(\n",
      "/home/block/anaconda3/lib/python3.8/site-packages/sklearn/linear_model/_logistic.py:762: ConvergenceWarning: lbfgs failed to converge (status=1):\n",
      "STOP: TOTAL NO. of ITERATIONS REACHED LIMIT.\n",
      "\n",
      "Increase the number of iterations (max_iter) or scale the data as shown in:\n",
      "    https://scikit-learn.org/stable/modules/preprocessing.html\n",
      "Please also refer to the documentation for alternative solver options:\n",
      "    https://scikit-learn.org/stable/modules/linear_model.html#logistic-regression\n",
      "  n_iter_i = _check_optimize_result(\n",
      "/home/block/anaconda3/lib/python3.8/site-packages/sklearn/linear_model/_logistic.py:762: ConvergenceWarning: lbfgs failed to converge (status=1):\n",
      "STOP: TOTAL NO. of ITERATIONS REACHED LIMIT.\n",
      "\n",
      "Increase the number of iterations (max_iter) or scale the data as shown in:\n",
      "    https://scikit-learn.org/stable/modules/preprocessing.html\n",
      "Please also refer to the documentation for alternative solver options:\n",
      "    https://scikit-learn.org/stable/modules/linear_model.html#logistic-regression\n",
      "  n_iter_i = _check_optimize_result(\n",
      "/home/block/anaconda3/lib/python3.8/site-packages/sklearn/linear_model/_logistic.py:762: ConvergenceWarning: lbfgs failed to converge (status=1):\n",
      "STOP: TOTAL NO. of ITERATIONS REACHED LIMIT.\n",
      "\n",
      "Increase the number of iterations (max_iter) or scale the data as shown in:\n",
      "    https://scikit-learn.org/stable/modules/preprocessing.html\n",
      "Please also refer to the documentation for alternative solver options:\n",
      "    https://scikit-learn.org/stable/modules/linear_model.html#logistic-regression\n",
      "  n_iter_i = _check_optimize_result(\n",
      "/home/block/anaconda3/lib/python3.8/site-packages/sklearn/linear_model/_logistic.py:762: ConvergenceWarning: lbfgs failed to converge (status=1):\n",
      "STOP: TOTAL NO. of ITERATIONS REACHED LIMIT.\n",
      "\n",
      "Increase the number of iterations (max_iter) or scale the data as shown in:\n",
      "    https://scikit-learn.org/stable/modules/preprocessing.html\n",
      "Please also refer to the documentation for alternative solver options:\n",
      "    https://scikit-learn.org/stable/modules/linear_model.html#logistic-regression\n",
      "  n_iter_i = _check_optimize_result(\n",
      "/home/block/anaconda3/lib/python3.8/site-packages/sklearn/linear_model/_logistic.py:762: ConvergenceWarning: lbfgs failed to converge (status=1):\n",
      "STOP: TOTAL NO. of ITERATIONS REACHED LIMIT.\n",
      "\n",
      "Increase the number of iterations (max_iter) or scale the data as shown in:\n",
      "    https://scikit-learn.org/stable/modules/preprocessing.html\n",
      "Please also refer to the documentation for alternative solver options:\n",
      "    https://scikit-learn.org/stable/modules/linear_model.html#logistic-regression\n",
      "  n_iter_i = _check_optimize_result(\n",
      "/home/block/anaconda3/lib/python3.8/site-packages/sklearn/model_selection/_validation.py:548: FitFailedWarning: Estimator fit failed. The score on this train-test partition for these parameters will be set to nan. Details: \n",
      "Traceback (most recent call last):\n",
      "  File \"/home/block/anaconda3/lib/python3.8/site-packages/sklearn/model_selection/_validation.py\", line 531, in _fit_and_score\n",
      "    estimator.fit(X_train, y_train, **fit_params)\n",
      "  File \"/home/block/anaconda3/lib/python3.8/site-packages/sklearn/linear_model/_logistic.py\", line 1304, in fit\n",
      "    solver = _check_solver(self.solver, self.penalty, self.dual)\n",
      "  File \"/home/block/anaconda3/lib/python3.8/site-packages/sklearn/linear_model/_logistic.py\", line 442, in _check_solver\n",
      "    raise ValueError(\"Solver %s supports only 'l2' or 'none' penalties, \"\n",
      "ValueError: Solver lbfgs supports only 'l2' or 'none' penalties, got l1 penalty.\n",
      "\n",
      "  warnings.warn(\"Estimator fit failed. The score on this train-test\"\n",
      "/home/block/anaconda3/lib/python3.8/site-packages/sklearn/linear_model/_logistic.py:762: ConvergenceWarning: lbfgs failed to converge (status=1):\n",
      "STOP: TOTAL NO. of ITERATIONS REACHED LIMIT.\n",
      "\n",
      "Increase the number of iterations (max_iter) or scale the data as shown in:\n",
      "    https://scikit-learn.org/stable/modules/preprocessing.html\n",
      "Please also refer to the documentation for alternative solver options:\n",
      "    https://scikit-learn.org/stable/modules/linear_model.html#logistic-regression\n",
      "  n_iter_i = _check_optimize_result(\n"
     ]
    },
    {
     "name": "stderr",
     "output_type": "stream",
     "text": [
      "/home/block/anaconda3/lib/python3.8/site-packages/sklearn/linear_model/_logistic.py:762: ConvergenceWarning: lbfgs failed to converge (status=1):\n",
      "STOP: TOTAL NO. of ITERATIONS REACHED LIMIT.\n",
      "\n",
      "Increase the number of iterations (max_iter) or scale the data as shown in:\n",
      "    https://scikit-learn.org/stable/modules/preprocessing.html\n",
      "Please also refer to the documentation for alternative solver options:\n",
      "    https://scikit-learn.org/stable/modules/linear_model.html#logistic-regression\n",
      "  n_iter_i = _check_optimize_result(\n",
      "/home/block/anaconda3/lib/python3.8/site-packages/sklearn/linear_model/_logistic.py:762: ConvergenceWarning: lbfgs failed to converge (status=1):\n",
      "STOP: TOTAL NO. of ITERATIONS REACHED LIMIT.\n",
      "\n",
      "Increase the number of iterations (max_iter) or scale the data as shown in:\n",
      "    https://scikit-learn.org/stable/modules/preprocessing.html\n",
      "Please also refer to the documentation for alternative solver options:\n",
      "    https://scikit-learn.org/stable/modules/linear_model.html#logistic-regression\n",
      "  n_iter_i = _check_optimize_result(\n",
      "/home/block/anaconda3/lib/python3.8/site-packages/sklearn/linear_model/_logistic.py:762: ConvergenceWarning: lbfgs failed to converge (status=1):\n",
      "STOP: TOTAL NO. of ITERATIONS REACHED LIMIT.\n",
      "\n",
      "Increase the number of iterations (max_iter) or scale the data as shown in:\n",
      "    https://scikit-learn.org/stable/modules/preprocessing.html\n",
      "Please also refer to the documentation for alternative solver options:\n",
      "    https://scikit-learn.org/stable/modules/linear_model.html#logistic-regression\n",
      "  n_iter_i = _check_optimize_result(\n",
      "/home/block/anaconda3/lib/python3.8/site-packages/sklearn/linear_model/_logistic.py:762: ConvergenceWarning: lbfgs failed to converge (status=1):\n",
      "STOP: TOTAL NO. of ITERATIONS REACHED LIMIT.\n",
      "\n",
      "Increase the number of iterations (max_iter) or scale the data as shown in:\n",
      "    https://scikit-learn.org/stable/modules/preprocessing.html\n",
      "Please also refer to the documentation for alternative solver options:\n",
      "    https://scikit-learn.org/stable/modules/linear_model.html#logistic-regression\n",
      "  n_iter_i = _check_optimize_result(\n",
      "/home/block/anaconda3/lib/python3.8/site-packages/sklearn/linear_model/_logistic.py:762: ConvergenceWarning: lbfgs failed to converge (status=1):\n",
      "STOP: TOTAL NO. of ITERATIONS REACHED LIMIT.\n",
      "\n",
      "Increase the number of iterations (max_iter) or scale the data as shown in:\n",
      "    https://scikit-learn.org/stable/modules/preprocessing.html\n",
      "Please also refer to the documentation for alternative solver options:\n",
      "    https://scikit-learn.org/stable/modules/linear_model.html#logistic-regression\n",
      "  n_iter_i = _check_optimize_result(\n",
      "/home/block/anaconda3/lib/python3.8/site-packages/sklearn/linear_model/_logistic.py:762: ConvergenceWarning: lbfgs failed to converge (status=1):\n",
      "STOP: TOTAL NO. of ITERATIONS REACHED LIMIT.\n",
      "\n",
      "Increase the number of iterations (max_iter) or scale the data as shown in:\n",
      "    https://scikit-learn.org/stable/modules/preprocessing.html\n",
      "Please also refer to the documentation for alternative solver options:\n",
      "    https://scikit-learn.org/stable/modules/linear_model.html#logistic-regression\n",
      "  n_iter_i = _check_optimize_result(\n",
      "/home/block/anaconda3/lib/python3.8/site-packages/sklearn/linear_model/_logistic.py:762: ConvergenceWarning: lbfgs failed to converge (status=1):\n",
      "STOP: TOTAL NO. of ITERATIONS REACHED LIMIT.\n",
      "\n",
      "Increase the number of iterations (max_iter) or scale the data as shown in:\n",
      "    https://scikit-learn.org/stable/modules/preprocessing.html\n",
      "Please also refer to the documentation for alternative solver options:\n",
      "    https://scikit-learn.org/stable/modules/linear_model.html#logistic-regression\n",
      "  n_iter_i = _check_optimize_result(\n",
      "/home/block/anaconda3/lib/python3.8/site-packages/sklearn/linear_model/_logistic.py:762: ConvergenceWarning: lbfgs failed to converge (status=1):\n",
      "STOP: TOTAL NO. of ITERATIONS REACHED LIMIT.\n",
      "\n",
      "Increase the number of iterations (max_iter) or scale the data as shown in:\n",
      "    https://scikit-learn.org/stable/modules/preprocessing.html\n",
      "Please also refer to the documentation for alternative solver options:\n",
      "    https://scikit-learn.org/stable/modules/linear_model.html#logistic-regression\n",
      "  n_iter_i = _check_optimize_result(\n",
      "/home/block/anaconda3/lib/python3.8/site-packages/sklearn/linear_model/_logistic.py:762: ConvergenceWarning: lbfgs failed to converge (status=1):\n",
      "STOP: TOTAL NO. of ITERATIONS REACHED LIMIT.\n",
      "\n",
      "Increase the number of iterations (max_iter) or scale the data as shown in:\n",
      "    https://scikit-learn.org/stable/modules/preprocessing.html\n",
      "Please also refer to the documentation for alternative solver options:\n",
      "    https://scikit-learn.org/stable/modules/linear_model.html#logistic-regression\n",
      "  n_iter_i = _check_optimize_result(\n",
      "/home/block/anaconda3/lib/python3.8/site-packages/sklearn/model_selection/_validation.py:548: FitFailedWarning: Estimator fit failed. The score on this train-test partition for these parameters will be set to nan. Details: \n",
      "Traceback (most recent call last):\n",
      "  File \"/home/block/anaconda3/lib/python3.8/site-packages/sklearn/model_selection/_validation.py\", line 531, in _fit_and_score\n",
      "    estimator.fit(X_train, y_train, **fit_params)\n",
      "  File \"/home/block/anaconda3/lib/python3.8/site-packages/sklearn/linear_model/_logistic.py\", line 1304, in fit\n",
      "    solver = _check_solver(self.solver, self.penalty, self.dual)\n",
      "  File \"/home/block/anaconda3/lib/python3.8/site-packages/sklearn/linear_model/_logistic.py\", line 442, in _check_solver\n",
      "    raise ValueError(\"Solver %s supports only 'l2' or 'none' penalties, \"\n",
      "ValueError: Solver lbfgs supports only 'l2' or 'none' penalties, got l1 penalty.\n",
      "\n",
      "  warnings.warn(\"Estimator fit failed. The score on this train-test\"\n",
      "/home/block/anaconda3/lib/python3.8/site-packages/sklearn/linear_model/_logistic.py:762: ConvergenceWarning: lbfgs failed to converge (status=1):\n",
      "STOP: TOTAL NO. of ITERATIONS REACHED LIMIT.\n",
      "\n",
      "Increase the number of iterations (max_iter) or scale the data as shown in:\n",
      "    https://scikit-learn.org/stable/modules/preprocessing.html\n",
      "Please also refer to the documentation for alternative solver options:\n",
      "    https://scikit-learn.org/stable/modules/linear_model.html#logistic-regression\n",
      "  n_iter_i = _check_optimize_result(\n",
      "/home/block/anaconda3/lib/python3.8/site-packages/sklearn/linear_model/_logistic.py:762: ConvergenceWarning: lbfgs failed to converge (status=1):\n",
      "STOP: TOTAL NO. of ITERATIONS REACHED LIMIT.\n",
      "\n",
      "Increase the number of iterations (max_iter) or scale the data as shown in:\n",
      "    https://scikit-learn.org/stable/modules/preprocessing.html\n",
      "Please also refer to the documentation for alternative solver options:\n",
      "    https://scikit-learn.org/stable/modules/linear_model.html#logistic-regression\n",
      "  n_iter_i = _check_optimize_result(\n",
      "/home/block/anaconda3/lib/python3.8/site-packages/sklearn/linear_model/_logistic.py:762: ConvergenceWarning: lbfgs failed to converge (status=1):\n",
      "STOP: TOTAL NO. of ITERATIONS REACHED LIMIT.\n",
      "\n",
      "Increase the number of iterations (max_iter) or scale the data as shown in:\n",
      "    https://scikit-learn.org/stable/modules/preprocessing.html\n",
      "Please also refer to the documentation for alternative solver options:\n",
      "    https://scikit-learn.org/stable/modules/linear_model.html#logistic-regression\n",
      "  n_iter_i = _check_optimize_result(\n",
      "/home/block/anaconda3/lib/python3.8/site-packages/sklearn/linear_model/_logistic.py:762: ConvergenceWarning: lbfgs failed to converge (status=1):\n",
      "STOP: TOTAL NO. of ITERATIONS REACHED LIMIT.\n",
      "\n",
      "Increase the number of iterations (max_iter) or scale the data as shown in:\n",
      "    https://scikit-learn.org/stable/modules/preprocessing.html\n",
      "Please also refer to the documentation for alternative solver options:\n",
      "    https://scikit-learn.org/stable/modules/linear_model.html#logistic-regression\n",
      "  n_iter_i = _check_optimize_result(\n",
      "/home/block/anaconda3/lib/python3.8/site-packages/sklearn/linear_model/_logistic.py:762: ConvergenceWarning: lbfgs failed to converge (status=1):\n",
      "STOP: TOTAL NO. of ITERATIONS REACHED LIMIT.\n",
      "\n",
      "Increase the number of iterations (max_iter) or scale the data as shown in:\n",
      "    https://scikit-learn.org/stable/modules/preprocessing.html\n",
      "Please also refer to the documentation for alternative solver options:\n",
      "    https://scikit-learn.org/stable/modules/linear_model.html#logistic-regression\n",
      "  n_iter_i = _check_optimize_result(\n"
     ]
    },
    {
     "name": "stderr",
     "output_type": "stream",
     "text": [
      "/home/block/anaconda3/lib/python3.8/site-packages/sklearn/linear_model/_logistic.py:762: ConvergenceWarning: lbfgs failed to converge (status=1):\n",
      "STOP: TOTAL NO. of ITERATIONS REACHED LIMIT.\n",
      "\n",
      "Increase the number of iterations (max_iter) or scale the data as shown in:\n",
      "    https://scikit-learn.org/stable/modules/preprocessing.html\n",
      "Please also refer to the documentation for alternative solver options:\n",
      "    https://scikit-learn.org/stable/modules/linear_model.html#logistic-regression\n",
      "  n_iter_i = _check_optimize_result(\n",
      "/home/block/anaconda3/lib/python3.8/site-packages/sklearn/linear_model/_logistic.py:762: ConvergenceWarning: lbfgs failed to converge (status=1):\n",
      "STOP: TOTAL NO. of ITERATIONS REACHED LIMIT.\n",
      "\n",
      "Increase the number of iterations (max_iter) or scale the data as shown in:\n",
      "    https://scikit-learn.org/stable/modules/preprocessing.html\n",
      "Please also refer to the documentation for alternative solver options:\n",
      "    https://scikit-learn.org/stable/modules/linear_model.html#logistic-regression\n",
      "  n_iter_i = _check_optimize_result(\n",
      "/home/block/anaconda3/lib/python3.8/site-packages/sklearn/linear_model/_logistic.py:762: ConvergenceWarning: lbfgs failed to converge (status=1):\n",
      "STOP: TOTAL NO. of ITERATIONS REACHED LIMIT.\n",
      "\n",
      "Increase the number of iterations (max_iter) or scale the data as shown in:\n",
      "    https://scikit-learn.org/stable/modules/preprocessing.html\n",
      "Please also refer to the documentation for alternative solver options:\n",
      "    https://scikit-learn.org/stable/modules/linear_model.html#logistic-regression\n",
      "  n_iter_i = _check_optimize_result(\n",
      "/home/block/anaconda3/lib/python3.8/site-packages/sklearn/linear_model/_logistic.py:762: ConvergenceWarning: lbfgs failed to converge (status=1):\n",
      "STOP: TOTAL NO. of ITERATIONS REACHED LIMIT.\n",
      "\n",
      "Increase the number of iterations (max_iter) or scale the data as shown in:\n",
      "    https://scikit-learn.org/stable/modules/preprocessing.html\n",
      "Please also refer to the documentation for alternative solver options:\n",
      "    https://scikit-learn.org/stable/modules/linear_model.html#logistic-regression\n",
      "  n_iter_i = _check_optimize_result(\n",
      "/home/block/anaconda3/lib/python3.8/site-packages/sklearn/linear_model/_logistic.py:762: ConvergenceWarning: lbfgs failed to converge (status=1):\n",
      "STOP: TOTAL NO. of ITERATIONS REACHED LIMIT.\n",
      "\n",
      "Increase the number of iterations (max_iter) or scale the data as shown in:\n",
      "    https://scikit-learn.org/stable/modules/preprocessing.html\n",
      "Please also refer to the documentation for alternative solver options:\n",
      "    https://scikit-learn.org/stable/modules/linear_model.html#logistic-regression\n",
      "  n_iter_i = _check_optimize_result(\n",
      "/home/block/anaconda3/lib/python3.8/site-packages/sklearn/model_selection/_validation.py:548: FitFailedWarning: Estimator fit failed. The score on this train-test partition for these parameters will be set to nan. Details: \n",
      "Traceback (most recent call last):\n",
      "  File \"/home/block/anaconda3/lib/python3.8/site-packages/sklearn/model_selection/_validation.py\", line 531, in _fit_and_score\n",
      "    estimator.fit(X_train, y_train, **fit_params)\n",
      "  File \"/home/block/anaconda3/lib/python3.8/site-packages/sklearn/linear_model/_logistic.py\", line 1304, in fit\n",
      "    solver = _check_solver(self.solver, self.penalty, self.dual)\n",
      "  File \"/home/block/anaconda3/lib/python3.8/site-packages/sklearn/linear_model/_logistic.py\", line 442, in _check_solver\n",
      "    raise ValueError(\"Solver %s supports only 'l2' or 'none' penalties, \"\n",
      "ValueError: Solver lbfgs supports only 'l2' or 'none' penalties, got l1 penalty.\n",
      "\n",
      "  warnings.warn(\"Estimator fit failed. The score on this train-test\"\n",
      "/home/block/anaconda3/lib/python3.8/site-packages/sklearn/linear_model/_logistic.py:762: ConvergenceWarning: lbfgs failed to converge (status=1):\n",
      "STOP: TOTAL NO. of ITERATIONS REACHED LIMIT.\n",
      "\n",
      "Increase the number of iterations (max_iter) or scale the data as shown in:\n",
      "    https://scikit-learn.org/stable/modules/preprocessing.html\n",
      "Please also refer to the documentation for alternative solver options:\n",
      "    https://scikit-learn.org/stable/modules/linear_model.html#logistic-regression\n",
      "  n_iter_i = _check_optimize_result(\n",
      "/home/block/anaconda3/lib/python3.8/site-packages/sklearn/linear_model/_logistic.py:762: ConvergenceWarning: lbfgs failed to converge (status=1):\n",
      "STOP: TOTAL NO. of ITERATIONS REACHED LIMIT.\n",
      "\n",
      "Increase the number of iterations (max_iter) or scale the data as shown in:\n",
      "    https://scikit-learn.org/stable/modules/preprocessing.html\n",
      "Please also refer to the documentation for alternative solver options:\n",
      "    https://scikit-learn.org/stable/modules/linear_model.html#logistic-regression\n",
      "  n_iter_i = _check_optimize_result(\n",
      "/home/block/anaconda3/lib/python3.8/site-packages/sklearn/linear_model/_logistic.py:762: ConvergenceWarning: lbfgs failed to converge (status=1):\n",
      "STOP: TOTAL NO. of ITERATIONS REACHED LIMIT.\n",
      "\n",
      "Increase the number of iterations (max_iter) or scale the data as shown in:\n",
      "    https://scikit-learn.org/stable/modules/preprocessing.html\n",
      "Please also refer to the documentation for alternative solver options:\n",
      "    https://scikit-learn.org/stable/modules/linear_model.html#logistic-regression\n",
      "  n_iter_i = _check_optimize_result(\n",
      "/home/block/anaconda3/lib/python3.8/site-packages/sklearn/linear_model/_logistic.py:762: ConvergenceWarning: lbfgs failed to converge (status=1):\n",
      "STOP: TOTAL NO. of ITERATIONS REACHED LIMIT.\n",
      "\n",
      "Increase the number of iterations (max_iter) or scale the data as shown in:\n",
      "    https://scikit-learn.org/stable/modules/preprocessing.html\n",
      "Please also refer to the documentation for alternative solver options:\n",
      "    https://scikit-learn.org/stable/modules/linear_model.html#logistic-regression\n",
      "  n_iter_i = _check_optimize_result(\n",
      "/home/block/anaconda3/lib/python3.8/site-packages/sklearn/linear_model/_logistic.py:762: ConvergenceWarning: lbfgs failed to converge (status=1):\n",
      "STOP: TOTAL NO. of ITERATIONS REACHED LIMIT.\n",
      "\n",
      "Increase the number of iterations (max_iter) or scale the data as shown in:\n",
      "    https://scikit-learn.org/stable/modules/preprocessing.html\n",
      "Please also refer to the documentation for alternative solver options:\n",
      "    https://scikit-learn.org/stable/modules/linear_model.html#logistic-regression\n",
      "  n_iter_i = _check_optimize_result(\n",
      "/home/block/anaconda3/lib/python3.8/site-packages/sklearn/linear_model/_logistic.py:762: ConvergenceWarning: lbfgs failed to converge (status=1):\n",
      "STOP: TOTAL NO. of ITERATIONS REACHED LIMIT.\n",
      "\n",
      "Increase the number of iterations (max_iter) or scale the data as shown in:\n",
      "    https://scikit-learn.org/stable/modules/preprocessing.html\n",
      "Please also refer to the documentation for alternative solver options:\n",
      "    https://scikit-learn.org/stable/modules/linear_model.html#logistic-regression\n",
      "  n_iter_i = _check_optimize_result(\n",
      "/home/block/anaconda3/lib/python3.8/site-packages/sklearn/linear_model/_logistic.py:762: ConvergenceWarning: lbfgs failed to converge (status=1):\n",
      "STOP: TOTAL NO. of ITERATIONS REACHED LIMIT.\n",
      "\n",
      "Increase the number of iterations (max_iter) or scale the data as shown in:\n",
      "    https://scikit-learn.org/stable/modules/preprocessing.html\n",
      "Please also refer to the documentation for alternative solver options:\n",
      "    https://scikit-learn.org/stable/modules/linear_model.html#logistic-regression\n",
      "  n_iter_i = _check_optimize_result(\n",
      "/home/block/anaconda3/lib/python3.8/site-packages/sklearn/linear_model/_logistic.py:762: ConvergenceWarning: lbfgs failed to converge (status=1):\n",
      "STOP: TOTAL NO. of ITERATIONS REACHED LIMIT.\n",
      "\n",
      "Increase the number of iterations (max_iter) or scale the data as shown in:\n",
      "    https://scikit-learn.org/stable/modules/preprocessing.html\n",
      "Please also refer to the documentation for alternative solver options:\n",
      "    https://scikit-learn.org/stable/modules/linear_model.html#logistic-regression\n",
      "  n_iter_i = _check_optimize_result(\n",
      "/home/block/anaconda3/lib/python3.8/site-packages/sklearn/linear_model/_logistic.py:762: ConvergenceWarning: lbfgs failed to converge (status=1):\n",
      "STOP: TOTAL NO. of ITERATIONS REACHED LIMIT.\n",
      "\n",
      "Increase the number of iterations (max_iter) or scale the data as shown in:\n",
      "    https://scikit-learn.org/stable/modules/preprocessing.html\n",
      "Please also refer to the documentation for alternative solver options:\n",
      "    https://scikit-learn.org/stable/modules/linear_model.html#logistic-regression\n",
      "  n_iter_i = _check_optimize_result(\n"
     ]
    },
    {
     "name": "stderr",
     "output_type": "stream",
     "text": [
      "/home/block/anaconda3/lib/python3.8/site-packages/sklearn/linear_model/_logistic.py:762: ConvergenceWarning: lbfgs failed to converge (status=1):\n",
      "STOP: TOTAL NO. of ITERATIONS REACHED LIMIT.\n",
      "\n",
      "Increase the number of iterations (max_iter) or scale the data as shown in:\n",
      "    https://scikit-learn.org/stable/modules/preprocessing.html\n",
      "Please also refer to the documentation for alternative solver options:\n",
      "    https://scikit-learn.org/stable/modules/linear_model.html#logistic-regression\n",
      "  n_iter_i = _check_optimize_result(\n",
      "/home/block/anaconda3/lib/python3.8/site-packages/sklearn/model_selection/_validation.py:548: FitFailedWarning: Estimator fit failed. The score on this train-test partition for these parameters will be set to nan. Details: \n",
      "Traceback (most recent call last):\n",
      "  File \"/home/block/anaconda3/lib/python3.8/site-packages/sklearn/model_selection/_validation.py\", line 531, in _fit_and_score\n",
      "    estimator.fit(X_train, y_train, **fit_params)\n",
      "  File \"/home/block/anaconda3/lib/python3.8/site-packages/sklearn/linear_model/_logistic.py\", line 1304, in fit\n",
      "    solver = _check_solver(self.solver, self.penalty, self.dual)\n",
      "  File \"/home/block/anaconda3/lib/python3.8/site-packages/sklearn/linear_model/_logistic.py\", line 442, in _check_solver\n",
      "    raise ValueError(\"Solver %s supports only 'l2' or 'none' penalties, \"\n",
      "ValueError: Solver lbfgs supports only 'l2' or 'none' penalties, got l1 penalty.\n",
      "\n",
      "  warnings.warn(\"Estimator fit failed. The score on this train-test\"\n",
      "/home/block/anaconda3/lib/python3.8/site-packages/sklearn/linear_model/_logistic.py:762: ConvergenceWarning: lbfgs failed to converge (status=1):\n",
      "STOP: TOTAL NO. of ITERATIONS REACHED LIMIT.\n",
      "\n",
      "Increase the number of iterations (max_iter) or scale the data as shown in:\n",
      "    https://scikit-learn.org/stable/modules/preprocessing.html\n",
      "Please also refer to the documentation for alternative solver options:\n",
      "    https://scikit-learn.org/stable/modules/linear_model.html#logistic-regression\n",
      "  n_iter_i = _check_optimize_result(\n",
      "/home/block/anaconda3/lib/python3.8/site-packages/sklearn/linear_model/_logistic.py:762: ConvergenceWarning: lbfgs failed to converge (status=1):\n",
      "STOP: TOTAL NO. of ITERATIONS REACHED LIMIT.\n",
      "\n",
      "Increase the number of iterations (max_iter) or scale the data as shown in:\n",
      "    https://scikit-learn.org/stable/modules/preprocessing.html\n",
      "Please also refer to the documentation for alternative solver options:\n",
      "    https://scikit-learn.org/stable/modules/linear_model.html#logistic-regression\n",
      "  n_iter_i = _check_optimize_result(\n",
      "/home/block/anaconda3/lib/python3.8/site-packages/sklearn/linear_model/_logistic.py:762: ConvergenceWarning: lbfgs failed to converge (status=1):\n",
      "STOP: TOTAL NO. of ITERATIONS REACHED LIMIT.\n",
      "\n",
      "Increase the number of iterations (max_iter) or scale the data as shown in:\n",
      "    https://scikit-learn.org/stable/modules/preprocessing.html\n",
      "Please also refer to the documentation for alternative solver options:\n",
      "    https://scikit-learn.org/stable/modules/linear_model.html#logistic-regression\n",
      "  n_iter_i = _check_optimize_result(\n",
      "/home/block/anaconda3/lib/python3.8/site-packages/sklearn/linear_model/_logistic.py:762: ConvergenceWarning: lbfgs failed to converge (status=1):\n",
      "STOP: TOTAL NO. of ITERATIONS REACHED LIMIT.\n",
      "\n",
      "Increase the number of iterations (max_iter) or scale the data as shown in:\n",
      "    https://scikit-learn.org/stable/modules/preprocessing.html\n",
      "Please also refer to the documentation for alternative solver options:\n",
      "    https://scikit-learn.org/stable/modules/linear_model.html#logistic-regression\n",
      "  n_iter_i = _check_optimize_result(\n",
      "/home/block/anaconda3/lib/python3.8/site-packages/sklearn/linear_model/_logistic.py:762: ConvergenceWarning: lbfgs failed to converge (status=1):\n",
      "STOP: TOTAL NO. of ITERATIONS REACHED LIMIT.\n",
      "\n",
      "Increase the number of iterations (max_iter) or scale the data as shown in:\n",
      "    https://scikit-learn.org/stable/modules/preprocessing.html\n",
      "Please also refer to the documentation for alternative solver options:\n",
      "    https://scikit-learn.org/stable/modules/linear_model.html#logistic-regression\n",
      "  n_iter_i = _check_optimize_result(\n",
      "/home/block/anaconda3/lib/python3.8/site-packages/sklearn/linear_model/_logistic.py:762: ConvergenceWarning: lbfgs failed to converge (status=1):\n",
      "STOP: TOTAL NO. of ITERATIONS REACHED LIMIT.\n",
      "\n",
      "Increase the number of iterations (max_iter) or scale the data as shown in:\n",
      "    https://scikit-learn.org/stable/modules/preprocessing.html\n",
      "Please also refer to the documentation for alternative solver options:\n",
      "    https://scikit-learn.org/stable/modules/linear_model.html#logistic-regression\n",
      "  n_iter_i = _check_optimize_result(\n",
      "/home/block/anaconda3/lib/python3.8/site-packages/sklearn/linear_model/_logistic.py:762: ConvergenceWarning: lbfgs failed to converge (status=1):\n",
      "STOP: TOTAL NO. of ITERATIONS REACHED LIMIT.\n",
      "\n",
      "Increase the number of iterations (max_iter) or scale the data as shown in:\n",
      "    https://scikit-learn.org/stable/modules/preprocessing.html\n",
      "Please also refer to the documentation for alternative solver options:\n",
      "    https://scikit-learn.org/stable/modules/linear_model.html#logistic-regression\n",
      "  n_iter_i = _check_optimize_result(\n",
      "/home/block/anaconda3/lib/python3.8/site-packages/sklearn/linear_model/_logistic.py:762: ConvergenceWarning: lbfgs failed to converge (status=1):\n",
      "STOP: TOTAL NO. of ITERATIONS REACHED LIMIT.\n",
      "\n",
      "Increase the number of iterations (max_iter) or scale the data as shown in:\n",
      "    https://scikit-learn.org/stable/modules/preprocessing.html\n",
      "Please also refer to the documentation for alternative solver options:\n",
      "    https://scikit-learn.org/stable/modules/linear_model.html#logistic-regression\n",
      "  n_iter_i = _check_optimize_result(\n",
      "/home/block/anaconda3/lib/python3.8/site-packages/sklearn/linear_model/_logistic.py:762: ConvergenceWarning: lbfgs failed to converge (status=1):\n",
      "STOP: TOTAL NO. of ITERATIONS REACHED LIMIT.\n",
      "\n",
      "Increase the number of iterations (max_iter) or scale the data as shown in:\n",
      "    https://scikit-learn.org/stable/modules/preprocessing.html\n",
      "Please also refer to the documentation for alternative solver options:\n",
      "    https://scikit-learn.org/stable/modules/linear_model.html#logistic-regression\n",
      "  n_iter_i = _check_optimize_result(\n",
      "/home/block/anaconda3/lib/python3.8/site-packages/sklearn/linear_model/_logistic.py:762: ConvergenceWarning: lbfgs failed to converge (status=1):\n",
      "STOP: TOTAL NO. of ITERATIONS REACHED LIMIT.\n",
      "\n",
      "Increase the number of iterations (max_iter) or scale the data as shown in:\n",
      "    https://scikit-learn.org/stable/modules/preprocessing.html\n",
      "Please also refer to the documentation for alternative solver options:\n",
      "    https://scikit-learn.org/stable/modules/linear_model.html#logistic-regression\n",
      "  n_iter_i = _check_optimize_result(\n",
      "/home/block/anaconda3/lib/python3.8/site-packages/sklearn/model_selection/_validation.py:548: FitFailedWarning: Estimator fit failed. The score on this train-test partition for these parameters will be set to nan. Details: \n",
      "Traceback (most recent call last):\n",
      "  File \"/home/block/anaconda3/lib/python3.8/site-packages/sklearn/model_selection/_validation.py\", line 531, in _fit_and_score\n",
      "    estimator.fit(X_train, y_train, **fit_params)\n",
      "  File \"/home/block/anaconda3/lib/python3.8/site-packages/sklearn/linear_model/_logistic.py\", line 1304, in fit\n",
      "    solver = _check_solver(self.solver, self.penalty, self.dual)\n",
      "  File \"/home/block/anaconda3/lib/python3.8/site-packages/sklearn/linear_model/_logistic.py\", line 442, in _check_solver\n",
      "    raise ValueError(\"Solver %s supports only 'l2' or 'none' penalties, \"\n",
      "ValueError: Solver lbfgs supports only 'l2' or 'none' penalties, got l1 penalty.\n",
      "\n",
      "  warnings.warn(\"Estimator fit failed. The score on this train-test\"\n",
      "/home/block/anaconda3/lib/python3.8/site-packages/sklearn/linear_model/_logistic.py:762: ConvergenceWarning: lbfgs failed to converge (status=1):\n",
      "STOP: TOTAL NO. of ITERATIONS REACHED LIMIT.\n",
      "\n",
      "Increase the number of iterations (max_iter) or scale the data as shown in:\n",
      "    https://scikit-learn.org/stable/modules/preprocessing.html\n",
      "Please also refer to the documentation for alternative solver options:\n",
      "    https://scikit-learn.org/stable/modules/linear_model.html#logistic-regression\n",
      "  n_iter_i = _check_optimize_result(\n",
      "/home/block/anaconda3/lib/python3.8/site-packages/sklearn/linear_model/_logistic.py:762: ConvergenceWarning: lbfgs failed to converge (status=1):\n",
      "STOP: TOTAL NO. of ITERATIONS REACHED LIMIT.\n",
      "\n",
      "Increase the number of iterations (max_iter) or scale the data as shown in:\n",
      "    https://scikit-learn.org/stable/modules/preprocessing.html\n",
      "Please also refer to the documentation for alternative solver options:\n",
      "    https://scikit-learn.org/stable/modules/linear_model.html#logistic-regression\n",
      "  n_iter_i = _check_optimize_result(\n"
     ]
    },
    {
     "name": "stderr",
     "output_type": "stream",
     "text": [
      "/home/block/anaconda3/lib/python3.8/site-packages/sklearn/linear_model/_logistic.py:762: ConvergenceWarning: lbfgs failed to converge (status=1):\n",
      "STOP: TOTAL NO. of ITERATIONS REACHED LIMIT.\n",
      "\n",
      "Increase the number of iterations (max_iter) or scale the data as shown in:\n",
      "    https://scikit-learn.org/stable/modules/preprocessing.html\n",
      "Please also refer to the documentation for alternative solver options:\n",
      "    https://scikit-learn.org/stable/modules/linear_model.html#logistic-regression\n",
      "  n_iter_i = _check_optimize_result(\n",
      "/home/block/anaconda3/lib/python3.8/site-packages/sklearn/linear_model/_logistic.py:762: ConvergenceWarning: lbfgs failed to converge (status=1):\n",
      "STOP: TOTAL NO. of ITERATIONS REACHED LIMIT.\n",
      "\n",
      "Increase the number of iterations (max_iter) or scale the data as shown in:\n",
      "    https://scikit-learn.org/stable/modules/preprocessing.html\n",
      "Please also refer to the documentation for alternative solver options:\n",
      "    https://scikit-learn.org/stable/modules/linear_model.html#logistic-regression\n",
      "  n_iter_i = _check_optimize_result(\n",
      "/home/block/anaconda3/lib/python3.8/site-packages/sklearn/linear_model/_logistic.py:762: ConvergenceWarning: lbfgs failed to converge (status=1):\n",
      "STOP: TOTAL NO. of ITERATIONS REACHED LIMIT.\n",
      "\n",
      "Increase the number of iterations (max_iter) or scale the data as shown in:\n",
      "    https://scikit-learn.org/stable/modules/preprocessing.html\n",
      "Please also refer to the documentation for alternative solver options:\n",
      "    https://scikit-learn.org/stable/modules/linear_model.html#logistic-regression\n",
      "  n_iter_i = _check_optimize_result(\n",
      "/home/block/anaconda3/lib/python3.8/site-packages/sklearn/linear_model/_logistic.py:762: ConvergenceWarning: lbfgs failed to converge (status=1):\n",
      "STOP: TOTAL NO. of ITERATIONS REACHED LIMIT.\n",
      "\n",
      "Increase the number of iterations (max_iter) or scale the data as shown in:\n",
      "    https://scikit-learn.org/stable/modules/preprocessing.html\n",
      "Please also refer to the documentation for alternative solver options:\n",
      "    https://scikit-learn.org/stable/modules/linear_model.html#logistic-regression\n",
      "  n_iter_i = _check_optimize_result(\n",
      "/home/block/anaconda3/lib/python3.8/site-packages/sklearn/linear_model/_logistic.py:762: ConvergenceWarning: lbfgs failed to converge (status=1):\n",
      "STOP: TOTAL NO. of ITERATIONS REACHED LIMIT.\n",
      "\n",
      "Increase the number of iterations (max_iter) or scale the data as shown in:\n",
      "    https://scikit-learn.org/stable/modules/preprocessing.html\n",
      "Please also refer to the documentation for alternative solver options:\n",
      "    https://scikit-learn.org/stable/modules/linear_model.html#logistic-regression\n",
      "  n_iter_i = _check_optimize_result(\n",
      "/home/block/anaconda3/lib/python3.8/site-packages/sklearn/linear_model/_logistic.py:762: ConvergenceWarning: lbfgs failed to converge (status=1):\n",
      "STOP: TOTAL NO. of ITERATIONS REACHED LIMIT.\n",
      "\n",
      "Increase the number of iterations (max_iter) or scale the data as shown in:\n",
      "    https://scikit-learn.org/stable/modules/preprocessing.html\n",
      "Please also refer to the documentation for alternative solver options:\n",
      "    https://scikit-learn.org/stable/modules/linear_model.html#logistic-regression\n",
      "  n_iter_i = _check_optimize_result(\n",
      "/home/block/anaconda3/lib/python3.8/site-packages/sklearn/linear_model/_logistic.py:762: ConvergenceWarning: lbfgs failed to converge (status=1):\n",
      "STOP: TOTAL NO. of ITERATIONS REACHED LIMIT.\n",
      "\n",
      "Increase the number of iterations (max_iter) or scale the data as shown in:\n",
      "    https://scikit-learn.org/stable/modules/preprocessing.html\n",
      "Please also refer to the documentation for alternative solver options:\n",
      "    https://scikit-learn.org/stable/modules/linear_model.html#logistic-regression\n",
      "  n_iter_i = _check_optimize_result(\n",
      "/home/block/anaconda3/lib/python3.8/site-packages/sklearn/linear_model/_logistic.py:762: ConvergenceWarning: lbfgs failed to converge (status=1):\n",
      "STOP: TOTAL NO. of ITERATIONS REACHED LIMIT.\n",
      "\n",
      "Increase the number of iterations (max_iter) or scale the data as shown in:\n",
      "    https://scikit-learn.org/stable/modules/preprocessing.html\n",
      "Please also refer to the documentation for alternative solver options:\n",
      "    https://scikit-learn.org/stable/modules/linear_model.html#logistic-regression\n",
      "  n_iter_i = _check_optimize_result(\n"
     ]
    },
    {
     "name": "stdout",
     "output_type": "stream",
     "text": [
      "tuned hpyerparameters :(best parameters)  {'C': 0.001, 'penalty': 'l2'}\n",
      "accuracy : 0.5797635933806146\n"
     ]
    }
   ],
   "source": [
    "# Grid search cross validation\n",
    "from sklearn.model_selection import GridSearchCV\n",
    "from sklearn.linear_model import LogisticRegression\n",
    "grid={\"C\":np.logspace(-3,3,7), \"penalty\":[\"l1\",\"l2\"]}# l1 lasso l2 ridge\n",
    "logreg=LogisticRegression()\n",
    "logreg_cv=GridSearchCV(logreg,grid,cv=10)\n",
    "logreg_cv.fit(X_train,y_train)\n",
    "\n",
    "print(\"tuned huperparameter :(best parameters) \",logreg_cv.best_params_)\n",
    "print(\"accuracy :\",logreg_cv.best_score_)"
   ]
  },
  {
   "cell_type": "code",
   "execution_count": 30,
   "metadata": {},
   "outputs": [
    {
     "name": "stdout",
     "output_type": "stream",
     "text": [
      "buy recomendations: 53\n",
      "short recomendations: 44\n"
     ]
    }
   ],
   "source": [
    "zero = 0\n",
    "two = 0\n",
    "res = logreg_cv.predict(X_test)\n",
    "for x in res:\n",
    "    if x ==0:\n",
    "        zero +=1\n",
    "    if x ==2:\n",
    "        two +=1\n",
    "print('buy recomendations: '+str(two))\n",
    "print('short recomendations: '+str(zero))\n",
    "\n",
    "        "
   ]
  },
  {
   "cell_type": "code",
   "execution_count": 112,
   "metadata": {},
   "outputs": [
    {
     "name": "stdout",
     "output_type": "stream",
     "text": [
      "Fitting 5 folds for each of 24 candidates, totalling 120 fits\n"
     ]
    },
    {
     "name": "stderr",
     "output_type": "stream",
     "text": [
      "[Parallel(n_jobs=-1)]: Using backend LokyBackend with 4 concurrent workers.\n",
      "[Parallel(n_jobs=-1)]: Done   5 tasks      | elapsed:  9.5min\n",
      "[Parallel(n_jobs=-1)]: Done  10 tasks      | elapsed: 18.2min\n",
      "[Parallel(n_jobs=-1)]: Done  17 tasks      | elapsed: 27.1min\n",
      "[Parallel(n_jobs=-1)]: Done  24 tasks      | elapsed: 40.3min\n",
      "[Parallel(n_jobs=-1)]: Done  33 tasks      | elapsed: 50.7min\n",
      "[Parallel(n_jobs=-1)]: Done  42 tasks      | elapsed: 65.9min\n",
      "[Parallel(n_jobs=-1)]: Done  53 tasks      | elapsed: 84.0min\n",
      "[Parallel(n_jobs=-1)]: Done  64 tasks      | elapsed: 97.5min\n",
      "[Parallel(n_jobs=-1)]: Done  77 tasks      | elapsed: 117.5min\n",
      "[Parallel(n_jobs=-1)]: Done  90 tasks      | elapsed: 136.4min\n",
      "[Parallel(n_jobs=-1)]: Done 105 tasks      | elapsed: 159.1min\n",
      "[Parallel(n_jobs=-1)]: Done 120 out of 120 | elapsed: 178.7min finished\n"
     ]
    },
    {
     "name": "stdout",
     "output_type": "stream",
     "text": [
      "MLP regression for in-sample and out-of-sample cases:\n",
      "0.9893344709897611\n",
      "0.5472636815920398\n"
     ]
    }
   ],
   "source": [
    "from sklearn.neural_network import MLPClassifier\n",
    "from sklearn.model_selection import GridSearchCV\n",
    "\n",
    "\n",
    "parameters = { 'max_iter': [1000,1100], 'alpha': 10.0 ** -np.arange(3, 7), 'hidden_layer_sizes':np.arange(2, 3), 'random_state':[0,1,2]}\n",
    "MLP = GridSearchCV(MLPClassifier(), parameters, n_jobs=-1,verbose=10)\n",
    "\n",
    "result_mlp = MLP.fit(X_train, y_train)\n",
    "print('MLP regression for in-sample and out-of-sample cases:')\n",
    "print(accuracy_score(result_mlp.predict(X_train),y_train))\n",
    "print(accuracy_score(result_mlp.predict(X_test),y_test))\n"
   ]
  },
  {
   "cell_type": "code",
   "execution_count": 144,
   "metadata": {},
   "outputs": [
    {
     "name": "stdout",
     "output_type": "stream",
     "text": [
      "buy recomendations: 60\n",
      "short recomendations: 145\n",
      "hold recomendations: 800\n"
     ]
    }
   ],
   "source": [
    "mlpreds = MLP.predict(X_test)\n",
    "zero = 0\n",
    "two = 0\n",
    "one=0\n",
    "for x in mlpreds:\n",
    "    if x ==0:\n",
    "        zero +=1\n",
    "    if x ==2:\n",
    "        two +=1\n",
    "    if x==1:\n",
    "        one +=1\n",
    "print('buy recomendations: '+str(two))\n",
    "print('short recomendations: '+str(zero))\n",
    "print('hold recomendations: '+str(one))\n"
   ]
  },
  {
   "cell_type": "code",
   "execution_count": 145,
   "metadata": {},
   "outputs": [
    {
     "data": {
      "text/plain": [
       "{'alpha': 0.001, 'hidden_layer_sizes': 2, 'max_iter': 1000, 'random_state': 0}"
      ]
     },
     "execution_count": 145,
     "metadata": {},
     "output_type": "execute_result"
    }
   ],
   "source": [
    "MLP.best_params_"
   ]
  },
  {
   "cell_type": "markdown",
   "metadata": {},
   "source": [
    "# Multilayer-Perceptron"
   ]
  },
  {
   "cell_type": "code",
   "execution_count": 146,
   "metadata": {},
   "outputs": [
    {
     "name": "stderr",
     "output_type": "stream",
     "text": [
      "<ipython-input-146-86c7dcd0b89e>:2: SettingWithCopyWarning: \n",
      "A value is trying to be set on a copy of a slice from a DataFrame.\n",
      "Try using .loc[row_indexer,col_indexer] = value instead\n",
      "\n",
      "See the caveats in the documentation: https://pandas.pydata.org/pandas-docs/stable/user_guide/indexing.html#returning-a-view-versus-a-copy\n",
      "  sd['preds'] = mlpreds\n"
     ]
    }
   ],
   "source": [
    "sd = dp.tail(1005)\n",
    "sd['preds'] = mlpreds\n",
    "sd = sd.sort_values(by=['Bought'],ascending=True)"
   ]
  },
  {
   "cell_type": "code",
   "execution_count": 154,
   "metadata": {},
   "outputs": [
    {
     "name": "stdout",
     "output_type": "stream",
     "text": [
      "114.93876685830742\n"
     ]
    },
    {
     "name": "stderr",
     "output_type": "stream",
     "text": [
      "<ipython-input-154-0cd2c075edb5>:5: SettingWithCopyWarning: \n",
      "A value is trying to be set on a copy of a slice from a DataFrame.\n",
      "Try using .loc[row_indexer,col_indexer] = value instead\n",
      "\n",
      "See the caveats in the documentation: https://pandas.pydata.org/pandas-docs/stable/user_guide/indexing.html#returning-a-view-versus-a-copy\n",
      "  sd['preds'] = mlpreds\n"
     ]
    }
   ],
   "source": [
    "#1000 pound portfolio stocks selected\n",
    "#Lock all funds into it\n",
    "#funds are only locked when buying \n",
    "sd = dp.tail(1005)\n",
    "sd['preds'] = mlpreds\n",
    "sd = sd.sort_values(by=['Bought'],ascending=True)\n",
    "balance = 1000\n",
    "locked = False\n",
    "lockeduntil = sd['Bought'].min()\n",
    "results = []\n",
    "\n",
    "results = []\n",
    "\n",
    "for x in sd.iterrows():\n",
    "    pred = x[1]['preds']\n",
    "    returns = x[1]['Returns']\n",
    "    basetime = x[1]['Bought']\n",
    "    lockingtime = x[1]['Sold']\n",
    "    #if buy\n",
    "\n",
    "    if basetime > lockeduntil:\n",
    "        if pred == 2:\n",
    "            lockeduntil = lockingtime\n",
    "            balance = balance * (1+returns)\n",
    "            dt_object = datetime.fromtimestamp(lockeduntil)\n",
    "            results.append([balance,dt_object])\n",
    "        else:\n",
    "            dt_object = datetime.fromtimestamp(lockeduntil)\n",
    "            results.append([balance,dt_object])\n",
    "    else:\n",
    "        dt_object = datetime.fromtimestamp(lockeduntil)\n",
    "        results.append([balance,dt_object])\n",
    "\n",
    " \n",
    "    \n",
    "    #in the case of shorting you need the money at the expiry date of 24 hours\n",
    "    if lockingtime > lockeduntil:   \n",
    "        if pred == 0:\n",
    "            balance = balance * (1-returns)\n",
    "            dt_object = datetime.fromtimestamp(lockeduntil)\n",
    "            results.append([balance,dt_object])\n",
    "        else:\n",
    "            dt_object = datetime.fromtimestamp(lockeduntil)\n",
    "            results.append([balance,dt_object])\n",
    "    else:\n",
    "        dt_object = datetime.fromtimestamp(lockeduntil)\n",
    "        results.append([balance,dt_object])\n",
    "\n",
    "\n",
    "print(balance)"
   ]
  },
  {
   "cell_type": "code",
   "execution_count": 157,
   "metadata": {},
   "outputs": [
    {
     "data": {
      "image/png": "[encoded data removed]",
      "text/plain": [
       "<Figure size 432x288 with 1 Axes>"
      ]
     },
     "metadata": {
      "needs_background": "light"
     },
     "output_type": "display_data"
    },
    {
     "data": {
      "text/plain": [
       "<Figure size 432x288 with 0 Axes>"
      ]
     },
     "metadata": {},
     "output_type": "display_data"
    }
   ],
   "source": [
    "mlp = pd.DataFrame(data=results, columns=['Value','Time'])\n",
    "x = mlp['Time'].values\n",
    "y = mlp['Value'].values\n",
    "\n",
    "plt.plot(x, y, label='returns')\n",
    "# Add a legend\n",
    "plt.legend()\n",
    "plt.xlabel(\"Time\")\n",
    "plt.ylabel(\"Value in Pounds\")\n",
    "plt.tick_params(axis='x',labelsize=8)\n",
    "plt.title('Multilayer Perceptron Performance')\n",
    "# Show the plot\n",
    "plt.show()\n",
    "plt.savefig('MultiLayer.png')"
   ]
  },
  {
   "cell_type": "code",
   "execution_count": null,
   "metadata": {},
   "outputs": [],
   "source": []
  },
  {
   "cell_type": "markdown",
   "metadata": {},
   "source": [
    "# Logisitic Regression"
   ]
  },
  {
   "cell_type": "code",
   "execution_count": 159,
   "metadata": {},
   "outputs": [
    {
     "name": "stdout",
     "output_type": "stream",
     "text": [
      "3071.9998325097563\n"
     ]
    },
    {
     "name": "stderr",
     "output_type": "stream",
     "text": [
      "<ipython-input-159-a71904fdf2b1>:3: SettingWithCopyWarning: \n",
      "A value is trying to be set on a copy of a slice from a DataFrame.\n",
      "Try using .loc[row_indexer,col_indexer] = value instead\n",
      "\n",
      "See the caveats in the documentation: https://pandas.pydata.org/pandas-docs/stable/user_guide/indexing.html#returning-a-view-versus-a-copy\n",
      "  sd['preds'] = res\n"
     ]
    }
   ],
   "source": [
    "res = logreg_cv.predict(X_test)\n",
    "sd = dp.tail(1005)\n",
    "sd['preds'] = res\n",
    "sd = sd.sort_values(by=['Bought'],ascending=True)\n",
    "\n",
    "balance = 1000\n",
    "locked = False\n",
    "lockeduntil = sd['Bought'].min()\n",
    "\n",
    "results = []\n",
    "\n",
    "for x in sd.iterrows():\n",
    "    pred = x[1]['preds']\n",
    "    returns = x[1]['Returns']\n",
    "    basetime = x[1]['Bought']\n",
    "    lockingtime = x[1]['Sold']\n",
    "    #if buy\n",
    "\n",
    "    if basetime > lockeduntil:\n",
    "        if pred == 2:\n",
    "            lockeduntil = lockingtime\n",
    "            balance = balance * (1+returns)\n",
    "            dt_object = datetime.fromtimestamp(lockeduntil)\n",
    "            results.append([balance,dt_object])\n",
    "        else:\n",
    "            dt_object = datetime.fromtimestamp(lockeduntil)\n",
    "            results.append([balance,dt_object])\n",
    "    else:\n",
    "        dt_object = datetime.fromtimestamp(lockeduntil)\n",
    "        results.append([balance,dt_object])\n",
    "\n",
    " \n",
    "    \n",
    "    #in the case of shorting you need the money at the expiry date of 24 hours\n",
    "    if lockingtime > lockeduntil:   \n",
    "        if pred == 0:\n",
    "            balance = balance * (1-returns)\n",
    "            dt_object = datetime.fromtimestamp(lockeduntil)\n",
    "            results.append([balance,dt_object])\n",
    "        else:\n",
    "            dt_object = datetime.fromtimestamp(lockeduntil)\n",
    "            results.append([balance,dt_object])\n",
    "    else:\n",
    "        dt_object = datetime.fromtimestamp(lockeduntil)\n",
    "        results.append([balance,dt_object])\n",
    "\n",
    "\n",
    "print(balance)\n"
   ]
  },
  {
   "cell_type": "code",
   "execution_count": 160,
   "metadata": {},
   "outputs": [
    {
     "data": {
      "image/png": "[encoded data removed]",
      "text/plain": [
       "<Figure size 432x288 with 1 Axes>"
      ]
     },
     "metadata": {
      "needs_background": "light"
     },
     "output_type": "display_data"
    }
   ],
   "source": [
    "lgdfplt = pd.DataFrame(data=results, columns=['Value','Time'])\n",
    "x = lgdfplt['Time'].values\n",
    "y = lgdfplt['Value'].values\n",
    "\n",
    "plt.plot(x, y, label='returns')\n",
    "# Add a legend\n",
    "plt.legend()\n",
    "plt.xlabel(\"Time\")\n",
    "plt.ylabel(\"Value in Pounds\")\n",
    "plt.tick_params(axis='x',labelsize=8)\n",
    "plt.title('Logistic Regression Performance')\n",
    "# Show the plot\n",
    "plt.show()\n"
   ]
  },
  {
   "cell_type": "code",
   "execution_count": null,
   "metadata": {},
   "outputs": [],
   "source": []
  }
 ],
 "metadata": {
  "kernelspec": {
   "display_name": "Python 3",
   "language": "python",
   "name": "python3"
  },
  "language_info": {
   "codemirror_mode": {
    "name": "ipython",
    "version": 3
   },
   "file_extension": ".py",
   "mimetype": "text/x-python",
   "name": "python",
   "nbconvert_exporter": "python",
   "pygments_lexer": "ipython3",
   "version": "3.8.3"
  }
 },
 "nbformat": 4,
 "nbformat_minor": 4
}
